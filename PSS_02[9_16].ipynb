{
  "nbformat": 4,
  "nbformat_minor": 0,
  "metadata": {
    "colab": {
      "provenance": [],
      "toc_visible": true
    },
    "kernelspec": {
      "name": "python3",
      "display_name": "Python 3"
    },
    "language_info": {
      "name": "python"
    }
  },
  "cells": [
    {
      "cell_type": "markdown",
      "source": [
        "# Bab. 9 Bekerja dengan Data\n",
        "\n",
        "Kelompok 9:\n",
        "\n",
        "Gustian [4112321002]\n",
        "\n",
        "Kuncoro Adi Wibowo [4112321028]\n"
      ],
      "metadata": {
        "id": "PPGO2Dad9BjF"
      }
    },
    {
      "cell_type": "markdown",
      "source": [
        "*Experts often possess more data than judgment.*\n",
        "\n",
        "—Colin Powell\n",
        "\n",
        "Bekerja dengan data adalah seni dan ilmu pengetahuan. Kita telah membahas sebagian besar tentang bagian sains, namun dalam bab ini kita akan melihat beberapa bagian seni.\n",
        "\n"
      ],
      "metadata": {
        "id": "XDjTarSxr7rh"
      }
    },
    {
      "cell_type": "markdown",
      "source": [
        "### Eksplorasi Data\n",
        "\n",
        "Setelah Anda mengidentifikasi pertanyaan yang ingin Anda jawab dan mendapatkan beberapa data, Anda mungkin tergoda untuk terjun dan segera mulai membangun model dan mendapatkan jawaban. Tapi Anda harus menahan dorongan ini. Langkah pertama Anda adalah mengeksplorasi data Anda.\n"
      ],
      "metadata": {
        "id": "LFVEzVSg9FeE"
      }
    },
    {
      "cell_type": "markdown",
      "source": [
        "### Eksplorasi Data Dimensi Satu\n",
        "\n",
        "Kasus yang paling sederhana adalah ketika Anda memiliki kumpulan data satu dimensi, yang hanya berupa kumpulan angka. Misalnya, ini bisa berupa jumlah rata-rata harian menit yang dihabiskan setiap pengguna di situs Anda, jumlah berapa kali setiap koleksi video tutorial ilmu data ditonton, atau jumlah halaman dari setiap buku ilmu data di perpustakaan ilmu data Anda.\n",
        "\n",
        "Langkah pertama yang jelas adalah menghitung beberapa statistik ringkasan. Anda ingin mengetahui berapa banyak data data yang Anda miliki, titik terkecil, terbesar, rata-rata, dan standar deviasi.\n",
        "\n",
        "Namun, ini pun belum tentu memberi Anda pemahaman yang baik. Langkah selanjutnya yang baik adalah membuat histogram, di mana Anda mengelompokkan data Anda ke dalam ember terpisah dan menghitung berapa banyak titik yang masuk ke dalam setiap ember:"
      ],
      "metadata": {
        "id": "WwaQXDL59NNh"
      }
    },
    {
      "cell_type": "code",
      "source": [
        "from typing import List, Dict\n",
        "from collections import Counter\n",
        "import math\n",
        "\n",
        "import matplotlib.pyplot as plt\n",
        "\n",
        "def bucketize(point: float, bucket_size: float) -> float:\n",
        "    \"\"\"Floor the point to the next lower multiple of bucket_size\"\"\"\n",
        "    return bucket_size * math.floor(point / bucket_size)\n",
        "\n",
        "def make_histogram(points: List[float], bucket_size: float) -> Dict[float, int]:\n",
        "    \"\"\"Buckets the points and counts how many in each bucket\"\"\"\n",
        "    return Counter(bucketize(point, bucket_size) for point in points)\n",
        "\n",
        "def plot_histogram(points: List[float], bucket_size: float, title: str = \"\"):\n",
        "    histogram = make_histogram(points, bucket_size)\n",
        "    plt.bar(histogram.keys(), histogram.values(), width=bucket_size)\n",
        "    plt.title(title)"
      ],
      "metadata": {
        "id": "Ea1swEDusu0J"
      },
      "execution_count": null,
      "outputs": []
    },
    {
      "cell_type": "markdown",
      "source": [
        "Sebagai contoh, pertimbangkan dua set data berikut ini:"
      ],
      "metadata": {
        "id": "CZy2b7rus4S9"
      }
    },
    {
      "cell_type": "code",
      "source": [
        "import random\n",
        "from scratch.probability import inverse_normal_cdf\n",
        "\n",
        "random.seed(0)\n",
        "\n",
        "# uniform between -100 and 100\n",
        "uniform = [200 * random.random() - 100 for _ in range(10000)]\n",
        "\n",
        "# normal distribution with mean 0, standard deviation 57\n",
        "normal = [57 * inverse_normal_cdf(random.random())\n",
        "          for _ in range(10000)]"
      ],
      "metadata": {
        "id": "C9rrfgOls4tP"
      },
      "execution_count": null,
      "outputs": []
    },
    {
      "cell_type": "markdown",
      "source": [
        "Keduanya memiliki rata-rata mendekati 0 dan deviasi standar mendekati 58. Namun, keduanya memiliki distribusi yang sangat berbeda distribusi. Gambar 10-1 menunjukkan distribusi yang seragam:"
      ],
      "metadata": {
        "id": "sR-jjRijtDJq"
      }
    },
    {
      "cell_type": "code",
      "source": [
        "plot_histogram(uniform, 10, \"Uniform Histogram\")"
      ],
      "metadata": {
        "id": "rryEmdd6tFv3"
      },
      "execution_count": null,
      "outputs": []
    },
    {
      "cell_type": "markdown",
      "source": [
        "sedangkan Gambar 10-2 menunjukkan distribusi normal:"
      ],
      "metadata": {
        "id": "7LBuC-YAt8ip"
      }
    },
    {
      "cell_type": "code",
      "source": [
        "plot_histogram(normal, 10, \"Normal Histogram\")"
      ],
      "metadata": {
        "id": "maBPki18uACb"
      },
      "execution_count": null,
      "outputs": []
    },
    {
      "cell_type": "markdown",
      "source": [
        "Dalam kasus ini, kedua distribusi memiliki nilai maksimum dan minimum yang cukup berbeda, tetapi bahkan dengan mengetahui hal itu saja tidak cukup untuk sudah cukup untuk memahami perbedaannya."
      ],
      "metadata": {
        "id": "Oi5AZJvQuExI"
      }
    },
    {
      "cell_type": "markdown",
      "source": [
        "### Dua Dimensi\n",
        "\n",
        "Sekarang bayangkan Anda memiliki kumpulan data dengan dua dimensi. Mungkin selain menit harian yang Anda miliki tahun pengalaman ilmu data. Tentu saja Anda ingin memahami setiap dimensi secara individual. Namun, Anda mungkin juga ingin menyebarkan data tersebut.\n",
        "\n",
        "Sebagai contoh, pertimbangkan dataset palsu lainnya:"
      ],
      "metadata": {
        "id": "SvqXLJeT9deq"
      }
    },
    {
      "cell_type": "code",
      "source": [
        "def random_normal() -> float:\n",
        "    \"\"\"Returns a random draw from a standard normal distribution\"\"\"\n",
        "    return inverse_normal_cdf(random.random())\n",
        "\n",
        "xs = [random_normal() for _ in range(1000)]\n",
        "ys1 = [ x + random_normal() / 2 for x in xs]\n",
        "ys2 = [-x + random_normal() / 2 for x in xs]"
      ],
      "metadata": {
        "id": "EWKWmACIuxMn"
      },
      "execution_count": null,
      "outputs": []
    },
    {
      "cell_type": "markdown",
      "source": [
        "Jika Anda menjalankan plot_histogram pada ys1 dan ys2, Anda akan mendapatkan plot yang terlihat serupa (memang, keduanya terdistribusi secara normal dengan rata-rata dan standar deviasi yang sama)."
      ],
      "metadata": {
        "id": "ANZs2syK9tNq"
      }
    },
    {
      "cell_type": "markdown",
      "source": [
        "### Dimensi Banyak\n",
        "\n",
        "Dengan banyak dimensi, Anda ingin tahu bagaimana semua dimensi berhubungan satu sama lain. Pendekatan sederhana adalah dengan melihat matriks korelasi, di mana entri pada baris i dan kolom j adalah korelasi antara dimensi ke-i dan dimensi ke-j data:"
      ],
      "metadata": {
        "id": "wdNiMZTiui0w"
      }
    },
    {
      "cell_type": "code",
      "source": [
        "from scratch.linear_algebra import Matrix, Vector, make_matrix\n",
        "def correlation_matrix(data: List[Vector]) -> Matrix:\n",
        "\"\"\"\n",
        "Returns the len(data) x len(data) matrix whose (i, j)-th entry\n",
        "\n",
        "is the correlation between data[i] and data[j]\n",
        "\"\"\"\n",
        "def correlation_ij(i: int, j: int) -> float:\n",
        "return correlation(data[i], data[j])\n",
        "return make_matrix(len(data), len(data), correlation_ij)"
      ],
      "metadata": {
        "id": "ag6jJ8NWo_jW"
      },
      "execution_count": null,
      "outputs": []
    },
    {
      "cell_type": "markdown",
      "source": [
        "Pendekatan yang lebih visual (jika Anda tidak memiliki terlalu banyak dimensi) adalah membuat matriks scatterplot (Gambar 10-4) yang menunjukkan semua scatterplot berpasangan. Untuk melakukan itu kita akan menggunakan plt.subplots, yang memungkinkan kita untuk membuat subplot dari bagan kita. Kami memberikannya jumlah baris dan jumlah kolom, dan itu mengembalikan objek gambar (yang tidak akan kami gunakan) dan array dua dimensi objek sumbu (masing-masing akan kami plot):"
      ],
      "metadata": {
        "id": "EcQSY6gwpD-n"
      }
    },
    {
      "cell_type": "code",
      "source": [
        "# corr_data is a list of four 100-d vectors\n",
        "num_vectors = len(corr_data)\n",
        "fig, ax = plt.subplots(num_vectors, num_vectors)\n",
        "\n",
        "for i in range(num_vectors):\n",
        "    for j in range(num_vectors):\n",
        "\n",
        "        # Scatter column_j on the x-axis vs. column_i on the y-axis\n",
        "        if i != j: ax[i][j].scatter(corr_data[j], corr_data[i])\n",
        "\n",
        "        # unless i == j, in which case show the series name\n",
        "        else: ax[i][j].annotate(\"series \" + str(i), (0.5, 0.5),\n",
        "                                xycoords='axes fraction',\n",
        "                                ha=\"center\", va=\"center\")\n",
        "\n",
        "        # Then hide axis labels except left and bottom charts\n",
        "        if i < num_vectors - 1: ax[i][j].xaxis.set_visible(False)\n",
        "        if j > 0: ax[i][j].yaxis.set_visible(False)\n",
        "\n",
        "# Fix the bottom-right and top-left axis labels, which are wrong because\n",
        "# their charts only have text in them\n",
        "ax[-1][-1].set_xlim(ax[0][-1].get_xlim())\n",
        "ax[0][0].set_ylim(ax[0][1].get_ylim())\n",
        "\n",
        "plt.show()"
      ],
      "metadata": {
        "id": "h33JWYSTphNX"
      },
      "execution_count": null,
      "outputs": []
    },
    {
      "cell_type": "markdown",
      "source": [
        "Melihat scatterplot, Anda dapat melihat bahwa seri 1 berkorelasi sangat negatif dengan seri 0, seri 2 berkorelasi positif dengan seri 1, dan seri 3 hanya mengambil nilai 0 dan 6, dengan 0 sesuai dengan nilai kecil seri 2 dan 6 sesuai dengan nilai besar. Ini adalah cara cepat untuk mendapatkan gambaran kasar tentang variabel mana yang berkorelasi (kecuali jika Anda menghabiskan berjam-jam mengutak-atik matplotlib untuk menampilkan hal-hal persis seperti yang Anda inginkan, dalam hal ini bukan cara cepat)."
      ],
      "metadata": {
        "id": "y6eJTbwtqBjl"
      }
    },
    {
      "cell_type": "markdown",
      "source": [
        "### Menggunakan NamedTuples\n",
        "\n",
        "Salah satu cara umum untuk merepresentasikan data adalah menggunakan dikte:"
      ],
      "metadata": {
        "id": "gdWT8y1LrNIw"
      }
    },
    {
      "cell_type": "code",
      "source": [
        "import datetime\n",
        "\n",
        "stock_price = {'closing_price': 102.06,\n",
        "              'date': datetime.date(2014, 8, 29),\n",
        "              'symbol': 'AAPL'}"
      ],
      "metadata": {
        "id": "xQLrr1ffrbK-"
      },
      "execution_count": null,
      "outputs": []
    },
    {
      "cell_type": "markdown",
      "source": [
        "Namun, ada beberapa alasan mengapa ini kurang ideal. Ini adalah representasi yang sedikit tidak efisien (dikte melibatkan beberapa overhead), sehingga jika Anda memiliki banyak harga saham, mereka akan mengambil lebih banyak memori daripada yang seharusnya. Sebagian besar, ini adalah pertimbangan kecil.\n",
        "\n",
        "Masalah yang lebih besar adalah bahwa mengakses hal-hal dengan kunci dict rawan kesalahan. Kode berikut akan berjalan tanpa kesalahan dan hanya melakukan hal yang salah:"
      ],
      "metadata": {
        "id": "NBNFdg3LroqL"
      }
    },
    {
      "cell_type": "code",
      "source": [
        "# oops, typo\n",
        "stock_price['cosing_price'] = 103.06"
      ],
      "metadata": {
        "id": "vY4JGJLEr-RR"
      },
      "execution_count": null,
      "outputs": []
    },
    {
      "cell_type": "markdown",
      "source": [
        "Akhirnya, sementara kita dapat mengetik-membubuhi keterangan kamus seragam:"
      ],
      "metadata": {
        "id": "Lg5PlHfbsDNS"
      }
    },
    {
      "cell_type": "code",
      "source": [
        "prices: Dict[datetime.date, float] = {}"
      ],
      "metadata": {
        "id": "8jN7e7kXsPq0"
      },
      "execution_count": null,
      "outputs": []
    },
    {
      "cell_type": "markdown",
      "source": [
        "Tidak ada cara yang berguna untuk membuat anotasi kamus sebagai data yang memiliki banyak tipe nilai yang berbeda. Jadi kita juga kehilangan kekuatan petunjuk tipe.\n",
        "\n",
        "Sebagai alternatif, Python menyertakan kelas namedtuple, yang seperti tupel tetapi dengan slot bernama:"
      ],
      "metadata": {
        "id": "r24KSa6dsS4x"
      }
    },
    {
      "cell_type": "code",
      "source": [
        "from collections import namedtuple\n",
        "\n",
        "StockPrice = namedtuple('StockPrice', ['symbol', 'date', 'closing_price'])\n",
        "price = StockPrice('MSFT', datetime.date(2018, 12, 14), 106.03)\n",
        "\n",
        "assert price.symbol == 'MSFT'\n",
        "assert price.closing_price == 106.03"
      ],
      "metadata": {
        "id": "9upiJsisshFz"
      },
      "execution_count": null,
      "outputs": []
    },
    {
      "cell_type": "markdown",
      "source": [
        "Seperti tupel biasa, tupel bernama tidak dapat diubah, yang berarti Anda tidak dapat mengubah nilainya setelah dibuat. Kadang-kadang ini akan menghalangi kita, tetapi sebagian besar itu hal yang baik.\n",
        "\n",
        "Anda akan melihat bahwa kami masih belum menyelesaikan masalah anotasi jenis. Kami melakukannya dengan menggunakan varian yang diketik, NamedTuple:"
      ],
      "metadata": {
        "id": "93cdD0Vfsk8V"
      }
    },
    {
      "cell_type": "code",
      "source": [
        "from typing import NamedTuple\n",
        "\n",
        "class StockPrice(NamedTuple):\n",
        "      symbol: str\n",
        "      date: datetime.date\n",
        "      closing_price: float\n",
        "\n",
        "      def is_high_tech(self) -> bool:\n",
        "          \"\"\"It's a class, so we can add methods too\"\"\"\n",
        "          return self.symbol in ['MSFT', 'GOOG', 'FB', 'AMZN', 'AAPL']\n",
        "\n",
        "price = StockPrice('MSFT', datetime.date(2018, 12, 14), 106.03)\n",
        "\n",
        "assert price.symbol == 'MSFT'\n",
        "assert price.closing_price == 106.03\n",
        "assert price.is_high_tech()"
      ],
      "metadata": {
        "id": "iNYgrv6Asz6c"
      },
      "execution_count": null,
      "outputs": []
    },
    {
      "cell_type": "markdown",
      "source": [
        "Dan sekarang editor Anda dapat membantu Anda, seperti yang ditunjukkan pada Gambar 10-5."
      ],
      "metadata": {
        "id": "_m0wEAzQtGhe"
      }
    },
    {
      "cell_type": "markdown",
      "source": [
        "### Kelas data\n",
        "\n",
        "Dataclass adalah (semacam) versi NamedTuple yang bisa berubah. (Saya katakan \"semacam\" karena NamedTuples mewakili data mereka secara kompak sebagai tupel, sedangkan dataclass adalah kelas Python biasa yang hanya menghasilkan beberapa metode untuk Anda secara otomatis.)\n",
        "\n",
        "NOTE : Dataclass baru di Python 3.7. Jika Anda menggunakan versi yang lebih lama, bagian ini tidak akan berfungsi untuk Anda.\n",
        "\n",
        "Sintaksnya sangat mirip dengan NamedTuple. Tetapi alih-alih mewarisi dari kelas dasar, kami menggunakan dekorator:"
      ],
      "metadata": {
        "id": "H_pnUE5PtamP"
      }
    },
    {
      "cell_type": "code",
      "source": [
        "from dataclasses import dataclass\n",
        "\n",
        "@dataclass\n",
        "class StockPrice2:\n",
        "      symbol: str\n",
        "      date: datetime.date\n",
        "      closing_price: float\n",
        "\n",
        "def is_high_tech(self) -> bool:\n",
        "    \"\"\"It's a class, so we can add methods too\"\"\"\n",
        "    return self.symbol in ['MSFT', 'GOOG', 'FB', 'AMZN', 'AAPL']\n",
        "\n",
        "price2 = StockPrice2('MSFT', datetime.date(2018, 12, 14), 106.03)\n",
        "\n",
        "assert price2.symbol == 'MSFT'\n",
        "assert price2.closing_price == 106.03\n",
        "assert price2.is_high_tech()"
      ],
      "metadata": {
        "id": "9mgH4dLFt3lk"
      },
      "execution_count": null,
      "outputs": []
    },
    {
      "cell_type": "markdown",
      "source": [
        "Seperti disebutkan, perbedaan besar adalah kita dapat memodifikasi nilai instance dataclass:"
      ],
      "metadata": {
        "id": "5JP5hd3ruJOC"
      }
    },
    {
      "cell_type": "code",
      "source": [
        "# stock split\n",
        "price2.closing_price /= 2\n",
        "assert price2.closing_price == 51.03"
      ],
      "metadata": {
        "id": "q3U-Y5DeuTbK"
      },
      "execution_count": null,
      "outputs": []
    },
    {
      "cell_type": "markdown",
      "source": [
        "Jika kita mencoba memodifikasi bidang versi NamedTuple, kita akan mendapatkan `AttributeError`.\n",
        "\n",
        "Ini juga membuat kita rentan terhadap jenis kesalahan yang ingin kita hindari dengan tidak menggunakan `dicts`:"
      ],
      "metadata": {
        "id": "6yad92P_uUfj"
      }
    },
    {
      "cell_type": "code",
      "source": [
        "# It's a regular class, so add new fields however you like!\n",
        "price2.cosing_price = 75 # oops"
      ],
      "metadata": {
        "id": "No1cziJWuuci"
      },
      "execution_count": null,
      "outputs": []
    },
    {
      "cell_type": "markdown",
      "source": [
        "Kami tidak akan menggunakan kelas data, tetapi Anda mungkin menemukannya di alam liar."
      ],
      "metadata": {
        "id": "H8DZK-dXuz7n"
      }
    },
    {
      "cell_type": "markdown",
      "source": [
        "### Cleaning and Munging\n",
        "\n",
        "Data dunia nyata itu *kotor*. Seringkali Anda harus melakukan beberapa pekerjaan sebelum Anda dapat menggunakannya. Kita melihat contoh-contoh ini dalam Bab 9. Kita harus mengubah string menjadi `floats` atau `ints` sebelum kita dapat menggunakannya. Kita harus memeriksa nilai yang hilang dan pencilan dan data yang buruk.\n",
        "\n",
        "Sebelumnya, kami melakukannya tepat sebelum menggunakan data:"
      ],
      "metadata": {
        "id": "aUQcQ_Wvu16n"
      }
    },
    {
      "cell_type": "code",
      "source": [
        "closing_price = float(row[2])"
      ],
      "metadata": {
        "id": "_VPqBA00vZy3"
      },
      "execution_count": null,
      "outputs": []
    },
    {
      "cell_type": "markdown",
      "source": [
        "Tetapi mungkin kurang rawan kesalahan untuk melakukan penguraian dalam fungsi yang dapat kita uji:"
      ],
      "metadata": {
        "id": "6LAO3D0Mvb6q"
      }
    },
    {
      "cell_type": "code",
      "source": [
        "from dateutil.parser import parse\n",
        "\n",
        "def parse_row(row: List[str]) -> StockPrice:\n",
        "    symbol, date, closing_price = row\n",
        "    return StockPrice(symbol=symbol,\n",
        "                      date=parse(date).date(),\n",
        "                      closing_price=float(closing_price))\n",
        "\n",
        "# Now test our function\n",
        "stock = parse_row([\"MSFT\", \"2018-12-14\", \"106.03\"])\n",
        "\n",
        "assert stock.symbol == \"MSFT\"\n",
        "assert stock.date == datetime.date(2018, 12, 14)\n",
        "assert stock.closing_price == 106.03"
      ],
      "metadata": {
        "id": "SK7UB6gsvizv"
      },
      "execution_count": null,
      "outputs": []
    },
    {
      "cell_type": "markdown",
      "source": [
        "Bagaimana jika ada data yang buruk? Nilai \"float\" yang sebenarnya tidak mewakili angka? Mungkin Anda lebih suka mendapatkan Tidak Ada daripada merusak program Anda?"
      ],
      "metadata": {
        "id": "aWb3dt9OwFty"
      }
    },
    {
      "cell_type": "code",
      "source": [
        "from typing import Optional\n",
        "import re\n",
        "\n",
        "def try_parse_row(row: List[str]) -> Optional[StockPrice]:\n",
        "    symbol, date_, closing_price_ = row\n",
        "\n",
        "    # Stock symbol should be all capital letters\n",
        "    if not re.match(r\"^[A-Z]+$\", symbol):\n",
        "        return None\n",
        "\n",
        "    try:\n",
        "        date = parse(date_).date()\n",
        "    except ValueError:\n",
        "        return None\n",
        "\n",
        "    try:\n",
        "        closing_price = float(closing_price_)\n",
        "    except ValueError:\n",
        "        return None\n",
        "\n",
        "    return StockPrice(symbol, date, closing_price)\n",
        "\n",
        "# Should return None for errors\n",
        "assert try_parse_row([\"MSFT0\", \"2018-12-14\", \"106.03\"]) is None\n",
        "assert try_parse_row([\"MSFT\", \"2018-12--14\", \"106.03\"]) is None\n",
        "assert try_parse_row([\"MSFT\", \"2018-12-14\", \"x\"]) is None\n",
        "\n",
        "# But should return same as before if data is good\n",
        "assert try_parse_row([\"MSFT\", \"2018-12-14\", \"106.03\"]) == stock"
      ],
      "metadata": {
        "id": "4nn_-vhcwOAu"
      },
      "execution_count": null,
      "outputs": []
    },
    {
      "cell_type": "markdown",
      "source": [
        "Misalnya, jika kita memiliki harga saham yang dipisahkan koma dengan data buruk:\n",
        "\n",
        "```\n",
        "AAPL,6/20/2014,90.91\n",
        "MSFT,6/20/2014,41.68\n",
        "FB,6/20/3014,64.5\n",
        "AAPL,6/19/2014,91.86\n",
        "MSFT,6/19/2014,n/a\n",
        "FB,6/19/2014,64.34\n",
        "```\n",
        "\n",
        "Kita sekarang dapat membaca dan mengembalikan hanya baris yang valid:"
      ],
      "metadata": {
        "id": "LgM_XOoXw2Yq"
      }
    },
    {
      "cell_type": "code",
      "source": [
        "import csv\n",
        "\n",
        "data: List[StockPrice] = []\n",
        "\n",
        "with open(\"comma_delimited_stock_prices.csv\") as f:\n",
        "    reader = csv.reader(f)\n",
        "    for row in reader:\n",
        "        maybe_stock = try_parse_row(row)\n",
        "        if maybe_stock is None:\n",
        "            print(f\"skipping invalid row: {row}\")\n",
        "        else:\n",
        "            data.append(maybe_stock)"
      ],
      "metadata": {
        "id": "c6zixriMxTdF"
      },
      "execution_count": null,
      "outputs": []
    },
    {
      "cell_type": "markdown",
      "source": [
        "dan putuskan apa yang ingin kami lakukan terhadap yang tidak valid. Secara umum, tiga opsi adalah menyingkirkannya, kembali ke sumbernya dan mencoba memperbaiki data yang buruk/hilang, atau tidak melakukan apa-apa dan menyilangkan jari kita. Jika ada satu baris buruk dari jutaan, mungkin tidak apa-apa untuk mengabaikannya. Tetapi jika setengah baris Anda memiliki data yang buruk, itu adalah sesuatu yang perlu Anda perbaiki.\n",
        "\n",
        "Langkah selanjutnya yang baik adalah memeriksa pencilan, menggunakan teknik dari \"Menjelajahi Data Anda\" atau dengan menyelidiki secara ad hoc. Misalnya, apakah Anda memperhatikan bahwa salah satu tanggal dalam file saham memiliki tahun 3014? Itu tidak akan (harus) memberi Anda kesalahan, tetapi itu sangat jelas salah, dan Anda akan mendapatkan hasil yang kacau jika Anda tidak menangkapnya. Kumpulan data dunia nyata memiliki titik desimal yang hilang, nol ekstra, kesalahan ketik, dan banyak masalah lain yang harus Anda tangkap. (Mungkin itu bukan pekerjaan resmi Anda, tetapi siapa lagi yang akan melakukannya?)"
      ],
      "metadata": {
        "id": "xOX8NWBdxh-_"
      }
    },
    {
      "cell_type": "markdown",
      "source": [
        "### Memanipulasi Data\n",
        "\n",
        "Salah satu keterampilan terpenting seorang ilmuwan data adalah *memanipulasi data*. Ini lebih merupakan pendekatan umum daripada teknik tertentu, jadi kami hanya akan bekerja melalui beberapa contoh untuk memberi Anda rasanya.\n",
        "\n",
        "Bayangkan kita memiliki banyak data harga saham yang terlihat seperti ini:"
      ],
      "metadata": {
        "id": "VNNzQwy8yZk5"
      }
    },
    {
      "cell_type": "code",
      "source": [
        "data = [\n",
        "    StockPrice(symbol='MSFT',\n",
        "              date=datetime.date(2018, 12, 24),\n",
        "              closing_price=106.03),\n",
        "    # ...\n",
        "]"
      ],
      "metadata": {
        "id": "Yp7KBzImy0n7"
      },
      "execution_count": null,
      "outputs": []
    },
    {
      "cell_type": "markdown",
      "source": [
        "Mari kita mulai mengajukan pertanyaan tentang data ini. Sepanjang jalan kita akan mencoba untuk memperhatikan pola dalam apa yang kita lakukan dan abstrak keluar beberapa alat untuk membuat manipulasi lebih mudah.\n",
        "\n",
        "Misalnya, kita ingin mengetahui harga penutupan tertinggi yang pernah ada untuk AAPL. Mari kita uraikan ini menjadi langkah-langkah konkret:\n",
        "1. Batasi diri Anda pada AAPLrows.\n",
        "2. Ambil closing_price dari setiap baris.\n",
        "3. Ambil maksimal dari harga tersebut.\n",
        "\n",
        "Kita dapat melakukan ketiganya sekaligus dengan menggunakan pemahaman:"
      ],
      "metadata": {
        "id": "fCmqV9S4zJF4"
      }
    },
    {
      "cell_type": "code",
      "source": [
        "max_aapl_price = max(stock_price.closing_price\n",
        "                    for stock_price in data\n",
        "                    if stock_price.symbol == \"AAPL\")"
      ],
      "metadata": {
        "id": "ck8zd_S9zZ2_"
      },
      "execution_count": null,
      "outputs": []
    },
    {
      "cell_type": "markdown",
      "source": [
        "Secara lebih umum, kita mungkin ingin mengetahui harga penutupan tertinggi yang pernah ada untuk setiap saham dalam dataset kita. Salah satu cara untuk melakukannya adalah:\n",
        "1. Buat dict untuk melacak harga tertinggi (kita akan menggunakan defaultdict yang mengembalikan minus tak terhingga untuk nilai yang hilang, karena harga apa pun akan lebih besar dari itu).\n",
        "2. Iterasi atas data kami, perbarui.\n",
        "\n",
        "Berikut kodenya:"
      ],
      "metadata": {
        "id": "VAqtHMIrzeCS"
      }
    },
    {
      "cell_type": "code",
      "source": [
        "from collections import defaultdict\n",
        "\n",
        "max_prices: Dict[str, float] = defaultdict(lambda: float('-inf'))\n",
        "\n",
        "for sp in data:\n",
        "    symbol, closing_price = sp.symbol, sp.closing_price\n",
        "    if closing_price > max_prices[symbol]:\n",
        "        max_prices[symbol] = closing_price"
      ],
      "metadata": {
        "id": "QXlGPMhk0jV1"
      },
      "execution_count": null,
      "outputs": []
    },
    {
      "cell_type": "markdown",
      "source": [
        "Kita sekarang dapat mulai menanyakan hal-hal yang lebih rumit, seperti apa perubahan persen satu hari terbesar dan terkecil dalam dataset kita. Perubahan persen adalah price_today / price_yesterday - 1, yang berarti kita perlu beberapa cara untuk mengaitkan harga hari ini dan harga kemarin. Salah satu pendekatan adalah mengelompokkan harga berdasarkan simbol, dan kemudian, dalam setiap kelompok:\n",
        "1. Pesan harga berdasarkan tanggal.\n",
        "2. Gunakan zip untuk mendapatkan pasangan (sebelumnya, saat ini).\n",
        "3. Ubah pasangan menjadi baris \"persen perubahan\" baru.\n",
        "\n",
        "\n",
        "Mari kita mulai dengan mengelompokkan harga berdasarkan simbol:\n"
      ],
      "metadata": {
        "id": "L29Yi8AJ0svO"
      }
    },
    {
      "cell_type": "code",
      "source": [
        "from typing import List\n",
        "from collections import defaultdict\n",
        "\n",
        "# Collect the prices by symbol\n",
        "prices: Dict[str, List[StockPrice]] = defaultdict(list)\n",
        "\n",
        "for sp in data:\n",
        "    prices[sp.symbol].append(sp)"
      ],
      "metadata": {
        "id": "FBALnIm-1No6"
      },
      "execution_count": null,
      "outputs": []
    },
    {
      "cell_type": "markdown",
      "source": [
        "Karena harganya tupel, mereka akan diurutkan berdasarkan bidangnya secara berurutan: pertama berdasarkan simbol, lalu berdasarkan tanggal, lalu berdasarkan harga. Ini berarti bahwa jika kita memiliki beberapa harga semua dengan simbol yang sama, urutkan akan mengurutkannya berdasarkan tanggal (dan kemudian berdasarkan harga, yang tidak melakukan apa-apa, karena kita hanya memiliki satu per tanggal), itulah yang kita inginkan."
      ],
      "metadata": {
        "id": "0wQxp6_S1TeD"
      }
    },
    {
      "cell_type": "code",
      "source": [
        "# Order the prices by date\n",
        "prices = {symbol: sorted(symbol_prices)\n",
        "          for symbol, symbol_prices in prices.items()}"
      ],
      "metadata": {
        "id": "hbymyId31fnU"
      },
      "execution_count": null,
      "outputs": []
    },
    {
      "cell_type": "markdown",
      "source": [
        "yang dapat kita gunakan untuk menghitung urutan perubahan hari-ke-hari:"
      ],
      "metadata": {
        "id": "XSCDeKfQ1hlP"
      }
    },
    {
      "cell_type": "code",
      "source": [
        "def pct_change(yesterday: StockPrice, today: StockPrice) -> float:\n",
        "    return today.closing_price / yesterday.closing_price - 1\n",
        "\n",
        "class DailyChange(NamedTuple):\n",
        "      symbol: str\n",
        "      date: datetime.date\n",
        "      pct_change: float\n",
        "\n",
        "def day_over_day_changes(prices: List[StockPrice]) -> List[DailyChange]:\n",
        "    \"\"\"\n",
        "    Assumes prices are for one stock and are in order\n",
        "    \"\"\"\n",
        "    return [DailyChange(symbol=today.symbol,\n",
        "            date=today.date,\n",
        "            pct_change=pct_change(yesterday, today))\n",
        "            for yesterday, today in zip(prices, prices[1:])]"
      ],
      "metadata": {
        "id": "DkpGpgEy18nM"
      },
      "execution_count": null,
      "outputs": []
    },
    {
      "cell_type": "markdown",
      "source": [
        "dan kemudian kumpulkan semuanya:"
      ],
      "metadata": {
        "id": "rjq91T0y2M6o"
      }
    },
    {
      "cell_type": "code",
      "source": [
        "all_changes = [change\n",
        "              for symbol_prices in prices.values()\n",
        "              for change in day_over_day_changes(symbol_prices)]"
      ],
      "metadata": {
        "id": "l0ejJ3C72V8q"
      },
      "execution_count": null,
      "outputs": []
    },
    {
      "cell_type": "markdown",
      "source": [
        "Pada titik mana mudah untuk menemukan yang terbesar dan terkecil:"
      ],
      "metadata": {
        "id": "lDLLEGYp2Z6i"
      }
    },
    {
      "cell_type": "code",
      "source": [
        "max_change = max(all_changes, key=lambda change: change.pct_change)\n",
        "# see e.g. http://news.cnet.com/2100-1001-202143.html\n",
        "assert max_change.symbol == 'AAPL'\n",
        "assert max_change.date == datetime.date(1997, 8, 6)\n",
        "assert 0.33 < max_change.pct_change < 0.34\n",
        "\n",
        "min_change = min(all_changes, key=lambda change: change.pct_change)\n",
        "# see e.g. http://money.cnn.com/2000/09/29/markets/techwrap/\n",
        "assert min_change.symbol == 'AAPL'\n",
        "assert min_change.date == datetime.date(2000, 9, 29)\n",
        "assert -0.52 < min_change.pct_change < -0.51"
      ],
      "metadata": {
        "id": "6yNxjD-v2fjX"
      },
      "execution_count": null,
      "outputs": []
    },
    {
      "cell_type": "markdown",
      "source": [
        "Kita sekarang dapat menggunakan dataset `all_changes` baru ini untuk menemukan bulan mana yang terbaik untuk berinvestasi di saham teknologi. Kita hanya akan melihat perubahan harian rata-rata berdasarkan bulan:"
      ],
      "metadata": {
        "id": "d9A9HWcu2mpo"
      }
    },
    {
      "cell_type": "code",
      "source": [
        "changes_by_month: List[DailyChange] = {month: [] for month in range(1, 13)}\n",
        "\n",
        "for change in all_changes:\n",
        "    changes_by_month[change.date.month].append(change)\n",
        "\n",
        "avg_daily_change = {\n",
        "    month: sum(change.pct_change for change in changes) / len(changes)\n",
        "    for month, changes in changes_by_month.items()\n",
        "}\n",
        "\n",
        "# October is the best month\n",
        "assert avg_daily_change[10] == max(avg_daily_change.values())"
      ],
      "metadata": {
        "id": "KvERXdpS2zOi"
      },
      "execution_count": null,
      "outputs": []
    },
    {
      "cell_type": "markdown",
      "source": [
        "Kami akan melakukan manipulasi semacam ini di seluruh buku, biasanya tanpa meminta terlalu banyak perhatian eksplisit kepada mereka."
      ],
      "metadata": {
        "id": "2w8KvylW3Sa6"
      }
    },
    {
      "cell_type": "markdown",
      "source": [
        "### Penskalaan ulang\n",
        "\n",
        "Banyak teknik yang sensitif terhadap skala data Anda. Misalnya, bayangkan Anda memiliki kumpulan data yang terdiri dari tinggi dan berat ratusan ilmuwan data, dan Anda mencoba mengidentifikasi kelompok ukuran tubuh.\n",
        "\n",
        "Secara intuitif, kami ingin cluster untuk mewakili titik-titik dekat satu sama lain, yang berarti bahwa kita memerlukan beberapa gagasan tentang jarak antar titik. Kita sudah memiliki fungsi jarak Euclidean, jadi pendekatan alami mungkin memperlakukan pasangan (tinggi, berat) sebagai titik dalam ruang dua dimensi. Perhatikan orang-orang yang tercantum dalam Tabel 10-1."
      ],
      "metadata": {
        "id": "QvSk8TzV3cRF"
      }
    },
    {
      "cell_type": "markdown",
      "source": [
        "Tabel 10-1. Ketinggian dan bobot\n",
        "\n",
        "![Screenshot 2023-06-06 133027.png](data:image/png;base64,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)"
      ],
      "metadata": {
        "id": "g_aAgc2BZiZ5"
      }
    },
    {
      "cell_type": "markdown",
      "source": [
        "Jika kita mengukur tinggi dalam inci, maka tetangga terdekat B adalah A:"
      ],
      "metadata": {
        "id": "VSBoDSEdZvBV"
      }
    },
    {
      "cell_type": "code",
      "source": [
        "from scratch.linear_algebra import distance\n",
        "\n",
        "a_to_b = distance([63, 150], [67, 160]) # 10.77\n",
        "a_to_c = distance([63, 150], [70, 171]) # 22.14\n",
        "b_to_c = distance([67, 160], [70, 171]) # 11.40"
      ],
      "metadata": {
        "id": "aHfR776bZx9x"
      },
      "execution_count": null,
      "outputs": []
    },
    {
      "cell_type": "markdown",
      "source": [
        "Namun, jika kita mengukur tinggi badan dalam sentimeter, maka tetangga terdekat B adalah C:"
      ],
      "metadata": {
        "id": "d2B9XIPsZ0m3"
      }
    },
    {
      "cell_type": "code",
      "source": [
        "a_to_b = distance([160, 150], [170.2, 160]) # 14.28\n",
        "a_to_c = distance([160, 150], [177.8, 171]) # 27.53\n",
        "b_to_c = distance([170.2, 160], [177.8, 171]) # 13.37"
      ],
      "metadata": {
        "id": "BTQZpKYQZ24p"
      },
      "execution_count": null,
      "outputs": []
    },
    {
      "cell_type": "markdown",
      "source": [
        "Tentu saja, ini merupakan masalah jika mengubah unit dapat mengubah hasil seperti ini. Untuk alasan ini, ketika dimensi tidak sebanding satu sama lain, kami terkadang akan mengubah skala data kami sehingga setiap dimensi memiliki rata-rata 0 dan deviasi standar 1. Hal ini secara efektif menghilangkan unit, mengubah setiap dimensi menjadi \"deviasi standar dari rata-rata.\"\n",
        "\n",
        "Untuk memulainya, kita perlu menghitung mean dan standar_deviasi untuk setiap posisi:"
      ],
      "metadata": {
        "id": "pIEcfyScaAGU"
      }
    },
    {
      "cell_type": "code",
      "source": [
        "from typing import Tuple\n",
        "\n",
        "from scratch.linear_algebra import vector_mean\n",
        "from scratch.statistics import standard_deviation\n",
        "\n",
        "def scale(data: List[Vector]) -> Tuple[Vector, Vector]:\n",
        "    \"\"\"returns the mean and standard deviation for each position\"\"\"\n",
        "    dim = len(data[0])\n",
        "    means = vector_mean(data)\n",
        "    stdevs = [standard_deviation([vector[i] for vector in data])\n",
        "              for i in range(dim)]\n",
        "\n",
        "    return means, stdevs\n",
        "\n",
        "vectors = [[-3, -1, 1], [-1, 0, 1], [1, 1, 1]]\n",
        "means, stdevs = scale(vectors)\n",
        "assert means == [-1, 0, 1]\n",
        "assert stdevs == [2, 1, 0]"
      ],
      "metadata": {
        "id": "wsBSo1F6aNWE"
      },
      "execution_count": null,
      "outputs": []
    },
    {
      "cell_type": "markdown",
      "source": [
        "Kita kemudian dapat menggunakannya untuk membuat set data baru:"
      ],
      "metadata": {
        "id": "tCFyIx2NaXCr"
      }
    },
    {
      "cell_type": "code",
      "source": [
        "def rescale(data: List[Vector]) -> List[Vector]:\n",
        "    \"\"\"\n",
        "    Rescales the input data so that each position has\n",
        "    mean 0 and standard deviation 1. (Leaves a position\n",
        "    as is if its standard deviation is 0.)\n",
        "    \"\"\"\n",
        "    dim = len(data[0])\n",
        "    means, stdevs = scale(data)\n",
        "\n",
        "    # Make a copy of each vector\n",
        "    rescaled = [v[:] for v in data]\n",
        "\n",
        "    for v in rescaled:\n",
        "        for i in range(dim):\n",
        "            if stdevs[i] > 0:\n",
        "                v[i] = (v[i] - means[i]) / stdevs[i]\n",
        "return rescaled"
      ],
      "metadata": {
        "id": "Z1hp_9hcaZAa"
      },
      "execution_count": null,
      "outputs": []
    },
    {
      "cell_type": "markdown",
      "source": [
        "Tentu saja, mari kita menulis tes untuk menyesuaikan agar rescale melakukan apa yang menurut kita seharusnya:"
      ],
      "metadata": {
        "id": "u5lo-nuRakjA"
      }
    },
    {
      "cell_type": "code",
      "source": [
        "means, stdevs = scale(rescale(vectors))\n",
        "assert means == [0, 0, 1]\n",
        "assert stdevs == [1, 1, 0]"
      ],
      "metadata": {
        "id": "Sk6cXBLbamv-"
      },
      "execution_count": null,
      "outputs": []
    },
    {
      "cell_type": "markdown",
      "source": [
        "## Selain: tqdm\n",
        "\n",
        "Sering kali kita akan melakukan komputasi yang memakan waktu lama. Saat Anda melakukan pekerjaan seperti itu, Anda ingin mengetahui bahwa Anda membuat kemajuan dan berapa lama Anda harus menunggu.\n",
        "\n",
        "Salah satu cara untuk melakukan ini adalah dengan pustaka tqdm, yang menghasilkan bilah kemajuan khusus. Kita akan menggunakannya di sepanjang sisa buku ini, jadi mari kita gunakan kesempatan ini untuk mempelajari cara kerjanya.\n",
        "\n",
        "Untuk memulainya, Anda harus menginstalnya:"
      ],
      "metadata": {
        "id": "CZwhDz1fauFf"
      }
    },
    {
      "cell_type": "code",
      "source": [
        "python -m pip install tqdm"
      ],
      "metadata": {
        "id": "fPml8AOIa8FM"
      },
      "execution_count": null,
      "outputs": []
    },
    {
      "cell_type": "markdown",
      "source": [
        "Hanya ada beberapa fitur yang perlu Anda ketahui. Yang pertama adalah bahwa iterable yang dibungkus dengan tqdm.tqdm akan menghasilkan sebuah progress bar:"
      ],
      "metadata": {
        "id": "omuL9LmSbAL1"
      }
    },
    {
      "cell_type": "code",
      "source": [
        "import tqdm\n",
        "\n",
        "for i in tqdm.tqdm(range(100)):\n",
        "    # do something slow\n",
        "    _ = [random.random() for _ in range(1000000)]"
      ],
      "metadata": {
        "id": "Cfe0o2zXbB6k"
      },
      "execution_count": null,
      "outputs": []
    },
    {
      "cell_type": "markdown",
      "source": [
        "yang menghasilkan keluaran yang terlihat seperti ini:\n",
        "\n",
        "56%|████████████████████ | 56/100 [00:08<00:06, 6.49it/s]\n",
        "\n",
        "Secara khusus, ini menunjukkan kepada Anda berapa bagian dari loop Anda yang telah selesai (meskipun ini tidak dapat dilakukan jika Anda menggunakan generator), berapa lama perulangan tersebut telah berjalan, dan berapa lama perulangan tersebut akan berjalan.\n",
        "\n",
        "Dalam kasus ini (di mana kita hanya membungkus pemanggilan ke range) Anda dapat menggunakan tqdm.trange.\n",
        "\n",
        "Anda juga dapat mengatur deskripsi bilah kemajuan saat sedang berjalan. Untuk melakukan itu, Anda perlu menangkap iterator tqdm dalam pernyataan with:"
      ],
      "metadata": {
        "id": "OtmvzgpKbKK9"
      }
    },
    {
      "cell_type": "code",
      "source": [
        "from typing import List\n",
        "\n",
        "def primes_up_to(n: int) -> List[int]:\n",
        "    primes = [2]\n",
        "    with tqdm.trange(3, n) as t:\n",
        "        for i in t:\n",
        "            # i is prime if no smaller prime divides it\n",
        "            i_is_prime = not any(i % p == 0 for p in primes)\n",
        "            if i_is_prime:\n",
        "                primes.append(i)\n",
        "            t.set_description(f\"{len(primes)} primes\")\n",
        "\n",
        "    return primes\n",
        "\n",
        "my_primes = primes_up_to(100_000)"
      ],
      "metadata": {
        "id": "8xO05CUtbUuf"
      },
      "execution_count": null,
      "outputs": []
    },
    {
      "cell_type": "markdown",
      "source": [
        "Ini menambahkan deskripsi seperti berikut ini, dengan penghitung yang diperbarui saat bilangan prima baru ditemukan:\n",
        "\n",
        "5116 bilangan prima: 50%|████████ | 49529/99997 [00:03<00:03, 15905.90it/s]\n",
        "\n",
        "Menggunakan tqdm terkadang akan membuat kode Anda tidak mulus - terkadang layar menggambar ulang dengan buruk, dan terkadang perulangan akan berhenti. Dan jika Anda secara tidak sengaja membungkus perulangan tqdm di dalam perulangan tqdm lainnya lain, hal-hal aneh bisa saja terjadi. Namun, biasanya manfaatnya lebih besar daripada kerugiannya, jadi kita akan mencoba menggunakannya kapanpun kita memiliki komputasi yang berjalan lambat."
      ],
      "metadata": {
        "id": "6Nz5s0E2bm-6"
      }
    },
    {
      "cell_type": "markdown",
      "source": [
        "## Pengurangan Dimensi\n",
        "\n",
        "Kadang-kadang dimensi data yang \"sebenarnya\" (atau yang berguna) mungkin tidak sesuai dengan dimensi yang kita miliki. Sebagai contoh, perhatikan kumpulan data yang digambarkan pada Gambar 10-6."
      ],
      "metadata": {
        "id": "dzzb7Bx9bu2_"
      }
    },
    {
      "cell_type": "markdown",
      "source": [
        "![Screenshot 2023-06-06 134009.png](data:image/png;base64,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)"
      ],
      "metadata": {
        "id": "lEgNyT5ub0f1"
      }
    },
    {
      "cell_type": "markdown",
      "source": [
        "Sebagian besar variasi dalam data tampaknya berada di sepanjang satu dimensi yang tidak sesuai dengan sumbu x atau sumbu y.\n",
        "\n",
        "Jika demikian, kita dapat menggunakan teknik yang disebut analisis komponen utama (PCA) untuk mengekstrak satu atau lebih dimensi yang menangkap sebanyak mungkin variasi dalam data.\n",
        "\n",
        "**CATATAN**\n",
        "\n",
        "Dalam praktiknya, Anda tidak akan menggunakan teknik ini pada dataset berdimensi rendah. Pengurangan dimensi sebagian besar berguna ketika dataset Anda memiliki sejumlah besar dimensi dan Anda ingin menemukan subset kecil yang menangkap sebagian besar variasi. Sayangnya, kasus tersebut sulit untuk diilustrasikan dalam format buku dua dimensi.\n",
        "\n",
        "Sebagai langkah pertama, kita perlu menerjemahkan data sehingga setiap dimensi memiliki rata-rata 0:"
      ],
      "metadata": {
        "id": "9CIf7Yqdb_O9"
      }
    },
    {
      "cell_type": "code",
      "source": [
        "from scratch.linear_algebra import subtract\n",
        "\n",
        "def de_mean(data: List[Vector]) -> List[Vector]:\n",
        "    \"\"\"Recenters the data to have mean 0 in every dimension\"\"\"\n",
        "    mean = vector_mean(data)\n",
        "    return [subtract(vector, mean) for vector in data]"
      ],
      "metadata": {
        "id": "Aip9wsNEcQ1U"
      },
      "execution_count": null,
      "outputs": []
    },
    {
      "cell_type": "markdown",
      "source": [
        "(Jika kita tidak melakukan hal ini, teknik kita cenderung mengidentifikasi rata-rata itu sendiri daripada variasi dalam data). data).\n",
        "\n",
        "Sekarang, diberikan matriks de-meaned X, kita dapat menanyakan arah mana yang menangkap varians terbesar dalam data.\n",
        "\n",
        "Secara khusus, diberikan sebuah arah d (sebuah vektor yang besarnya 1), setiap baris x dalam matriks memperluas titik (x, d) dalam arah d. Dan setiap vektor bukan nol w menentukan arah jika kita mengubah ukurannya menjadi besarnya 1:"
      ],
      "metadata": {
        "id": "GgbTC6FhcWQ9"
      }
    },
    {
      "cell_type": "code",
      "source": [
        "from scratch.linear_algebra import magnitude\n",
        "def direction(w: Vector) -> Vector:\n",
        "    mag = magnitude(w)\n",
        "    return [w_i / mag for w_i in w]"
      ],
      "metadata": {
        "id": "i3O8DKYHdffW"
      },
      "execution_count": null,
      "outputs": []
    },
    {
      "cell_type": "markdown",
      "source": [
        "Oleh karena itu, dengan vektor w yang bukan nol, kita dapat menghitung varians dataset kita ke arah yang ditentukan oleh w:"
      ],
      "metadata": {
        "id": "ssM7DXX4dfDg"
      }
    },
    {
      "cell_type": "code",
      "source": [
        "from scratch.linear_algebra import dot\n",
        "\n",
        "def directional_variance(data: List[Vector], w: Vector) -> float:\n",
        "    \"\"\"\n",
        "    Returns the variance of x in the direction of w\n",
        "    \"\"\"\n",
        "    w_dir = direction(w)\n",
        "    return sum(dot(v, w_dir) ** 2 for v in data)"
      ],
      "metadata": {
        "id": "a9tkEEfvdljF"
      },
      "execution_count": null,
      "outputs": []
    },
    {
      "cell_type": "markdown",
      "source": [
        "Kita ingin menemukan arah yang memaksimalkan varians ini. Kita dapat melakukan ini dengan menggunakan penurunan gradien, seperti segera setelah kita memiliki fungsi gradien:"
      ],
      "metadata": {
        "id": "sP0IpvB8drsw"
      }
    },
    {
      "cell_type": "code",
      "source": [
        "def directional_variance_gradient(data: List[Vector], w: Vector) -> Vector:\n",
        "    \"\"\"\n",
        "    The gradient of directional variance with respect to w\n",
        "    \"\"\"\n",
        "    w_dir = direction(w)\n",
        "    return [sum(2 * dot(v, w_dir) * v[i] for v in data)\n",
        "            for i in range(len(w))]"
      ],
      "metadata": {
        "id": "9gIyx1INdtVT"
      },
      "execution_count": null,
      "outputs": []
    },
    {
      "cell_type": "markdown",
      "source": [
        "Dan sekarang komponen utama pertama yang kita miliki hanyalah arah yang memaksimalkan fungsi directional_variance:"
      ],
      "metadata": {
        "id": "IBi5D-LUdzzf"
      }
    },
    {
      "cell_type": "code",
      "source": [
        "from scratch.gradient_descent import gradient_step\n",
        "\n",
        "def first_principal_component(data: List[Vector],\n",
        "                              n: int = 100,\n",
        "                              step_size: float = 0.1) -> Vector:\n",
        "    # Start with a random guess\n",
        "    guess = [1.0 for _ in data[0]]\n",
        "\n",
        "    with tqdm.trange(n) as t:\n",
        "        for _ in t:\n",
        "            dv = directional_variance(data, guess)\n",
        "            gradient = directional_variance_gradient(data, guess)\n",
        "            guess = gradient_step(guess, gradient, step_size)\n",
        "            t.set_description(f\"dv: {dv:.3f}\")\n",
        "            return direction(guess)"
      ],
      "metadata": {
        "id": "imLn9VWVd1gz"
      },
      "execution_count": null,
      "outputs": []
    },
    {
      "cell_type": "markdown",
      "source": [
        "Pada kumpulan data yang telah dide-mean, ini mengembalikan arah [0,924, 0,383], yang tampaknya menangkap sumbu utama di mana data kita bervariasi (Gambar 10-8).\n",
        "\n",
        "Setelah kita menemukan arah yang merupakan komponen utama pertama, kita dapat memproyeksikan data kita ke arah tersebut untuk untuk menemukan nilai dari komponen tersebut:"
      ],
      "metadata": {
        "id": "78G-Z27NeDU1"
      }
    },
    {
      "cell_type": "code",
      "source": [
        "from scratch.linear_algebra import scalar_multiply\n",
        "\n",
        "def project(v: Vector, w: Vector) -> Vector:\n",
        "    \"\"\"return the projection of v onto the direction w\"\"\"\n",
        "    projection_length = dot(v, w)\n",
        "    return scalar_multiply(projection_length, w)"
      ],
      "metadata": {
        "id": "iFXB35_ieIdA"
      },
      "execution_count": null,
      "outputs": []
    },
    {
      "cell_type": "markdown",
      "source": [
        "Jika kita ingin mencari komponen lebih lanjut, pertama-tama kita hapus proyeksi dari data:"
      ],
      "metadata": {
        "id": "irF72lU2eL7K"
      }
    },
    {
      "cell_type": "code",
      "source": [
        "from scratch.linear_algebra import subtract\n",
        "\n",
        "def remove_projection_from_vector(v: Vector, w: Vector) -> Vector:\n",
        "    \"\"\"projects v onto w and subtracts the result from v\"\"\"\n",
        "    return subtract(v, project(v, w))\n",
        "\n",
        "def remove_projection(data: List[Vector], w: Vector) -> List[Vector]:\n",
        "    return [remove_projection_from_vector(v, w) for v in data]"
      ],
      "metadata": {
        "id": "kwET-bakeNhw"
      },
      "execution_count": null,
      "outputs": []
    },
    {
      "cell_type": "markdown",
      "source": [
        "Karena contoh dataset ini hanya dua dimensi, setelah kita menghapus komponen pertama, apa yang yang tersisa akan menjadi satu dimensi secara efektif (Gambar 10-9).\n",
        "\n",
        "Pada titik tersebut, kita dapat menemukan komponen utama berikutnya dengan mengulangi proses pada hasil dari hapus_proyeksi (Gambar 10-10).\n",
        "\n",
        "Pada dataset berdimensi lebih tinggi, kita dapat menemukan komponen sebanyak yang kita inginkan secara berulang-ulang:"
      ],
      "metadata": {
        "id": "gjKLRTB5eXL7"
      }
    },
    {
      "cell_type": "code",
      "source": [
        "def pca(data: List[Vector], num_components: int) -> List[Vector]:\n",
        "    components: List[Vector] = []\n",
        "    for _ in range(num_components):\n",
        "        component = first_principal_component(data)\n",
        "        components.append(component)\n",
        "        data = remove_projection(data, component)\n",
        "\n",
        "return components"
      ],
      "metadata": {
        "id": "7OM4X4Z_ecSc"
      },
      "execution_count": null,
      "outputs": []
    },
    {
      "cell_type": "markdown",
      "source": [
        "Kita kemudian dapat mentransformasikan data kita ke dalam ruang dimensi yang lebih rendah yang direntangkan oleh komponen:"
      ],
      "metadata": {
        "id": "5qDf2k4JekVW"
      }
    },
    {
      "cell_type": "code",
      "source": [
        "def transform_vector(v: Vector, components: List[Vector]) -> Vector:\n",
        "    return [dot(v, w) for w in components]\n",
        "\n",
        "def transform(data: List[Vector], components: List[Vector]) -> List[Vector]:\n",
        "    return [transform_vector(v, components) for v in data]"
      ],
      "metadata": {
        "id": "TRC1YeWqel8s"
      },
      "execution_count": null,
      "outputs": []
    },
    {
      "cell_type": "markdown",
      "source": [
        "Teknik ini sangat berharga karena beberapa alasan. Pertama, teknik ini dapat membantu kita membersihkan data dengan menghilangkan dimensi noise dan mengkonsolidasikan dimensi yang sangat berkorelasi.\n",
        "\n",
        "Kedua, setelah mengekstrak representasi dimensi rendah dari data kita, kita dapat menggunakan berbagai teknik yang tidak bekerja dengan baik pada data berdimensi tinggi. Kita akan melihat contoh-contoh teknik tersebut di seluruh buku ini.\n",
        "\n",
        "Pada saat yang sama, meskipun teknik ini dapat membantu Anda membuat model yang lebih baik, teknik ini juga dapat membuat model yang lebih sulit untuk ditafsirkan. Sangat mudah untuk memahami kesimpulan seperti \"setiap tahun tambahan pengalaman menambah rata-rata gaji sebesar $10 ribu.\" Jauh lebih sulit untuk memahami \"setiap kenaikan 0,1 dalam komponen utama ketiga menambah rata-rata gaji sebesar $10 ribu.\""
      ],
      "metadata": {
        "id": "cJis42G0equN"
      }
    },
    {
      "cell_type": "markdown",
      "source": [
        "# Bab 10 Machine Learning\n",
        "Yusnia Halimatussa'diyah 4112321007\n",
        "\n",
        "Fitria Adiba 4112321030\n",
        "\n"
      ],
      "metadata": {
        "id": "58NLwA3_ugy0"
      }
    },
    {
      "cell_type": "markdown",
      "source": [
        "## Model\n",
        "Sebelum kita berbicara tentang Machine Learning, kita perlu berbicara tentang model. Apa itu model? Ini hanyalah spesifikasi dari hubungan matematis (atau probabilistik) itu ada diantara variabel yang berbeda. Misalnya, jika Anda mencoba mengumpulkan uang untuk situs jejaring sosial Anda, Anda dapat membangun sebuah model bisnis (kemungkinan dalam spreadsheet) yang mengambil input seperti \"number of users\", \"ad revenue per user”, dan “number of employees” dan menghasilkan laba tahunan Anda untuk beberapa tahun ke depan. Model bisnis mungkin didasarkan pada hubungan matematis sederhana: laba dikurangi pendapatan biaya, pendapatan adalah unit yang terjual dikali harga rata-rata, dan seterusnya. Model resep mungkin berdasarkan pada percobaan. — seseorang pergi ke dapur dan mencoba kombinasi bahan yang berbeda sampai mereka menemukan satu yang mereka sukai. Dan model poker didasarkan pada teori probabilitas, aturan poker, dan beberapa asumsi yang cukup tidak berbahaya tentang proses acak dimana kartu dibagikan."
      ],
      "metadata": {
        "id": "5uzOp2bCu8ge"
      }
    },
    {
      "cell_type": "markdown",
      "source": [
        "##Apa Itu Machine Learning\n",
        "Setiap orang memiliki definisi persisnya sendiri, tetapi kami akan menggunakan pembelajaran mesin untuk merujuk pada pembuatan dan penggunaan model yang dipelajari dari data. Dalam konteks lain, ini mungkin disebut pemodelan atau data mining, tetapi kami akan tetap menggunakan Machine Learning. Biasanya, tujuan kami adalah menggunakan data yang ada untuk mengembangkan model yang dapat kita gunakan untuk memprediksi berbagai hasil untuk data baru, seperti:\n",
        "\n",
        "Apakah pesan email adalah spam atau bukan\n",
        "Apakah transaksi kartu kredit adalah penipuan\n",
        "Iklan mana yang paling mungkin diklik pembeli\n",
        "Tim sepak bola mana yang akan memenangkan Super Bowl\n",
        "Kami akan melihat kedua model yang diawasi (di mana ada kumpulan data yang diberi label dengan jawaban yang benar untuk belajar dari) dan model tanpa pengawasan (di mana tidak ada label seperti itu).Ada berbagai lainnya jenis, seperti semisupervised (di mana hanya beberapa data yang diberi label), online (di mana model perlu terus menyesuaikan diri dengan data yang baru datang), dan penguatan (di mana, setelah membuat sebuah serangkaian prediksi, model mendapat sinyal yang menunjukkan seberapa baik kinerjanya) yang tidak akan kami bahas dalam hal ini buku.\n",
        "\n",
        "Sekarang, bahkan dalam situasi yang paling sederhana sekalipun, ada banyak sekali model yang dapat menggambarkannya hubungan yang kami minati. Dalam kebanyakan kasus, kami sendiri akan memilih keluarga berparameter model dan kemudian menggunakan data untuk mempelajari parameter yang dalam beberapa cara optimal.\n",
        "\n",
        "Misalnya, kita dapat berasumsi bahwa tinggi badan seseorang (secara kasar) adalah fungsi linear dari berat badannya dan kemudian gunakan data untuk mempelajari apa itu fungsi linear. Atau kita mungkin berasumsi bahwa pohon keputusan itu baik cara untuk mendiagnosis penyakit apa yang dimiliki pasien kami dan kemudian menggunakan data untuk mempelajari pohon yang \"optimal\". Sepanjang sisa buku ini, kita akan menyelidiki berbagai keluarga model yang dapat kita pelajari.\n",
        "\n",
        "Tapi sebelum kita bisa melakukan itu, kita perlu lebih memahami dasar-dasar pembelajaran mesin. Untuk di sisa bab ini, kita akan membahas beberapa konsep dasar tersebut, sebelum kita beralih ke modelnya.\n"
      ],
      "metadata": {
        "id": "L0txywhqvQhS"
      }
    },
    {
      "cell_type": "markdown",
      "source": [
        "## Overfitting dan Underfitting\n",
        "Ancaman dalam pembelajaran mesin adalah overfitting—menghasilkan model yang berperforma baik di data tempat Anda membuatnya tetapi menggeneralisasi dengan buruk ke data baru apa pun. Ini bisa melibatkan belajar noisy pada data. Atau itu bisa melibatkan pembelajaran untuk mengidentifikasi input spesifik daripada faktor apa pun yang sebenarnya prediktif untuk output yang diinginkan.\n",
        "\n",
        "Sisi lain dari hal ini adalah underfitting—menghasilkan model yang tidak bekerja dengan baik bahkan pada data pelatihan, meskipun biasanya ketika ini terjadi Anda memutuskan model Anda tidak cukup baik dan tetap mencari yang lebih baik.\n",
        "\n",
        "Pada Gambar 11-1, saya memasukkan tiga polinomial ke dalam sampel data. (Jangan khawatir tentang caranya; kita akan membahasnya itu di bab-bab selanjutnya)."
      ],
      "metadata": {
        "id": "6kButVjt0xbu"
      }
    },
    {
      "cell_type": "code",
      "source": [
        "import random\n",
        "from typing import TypeVar, List, Tuple\n",
        "X = TypeVar('X') # generic type to represent a data point\n",
        "def split_data(data: List[X], prob: float) -> Tuple[List[X], List[X]]:\n",
        "\"\"\"Split data into fractions [prob, 1 - prob]\"\"\"\n",
        "data = data[:] # Make a shallow copy\n",
        "random.shuffle(data) # because shuffle modifies the list.\n",
        "cut = int(len(data) * prob) # Use prob to find a cutoff\n",
        "return data[:cut], data[cut:] # and split the shuffled list there.\n",
        "data = [n for n in range(1000)]\n",
        "train, test = split_data(data, 0.75)\n",
        "# The proportions should be correct\n",
        "assert len(train) == 750\n",
        "assert len(test) == 250\n",
        "# And the original data should be preserved (in some order)\n",
        "assert sorted(train + test) == data"
      ],
      "metadata": {
        "id": "WpmGyc9v07qg"
      },
      "execution_count": null,
      "outputs": []
    },
    {
      "cell_type": "markdown",
      "source": [
        "Garis horizontal menunjukkan polinomial berderajat 0 (yaitu, konstanta) yang paling cocok. **Ini sangat underfits\n",
        "data pelatihan**. Polinomial derajat 9 yang paling cocok (yaitu, 10 parameter) melewati setiap data pelatihan\n",
        "menunjuk dengan tepat, tetapi sangat berlebihan; jika kami memilih beberapa poin data lagi, itu sudah cukup\n",
        "mungkin sangat merindukan mereka. Dan garis derajat 1 mencapai keseimbangan yang bagus; itu cukup dekat dengan setiap titik,\n",
        "dan—jika data ini representatif—garis kemungkinan juga akan mendekati titik data baru.\n",
        "\n",
        "Jelas, model yang terlalu rumit menyebabkan overfitting dan tidak menggeneralisasi jauh di luar data yang mereka latih. Jadi, bagaimana kami memastikan model kami tidak terlalu rumit? Yang paling mendasar pendekatan melibatkan penggunaan data yang berbeda untuk melatih model dan untuk menguji model. Cara paling sederhana untuk melakukannya adalah dengan membagi kumpulan data, sehingga (misalnya) dua pertiganya digunakan untuk melatih model, setelah itu kami mengukur kinerja model pada sepertiga sisanya:"
      ],
      "metadata": {
        "id": "T0OMsW5z1ldE"
      }
    },
    {
      "cell_type": "code",
      "source": [
        "import random\n",
        "from typing import TypeVar, List, Tuple\n",
        "X = TypeVar('X') # generic type to represent a data point\n",
        "def split_data(data: List[X], prob: float) -> Tuple[List[X], List[X]]:\n",
        "\"\"\"Split data into fractions [prob, 1 - prob]\"\"\"\n",
        "data = data[:] # Make a shallow copy\n",
        "random.shuffle(data) # because shuffle modifies the list.\n",
        "cut = int(len(data) * prob) # Use prob to find a cutoff\n",
        "return data[:cut], data[cut:] # and split the shuffled list there.\n",
        "data = [n for n in range(1000)]\n",
        "train, test = split_data(data, 0.75)\n",
        "# The proportions should be correct\n",
        "assert len(train) == 750\n",
        "assert len(test) == 250\n",
        "# And the original data should be preserved (in some order)\n",
        "assert sorted(train + test) == data\n"
      ],
      "metadata": {
        "colab": {
          "base_uri": "https://localhost:8080/",
          "height": 130
        },
        "id": "yHNk4mEA45Dc",
        "outputId": "75ef77c7-e95e-43cb-cebb-d76a41532ae1"
      },
      "execution_count": null,
      "outputs": [
        {
          "output_type": "error",
          "ename": "IndentationError",
          "evalue": "ignored",
          "traceback": [
            "\u001b[0;36m  File \u001b[0;32m\"<ipython-input-2-ef5dd2dd2c1c>\"\u001b[0;36m, line \u001b[0;32m5\u001b[0m\n\u001b[0;31m    \"\"\"Split data into fractions [prob, 1 - prob]\"\"\"\u001b[0m\n\u001b[0m    ^\u001b[0m\n\u001b[0;31mIndentationError\u001b[0m\u001b[0;31m:\u001b[0m expected an indented block after function definition on line 4\n"
          ]
        }
      ]
    },
    {
      "cell_type": "markdown",
      "source": [
        "Seringkali, kita akan memasangkan variabel input dan variabel output. Dalam hal ini, kita perlu memastikannya\n",
        "letakkan nilai yang sesuai bersama-sama di data pelatihan atau data uji:"
      ],
      "metadata": {
        "id": "y3NqjS_p5vZT"
      }
    },
    {
      "cell_type": "code",
      "source": [
        "Y = TypeVar('Y') # generic type to represent output variables\n",
        "def train_test_split(xs: List[X],\n",
        "ys: List[Y],\n",
        "test_pct: float) -> Tuple[List[X], List[X], List[Y],\n",
        "List[Y]]:\n",
        "# Generate the indices and split them\n",
        "idxs = [i for i in range(len(xs))]\n",
        "train_idxs, test_idxs = split_data(idxs, 1 - test_pct)\n",
        "return ([xs[i] for i in train_idxs], # x_train\n",
        "[xs[i] for i in test_idxs], # x_test\n",
        "[ys[i] for i in train_idxs], # y_train\n",
        "[ys[i] for i in test_idxs]) # y_test"
      ],
      "metadata": {
        "colab": {
          "base_uri": "https://localhost:8080/",
          "height": 130
        },
        "id": "FJJzJx2b5zHL",
        "outputId": "16b78c8f-5ee7-49e9-d0e6-a417a0fcc6c1"
      },
      "execution_count": null,
      "outputs": [
        {
          "output_type": "error",
          "ename": "IndentationError",
          "evalue": "ignored",
          "traceback": [
            "\u001b[0;36m  File \u001b[0;32m\"<ipython-input-3-bc22250d1df7>\"\u001b[0;36m, line \u001b[0;32m7\u001b[0m\n\u001b[0;31m    idxs = [i for i in range(len(xs))]\u001b[0m\n\u001b[0m    ^\u001b[0m\n\u001b[0;31mIndentationError\u001b[0m\u001b[0;31m:\u001b[0m expected an indented block after function definition on line 2\n"
          ]
        }
      ]
    },
    {
      "cell_type": "markdown",
      "source": [
        "Seperti biasa, kami ingin memastikan kode Anda berfungsi dengan baik:"
      ],
      "metadata": {
        "id": "uOwuG-3P6AHI"
      }
    },
    {
      "cell_type": "code",
      "source": [
        "xs = [x for x in range(1000)] # xs are 1 ... 1000\n",
        "ys = [2 * x for x in xs] # each y_i is twice x_i\n",
        "x_train, x_test, y_train, y_test = train_test_split(xs, ys, 0.25)\n",
        "# Check that the proportions are correct\n",
        "assert len(x_train) == len(y_train) == 750\n",
        "assert len(x_test) == len(y_test) == 250\n",
        "# Check that the corresponding data points are paired correctly\n",
        "assert all(y == 2 * x for x, y in zip(x_train, y_train))\n",
        "assert all(y == 2 * x for x, y in zip(x_test, y_test))\n"
      ],
      "metadata": {
        "colab": {
          "base_uri": "https://localhost:8080/",
          "height": 235
        },
        "id": "iIz7z2Ha6BRk",
        "outputId": "ef269c96-3bc2-4d15-a42f-4af0586a0365"
      },
      "execution_count": null,
      "outputs": [
        {
          "output_type": "error",
          "ename": "NameError",
          "evalue": "ignored",
          "traceback": [
            "\u001b[0;31m---------------------------------------------------------------------------\u001b[0m",
            "\u001b[0;31mNameError\u001b[0m                                 Traceback (most recent call last)",
            "\u001b[0;32m<ipython-input-4-c5e985ffbcd2>\u001b[0m in \u001b[0;36m<cell line: 3>\u001b[0;34m()\u001b[0m\n\u001b[1;32m      1\u001b[0m \u001b[0mxs\u001b[0m \u001b[0;34m=\u001b[0m \u001b[0;34m[\u001b[0m\u001b[0mx\u001b[0m \u001b[0;32mfor\u001b[0m \u001b[0mx\u001b[0m \u001b[0;32min\u001b[0m \u001b[0mrange\u001b[0m\u001b[0;34m(\u001b[0m\u001b[0;36m1000\u001b[0m\u001b[0;34m)\u001b[0m\u001b[0;34m]\u001b[0m \u001b[0;31m# xs are 1 ... 1000\u001b[0m\u001b[0;34m\u001b[0m\u001b[0;34m\u001b[0m\u001b[0m\n\u001b[1;32m      2\u001b[0m \u001b[0mys\u001b[0m \u001b[0;34m=\u001b[0m \u001b[0;34m[\u001b[0m\u001b[0;36m2\u001b[0m \u001b[0;34m*\u001b[0m \u001b[0mx\u001b[0m \u001b[0;32mfor\u001b[0m \u001b[0mx\u001b[0m \u001b[0;32min\u001b[0m \u001b[0mxs\u001b[0m\u001b[0;34m]\u001b[0m \u001b[0;31m# each y_i is twice x_i\u001b[0m\u001b[0;34m\u001b[0m\u001b[0;34m\u001b[0m\u001b[0m\n\u001b[0;32m----> 3\u001b[0;31m \u001b[0mx_train\u001b[0m\u001b[0;34m,\u001b[0m \u001b[0mx_test\u001b[0m\u001b[0;34m,\u001b[0m \u001b[0my_train\u001b[0m\u001b[0;34m,\u001b[0m \u001b[0my_test\u001b[0m \u001b[0;34m=\u001b[0m \u001b[0mtrain_test_split\u001b[0m\u001b[0;34m(\u001b[0m\u001b[0mxs\u001b[0m\u001b[0;34m,\u001b[0m \u001b[0mys\u001b[0m\u001b[0;34m,\u001b[0m \u001b[0;36m0.25\u001b[0m\u001b[0;34m)\u001b[0m\u001b[0;34m\u001b[0m\u001b[0;34m\u001b[0m\u001b[0m\n\u001b[0m\u001b[1;32m      4\u001b[0m \u001b[0;31m# Check that the proportions are correct\u001b[0m\u001b[0;34m\u001b[0m\u001b[0;34m\u001b[0m\u001b[0m\n\u001b[1;32m      5\u001b[0m \u001b[0;32massert\u001b[0m \u001b[0mlen\u001b[0m\u001b[0;34m(\u001b[0m\u001b[0mx_train\u001b[0m\u001b[0;34m)\u001b[0m \u001b[0;34m==\u001b[0m \u001b[0mlen\u001b[0m\u001b[0;34m(\u001b[0m\u001b[0my_train\u001b[0m\u001b[0;34m)\u001b[0m \u001b[0;34m==\u001b[0m \u001b[0;36m750\u001b[0m\u001b[0;34m\u001b[0m\u001b[0;34m\u001b[0m\u001b[0m\n",
            "\u001b[0;31mNameError\u001b[0m: name 'train_test_split' is not defined"
          ]
        }
      ]
    },
    {
      "cell_type": "markdown",
      "source": [
        "Setelah itu Anda dapat melakukan sesuatu seperti:"
      ],
      "metadata": {
        "id": "JxrTsDco6MmV"
      }
    },
    {
      "cell_type": "code",
      "source": [
        "model = SomeKindOfModel()\n",
        "x_train, x_test, y_train, y_test = train_test_split(xs, ys, 0.33)\n",
        "model.train(x_train, y_train)\n",
        "performance = model.test(x_test, y_test)"
      ],
      "metadata": {
        "id": "M-ihGV1K6Qar"
      },
      "execution_count": null,
      "outputs": []
    },
    {
      "cell_type": "markdown",
      "source": [
        "Jika model disesuaikan dengan data pelatihan, diharapkan kinerjanya akan sangat buruk pada(benar-benar terpisah) data uji. Dengan kata lain, jika kinerjanya baik pada data uji, maka Anda bisa\n",
        "lebih percaya diri bahwa itu sesuai daripada overfitting(kurang sesuaii). Namun, ini ada beberapa cara yang bisa membuat kesalahan.\n",
        "Yang pertama adalah jika ada pola umum dalam data pengujian dan pelatihan yang tidak dapat digeneralisasi menjadi a\n",
        "kumpulan data yang lebih besar.\n",
        "Misalnya, bayangkan kumpulan data Anda terdiri dari aktivitas pengguna, dengan satu baris per pengguna per minggu. Di dalam\n",
        "kasus seperti itu, sebagian besar pengguna akan muncul di data pelatihan dan data uji, dan model tertentu\n",
        "mungkin belajar untuk mengidentifikasi pengguna daripada menemukan hubungan yang melibatkan atribut. Ini tidak terlalu besar\n",
        "khawatir, meskipun itu pernah terjadi pada saya sekali.\n",
        "\n",
        "Masalah yang lebih besar adalah jika Anda menggunakan test/train split tidak hanya untuk menilai model tetapi juga untuk memilih\n",
        "diantara banyak model. Dalam hal ini, meskipun masing-masing model mungkin tidak overfit, “memilih sebuah model yang berkinerja terbaik pada set pengujian” adalah meta-training yang menjadikan set pengujian berfungsi sebagai yang kedua perlengkapan latihan. (Tentu saja model yang berperforma terbaik di set pengujian akan berperforma baik di set tes.) Dalam situasi seperti itu, Anda harus membagi data menjadi tiga bagian: satu set pelatihan untuk membuat model, sebuah set validasi untuk memilih di antara model yang dilatih, dan set tes untuk menilai model akhir.\n",
        "\n"
      ],
      "metadata": {
        "id": "lzVTqkN165Fs"
      }
    },
    {
      "cell_type": "markdown",
      "source": [
        "## Correctness\n",
        "Ketika saya tidak sedang melakukan ilmu data, saya mencoba-coba ilmu kedokteran. Dan di waktu luang, saya telah menemukan sebuah tes\n",
        "murah, tes non-invasif yang dapat diberikan kepada bayi baru lahir yang memprediksi—dengan lebih dari 98% keakuratan—apakah bayi yang baru lahir akan mengembangkan leukemia. Pengacara saya telah meyakinkan saya tes ini tidak dapat dipatenkan, jadi saya akan membagikan detailnya kepada Anda di sini: prediksi leukemia jika dan hanya jika bayinya diberi nama Luke (yang terdengar seperti \"leukemia\").\n",
        "\n",
        "Seperti yang akan kita lihat, tes ini memang 98% akurat lebih akurat. Meskipun demikian, ini adalah tes yang sangat bodoh,\n",
        "dan ilustrasi yang bagus tentang mengapa kami biasanya tidak menggunakan \"akurasi\" untuk mengukur seberapa baik (binary\n",
        "klasifikasi) sebuah model.\n",
        "Bayangkan membangun model untuk membuat penilaian biner. Apakah email ini spam? Haruskah kita menyewa kandidat ini? Apakah pelancong udara ini diam-diam seorang teroris? Mengingat satu set data berlabel dan model prediktif semacam itu, setiap titik data terletak pada salah satu dari empat kategori:\n",
        "1. Benar-benar positif\n",
        "“Pesan ini adalah spam, dan kami memprediksi spam dengan benar.”\n",
        "2. Positif palsu (Kesalahan tipe 1)\n",
        "“Pesan ini bukan spam, tapi kami memperkirakan spam.”\n",
        "3. Negatif palsu (Kesalahan tipe 2)\n",
        "“Pesan ini adalah spam, tapi kami memperkirakan bukan spam.”\n",
        "4. Benar-benar negatif\n",
        "“Pesan ini bukan spam, dan kami memperkirakan bukan spam dengan tepat.”\n",
        "Kami sering menyatakan ini sebagai hitungan dalam matriks kebingungan:"
      ],
      "metadata": {
        "id": "lt9EkWH-Ju4m"
      }
    },
    {
      "cell_type": "markdown",
      "source": [],
      "metadata": {
        "id": "9Hbk6P4g0_yW"
      }
    },
    {
      "cell_type": "markdown",
      "source": [
        "## Tradeoff bias-varians\n",
        "Cara berpikir lain tentang masalah overfitting adalah sebagai pertukaran antara bias dan varians. Keduanya adalah ukuran dari apa yang akan terjadi jika Anda melatih ulang model Anda berkali-kali di tempat yang berbeda set data pelatihan (dari populasi yang sama lebih besar). Misalnya, model derajat 0 dalam \"Overfitting and Underfitting\" akan membuat banyak kesalahan hampir semua set pelatihan (diambil dari populasi yang sama), yang berarti memiliki bias yang tinggi. Namun, dua set pelatihan yang dipilih secara acak harus memberikan model yang sangat mirip (karena ada dua set pelatihan yang dipilih secara acak harus memiliki nilai rata-rata yang cukup mirip). Jadi kami mengatakan bahwa itu rendah perbedaan. Bias tinggi dan varians rendah biasanya sesuai dengan underfitting. Di sisi lain, model derajat 9 sangat cocok dengan set pelatihan. Ini memiliki bias yang sangat rendah tetapi sangat tinggi varians (karena dua set pelatihan mana pun kemungkinan besar akan menghasilkan model yang sangat berbeda). Ini sesuai dengan overfitting. Memikirkan masalah model dengan cara ini dapat membantu Anda mengetahui apa yang harus dilakukan jika model Anda tidak bekerja dengan sangat baik. Jika model Anda memiliki bias tinggi (yang berarti kinerjanya buruk bahkan pada data pelatihan Anda), satu hal yang harus dilakukan adalah menambahkan lebih banyak fitur. Beralih dari model derajat 0 dalam \"Overfitting and Underfitting\" ke model derajat 1 merupakan peningkatan besar. Jika model Anda memiliki variasi yang tinggi, Anda juga dapat menghapus fitur. Tetapi solusi lain adalah untuk mendapatkan lebih banyak data (jika Anda bisa). Pada Gambar 11-2, kami mencocokkan polinomial derajat 9 dengan ukuran sampel yang berbeda. Model fit berdasarkan 10 data poin ada di mana-mana, seperti yang kita lihat sebelumnya. Jika kami malah melatih 100 titik data, ada banyak kurang overfitting. Dan model yang dilatih dari 1.000 titik data terlihat sangat mirip dengan model derajat 1. Mempertahankan kompleksitas model konstan, semakin banyak data yang Anda miliki, semakin sulit untuk menyesuaikannya. Disisi lain, lebih banyak data tidak akan membantu dengan bias. Jika model Anda tidak menggunakan cukup fitur untuk merekam keteraturan dalam data, membuang lebih banyak data tidak akan membantu."
      ],
      "metadata": {
        "id": "ROYFQD7T1Dgi"
      }
    },
    {
      "cell_type": "markdown",
      "source": [
        "## Fitur Ekstraksi dan Seleksi\n",
        "Seperti yang telah disebutkan, ketika data Anda tidak memiliki cukup fitur, model Anda kemungkinan besar akan kurang sesuai. Dan ketika data Anda memiliki terlalu banyak fitur, mudah untuk menyesuaikannya. Tapi apa fitur, dan di mana mereka berasal?\n",
        "\n",
        "Features adalah input apa pun yang kami sediakan untuk model kami. Dalam kasus paling sederhana, Features hanya diberikan kepada Anda. Jika Anda ingin memprediksi gaji seseorang berdasarkan pada pengalamannya selama bertahun-tahun, maka pengalaman bertahun-tahun adalah satu-satunya fitur yang Anda miliki (Meskipun, seperti kita lihat di \"Overfitting dan Underfitting\", Anda mungkin juga mempertimbangkan untuk menambahkan pengalaman jika itu membantu Anda membuat model yang lebih baik.)\n",
        "\n",
        "Segalanya menjadi lebih menarik karena data Anda menjadi lebih rumit. Bayangkan mencoba membangun filter spam untuk memprediksi apakah sebuah email adalah sampah atau bukan. Sebagian besar model tidak akan tahu apa yang harus dilakukan dengan email mentah, yang hanya merupakan kumpulan teks. Anda harus mengekstrak fitur. Misalnya:\n",
        "\n",
        "Apakah email tersebut berisi kata Viagra?\n",
        "Berapa kali huruf d muncul\n",
        "apa domain dari pengirim?\n",
        "Jawaban atas pertanyaan seperti pertanyaan pertama di sini hanyalah ya atau tidak, yang biasanya kami kode kan sebagai 1 atau 0. Yang kedua adalah angka. Dan yang ketiga adalah pilihan dari serangkaian opsi yang terpisah.\n",
        "\n",
        "Hampir selalu, kami akan mengekstrak fitur dari data kami yang termasuk dalam salah satu dari tiga kategori ini. Terlebih lagi, jenis fitur yang kami miliki membatasi jenis model yang dapat kami gunakan.\n",
        "\n",
        "Pengklasifikasi Naive Bayes yang akan kita buat di Bab 13 cocok untuk fitur ya-atau-tidak, seperti pertama dalam daftar sebelumnya.\n",
        "Model regresi, yang akan kita pelajari di Bab 14 dan 16 membutuhkan fitur numerik (yang dapat mencakup variabel dummy yaitu 0 dan 1).\n",
        "Dan pohon keputusan, yang akan kita lihat di Bab 17, dapat menangani numerik atau kategorikal data.\n",
        "Meskipun dalam contoh filter spam kami mencari cara untuk membuat fitur, terkadang kami malah melakukannya mencari cara untuk menghapus fitur.\n",
        "\n",
        "Misalnya, input Anda mungkin berupa vektor dari beberapa ratus angka. Tergantung situasinya, itu mungkin tepat untuk menyaring ini ke beberapa dimensi penting (seperti dalam \"Pengurangan Dimensi\") dan hanya menggunakan sejumlah kecil fitur itu. Atau mungkin cocok untuk gunakan teknik (seperti regularisasi, yang akan kita lihat di \"Regularisasi\") yang menghukum model semakin banyak fitur yang mereka gunakan. Bagaimana kita memilih fitur? Di situlah kombinasi pengalaman dan keahlian domain datang ikut bermain. Jika Anda telah menerima banyak email, Anda mungkin merasakan kehadirannya kata-kata tertentu mungkin merupakan indikator yang baik dari spam. Dan Anda mungkin juga merasakan bahwa jumlah ds sepertinya bukan indikator spam yang baik. Tetapi secara umum Anda harus mencoba yang berbeda hal-hal, yang merupakan bagian dari kesenangan."
      ],
      "metadata": {
        "id": "_fDuBp-r1QK1"
      }
    },
    {
      "cell_type": "markdown",
      "source": [
        "# Bab 11 k-Nearest Neighbors\n",
        "Muthia Yulisa (4112321035)\n",
        "\n",
        "Yudha Setya Wicaksana (4112321012)"
      ],
      "metadata": {
        "id": "jInPmCT_IfNF"
      }
    },
    {
      "cell_type": "markdown",
      "source": [
        "Bayangkan Anda mencoba memprediksi bagaimana saya akan memilih dalam pemilihan presiden berikutnya. Jika kamu tidak tahu apa-apa lagi tentang saya (dan jika Anda memiliki datanya), satu pendekatan yang masuk akal adalah dengan melihat bagaimana saya tetangga berencana untuk memilih. Tinggal di Seattle, seperti saya, tetangga saya selalu merencanakannya pilih kandidat Demokrat, yang menunjukkan bahwa \"kandidat Demokrat\" adalah tebakan yang bagus aku juga.\n",
        "\n",
        "Sekarang bayangkan Anda tahu lebih banyak tentang saya daripada sekadar geografi—mungkin Anda tahu usia saya, penghasilan saya, berapa banyak anak saya, dan sebagainya. Sejauh perilaku saya dipengaruhi (atau dicirikan) oleh mereka hal-hal, hanya melihat tetangga saya yang dekat dengan saya di antara semua dimensi itu sepertinya menjadi prediktor yang lebih baik daripada melihat semua tetangga saya. Ini adalah ide di balik klasifikasi Tetangga Terdekat."
      ],
      "metadata": {
        "id": "suhb70arJEw1"
      }
    },
    {
      "cell_type": "markdown",
      "source": [
        "## Model\n",
        "\n",
        "k-Nearest Neighbors adalah salah satu model prediksi paling sederhana yang pernah ada. Itu tidak membuat matematika asumsi, dan itu tidak memerlukan alat berat apa pun. Satu-satunya hal yang dibutuhkan adalah:\n",
        "*   Beberapa pengertian jarak\n",
        "*   Asumsi bahwa titik-titik yang berdekatan satu sama lain adalah serupa\n",
        "\n",
        "Sebagian besar teknik yang akan kita lihat di buku ini melihat kumpulan data secara keseluruhan untuk mempelajari pola dalam data. Tetangga terdekat, sebaliknya, secara sadar mengabaikan banyak informasi, sejak itu prediksi untuk setiap titik baru hanya bergantung pada segelintir titik yang paling dekat dengannya.\n",
        "\n",
        "Terlebih lagi, tetangga terdekat mungkin tidak akan membantu Anda memahami driver apa pun fenomena yang Anda lihat. Memprediksi suara saya berdasarkan suara tetangga saya tidak memberi tahu Anda banyak tentang apa yang menyebabkan saya memilih seperti yang saya lakukan, sedangkan beberapa model alternatif yang memprediksi saya memilih berdasarkan (katakanlah) pendapatan dan status perkawinan saya sangat mungkin.\n",
        "\n",
        "Dalam situasi umum, kami memiliki beberapa titik data dan kami memiliki kumpulan label yang sesuai. Itu label bisa jadi Benar dan Salah, yang menunjukkan apakah setiap input memenuhi beberapa kondisi seperti “apakah scam?\" atau \"apakah bagus untuk di tonton?\" atau \"akankah menyenangkan untuk ditonton?\" Atau mereka bisa menjadi kategori, seperti peringkat film (G, PG, PG-13, R, NC-17). Atau bisa juga nama-nama calon presiden. Atau mereka bisa menjadi bahasa pemrograman favorit.\n",
        "\n",
        "Dalam kasus kita, titik data akan berupa vektor, yang artinya kita dapat menggunakan fungsi jarak dari\n",
        "\n",
        "Katakanlah kita memilih angka k seperti 3 atau 5. Lalu, ketika kita ingin mengklasifikasikan beberapa titik data baru, kami menemukan k titik berlabel terdekat dan membiarkan mereka memilih keluaran baru.\n",
        "\n",
        "Untuk melakukan ini, kita memerlukan fungsi yang menghitung suara. Satu kemungkinan adalah:\n"
      ],
      "metadata": {
        "id": "OolAyR97JX4K"
      }
    },
    {
      "cell_type": "code",
      "source": [
        "from typing import List\n",
        "from collections import Counter\n",
        "\n",
        "def raw_majority_vote(labels: List[str]) -> str:\n",
        "    votes = Counter(labels)\n",
        "    winner, _ = votes.most_common(1)[0]\n",
        "    return winner\n",
        "\n",
        "assert raw_majority_vote(['a', 'b', 'c', 'b']) == 'b'"
      ],
      "metadata": {
        "id": "uNp2Ufi6K14V"
      },
      "execution_count": null,
      "outputs": []
    },
    {
      "cell_type": "markdown",
      "source": [
        "Tapi ini tidak melakukan sesuatu yang cerdas dengan ikatan. Misalnya, bayangkan kita sedang menilai film dan lima film terdekat diberi peringkat G, G, PG, PG, dan R. Kemudian G memiliki dua suara dan PG juga memiliki dua suara. Dalam hal ini, kami memiliki beberapa opsi:\n",
        "\n",
        "\n",
        "\n",
        "*   Pilih salah satu pemenang secara acak\n",
        "*   Timbang suara berdasarkan jarak dan pilih pemenang tertimbang\n",
        "*   Kurangi k sampai kita menemukan pemenang yang unik\n",
        "\n",
        "Kami akan menerapkan yang ketiga:"
      ],
      "metadata": {
        "id": "rnxJv35KLEp3"
      }
    },
    {
      "cell_type": "code",
      "source": [
        "def majority_vote(labels: List[str]) -> str:\n",
        "    \"\"\"Assumes that labels are ordered from nearest to farthest.\"\"\"\n",
        "    vote_counts = Counter(labels)\n",
        "    winner, winner_count = vote_counts.most_common(1)[0]\n",
        "    num_winners = len([count\n",
        "                      for count in vote_counts.values()\n",
        "                      if count == winner_count])\n",
        "\n",
        "    if num_winners == 1:\n",
        "        return winner                   # unique winner, so return it\n",
        "    else:\n",
        "        return majority_vote(labels[:-1]) # try again without the farthest\n",
        "# Tie, so look at first 4, then 'b'\n",
        "assert majority_vote(['a', 'b', 'c', 'b', 'a']) == 'b'"
      ],
      "metadata": {
        "id": "q7SCIGlrLtOK"
      },
      "execution_count": null,
      "outputs": []
    },
    {
      "cell_type": "markdown",
      "source": [
        "pendekatannya pasti akan berhasil pada akhirnya, karena dalam kasus terburuk kita turun ke hanya satu label, pada titik mana satu label menang.\n",
        "\n",
        "Dengan fungsi ini, mudah untuk membuat classifier:"
      ],
      "metadata": {
        "id": "0jCYoBJwLur5"
      }
    },
    {
      "cell_type": "code",
      "source": [
        "from typing import NamedTuple\n",
        " from scratch.linear_algebra import Vector, distance\n",
        "\n",
        "class LabeledPoint(NamedTuple):\n",
        "   point: Vector\n",
        "   label: str\n",
        "\n",
        "def knn_classify(k: int,\n",
        "                 labeled_points: List[LabeledPoint],\n",
        "                 new_point: Vector) -> str:\n",
        "\n",
        " # Order the labeled points from nearest to farthest.\n",
        " by_distance = sorted(labeled_points,\n",
        "                     key=lambda lp: distance(lp.point, new_point))\n",
        "\n",
        "# Find the labels for the k closest\n",
        "k_nearest_labels = [lp.label for lp in by_distance[:k]]\n",
        "\n",
        "# and let them vote.\n",
        "return majority_vote(k_nearest_labels)"
      ],
      "metadata": {
        "id": "n5HDwsy2Lz4i"
      },
      "execution_count": null,
      "outputs": []
    },
    {
      "cell_type": "markdown",
      "source": [
        "Mari kita lihat cara kerjanya.\n",
        "\n",
        "## Contoh Kumpulan Data Iris\n",
        "\n",
        "Dataset Iris adalah inti dari pembelajaran mesin. Ini berisi banyak pengukuran untuk 150 bunga\n",
        "mewakili tiga spesies iris. Untuk setiap bunga kami memiliki panjang kelopak, lebar kelopak, panjang sepal,\n",
        "dan lebar sepal, serta spesiesnya. Anda dapat mengunduhnya dari\n",
        "\n",
        "[link text](https://archive.ics.uci.edu/ml/datasets/iris:\n",
        ")"
      ],
      "metadata": {
        "id": "Ly32DcsVL47a"
      }
    },
    {
      "cell_type": "code",
      "source": [
        "import requests\n",
        "\n",
        "data = requests.get(\n",
        "   \"https://archive.ics.uci.edu/ml/machine-learning-databases/iris/iris.data\"\n",
        ")\n",
        "\n",
        "with open('iris.dat', 'w') as f:\n",
        "    f.write(data.text)"
      ],
      "metadata": {
        "id": "WAfxgi1PMG0i"
      },
      "execution_count": null,
      "outputs": []
    },
    {
      "cell_type": "markdown",
      "source": [
        "Data dipisahkan koma, dengan bidang:\n",
        "```\n",
        "sepal_length, sepal_width, petal_length, petal_width, class\n",
        "\n",
        "```\n",
        "\n",
        "Misalnya, baris pertama terlihat seperti:\n",
        "\n",
        "```\n",
        "5.1,3.5,1.4,0.2,Iris-setosa\n",
        "```\n",
        "Pada bagian ini kita akan mencoba membuat model yang dapat memprediksi kelas (yaitu spesies) dari awal\n",
        "empat pengukuran.\n",
        "\n",
        "Untuk memulainya, mari muat dan jelajahi datanya. Fungsi tetangga terdekat kita mengharapkan a\n",
        "LabeledPoint, jadi mari kita wakili data kita seperti itu"
      ],
      "metadata": {
        "id": "QOXlfJz7MPMc"
      }
    },
    {
      "cell_type": "code",
      "source": [
        "from typing import Dict\n",
        "import csv\n",
        "from collections import defaultdict\n",
        "\n",
        "def parse_iris_row(row: List[str]) -> LabeledPoint:\n",
        "    \"\"\"\n",
        "    sepal_length, sepal_width, petal_length, petal_width, class\n",
        "    \"\"\"\n",
        "    measurements = [float(value) for value in row[:-1]]\n",
        "    # class is e.g. \"Iris-virginica\"; we just want \"virginica\"\n",
        "    label = row[-1].split(\"-\")[-1]\n",
        "\n",
        "with open('iris.data') as f:\n",
        "    reader = csv.reader(f)\n",
        "    iris_data = [parse_iris_row(row) for row in reader]\n",
        "\n",
        "# We'll also group just the points by species/label so we can plot them\n",
        "points_by_species: Dict[str, List[Vector]] = defaultdict(list)\n",
        "for iris in iris_data:\n",
        "    points_by_species[iris.label].append(iris.point)"
      ],
      "metadata": {
        "id": "pA1ErQ7IMZHK"
      },
      "execution_count": null,
      "outputs": []
    },
    {
      "cell_type": "markdown",
      "source": [
        "Kami ingin memplot pengukuran sehingga kami dapat melihat perbedaannya berdasarkan spesies. Sayangnya, mereka empat dimensi, yang membuatnya sulit untuk diplot. Satu hal yang bisa kita lakukan adalah melihat scatterplots masing-masing dari enam pasang pengukuran (Gambar 12-1). Saya tidak akan menjelaskan semua detailnya, tapi itu bagus ilustrasi hal-hal yang lebih rumit yang dapat Anda lakukan dengan matplotlib, sehingga layak untuk dipelajari:"
      ],
      "metadata": {
        "id": "LBiKzYCpMhuC"
      }
    },
    {
      "cell_type": "code",
      "source": [],
      "metadata": {
        "id": "vAEqkvI9M0si"
      },
      "execution_count": null,
      "outputs": []
    },
    {
      "cell_type": "markdown",
      "source": [
        "Jika Anda melihat plot-plot itu, sepertinya pengukuran benar-benar mengelompokkan berdasarkan spesies. Misalnya, melihat panjang sepal dan lebar sepal saja, Anda mungkin tidak bisa membedakan antara versicolor dan virginia. Tapi begitu Anda menambahkan panjang dan lebar kelopak ke dalam campuran, sepertinya Anda bisa untuk memprediksi spesies berdasarkan tetangga terdekat.\n",
        "\n",
        "Untuk memulainya, mari kita pisahkan data menjadi satu set pengujian dan satu set pelatihan:"
      ],
      "metadata": {
        "id": "gD3hZcqdM1EG"
      }
    },
    {
      "cell_type": "code",
      "source": [],
      "metadata": {
        "id": "OsZM6aWnM2XL"
      },
      "execution_count": null,
      "outputs": []
    },
    {
      "cell_type": "markdown",
      "source": [
        "Set pelatihan akan menjadi \"tetangga\" yang akan kita gunakan untuk mengklasifikasikan poin dalam set tes. Kami hanya harus memilih nilai k, jumlah tetangga yang dapat memilih. Terlalu kecil (berpikir k = 1), dan kami biarkan outlier memiliki terlalu banyak pengaruh; terlalu besar (berpikir k = 105), dan kami hanya memprediksi yang paling umum kelas dalam kumpulan data.\n",
        "\n",
        "Dalam aplikasi nyata (dan dengan lebih banyak data), kita dapat membuat kumpulan validasi terpisah dan menggunakannya untuk pilih k. Di sini kita hanya akan menggunakan k = 5:"
      ],
      "metadata": {
        "id": "K1NoWrL_M3AU"
      }
    },
    {
      "cell_type": "code",
      "source": [],
      "metadata": {
        "id": "pUv_mMvpM74H"
      },
      "execution_count": null,
      "outputs": []
    },
    {
      "cell_type": "markdown",
      "source": [
        "Pada kumpulan data sederhana ini, model memprediksi dengan hampir sempurna. Ada satu versicolor untuk itu\n",
        "memprediksi virginica, tetapi jika tidak, semuanya menjadi benar.\n"
      ],
      "metadata": {
        "id": "RdMKqPoZNcNA"
      }
    },
    {
      "cell_type": "markdown",
      "source": [
        "## The Curse of Dimensionality\n",
        "\n",
        "Algoritme k-neighbor terdekat mengalami masalah dalam dimensi yang lebih tinggi berkat “kutukan\n",
        "dimensi”, yang bermuara pada fakta bahwa ruang dimensi tinggi itu luas. Titik-titik dalam ruang berdimensi tinggi cenderung tidak berdekatan satu sama lain. Salah satu cara untuk melihat ini adalah dengan secara acak\n",
        "menghasilkan pasangan titik dalam \"kubus satuan\" d-dimensi dalam berbagai dimensi, dan menghitung\n",
        "jarak di antara mereka\n",
        "\n",
        "Generating random points should be second nature by now:"
      ],
      "metadata": {
        "id": "DlEju_tSM8Rr"
      }
    },
    {
      "cell_type": "code",
      "source": [
        "def random_point(dim: int) -> Vector:\n",
        "     return [random.random() for _ in range(dim)]"
      ],
      "metadata": {
        "id": "0FBmsFiaN7Uc"
      },
      "execution_count": null,
      "outputs": []
    },
    {
      "cell_type": "markdown",
      "source": [
        "seperti menulis fungsi untuk menghasilkan jarak:"
      ],
      "metadata": {
        "id": "_FqQDSuDN8Py"
      }
    },
    {
      "cell_type": "code",
      "source": [
        "def random_distances(dim: int, num_pairs: int) -> List[float]:\n",
        "return [distance(random_point(dim), random_point(dim))\n",
        "for _ in range(num_pairs)]"
      ],
      "metadata": {
        "id": "_HlRCz60OAWY"
      },
      "execution_count": null,
      "outputs": []
    },
    {
      "cell_type": "markdown",
      "source": [
        "Untuk setiap dimensi dari 1 hingga 100, kami akan menghitung 10.000 jarak dan menggunakannya untuk menghitung jarak rata-rata antar titik dan jarak minimum antar titik di setiap dimensi (Gambar 12-2):"
      ],
      "metadata": {
        "id": "g2T4M54zODfP"
      }
    },
    {
      "cell_type": "code",
      "source": [
        "import tqdm\n",
        "dimensions = range(1, 101)\n",
        "avg_distances = []\n",
        "min_distances = []\n",
        "random.seed(0)\n",
        "for dim in tqdm.tqdm(dimensions, desc=\"Curse of Dimensionality\"):\n",
        "distances = random_distances(dim, 10000) # 10,000 random pairs\n",
        "avg_distances.append(sum(distances) / 10000) # track the average\n",
        "min_distances.append(min(distances)) # track the minimum"
      ],
      "metadata": {
        "id": "S7BD284hOGsp"
      },
      "execution_count": null,
      "outputs": []
    },
    {
      "cell_type": "markdown",
      "source": [
        "Dengan meningkatnya jumlah dimensi, jarak rata-rata antar titik meningkat. Tapi apa yang lebih bermasalah adalah rasio antara jarak terdekat dan jarak rata-rata (Gambar 12-3):"
      ],
      "metadata": {
        "id": "2Lemb7J0OKVw"
      }
    },
    {
      "cell_type": "code",
      "source": [],
      "metadata": {
        "id": "055yRtBQOQs-"
      },
      "execution_count": null,
      "outputs": []
    },
    {
      "cell_type": "markdown",
      "source": [
        "Dalam kumpulan data berdimensi rendah, titik terdekat cenderung lebih dekat daripada rata-rata. Tapi dua poin dekat hanya jika mereka dekat di setiap dimensi, dan setiap dimensi ekstra—bahkan jika hanya kebisingan—adalah kesempatan lain untuk setiap titik menjadi lebih jauh dari setiap titik lainnya. Bila Anda memiliki banyak dimensi, kemungkinan titik terdekat tidak jauh lebih dekat dari rata-rata, jadi ada dua titik tutup tidak berarti banyak (kecuali ada banyak struktur dalam data Anda yang membuatnya berperilaku seolah-olah itu jauh lebih rendah-dimensi).\n",
        "\n",
        "Cara berpikir yang berbeda tentang masalah ini melibatkan kelangkaan ruang dimensi yang lebih tinggi. Jika Anda memilih 50 angka acak antara 0 dan 1, Anda mungkin akan mendapatkan sampel unit yang cukup bagus interval (Gambar 12-4).\n",
        "\n",
        "gambar 12-4\n",
        "\n",
        "Jika Anda memilih 50 titik acak di kotak unit, cakupan Anda akan berkurang (Gambar 12-5).\n",
        "\n",
        "gambar 12-5\n",
        "\n",
        "Dan dalam tiga dimensi, kurang diam (Gambar 12-6).\n",
        "\n",
        "matplotlib tidak membuat grafik empat dimensi dengan baik, jadi sejauh itu yang akan kita lakukan, tetapi Anda sudah bisa melihatnya bahwa mulai ada ruang kosong besar tanpa titik di dekatnya. Dalam lebih banyak dimensi—kecuali Anda mendapatkan lebih banyak data secara eksponensial—ruang kosong yang besar itu mewakili wilayah yang jauh dari semua titik Anda ingin gunakan dalam prediksi Anda.\n",
        "\n",
        "Jadi, jika Anda mencoba menggunakan tetangga terdekat dalam dimensi yang lebih tinggi, sebaiknya lakukan semacam pengurangan dimensi terlebih dahulu.\n",
        "\n",
        "gambar 12-6"
      ],
      "metadata": {
        "id": "-qFwbTeRORKi"
      }
    },
    {
      "cell_type": "markdown",
      "source": [
        "## Untuk Eksplorasi Lebih Lanjut\n",
        "scikit-learn memiliki banyak model tetangga terdekat"
      ],
      "metadata": {
        "id": "Mzemh0YUP8jk"
      }
    },
    {
      "cell_type": "markdown",
      "source": [
        "# BAB 12. Naive Bayes\n",
        "Tangkas Pangestu (4112321021) \\\\\n",
        "Indah Fitri Auliya (4112321031)"
      ],
      "metadata": {
        "id": "xph7uviRXty9"
      }
    },
    {
      "cell_type": "markdown",
      "source": [
        "Jejaring sosial tidak terlalu bagus jika orang tidak bisa berjejaring. Karenanya, DataSciencester memiliki fitur populer yang memungkinkan anggota mengirim pesan ke anggota lain. Dan sementara sebagian besar anggota adalah warga negara yang bertanggung jawab yang hanya mengirim pesan \"apa kabar?\", beberapa penjahat terus-menerus mengirim spam ke anggota lain tentang skema kaya, obat-obatan tanpa resep, dan program kredensial ilmu data nirlaba. Pengguna Anda mulai mengeluh, sehingga VP Messaging meminta Anda menggunakan ilmu data untuk mencari cara memfilter pesan spam ini."
      ],
      "metadata": {
        "id": "OMnhhI8OX6HJ"
      }
    },
    {
      "cell_type": "markdown",
      "source": [
        "##Filter Spam yang Sampah\n",
        "\n"
      ],
      "metadata": {
        "id": "_IBkOCe1YLAy"
      }
    },
    {
      "cell_type": "markdown",
      "source": [
        "Bayangkan sebuah \"alam semesta\" yang terdiri dari menerima pesan yang dipilih secara acak dari semua kemungkinan pesan. Misalkan S adalah kejadian \"pesannya adalah spam\" dan B adalah kejadian \"pesan berisi kata bitcoin\". Teorema Bayes memberi tahu kita bahwa probabilitas bahwa pesan tersebut adalah spam dengan syarat mengandung kata bitcoin adalah:\n",
        "\n",
        "$$P(S|B) = [P(B|S)P(S)]/[P(B|S)P(S)+P(B|-S)P(-S)]$$"
      ],
      "metadata": {
        "id": "Fq8IgInBZTF7"
      }
    },
    {
      "cell_type": "markdown",
      "source": [
        "Pembilangnya adalah probabilitas sebuah pesan adalah spam dan berisi bitcoin, sedangkan penyebutnya hanyalah probabilitas sebuah pesan berisi bitcoin. Oleh karena itu, Anda dapat menganggap perhitungan ini hanya mewakili proporsi pesan bitcoin yang merupakan spam.\n",
        "\n",
        "Jika kita memiliki banyak kumpulan pesan yang kita tahu adalah spam, dan banyak kumpulan pesan yang kita tahu bukan spam, maka kita dapat dengan mudah memperkirakan $P(B|S)$ dan $P(B|¬S)$. Jika kita lebih lanjut berasumsi bahwa pesan apa pun kemungkinan besar adalah spam atau bukan spam (sehingga $P(S) = P(-S) = 0,5)$, maka:\n",
        "\n",
        "$$P(S|B) = P(B|S)/[P(B|S)+P(B|-S)]$$\n",
        "\n",
        "Misalnya, jika 50% pesan spam berisi kata bitcoin, tetapi hanya 1% pesan nonspam yang memiliki kata tersebut, maka kemungkinan setiap email berisi bitcoin spam adalah:\n",
        "\n",
        "$$0.5/(0.5+0.01) = 98\\%$$"
      ],
      "metadata": {
        "id": "8vOjhpNRaM8c"
      }
    },
    {
      "cell_type": "markdown",
      "source": [
        "##Filter Spam yang Lebih Canggih"
      ],
      "metadata": {
        "id": "pT-7QZSfcvtO"
      }
    },
    {
      "cell_type": "markdown",
      "source": [
        "Bayangkan sekarang kita memiliki kosakata banyak kata, $w_1 ..., w_n$ . Untuk memindahkan ini ke ranah teori probabilitas, kita akan menulis $X_i$ untuk acara \"pesan berisi kata $w_1$.\" Juga bayangkan bahwa (melalui beberapa proses yang tidak ditentukan pada saat ini) kita telah menghasilkan perkiraan $P(X_i|S)$ untuk kemungkinan pesan spam berisi kata ke-$i$, dan perkiraan serupa $P(X_i|-S)$ untuk kemungkinan pesan nonspam berisi kata ke-$i$.\n",
        "\n",
        "Kunci Naive Bayes adalah membuat asumsi (besar) bahwa kehadiran (atau ketidakhadiran) setiap kata tidak bergantung satu sama lain, bergantung pada apakah pesan tersebut spam atau tidak. Secara intuitif, asumsi ini berarti mengetahui apakah pesan spam tertentu berisi kata bitcoin tidak memberi Anda informasi tentang apakah pesan yang sama berisi kata rolex. Dalam istilah matematika, ini berarti bahwa:\n",
        "\n",
        "$$P(X_1=x_1,...,X_n=x_n|S) = P\\;(X_1=x_1|S)×...× P(X_n=x_n|S)$$"
      ],
      "metadata": {
        "id": "hia-ouf-c4S1"
      }
    },
    {
      "cell_type": "markdown",
      "source": [
        "Ini adalah asumsi ekstrim. (Ada alasan mengapa teknik ini memiliki nama yang naif.) Bayangkan bahwa kosakata kita hanya terdiri dari kata bitcoin dan rolex, dan separuh dari semua pesan spam adalah untuk \"dapatkan bitcoin\" dan separuh lainnya adalah untuk \"rolex asli. ” Dalam hal ini, Naive Bayes memperkirakan bahwa pesan spam berisi bitcoin dan rolex adalah:\n",
        "\n",
        "$$P(X_1=1,X_2=1|S)=P(X_1=1|S)\\;P(X_2=1|S)=.5\\times.5=.25$$\n",
        "\n",
        "karena kita telah menghilangkan pengetahuan bahwa bitcoin dan rolex sebenarnya tidak pernah terjadi bersamaan. Terlepas dari ketidakrealistisan asumsi ini, model ini sering bekerja dengan baik dan secara historis telah digunakan dalam filter spam yang sebenarnya.\n",
        "\n",
        "Alasan teorema Bayes yang sama yang kita gunakan untuk filter spam \"bitcoin saja\" memberi tahu kita bahwa kita dapat menghitung probabilitas suatu pesan adalah spam menggunakan persamaan:\n",
        "\n",
        "$$P(S|X=x)=P(X=x|S)/[P(X=x|S)+P(X=x|-S)]$$"
      ],
      "metadata": {
        "id": "YKfttkfsfkIF"
      }
    },
    {
      "cell_type": "markdown",
      "source": [
        "Asumsi Naive Bayes memungkinkan kita untuk menghitung setiap probabilitas di sebelah kanan hanya dengan mengalikan estimasi probabilitas individu untuk setiap kosakata.\n",
        "\n",
        "Dalam praktiknya, Anda biasanya ingin menghindari perkalian banyak probabilitas secara bersamaan, untuk mencegah masalah yang disebut *underflow*, di mana komputer tidak menangani dengan baik bilangan titik-mengambang yang terlalu dekat dengan 0. Mengingat kembali dari aljabar bahwa $\\log{(ab)}=\\log{a} + \\log {b}$ dan itu $\\exp(\\log {x}) = x$, biasanya kita menghitung $p_1 * ... * p_n$ sebagai yang setara (tetapi floating-point yang lebih mudah dipahami):\n",
        "\n",
        "$$\\exp(\\log(p_1)+...+\\log(p_n))$$\n",
        "\n",
        "Satu-satunya tantangan yang tersisa adalah memperkirakan perkiraan untuk $P(X_i|S)$ dan $P(X_i|-S)$ , probabilitas bahwa pesan spam (atau pesan nonspam) berisi kata $w_i$. Jika kita memiliki cukup banyak pesan \"pelatihan\" yang dilabeli sebagai spam dan bukan spam, upaya pertama yang jelas adalah memperkirakan $P(X_i|S)$ hanya sebagai bagian dari pesan spam yang mengandung kata $w_i$."
      ],
      "metadata": {
        "id": "nUMATQcWhUZA"
      }
    },
    {
      "cell_type": "markdown",
      "source": [
        "Ini menyebabkan masalah besar. Bayangkan dalam set pelatihan kita, data kata kosakata hanya muncul di pesan nonspam. Kemudian kita memperkirakan $P(data|S)=0$. Hasilnya adalah pengklasifikasi Naive Bayes kita akan selalu menetapkan probabilitas spam $0$ untuk pesan apa pun yang berisi data kata, bahkan pesan seperti \"data tentang bitcoin gratis dan jam tangan rolex asli\". Untuk menghindari masalah ini, kita biasanya menggunakan semacam smoothing\n",
        "\n",
        "Secara khusus, kita akan memilih pseudocount—$k$—dan memperkirakan kemungkinan melihat kata ke-$i$ dalam pesan spam sebagai:\n",
        "\n",
        "$$P(X_i|S)=(k + jumlah\\;spam\\;yang\\;mengandung\\;w_i)/(2k + jumlah\\;spam)$$\n",
        "\n",
        "Kita melakukan hal yang sama untuk $P(Xi|-S)$. Artinya, saat menghitung probabilitas spam untuk kata ke-$i$, kita berasumsi bahwa kita juga melihat $k$ nonspam tambahan yang berisi kata tersebut dan $k$ nonspam tambahan yang tidak mengandung kata tersebut.\n",
        "\n",
        "Misalnya, jika data muncul dalam $0/98$ pesan spam, dan jika $k$ adalah $1$, kita memperkirakan $P(data|S)$ sebagai $1/100 = 0.01$, yang memungkinkan pengklasifikasi kita untuk tetap menetapkan probabilitas spam bukan nol ke pesan yang berisi data kata."
      ],
      "metadata": {
        "id": "hgoxfLbtl93r"
      }
    },
    {
      "cell_type": "markdown",
      "source": [
        "##Penerapan"
      ],
      "metadata": {
        "id": "XjPCHZb2pA70"
      }
    },
    {
      "cell_type": "markdown",
      "source": [
        "Sekarang kita memiliki semua bagian yang kita butuhkan untuk membuat classifier kita. Pertama, mari buat fungsi sederhana untuk menandai pesan menjadi kata-kata yang berbeda. Kita pertama-tama akan mengonversi setiap pesan menjadi huruf kecil, lalu menggunakan re.findall untuk mengekstrak \"kata\" yang terdiri dari huruf, angka, dan apostrof. Akhirnya, kita akan menggunakan set untuk mendapatkan kata-kata yang berbeda:"
      ],
      "metadata": {
        "id": "3x6WlR_npDzv"
      }
    },
    {
      "cell_type": "code",
      "source": [
        "from typing import Set\n",
        "import re\n",
        "\n",
        "def tokenize(text: str) -> Set[str]:\n",
        "    text = text.lower()                         # Convert to lowercase,\n",
        "    all_words = re.findall(\"[a-z0-9']+\", text)  # extract the words, and\n",
        "    return set(all_words)                       # remove duplicates.\n",
        "\n",
        "assert tokenize(\"Data Science is science\") == {\"data\", \"science\", \"is\"}\n"
      ],
      "metadata": {
        "id": "Kc9MHUpHppXi"
      },
      "execution_count": null,
      "outputs": []
    },
    {
      "cell_type": "markdown",
      "source": [
        "Kita juga akan menentukan jenis untuk data pelatihan kita:"
      ],
      "metadata": {
        "id": "6wVb4GQip9It"
      }
    },
    {
      "cell_type": "code",
      "source": [
        "from typing import NamedTuple\n",
        "\n",
        "class Message(NamedTuple):\n",
        "    text: str\n",
        "    is_spam: bool"
      ],
      "metadata": {
        "id": "1ZT2lFBiqBgw"
      },
      "execution_count": null,
      "outputs": []
    },
    {
      "cell_type": "markdown",
      "source": [
        "Karena pengklasifikasi kita perlu melacak token, jumlah, dan label dari data pelatihan, kita akan menjadikannya sebuah kelas. Mengikuti konvensi, kita menyebut email nonspam sebagai email ham\n",
        "\n",
        "Konstruktor hanya akan mengambil satu parameter, pseudocount untuk digunakan saat menghitung probabilitas. Ini juga menginisialisasi sekumpulan token kosong, penghitung untuk melacak seberapa sering setiap token terlihat di pesan spam dan pesan ham, dan menghitung berapa banyak pesan spam dan ham yang dilatihkan:"
      ],
      "metadata": {
        "id": "XqFCDdRYqW_B"
      }
    },
    {
      "cell_type": "code",
      "source": [
        "from typing import List, Tuple, Dict, Iterable\n",
        "import math\n",
        "from collections import defaultdict\n",
        "\n",
        "class NaiveBayesClassifier:\n",
        "    def __init__(self, k: float = 0.5) -> None:\n",
        "        self.k = k  # smoothing factor\n",
        "\n",
        "        self.tokens: Set[str] = set()\n",
        "        self.token_spam_counts: Dict[str, int] = defaultdict(int)\n",
        "        self.token_ham_counts: Dict[str, int] = defaultdict(int)\n",
        "        self.spam_messages = self.ham_messages = 0"
      ],
      "metadata": {
        "id": "0fe1a5LdrG5x"
      },
      "execution_count": null,
      "outputs": []
    },
    {
      "cell_type": "markdown",
      "source": [
        "Selanjutnya, kita akan memberikan metode untuk melatihnya pada banyak pesan. Pertama, kita menambah jumlah spam_messages dan ham_messages. Kemudian kita menandai setiap teks pesan, dan untuk setiap token kita menambahkan token_spam_counts atau token_ham_counts berdasarkan jenis pesan:"
      ],
      "metadata": {
        "id": "R6RXBzger10g"
      }
    },
    {
      "cell_type": "code",
      "source": [
        "class NaiveBayesClassifier:\n",
        "      def __init__(self, k: float = 0.5) -> None:\n",
        "        self.k = k  # smoothing factor\n",
        "\n",
        "        self.tokens: Set[str] = set()\n",
        "        self.token_spam_counts: Dict[str, int] = defaultdict(int)\n",
        "        self.token_ham_counts: Dict[str, int] = defaultdict(int)\n",
        "        self.spam_messages = self.ham_messages = 0\n",
        "      def train(self, messages: Iterable[Message]) -> None:\n",
        "        for message in messages:\n",
        "            # Increment message counts\n",
        "            if message.is_spam:\n",
        "                self.spam_messages += 1\n",
        "            else:\n",
        "                self.ham_messages += 1\n",
        "\n",
        "            # Increment word counts\n",
        "            for token in tokenize(message.text):\n",
        "                self.tokens.add(token)\n",
        "                if message.is_spam:\n",
        "                    self.token_spam_counts[token] += 1\n",
        "                else:\n",
        "                    self.token_ham_counts[token] += 1\n"
      ],
      "metadata": {
        "id": "DrLVCjcgsDF2"
      },
      "execution_count": null,
      "outputs": []
    },
    {
      "cell_type": "markdown",
      "source": [
        "Pada akhirnya kita ingin memprediksi $P(spam | token)$. Seperti yang kita lihat sebelumnya, untuk menerapkan teorema Bayes kita perlu mengetahui $P(token | spam)$ dan $P(token | ham)$ untuk setiap token dalam kosakata. Jadi kita akan membuat fungsi pembantu \"pribadi\" untuk menghitungnya:"
      ],
      "metadata": {
        "id": "tgd8FNv5s3AA"
      }
    },
    {
      "cell_type": "code",
      "source": [
        "class NaiveBayesClassifier:\n",
        "      def __init__(self, k: float = 0.5) -> None:\n",
        "        self.k = k  # smoothing factor\n",
        "\n",
        "        self.tokens: Set[str] = set()\n",
        "        self.token_spam_counts: Dict[str, int] = defaultdict(int)\n",
        "        self.token_ham_counts: Dict[str, int] = defaultdict(int)\n",
        "        self.spam_messages = self.ham_messages = 0\n",
        "      def train(self, messages: Iterable[Message]) -> None:\n",
        "        for message in messages:\n",
        "            # Increment message counts\n",
        "            if message.is_spam:\n",
        "                self.spam_messages += 1\n",
        "            else:\n",
        "                self.ham_messages += 1\n",
        "\n",
        "            # Increment word counts\n",
        "            for token in tokenize(message.text):\n",
        "                self.tokens.add(token)\n",
        "                if message.is_spam:\n",
        "                    self.token_spam_counts[token] += 1\n",
        "                else:\n",
        "                    self.token_ham_counts[token] += 1\n",
        "\n",
        "      def _probabilities(self, token: str) -> Tuple[float, float]:\n",
        "        \"\"\"returns P(token | spam) and P(token | not spam)\"\"\"\n",
        "        spam = self.token_spam_counts[token]\n",
        "        ham = self.token_ham_counts[token]\n",
        "\n",
        "        p_token_spam = (spam + self.k) / (self.spam_messages + 2 * self.k)\n",
        "        p_token_ham = (ham + self.k) / (self.ham_messages + 2 * self.k)\n",
        "\n",
        "        return p_token_spam, p_token_ham"
      ],
      "metadata": {
        "id": "st0o3uLstIzy"
      },
      "execution_count": null,
      "outputs": []
    },
    {
      "cell_type": "markdown",
      "source": [
        "Akhirnya, kita siap untuk menulis metode prediksi kita. Seperti disebutkan sebelumnya, daripada mengalikan banyak probabilitas kecil, kita malah akan meringkas probabilitas log:"
      ],
      "metadata": {
        "id": "di6LajR8tgWq"
      }
    },
    {
      "cell_type": "code",
      "source": [
        "class NaiveBayesClassifier:\n",
        "      def __init__(self, k: float = 0.5) -> None:\n",
        "        self.k = k  # smoothing factor\n",
        "\n",
        "        self.tokens: Set[str] = set()\n",
        "        self.token_spam_counts: Dict[str, int] = defaultdict(int)\n",
        "        self.token_ham_counts: Dict[str, int] = defaultdict(int)\n",
        "        self.spam_messages = self.ham_messages = 0\n",
        "\n",
        "      def train(self, messages: Iterable[Message]) -> None:\n",
        "        for message in messages:\n",
        "            # Increment message counts\n",
        "            if message.is_spam:\n",
        "                self.spam_messages += 1\n",
        "            else:\n",
        "                self.ham_messages += 1\n",
        "\n",
        "            # Increment word counts\n",
        "            for token in tokenize(message.text):\n",
        "                self.tokens.add(token)\n",
        "                if message.is_spam:\n",
        "                    self.token_spam_counts[token] += 1\n",
        "                else:\n",
        "                    self.token_ham_counts[token] += 1\n",
        "\n",
        "      def _probabilities(self, token: str) -> Tuple[float, float]:\n",
        "        \"\"\"returns P(token | spam) and P(token | not spam)\"\"\"\n",
        "        spam = self.token_spam_counts[token]\n",
        "        ham = self.token_ham_counts[token]\n",
        "\n",
        "        p_token_spam = (spam + self.k) / (self.spam_messages + 2 * self.k)\n",
        "        p_token_ham = (ham + self.k) / (self.ham_messages + 2 * self.k)\n",
        "\n",
        "        return p_token_spam, p_token_ham\n",
        "\n",
        "      def predict(self, text: str) -> float:\n",
        "        text_tokens = tokenize(text)\n",
        "        log_prob_if_spam = log_prob_if_ham = 0.0\n",
        "\n",
        "        # Iterate through each word in our vocabulary.\n",
        "        for token in self.tokens:\n",
        "            prob_if_spam, prob_if_ham = self._probabilities(token)\n",
        "\n",
        "            # If *token* appears in the message,\n",
        "            # add the log probability of seeing it;\n",
        "            if token in text_tokens:\n",
        "                log_prob_if_spam += math.log(prob_if_spam)\n",
        "                log_prob_if_ham += math.log(prob_if_ham)\n",
        "\n",
        "            # otherwise add the log probability of _not_ seeing it\n",
        "            # which is log(1 - probability of seeing it)\n",
        "            else:\n",
        "                log_prob_if_spam += math.log(1.0 - prob_if_spam)\n",
        "                log_prob_if_ham += math.log(1.0 - prob_if_ham)\n",
        "\n",
        "        prob_if_spam = math.exp(log_prob_if_spam)\n",
        "        prob_if_ham = math.exp(log_prob_if_ham)\n",
        "        return prob_if_spam / (prob_if_spam + prob_if_ham)\n"
      ],
      "metadata": {
        "id": "JqC2l2ettnqj"
      },
      "execution_count": null,
      "outputs": []
    },
    {
      "cell_type": "markdown",
      "source": [
        "Dan sekarang kita memiliki classifier."
      ],
      "metadata": {
        "id": "iCDiHQAuubmg"
      }
    },
    {
      "cell_type": "markdown",
      "source": [
        "##Menguji Model Kita"
      ],
      "metadata": {
        "id": "PFan2TbAupcH"
      }
    },
    {
      "cell_type": "markdown",
      "source": [
        "Mari pastikan model kita berfungsi dengan menulis beberapa pengujian unit untuknya."
      ],
      "metadata": {
        "id": "s0w9Ck27u2dg"
      }
    },
    {
      "cell_type": "code",
      "source": [
        "class NaiveBayesClassifier:\n",
        "      def __init__(self, k: float = 0.5) -> None:\n",
        "        self.k = k  # smoothing factor\n",
        "\n",
        "        self.tokens: Set[str] = set()\n",
        "        self.token_spam_counts: Dict[str, int] = defaultdict(int)\n",
        "        self.token_ham_counts: Dict[str, int] = defaultdict(int)\n",
        "        self.spam_messages = self.ham_messages = 0\n",
        "\n",
        "      def train(self, messages: Iterable[Message]) -> None:\n",
        "        for message in messages:\n",
        "            # Increment message counts\n",
        "            if message.is_spam:\n",
        "                self.spam_messages += 1\n",
        "            else:\n",
        "                self.ham_messages += 1\n",
        "\n",
        "            # Increment word counts\n",
        "            for token in tokenize(message.text):\n",
        "                self.tokens.add(token)\n",
        "                if message.is_spam:\n",
        "                    self.token_spam_counts[token] += 1\n",
        "                else:\n",
        "                    self.token_ham_counts[token] += 1\n",
        "\n",
        "      def _probabilities(self, token: str) -> Tuple[float, float]:\n",
        "        \"\"\"returns P(token | spam) and P(token | not spam)\"\"\"\n",
        "        spam = self.token_spam_counts[token]\n",
        "        ham = self.token_ham_counts[token]\n",
        "\n",
        "        p_token_spam = (spam + self.k) / (self.spam_messages + 2 * self.k)\n",
        "        p_token_ham = (ham + self.k) / (self.ham_messages + 2 * self.k)\n",
        "\n",
        "        return p_token_spam, p_token_ham\n",
        "\n",
        "      def predict(self, text: str) -> float:\n",
        "        text_tokens = tokenize(text)\n",
        "        log_prob_if_spam = log_prob_if_ham = 0.0\n",
        "\n",
        "        # Iterate through each word in our vocabulary.\n",
        "        for token in self.tokens:\n",
        "            prob_if_spam, prob_if_ham = self._probabilities(token)\n",
        "\n",
        "            # If *token* appears in the message,\n",
        "            # add the log probability of seeing it;\n",
        "            if token in text_tokens:\n",
        "                log_prob_if_spam += math.log(prob_if_spam)\n",
        "                log_prob_if_ham += math.log(prob_if_ham)\n",
        "\n",
        "            # otherwise add the log probability of _not_ seeing it\n",
        "            # which is log(1 - probability of seeing it)\n",
        "            else:\n",
        "                log_prob_if_spam += math.log(1.0 - prob_if_spam)\n",
        "                log_prob_if_ham += math.log(1.0 - prob_if_ham)\n",
        "\n",
        "        prob_if_spam = math.exp(log_prob_if_spam)\n",
        "        prob_if_ham = math.exp(log_prob_if_ham)\n",
        "        return prob_if_spam / (prob_if_spam + prob_if_ham)\n",
        "\n",
        "        messages = [Message(\"spam rules\", is_spam=True),\n",
        "        Message(\"ham rules\", is_spam=False),\n",
        "        Message(\"hello ham\", is_spam=False)]\n",
        "\n",
        "        model = NaiveBayesClassifier(k = 0.5)\n",
        "        model.train(messages)\n",
        "\n",
        "        assert model.tokens == {\"spam\", \"ham\", \"rules\", \"hello\"}\n",
        "        assert model.spam_messages == 1\n",
        "        assert model.ham_messages == 2\n",
        "        assert model.token_spam_counts == {\"spam\": 1, \"rules\": 1}\n",
        "        assert model.token_ham_counts == {\"ham\": 2, \"rules\": 1, \"hello\": 1}"
      ],
      "metadata": {
        "id": "KqRZJtYUvkiC"
      },
      "execution_count": null,
      "outputs": []
    },
    {
      "cell_type": "markdown",
      "source": [
        "Sekarang mari kita membuat prediksi. Kita juga akan (dengan susah payah) melalui logika Naive Bayes kita dengan tangan, dan memastikan bahwa kita mendapatkan hasil yang sama:"
      ],
      "metadata": {
        "id": "w8x7oncIwH1Y"
      }
    },
    {
      "cell_type": "code",
      "source": [
        "class NaiveBayesClassifier:\n",
        "      def __init__(self, k: float = 0.5) -> None:\n",
        "        self.k = k  # smoothing factor\n",
        "\n",
        "        self.tokens: Set[str] = set()\n",
        "        self.token_spam_counts: Dict[str, int] = defaultdict(int)\n",
        "        self.token_ham_counts: Dict[str, int] = defaultdict(int)\n",
        "        self.spam_messages = self.ham_messages = 0\n",
        "\n",
        "      def train(self, messages: Iterable[Message]) -> None:\n",
        "        for message in messages:\n",
        "            # Increment message counts\n",
        "            if message.is_spam:\n",
        "                self.spam_messages += 1\n",
        "            else:\n",
        "                self.ham_messages += 1\n",
        "\n",
        "            # Increment word counts\n",
        "            for token in tokenize(message.text):\n",
        "                self.tokens.add(token)\n",
        "                if message.is_spam:\n",
        "                    self.token_spam_counts[token] += 1\n",
        "                else:\n",
        "                    self.token_ham_counts[token] += 1\n",
        "\n",
        "      def _probabilities(self, token: str) -> Tuple[float, float]:\n",
        "        \"\"\"returns P(token | spam) and P(token | not spam)\"\"\"\n",
        "        spam = self.token_spam_counts[token]\n",
        "        ham = self.token_ham_counts[token]\n",
        "\n",
        "        p_token_spam = (spam + self.k) / (self.spam_messages + 2 * self.k)\n",
        "        p_token_ham = (ham + self.k) / (self.ham_messages + 2 * self.k)\n",
        "\n",
        "        return p_token_spam, p_token_ham\n",
        "\n",
        "      def predict(self, text: str) -> float:\n",
        "        text_tokens = tokenize(text)\n",
        "        log_prob_if_spam = log_prob_if_ham = 0.0\n",
        "\n",
        "        # Iterate through each word in our vocabulary.\n",
        "        for token in self.tokens:\n",
        "            prob_if_spam, prob_if_ham = self._probabilities(token)\n",
        "\n",
        "            # If *token* appears in the message,\n",
        "            # add the log probability of seeing it;\n",
        "            if token in text_tokens:\n",
        "                log_prob_if_spam += math.log(prob_if_spam)\n",
        "                log_prob_if_ham += math.log(prob_if_ham)\n",
        "\n",
        "            # otherwise add the log probability of _not_ seeing it\n",
        "            # which is log(1 - probability of seeing it)\n",
        "            else:\n",
        "                log_prob_if_spam += math.log(1.0 - prob_if_spam)\n",
        "                log_prob_if_ham += math.log(1.0 - prob_if_ham)\n",
        "\n",
        "        prob_if_spam = math.exp(log_prob_if_spam)\n",
        "        prob_if_ham = math.exp(log_prob_if_ham)\n",
        "        return prob_if_spam / (prob_if_spam + prob_if_ham)\n",
        "\n",
        "messages = [Message(\"spam rules\", is_spam=True),\n",
        "Message(\"ham rules\", is_spam=False),\n",
        "Message(\"hello ham\", is_spam=False)]\n",
        "\n",
        "model = NaiveBayesClassifier(k = 0.5)\n",
        "model.train(messages)\n",
        "\n",
        "text = \"hello spam\"\n",
        "\n",
        "probs_if_spam = [\n",
        "    (1 + 0.5) / (1 + 2 * 0.5),      # \"spam\"  (present)\n",
        "    1 - (0 + 0.5) / (1 + 2 * 0.5),  # \"ham\"   (not present)\n",
        "    1 - (1 + 0.5) / (1 + 2 * 0.5),  # \"rules\" (not present)\n",
        "    (0 + 0.5) / (1 + 2 * 0.5)       # \"hello\" (present)\n",
        "]\n",
        "\n",
        "probs_if_ham = [\n",
        "    (0 + 0.5) / (2 + 2 * 0.5),      # \"spam\"  (present)\n",
        "    1 - (2 + 0.5) / (2 + 2 * 0.5),  # \"ham\"   (not present)\n",
        "    1 - (1 + 0.5) / (2 + 2 * 0.5),  # \"rules\" (not present)\n",
        "    (1 + 0.5) / (2 + 2 * 0.5),      # \"hello\" (present)\n",
        "]\n",
        "\n",
        "p_if_spam = math.exp(sum(math.log(p) for p in probs_if_spam))\n",
        "p_if_ham = math.exp(sum(math.log(p) for p in probs_if_ham))\n",
        "\n",
        "# Should be about 0.83\n",
        "assert model.predict(text) == p_if_spam / (p_if_spam + p_if_ham)"
      ],
      "metadata": {
        "id": "Dn0UZt76wVAt"
      },
      "execution_count": null,
      "outputs": []
    },
    {
      "cell_type": "markdown",
      "source": [
        "Tes ini lolos, jadi sepertinya model kita melakukan apa yang kita pikirkan. Jika Anda melihat probabilitas sebenarnya, dua pendorong besar adalah bahwa pesan kita berisi spam (yang dilakukan oleh satu-satunya pesan spam pelatihan kita) dan tidak mengandung ham (yang dilakukan oleh kedua pesan ham pelatihan kita). Sekarang mari kita coba pada beberapa data nyata."
      ],
      "metadata": {
        "id": "49vVdislxDBp"
      }
    },
    {
      "cell_type": "markdown",
      "source": [
        "##Menggunakan Model Kita"
      ],
      "metadata": {
        "id": "nTBWBEl8xQ-a"
      }
    },
    {
      "cell_type": "markdown",
      "source": [
        "Kumpulan data yang populer (jika agak lama) adalah korpus publik SpamAssassin. Kita akan melihat file yang diawali dengan *20021010*.\n",
        "\n",
        "Berikut adalah skrip yang akan mengunduh dan mengekstraknya ke direktori pilihan Anda (atau Anda dapat melakukannya secara manual):"
      ],
      "metadata": {
        "id": "--r1IO_UxX17"
      }
    },
    {
      "cell_type": "code",
      "source": [
        "from io import BytesIO # So we can treat bytes as a file.\n",
        "import requests # To download the files, which\n",
        "import tarfile # are in .tar.bz format.\n",
        "\n",
        "BASE_URL = \"https://spamassassin.apache.org/old/publiccorpus\"\n",
        "FILES = [\"20021010_easy_ham.tar.bz2\",\n",
        "         \"20021010_hard_ham.tar.bz2\",\n",
        "         \"20021010_spam.tar.bz2\"]\n",
        "\n",
        "# This is where the data will end up,\n",
        "# in /spam, /easy_ham, and /hard_ham subdirectories.\n",
        "# Change this to where you want the data.\n",
        "OUTPUT_DIR = 'spam_data'\n",
        "\n",
        "for filename in FILES:\n",
        "    # Use requests to get the file contents at each URL.\n",
        "    content = requests.get(f\"{BASE_URL}/{filename}\").content\n",
        "\n",
        "    # Wrap the in-memory bytes so we can use them as a \"file.\"\n",
        "    fin = BytesIO(content)\n",
        "\n",
        "    # And extract all the files to the specified output dir.\n",
        "    with tarfile.open(fileobj=fin, mode='r:bz2') as tf:\n",
        "        tf.extractall(OUTPUT_DIR)"
      ],
      "metadata": {
        "id": "71UGT7hsyDjR"
      },
      "execution_count": null,
      "outputs": []
    },
    {
      "cell_type": "markdown",
      "source": [
        "Ada kemungkinan lokasi file akan berubah (ini terjadi antara edisi pertama dan kedua buku ini), dalam hal ini sesuaikan skripnya.\n",
        "\n",
        "Setelah mengunduh data, Anda akan memiliki tiga folder: spam, easy_ham, dan hard_ham. Setiap folder berisi banyak email, masing-masing terdapat dalam satu file. Untuk membuatnya sangat sederhana, kita hanya akan melihat baris subjek dari setiap email.\n",
        "\n",
        "Bagaimana kita mengidentifikasi baris subjek? Saat kita melihat-lihat file, semuanya tampak dimulai dengan \"Subjek:\". Jadi kita akan mencarinya:"
      ],
      "metadata": {
        "id": "q_3muy5MyypM"
      }
    },
    {
      "cell_type": "code",
      "source": [
        "def main():\n",
        "    import glob, re\n",
        "\n",
        "    # modify the path to wherever you've put the files\n",
        "    path = 'spam_data/*/*'\n",
        "\n",
        "    data: List[Message] = []\n",
        "\n",
        "    # glob.glob returns every filename that matches the wildcarded path\n",
        "    for filename in glob.glob(path):\n",
        "        is_spam = \"ham\" not in filename\n",
        "\n",
        "        # There are some garbage characters in the emails, the errors='ignore'\n",
        "        # skips them instead of raising an exception.\n",
        "        with open(filename, errors='ignore') as email_file:\n",
        "            for line in email_file:\n",
        "                if line.startswith(\"Subject:\"):\n",
        "                    subject = line.lstrip(\"Subject: \")\n",
        "                    data.append(Message(subject, is_spam))\n",
        "                    break  # done with this file"
      ],
      "metadata": {
        "id": "YIAOo6qlzYQv"
      },
      "execution_count": null,
      "outputs": []
    },
    {
      "cell_type": "markdown",
      "source": [
        "Sekarang kita dapat membagi data menjadi data pelatihan dan data pengujian, lalu kita siap membuat pengklasifikasi:"
      ],
      "metadata": {
        "id": "YCO5JZW6zxIT"
      }
    },
    {
      "cell_type": "code",
      "source": [
        "import random\n",
        "from typing import TypeVar, List, Tuple, Dict, Iterable\n",
        "from collections import Counter\n",
        "import math\n",
        "from collections import defaultdict\n",
        "X = TypeVar('X')  # generic type to represent a data point\n",
        "\n",
        "class NaiveBayesClassifier:\n",
        "      def tokenize(text: str) -> Set[str]:\n",
        "        text = text.lower()                         # Convert to lowercase,\n",
        "        all_words = re.findall(\"[a-z0-9']+\", text)  # extract the words, and\n",
        "        return set(all_words)                       # remove duplicates.\n",
        "\n",
        "      def __init__(self, k: float = 0.5) -> None:\n",
        "        text: str\n",
        "        self.k = k  # smoothing factor\n",
        "\n",
        "        self.tokens: Set[str] = set()\n",
        "        self.token_spam_counts: Dict[str, int] = defaultdict(int)\n",
        "        self.token_ham_counts: Dict[str, int] = defaultdict(int)\n",
        "        self.spam_messages = self.ham_messages = 0\n",
        "\n",
        "      def main():\n",
        "        is_spam: bool\n",
        "        import glob, re\n",
        "\n",
        "        # modify the path to wherever you've put the files\n",
        "        path = 'spam_data/*/*'\n",
        "\n",
        "        data: List[Message] = []\n",
        "\n",
        "        # glob.glob returns every filename that matches the wildcarded path\n",
        "        for filename in glob.glob(path):\n",
        "            is_spam = \"ham\" not in filename\n",
        "\n",
        "        # There are some garbage characters in the emails, the errors='ignore'\n",
        "        # skips them instead of raising an exception.\n",
        "        with open(filename, errors='ignore') as email_file:\n",
        "            for line in email_file:\n",
        "                if line.startswith(\"Subject:\"):\n",
        "                    subject = line.lstrip(\"Subject: \")\n",
        "                    data.append(Message(subject, is_spam))\n",
        "                    break  # done with this file\n",
        "\n",
        "      def train(self, messages: Iterable[Message]) -> None:\n",
        "        for message in messages:\n",
        "            # Increment message counts\n",
        "            if  message.is_spam:\n",
        "                self.spam_messages += 1\n",
        "            else:\n",
        "                self.ham_messages += 1\n",
        "\n",
        "            # Increment word counts\n",
        "            for token in tokenize(message.text):\n",
        "                self.tokens.add(token)\n",
        "                if message.is_spam:\n",
        "                    self.token_spam_counts[token] += 1\n",
        "                else:\n",
        "                    self.token_ham_counts[token] += 1\n",
        "\n",
        "      def _probabilities(self, token: str) -> Tuple[float, float]:\n",
        "        \"\"\"returns P(token | spam) and P(token | not spam)\"\"\"\n",
        "        spam = self.token_spam_counts[token]\n",
        "        ham = self.token_ham_counts[token]\n",
        "\n",
        "        p_token_spam = (spam + self.k) / (self.spam_messages + 2 * self.k)\n",
        "        p_token_ham = (ham + self.k) / (self.ham_messages + 2 * self.k)\n",
        "\n",
        "        return p_token_spam, p_token_ham\n",
        "\n",
        "      def predict(self, text: str) -> float:\n",
        "        text_tokens = tokenize(text)\n",
        "        log_prob_if_spam = log_prob_if_ham = 0.0\n",
        "\n",
        "        # Iterate through each word in our vocabulary.\n",
        "        for token in self.tokens:\n",
        "            prob_if_spam, prob_if_ham = self._probabilities(token)\n",
        "\n",
        "            # If *token* appears in the message,\n",
        "            # add the log probability of seeing it;\n",
        "            if token in text_tokens:\n",
        "                log_prob_if_spam += math.log(prob_if_spam)\n",
        "                log_prob_if_ham += math.log(prob_if_ham)\n",
        "\n",
        "            # otherwise add the log probability of _not_ seeing it\n",
        "            # which is log(1 - probability of seeing it)\n",
        "            else:\n",
        "                log_prob_if_spam += math.log(1.0 - prob_if_spam)\n",
        "                log_prob_if_ham += math.log(1.0 - prob_if_ham)\n",
        "\n",
        "        prob_if_spam = math.exp(log_prob_if_spam)\n",
        "        prob_if_ham = math.exp(log_prob_if_ham)\n",
        "        return prob_if_spam / (prob_if_spam + prob_if_ham)\n",
        "\n",
        "      def split_data(data: List[X], prob: float) -> Tuple[List[X], List[X]]:\n",
        "        \"\"\"Split data into fractions [prob, 1 - prob]\"\"\"\n",
        "        data = data[:]                    # Make a shallow copy\n",
        "        random.shuffle(data)              # because shuffle modifies the list.\n",
        "        cut = int(len(data) * prob)       # Use prob to find a cutoff\n",
        "        return data[:cut], data[cut:]     # and split the shuffled list there.\n",
        "\n",
        "data = [n for n in range(1000)]\n",
        "\n",
        "random.seed(0) # just so you get the same answers as me\n",
        "train_messages, test_messages = split_data(data, 0.75)\n",
        "\n",
        "model = NaiveBayesClassifier()\n",
        "model.train(train_messages)\n",
        "\n",
        "predictions = [(message, model.predict(message.text))\n",
        "              for message in test_messages]\n",
        "\n",
        "# Assume that spam_probability > 0.5 corresponds to spam prediction\n",
        "# and count the combinations of (actual is_spam, predicted is_spam)\n",
        "confusion_matrix = Counter((message.is_spam, spam_probability > 0.5)\n",
        "                          for message, spam_probability in predictions)\n",
        "\n",
        "print(confusion_matrix)"
      ],
      "metadata": {
        "id": "IazO9JK_z7CS",
        "colab": {
          "base_uri": "https://localhost:8080/",
          "height": 356
        },
        "outputId": "230ca543-07ff-4bbc-c6f7-493f86ca5beb"
      },
      "execution_count": null,
      "outputs": [
        {
          "output_type": "error",
          "ename": "AttributeError",
          "evalue": "ignored",
          "traceback": [
            "\u001b[0;31m---------------------------------------------------------------------------\u001b[0m",
            "\u001b[0;31mAttributeError\u001b[0m                            Traceback (most recent call last)",
            "\u001b[0;32m<ipython-input-115-6b117e46651e>\u001b[0m in \u001b[0;36m<cell line: 115>\u001b[0;34m()\u001b[0m\n\u001b[1;32m    113\u001b[0m \u001b[0;34m\u001b[0m\u001b[0m\n\u001b[1;32m    114\u001b[0m \u001b[0mmodel\u001b[0m \u001b[0;34m=\u001b[0m \u001b[0mNaiveBayesClassifier\u001b[0m\u001b[0;34m(\u001b[0m\u001b[0;34m)\u001b[0m\u001b[0;34m\u001b[0m\u001b[0;34m\u001b[0m\u001b[0m\n\u001b[0;32m--> 115\u001b[0;31m \u001b[0mmodel\u001b[0m\u001b[0;34m.\u001b[0m\u001b[0mtrain\u001b[0m\u001b[0;34m(\u001b[0m\u001b[0mtrain_messages\u001b[0m\u001b[0;34m)\u001b[0m\u001b[0;34m\u001b[0m\u001b[0;34m\u001b[0m\u001b[0m\n\u001b[0m\u001b[1;32m    116\u001b[0m \u001b[0;34m\u001b[0m\u001b[0m\n\u001b[1;32m    117\u001b[0m predictions = [(message, model.predict(message.text))\n",
            "\u001b[0;32m<ipython-input-115-6b117e46651e>\u001b[0m in \u001b[0;36mtrain\u001b[0;34m(self, messages)\u001b[0m\n\u001b[1;32m     53\u001b[0m             \u001b[0mself\u001b[0m\u001b[0;34m.\u001b[0m\u001b[0mspam_messages\u001b[0m \u001b[0;34m=\u001b[0m \u001b[0mself\u001b[0m\u001b[0;34m.\u001b[0m\u001b[0mham_messages\u001b[0m \u001b[0;34m=\u001b[0m \u001b[0;36m0\u001b[0m\u001b[0;34m\u001b[0m\u001b[0;34m\u001b[0m\u001b[0m\n\u001b[1;32m     54\u001b[0m             \u001b[0;31m# Increment message counts\u001b[0m\u001b[0;34m\u001b[0m\u001b[0;34m\u001b[0m\u001b[0m\n\u001b[0;32m---> 55\u001b[0;31m             \u001b[0;32mif\u001b[0m  \u001b[0mmessage\u001b[0m\u001b[0;34m.\u001b[0m\u001b[0mis_spam\u001b[0m\u001b[0;34m:\u001b[0m\u001b[0;34m\u001b[0m\u001b[0;34m\u001b[0m\u001b[0m\n\u001b[0m\u001b[1;32m     56\u001b[0m                 \u001b[0mself\u001b[0m\u001b[0;34m.\u001b[0m\u001b[0mspam_messages\u001b[0m \u001b[0;34m+=\u001b[0m \u001b[0;36m1\u001b[0m\u001b[0;34m\u001b[0m\u001b[0;34m\u001b[0m\u001b[0m\n\u001b[1;32m     57\u001b[0m             \u001b[0;32melse\u001b[0m\u001b[0;34m:\u001b[0m\u001b[0;34m\u001b[0m\u001b[0;34m\u001b[0m\u001b[0m\n",
            "\u001b[0;31mAttributeError\u001b[0m: 'int' object has no attribute 'is_spam'"
          ]
        }
      ]
    },
    {
      "cell_type": "markdown",
      "source": [
        "Ini memberikan 84 positif benar (spam diklasifikasikan sebagai \"spam\"), 25 positif palsu (ham diklasifikasikan sebagai \"spam\"), 703 negatif benar (ham diklasifikasikan sebagai \"ham\"), dan 44 negatif palsu (spam diklasifikasikan sebagai \"ham\") . Ini berarti presisi kita adalah 84 / (84 + 25) = 77%, dan penarikan kita adalah 84 / (84 + 44) = 65%, yang bukan angka buruk untuk model sederhana seperti itu. (Agaknya kita akan melakukan yang lebih baik jika kita melihat\n",
        "lebih dari baris subjek.)\n",
        "\n",
        "Kita juga dapat memeriksa jeroan model untuk melihat kata mana yang paling sedikit dan paling menunjukkan spam:"
      ],
      "metadata": {
        "id": "CmIVD0Hm0xa7"
      }
    },
    {
      "cell_type": "code",
      "source": [
        "def p_spam_given_token(token: str, model: NaiveBayesClassifier) -> float:\n",
        "    # We probably shouldn't call private methods, but it's for a good cause.\n",
        "    prob_if_spam, prob_if_ham = model._probabilities(token)\n",
        "\n",
        "    return prob_if_spam / (prob_if_spam + prob_if_ham)\n",
        "\n",
        "words = sorted(model.tokens, key=lambda t: p_spam_given_token(t, model))\n",
        "\n",
        "print(\"spammiest_words\", words[-10:])\n",
        "print(\"hammiest_words\", words[:10])"
      ],
      "metadata": {
        "id": "QkZxDi4u1Vuj",
        "colab": {
          "base_uri": "https://localhost:8080/"
        },
        "outputId": "6cc85a0c-723b-449c-bdfa-f418d1144316"
      },
      "execution_count": null,
      "outputs": [
        {
          "output_type": "stream",
          "name": "stdout",
          "text": [
            "spammiest_words ['ham', 'hello', 'rules', 'spam']\n",
            "hammiest_words ['ham', 'hello', 'rules', 'spam']\n"
          ]
        }
      ]
    },
    {
      "cell_type": "markdown",
      "source": [
        "Kata-kata paling spam mencakup hal-hal seperti penjualan, hipotek, uang, dan tarif, sedangkan kata-kata paling kotor mencakup hal-hal seperti spambayes, pengguna, apt, dan perl. Jadi itu juga memberi kita keyakinan intuitif bahwa model kita pada dasarnya melakukan hal yang benar.\n",
        "\n",
        "Bagaimana kita bisa mendapatkan kinerja yang lebih baik? Salah satu cara yang jelas adalah mendapatkan lebih banyak data untuk dilatih. Ada sejumlah cara untuk meningkatkan model juga. Berikut adalah beberapa kemungkinan yang dapat Anda coba:\n",
        "\n",
        "\n",
        "\n",
        "*   Perhatikan isi pesannya, bukan hanya baris subjeknya. Anda harus berhati-hati dalam menangani header pesan.\n",
        "\n",
        "*   Pengklasifikasi kami memperhitungkan setiap kata yang muncul di set pelatihan, bahkan kata yang muncul hanya sekali. Ubah pengklasifikasi untuk menerima ambang min_count opsional dan abaikan token yang tidak muncul setidaknya berkali-kali.\n",
        "*   Tokenizer tidak memiliki gagasan tentang kata-kata yang mirip (mis., Murah dan termurah). Ubah pengklasifikasi untuk mengambil fungsi stemmer opsional yang mengonversi kata menjadi kelas ekuivalen kata. Misalnya, fungsi stemmer yang sangat sederhana adalah:\n",
        "\n",
        "\n",
        "\n"
      ],
      "metadata": {
        "id": "fkGAck131iNn"
      }
    },
    {
      "cell_type": "code",
      "source": [
        "def drop_final_s(word):\n",
        "    return re.sub(\"s$\", \"\", word)\n"
      ],
      "metadata": {
        "id": "jUc69AUo3Bk9"
      },
      "execution_count": null,
      "outputs": []
    },
    {
      "cell_type": "markdown",
      "source": [
        "Membuat fungsi stemmer yang baik itu sulit. Orang sering menggunakan stemmer Porter.\n",
        "\n",
        "\n",
        "*   Meskipun semua fitur kita berbentuk \"pesan berisi kata\", tidak ada alasan mengapa hal ini harus terjadi. Dalam implementasi, kita dapat menambahkan fitur tambahan seperti \"pesan berisi nomor\" dengan membuat token palsu seperti berisi: nomor dan memodifikasi tokenizer untuk memancarkannya jika perlu.\n",
        "\n",
        "\n"
      ],
      "metadata": {
        "id": "RoYLRcR83K3H"
      }
    },
    {
      "cell_type": "markdown",
      "source": [
        "##Untuk Eksplorasi Lebih Lanjut"
      ],
      "metadata": {
        "id": "g3wA52l13pzW"
      }
    },
    {
      "cell_type": "markdown",
      "source": [
        "\n",
        "\n",
        "*   Artikel Paul Graham “A Plan for Spam” dan “Better Bayesian Filtering” menarik dan memberikan lebih banyak wawasan tentang ide di balik pembuatan filter spam.\n",
        "*   scikit-learn berisi model BernoulliNB yang mengimplementasikan algoritma Naive Bayes yang sama dengan yang kita terapkan di sini, serta variasi model lainnya.\n",
        "\n"
      ],
      "metadata": {
        "id": "GVauuhjv30Tk"
      }
    },
    {
      "cell_type": "markdown",
      "source": [
        "# Bab 13 Regresi Linear Berganda\n",
        "Ananda Ravi Shouma Setyawan 4112321004 \\\\\n",
        "Novia Rahmadini 4112321024\n",
        "\n",
        "Dalam Bab 5, kita menggunakan fungsi korelasi untuk mengukur kekuatan hubungan linier antara dua variabel. Untuk sebagian besar aplikasi, mengetahui bahwa hubungan linier seperti itu tidak ada cukup. Kita ingin memahami sifat hubungan. Di sinilah kita akan menggunakan linier sederhana regresi.\n"
      ],
      "metadata": {
        "id": "IIqOYJB0pUv7"
      }
    },
    {
      "cell_type": "markdown",
      "source": [
        "## Model\n",
        "\n",
        "Ingatlah bahwa kami sedang menyelidiki hubungan antara jumlah pengguna DataSciencester dari teman dan jumlah waktu yang dihabiskan pengguna di situs setiap hari. Anggaplah Anda pernah yakinkan diri Anda bahwa memiliki lebih banyak teman menyebabkan orang menghabiskan lebih banyak waktu di situs, bukan salah satu penjelasan alternatif yang kita bahas. VP of Engagement meminta Anda membuat model yang menggambarkan hubungan ini. Sejak Anda menemukan a\n",
        "hubungan linier yang cukup kuat, tempat alami untuk memulai adalah model linier. Secara khusus, Anda berhipotesis bahwa ada konstanta $\\alpha$ (alpha) dan $\\beta$ (beta) sedemikian rupa\n",
        "\n",
        "\n",
        "$$y_{i}=\\beta x_{i}+\\alpha + \\varepsilon _{i}$$\n",
        "\n",
        "di mana $y_{i}$ jumlah menit pengguna yang saya habiskan di situs setiap hari, adalah jumlah pengguna teman yang saya miliki, dan $\\varepsilon $ adalah istilah kesalahan (semoga kecil) yang mewakili fakta bahwa ada faktor lain yang tidak diperhitungkan\n",
        "karena dengan model sederhana ini.\n",
        "\n",
        "Dengan asumsi kami telah menentukan alfa dan beta seperti itu, maka kami membuat prediksi hanya dengan:\n"
      ],
      "metadata": {
        "id": "V9PW4hnepkk8"
      }
    },
    {
      "cell_type": "code",
      "source": [
        "def predict(alpha: float, beta: float, x_i: float) -> float:\n",
        "    return beta * x_i + alpha"
      ],
      "metadata": {
        "id": "Uq5O3Q3Qpp-j"
      },
      "execution_count": null,
      "outputs": []
    },
    {
      "cell_type": "markdown",
      "source": [
        "Bagaimana kita memilih alfa dan beta? Nah, setiap pilihan alfa dan beta memberi kita hasil yang diprediksi untuk setiap masukan $x_i$. Karena kita mengetahui keluaran aktual $y_i$, kita dapat menghitung kesalahan untuk setiap pasangan:"
      ],
      "metadata": {
        "id": "969iXQycp0ny"
      }
    },
    {
      "cell_type": "code",
      "source": [
        "def error(alpha: float, beta: float, x_i: float, y_i: float) -> float:\n",
        "    \"\"\"\n",
        "    The error from predicting beta * x_i + alpha\n",
        "    when the actual value is y_i\n",
        "    \"\"\"\n",
        "    return predict(alpha, beta, x_i) - y_i"
      ],
      "metadata": {
        "id": "XVYiqYjUp876"
      },
      "execution_count": null,
      "outputs": []
    },
    {
      "cell_type": "markdown",
      "source": [
        "Yang benar-benar ingin kami ketahui adalah kesalahan total di seluruh kumpulan data. Namun kami tidak ingin hanya menambahkan kesalahan—jika prediksi untuk $x_1$ terlalu tinggi dan prediksi untuk $x_2$ terlalu rendah, kesalahan dapat terjadi batalkan saja.\n",
        "\n",
        "Jadi alih-alih kami menjumlahkan kesalahan kuadrat:"
      ],
      "metadata": {
        "id": "or1dl-NdqHpo"
      }
    },
    {
      "cell_type": "code",
      "source": [
        "from scratch.linear_algebra import Vector\n",
        "\n",
        "def sum_of_sqerrors(alpha: float, beta: float, x: Vector, y: Vector) -> float:\n",
        "    return sum(error(alpha, beta, x_i, y_i) ** 2\n",
        "              for x_i, y_i in zip(x, y))"
      ],
      "metadata": {
        "id": "i2grVbKOqVNi"
      },
      "execution_count": null,
      "outputs": []
    },
    {
      "cell_type": "markdown",
      "source": [
        "Solusi kuadrat terkecil adalah memilih alfa dan beta yang membuat jumlah_kesalahan_persegi sekecil\n",
        "mungkin. Menggunakan kalkulus (atau aljabar yang membosankan), alfa dan beta yang meminimalkan kesalahan diberikan oleh:"
      ],
      "metadata": {
        "id": "UceudR4_qu0b"
      }
    },
    {
      "cell_type": "code",
      "source": [
        "from typing import Tuple\n",
        "from scratch.linear_algebra import Vector\n",
        "from scratch.statistics import correlation, standard_deviation, mean\n",
        "\n",
        "def least_squares_fit(x: Vector, y: Vector) -> Tuple[float, float]:\n",
        "    \"\"\"\n",
        "    Given two vectors x and y,\n",
        "    find the least-squares values of alpha and beta\n",
        "    \"\"\"\n",
        "    beta = correlation(x, y) * standard_deviation(y) / standard_deviation(x)\n",
        "    alpha = mean(y) - beta * mean(x)\n",
        "    return alpha, beta"
      ],
      "metadata": {
        "id": "YX0Y5zxLqxQf"
      },
      "execution_count": null,
      "outputs": []
    },
    {
      "cell_type": "markdown",
      "source": [
        "Tanpa melalui matematika yang tepat, mari kita pikirkan mengapa ini masuk akal larutan. Pilihan alpha hanya mengatakan bahwa ketika kita melihat nilai rata-rata independen variabel $x$, kami memprediksi nilai rata-rata dari variabel dependen y.\n",
        "Pilihan beta berarti bahwa ketika nilai input meningkat dengan deviasi_standar$(x)$, itu\n",
        "prediksi kemudian meningkat dengan korelasi $(x, y) * deviasi_standar (y)$. Dalam kasus di mana $x$ dan $y$ berkorelasi sempurna, peningkatan satu standar deviasi dalam x menghasilkan peningkatan satu standar deviasi dari $y$ dalam prediksi. Ketika mereka antikorelasi sempurna, peningkatan $x$ mengakibatkan penurunan prediksi. Dan ketika korelasinya $0$, beta adalah $0$, yang artinya perubahan $x$ tidak mempengaruhi prediksi sama sekali.\n",
        "Seperti biasa, mari tulis tes cepat untuk ini:"
      ],
      "metadata": {
        "id": "KFpDbaESq3vM"
      }
    },
    {
      "cell_type": "code",
      "source": [
        "x = [i for i in range(-100, 110, 10)]\n",
        "y = [3 * i - 5 for i in x]\n",
        "\n",
        "# Should find that y = 3x - 5\n",
        "assert least_squares_fit(x, y) == (-5, 3)"
      ],
      "metadata": {
        "id": "U_Le5XkjrNwy"
      },
      "execution_count": null,
      "outputs": []
    },
    {
      "cell_type": "markdown",
      "source": [
        "Sekarang mudah untuk menerapkan ini pada data outlier dari Bab 5"
      ],
      "metadata": {
        "id": "-NN80Dv2rReJ"
      }
    },
    {
      "cell_type": "code",
      "source": [
        "from scratch.statistics import num_friends_good, daily_minutes_good\n",
        "\n",
        "alpha, beta = least_squares_fit(num_friends_good, daily_minutes_good)\n",
        "assert 22.9 < alpha < 23.0\n",
        "assert 0.9 < beta < 0.905"
      ],
      "metadata": {
        "id": "Th7boK5irVZD"
      },
      "execution_count": null,
      "outputs": []
    },
    {
      "cell_type": "markdown",
      "source": [
        "Ini memberikan nilai $alpha = 22,95$ dan $beta = 0,903$. Jadi model kami mengatakan bahwa kami mengharapkan pengguna dengan $n$ teman menghabiskan $22,95 + n * 0,903$ menit di situs setiap hari. Artinya, kami memperkirakan bahwa pengguna dengan tidak ada teman di DataSciencester yang masih menghabiskan sekitar 23 menit sehari di situs ini. Dan untuk masing-masing teman tambahan, kami berharap pengguna menghabiskan hampir satu menit lebih banyak di situs setiap hari.\n",
        "\n",
        "> Pemblokiran indentasi\n",
        "\n",
        "\n",
        "Pada Gambar 14-1, kami memplot garis prediksi untuk mengetahui seberapa cocok model dengan yang diamati\n",
        "data."
      ],
      "metadata": {
        "id": "U7ajJ7gdragc"
      }
    },
    {
      "cell_type": "markdown",
      "source": [
        "Tentu saja, kami membutuhkan cara yang lebih baik untuk mengetahui seberapa baik kami mencocokkan data daripada hanya melihat grafik. A\n",
        "ukuran umum adalah koefisien determinasi (atau R-kuadrat), yang mengukur pecahan dari\n",
        "variasi total dalam variabel dependen yang ditangkap oleh model:"
      ],
      "metadata": {
        "id": "JMKJofp5rs31"
      }
    },
    {
      "cell_type": "code",
      "source": [
        "from scratch.statistics import de_mean\n",
        "\n",
        "def total_sum_of_squares(y: Vector) -> float:\n",
        "    \"\"\"the total squared variation of y_i's from their mean\"\"\"\n",
        "    return sum(v ** 2 for v in de_mean(y))\n",
        "\n",
        "def r_squared(alpha: float, beta: float, x: Vector, y: Vector) -> float:\n",
        "    \"\"\"\n",
        "    the fraction of variation in y captured by the model, which equals\n",
        "    1 - the fraction of variation in y not captured by the model\n",
        "    \"\"\"\n",
        "    return 1.0 - (sum_of_sqerrors(alpha, beta, x, y) /\n",
        "                  total_sum_of_squares(y))\n",
        "\n",
        "rsq = r_squared(alpha, beta, num_friends_good, daily_minutes_good)\n",
        "assert 0.328 < rsq < 0.330"
      ],
      "metadata": {
        "id": "-goDNYTzrvkg"
      },
      "execution_count": null,
      "outputs": []
    },
    {
      "cell_type": "markdown",
      "source": [
        "Ingatlah bahwa kami memilih alfa dan beta yang meminimalkan jumlah kesalahan prediksi kuadrat. A\n",
        "model linier yang bisa kita pilih adalah \"selalu prediksi rata-rata$(y)$\" (sesuai dengan alfa = rata-rata$(y)$\n",
        "dan beta = $0$), yang jumlah kesalahan kuadratnya persis sama dengan jumlah kuadrat totalnya. Ini berarti Rsquared dari $0$, yang menunjukkan model yang (jelas, dalam hal ini) tidak lebih baik dari sekedar memprediksi rata-rata.\n",
        "Jelas, model kuadrat terkecil harus setidaknya sama baiknya dengan yang itu, yang berarti jumlah dari\n",
        "kuadrat kesalahan paling banyak adalah jumlah total kuadrat, yang berarti bahwa R-kuadrat harus minimal $0$.\n",
        "Dan jumlah kesalahan kuadrat harus minimal $0$, yang berarti R-kuadrat bisa paling banyak $1$.\n",
        "Semakin tinggi angkanya, semakin baik model kita sesuai dengan data. Di sini kita menghitung R-kuadrat dari $0,329$, yang memberi tahu kita bahwa model kita cukup baik dalam menyesuaikan data, dan jelas ada yang lain faktor yang berperan"
      ],
      "metadata": {
        "id": "x-NnH6d3r-bq"
      }
    },
    {
      "cell_type": "markdown",
      "source": [
        "## Menggunakan Penurunan Gradien\n",
        "Jika kita menulis theta = $[alpha, beta]$, kita juga bisa menyelesaikan ini menggunakan gradient descent:\n"
      ],
      "metadata": {
        "id": "he4FhQicsRiO"
      }
    },
    {
      "cell_type": "code",
      "source": [
        "import random\n",
        "import tqdm\n",
        "from scratch.gradient_descent import gradient_step\n",
        "\n",
        "num_epochs = 10000\n",
        "random.seed(0)\n",
        "\n",
        "guess = [random.random(), random.random()] # choose random value to start\n",
        "\n",
        "learning_rate = 0.00001\n",
        "\n",
        "with tqdm.trange(num_epochs) as t:\n",
        "    for _ in t:\n",
        "        alpha, beta = guess\n",
        "\n",
        "    # Partial derivative of loss with respect to alpha\n",
        "    grad_a = sum(2 * error(alpha, beta, x_i, y_i)\n",
        "                for x_i, y_i in zip(num_friends_good,\n",
        "                                    daily_minutes_good))\n",
        "\n",
        "    # Partial derivative of loss with respect to beta\n",
        "    grad_b = sum(2 * error(alpha, beta, x_i, y_i) * x_i\n",
        "                for x_i, y_i in zip(num_friends_good,\n",
        "                                    daily_minutes_good))\n",
        "\n",
        "    # Compute loss to stick in the tqdm description\n",
        "    loss = sum_of_sqerrors(alpha, beta,\n",
        "                            num_friends_good, daily_minutes_good)\n",
        "    t.set_description(f\"loss: {loss:.3f}\")\n",
        "\n",
        "    # Finally, update the guess\n",
        "    guess = gradient_step(guess, [grad_a, grad_b], -learning_rate)\n",
        "\n",
        "# We should get pretty much the same results:\n",
        "alpha, beta = guess\n",
        "assert 22.9 < alpha < 23.0\n",
        "assert 0.9 < beta < 0.905"
      ],
      "metadata": {
        "id": "WGk2B_Adsf0E"
      },
      "execution_count": null,
      "outputs": []
    },
    {
      "cell_type": "markdown",
      "source": [
        "Jika Anda menjalankan ini, Anda akan mendapatkan nilai yang sama untuk alfa dan beta seperti yang kami lakukan menggunakan rumus yang tepat."
      ],
      "metadata": {
        "id": "l1Zym1ZMML3X"
      }
    },
    {
      "cell_type": "markdown",
      "source": [
        "## Estimasi Kemungkinan Maksimum\n",
        "Mengapa memilih kuadrat terkecil? Satu pembenaran melibatkan estimasi kemungkinan maksimum. Bayangkan itu kita memiliki sampel data $v_{1},...,v_{n}$ yang berasal dari distribusi yang bergantung pada beberapa yang tidak diketahui\n",
        "parameter $\\theta$ (theta):\n",
        "\n",
        "$$p(v_{1},...,v_{n}|\\theta)$$\n",
        "\n",
        "Jika kita tidak mengetahui $\\theta$, kita dapat berbalik dan menganggap besaran ini sebagai kemungkinan $\\theta$ diberikan Sampel:\n",
        "\n",
        "$$L(\\theta | v_{1},...,v_{n})$$\n",
        "\n",
        "Di bawah pendekatan ini, $\\theta$ yang paling mungkin adalah nilai yang memaksimalkan fungsi kemungkinan ini—yaitu, the nilai yang membuat data yang diamati paling mungkin. Dalam kasus distribusi kontinu, di yang kita memiliki fungsi distribusi probabilitas daripada fungsi massa probabilitas, bisa kita lakukan hal yang sama\n",
        "\n",
        "Kembali ke regresi. Salah satu asumsi yang sering dibuat tentang model regresi sederhana adalah bahwa kesalahan regresi terdistribusi secara normal dengan rata-rata $\\theta$ dan beberapa deviasi standar (diketahui) $\\sigma$. Jika itu masalahnya, maka kemungkinan berdasarkan melihat pasangan (x_i, y_i) adalah:\n",
        "\n",
        "$$L(\\alpha,\\beta|x_{i},y_{i},\\sigma)=\\frac{1}{\\sqrt{2\\pi \\sigma }}exp(-(y_{i}-\\alpha-\\beta x_{i})^{2}/2\\sigma^{2})$$\n",
        "\n",
        "Kemungkinan berdasarkan seluruh dataset adalah produk dari kemungkinan individu, yaitu terbesar justru ketika alfa dan beta dipilih untuk meminimalkan jumlah kesalahan kuadrat. Artinya, dalam kasus ini (dengan asumsi ini), meminimalkan jumlah kesalahan kuadrat sama dengan memaksimalkan kemungkinan data yang diamati."
      ],
      "metadata": {
        "id": "73Ksny57MdXj"
      }
    },
    {
      "cell_type": "markdown",
      "source": [
        "# Bab 14 Regresi Berganda\n",
        "\n",
        "\n",
        "1.   INDRASWARI PRASETYANINGTYAS 4112321018\n",
        "2.   DIMAS WIDHIATMOKO 4112321025\n",
        "\n",
        "Meskipun VP cukup terkesan dengan model prediksi Anda, dia pikir Anda bisa melakukan yang lebih baik. Untuk itu, Anda telah mengumpulkan data tambahan: Anda tahu berapa jam setiap pengguna Anda bekerja setiap hari, dan apakah mereka memiliki gelar PhD. Anda ingin menggunakan data tambahan ini untuk meningkatkan model Anda. Dengan demikian, Anda berhipotesis model linier dengan variabel yang lebih independen:\n",
        "\n",
        "$$minutes = \\alpha + \\beta _{1}friends + \\beta _{2} work hours + \\beta _{3}phd + \\varepsilon$$\n",
        "\n",
        "Jelas, apakah pengguna memiliki PhD bukanlah angka — tetapi, seperti yang kami sebutkan di Bab 11, kami dapat memperkenalkan variabel dummy yang sama dengan 1 untuk pengguna dengan PhD dan 0 untuk pengguna tanpa, setelah itu hanya numerik sebagai variabel lainnya."
      ],
      "metadata": {
        "id": "yXeh-tuuwRCs"
      }
    },
    {
      "cell_type": "markdown",
      "source": [
        "##Model\n",
        "\n",
        "Ingatlah bahwa dalam Bab 14 kita cocok dengan model bentuk:\n",
        "$$yi=\\alpha +\\beta x_{i}+\\varepsilon _{i}$$\n",
        "\n",
        "Sekarang bayangkan bahwa setiap input $x_{i}$ bukan angka tunggal melainkan vektor angka k, $x_{i1},...,x_{ik}$  Model regresi berganda mengasumsikan bahwa :\n",
        "$$yi=\\alpha +\\beta _{1}x_{i1}+...+\\beta _{k}x_{ik}+\\varepsilon _{i}$$\n",
        "Dalam regresi berganda, vektor parameter biasanya disebut $\\beta$. Kita ingin ini menyertakan istilah konstan juga, yang dapat kita capai dengan menambahkan kolom 1s ke data kita:"
      ],
      "metadata": {
        "id": "5c4J5d6pjKYK"
      }
    },
    {
      "cell_type": "code",
      "source": [
        "beta = [ alpha, beta_1, ..., beta_k]"
      ],
      "metadata": {
        "id": "jd00r5oVl-Ma"
      },
      "execution_count": null,
      "outputs": []
    },
    {
      "cell_type": "markdown",
      "source": [
        "dan"
      ],
      "metadata": {
        "id": "en4hZyjNmAlB"
      }
    },
    {
      "cell_type": "code",
      "source": [
        "x_i = [1, x_i1, ..., x_ik]"
      ],
      "metadata": {
        "id": "TDT3O4olmCgt"
      },
      "execution_count": null,
      "outputs": []
    },
    {
      "cell_type": "markdown",
      "source": [
        "Maka model kami hanyalah:"
      ],
      "metadata": {
        "id": "yoK2osWYmFWp"
      }
    },
    {
      "cell_type": "code",
      "source": [
        "from scratch.linear_algebra import dot, Vector\n",
        "\n",
        "def predict(x: Vector, beta: Vector) -> float:\n",
        "    \"\"\"assumes that the first element of x is 1\"\"\"\n",
        "    return dot(x, beta)"
      ],
      "metadata": {
        "id": "GghJFCpZmKNX"
      },
      "execution_count": null,
      "outputs": []
    },
    {
      "cell_type": "markdown",
      "source": [
        "Dalam kasus khusus ini, variabel independen x kita akan menjadi daftar vektor, yang masing-masing terlihat seperti\n",
        "ini:"
      ],
      "metadata": {
        "id": "HMl2gVefmRdw"
      }
    },
    {
      "cell_type": "code",
      "source": [
        "[1,     # constant term\n",
        " 49,    # number of friends\n",
        " 4,     # work hours per day\n",
        " 0]     # doesn't have PhD"
      ],
      "metadata": {
        "id": "4G6OcbZ1mWu_"
      },
      "execution_count": null,
      "outputs": []
    },
    {
      "cell_type": "markdown",
      "source": [
        "##Asumsi Lebih Lanjut dari Model Kuadrat Terkecil\n",
        "\n",
        "Ada beberapa asumsi lebih lanjut yang diperlukan agar model ini (dan solusi kami) masuk akal.\n",
        "\n",
        "Yang pertama adalah bahwa kolom x independen linier — bahwa tidak ada cara untuk menulis salah satu sebagai jumlah tertimbang dari beberapa yang lain. Jika asumsi ini gagal, tidak mungkin untuk memperkirakan beta. Untuk melihat ini dalam kasus ekstrem, bayangkan kami memiliki bidang tambahan num_acquaintances dalam data kami yang untuk setiap pengguna persis sama dengan num_friends.\n",
        "\n",
        "Kemudian, dimulai dengan beta apa pun, jika kita menambahkan jumlah berapa pun ke koefisien num_friends dan mengurangi jumlah yang sama dari koefisien num_acquaintances, prediksi model akan tetap tidak berubah. Ini berarti bahwa tidak ada cara untuk menemukan koefisien untuk num_friends. (Biasanya pelanggaran asumsi ini tidak akan begitu jelas.)\n",
        "\n",
        "Asumsi penting kedua adalah bahwa kolom x semuanya tidak berkorelasi dengan kesalahan $\\varepsilon$ Jika ini gagal terjadi, perkiraan beta kami akan salah secara sistematis.\n",
        "\n",
        "Misalnya, di Bab 14, kami membangun model yang memperkirakan bahwa setiap teman tambahan dikaitkan dengan tambahan 0,90 menit harian di situs.\n",
        "\n",
        "Bayangkan itu juga terjadi bahwa:\n",
        "*   Orang yang bekerja lebih lama menghabiskan lebih sedikit\n",
        "*   Orang dengan lebih banyak teman cenderung bekerja lebih lama.\n",
        "\n",
        "\n",
        "\n"
      ],
      "metadata": {
        "id": "lNPjY5sGmdJX"
      }
    },
    {
      "cell_type": "markdown",
      "source": [
        "Artinya, bayangkan bahwa model \"aktual\" adalah:\n",
        "$minutes = \\alpha +\\beta _{1}friends+\\beta _{2} work hours$\n",
        "\n",
        "dimana $\\beta _{2}$ negatif, dan bahwa jam kerja dan teman berkorelasi positif. Dalam hal ini, ketika kita meminimalkan kesalahan model variabel tunggal:\n",
        "\n",
        "$minutes = \\alpha +\\beta _{1}friends+\\epsilon$\n",
        "\n",
        "Kami akan memahami $\\beta _{1}$\n",
        "\n",
        "Pikirkan tentang apa yang akan terjadi jika kita membuat prediksi menggunakan model variabel tunggal dengan\n",
        "Nilai \"aktual\" dari $\\beta _{1}$. (Artinya, nilai yang muncul dari meminimalkan kesalahan dari apa yang kita sebut model \"aktual\".) Prediksi akan cenderung terlalu besar untuk pengguna yang bekerja berjam-jam dan sedikit terlalu besar untuk pengguna yang bekerja beberapa jam, karena $\\beta _{2}<0$"
      ],
      "metadata": {
        "id": "2_qhYy5soBtS"
      }
    },
    {
      "cell_type": "markdown",
      "source": [
        "dan Dan kita \"lupa\" untuk memasukkannya. Karena jam kerja berkorelasi positif dengan jumlah teman, ini berarti prediksi cenderung seperti itu\n",
        "Terlalu besar untuk pengguna dengan banyak teman, dan hanya sedikit terlalu besar untuk pengguna dengan sedikit teman.\n",
        "\n",
        "Hasil dari ini adalah bahwa kita dapat mengurangi kesalahan (dalam model variabel tunggal) dengan mengurangi perkiraan kita $\\beta _{1}$, yang berarti bahwa kesalahan-meminimalkan $\\beta _{1}$ lebih kecil dari nilai \"aktual\". Artinya, dalam hal ini solusi kuadrat terkecil variabel tunggal bias untuk diremehkan $\\beta _{1}$ Dan, secara umum, setiap kali variabel independen berkorelasi dengan kesalahan seperti ini, solusi kuadrat terkecil kami akan memberi kami perkiraan bias $\\beta _{1}$."
      ],
      "metadata": {
        "id": "M3chZg5RwpvO"
      }
    },
    {
      "cell_type": "markdown",
      "source": [
        "##Memasang Model\n",
        "\n",
        "Seperti yang kita lakukan dalam model linier sederhana, kita akan memilih beta untuk meminimalkan jumlah kesalahan kuadrat. Menemukan solusi yang tepat tidak mudah dilakukan dengan tangan, yang berarti kita harus menggunakan gradientdescent. Sekali lagi kita ingin meminimalkan jumlah kesalahan kuadrat. Fungsi kesalahan hampir identik dengan yang kita gunakan di Bab 14, kecuali bahwa alih-alih mengharapkan parameter [alpha, beta] itu akan mengambil vektor dengan panjang sewenang-wenang:"
      ],
      "metadata": {
        "id": "wNi8KSxoxaLN"
      }
    },
    {
      "cell_type": "code",
      "source": [
        "from typing import List\n",
        "\n",
        "def error(x: Vector, y: float, beta: Vector) -> float:\n",
        "    return predict(x, beta) - y\n",
        "\n",
        "def squared_error(x: Vector, y: float, beta: Vector) -> float:\n",
        "    return error(x, y, beta) ** 2\n",
        "\n",
        "x = [1, 2, 3]\n",
        "y = 30\n",
        "beta = [4, 4, 4] # so prediction = 4 + 8 + 12 = 24\n",
        "\n",
        "assert error(x, y, beta) == -6\n",
        "assert squared_error(x, y, beta) == 36"
      ],
      "metadata": {
        "id": "wWK2B_cwx62z"
      },
      "execution_count": null,
      "outputs": []
    },
    {
      "cell_type": "markdown",
      "source": [
        "Jika Anda tahu kalkulus, mudah untuk menghitung gradien:"
      ],
      "metadata": {
        "id": "gJyjsq71yL0N"
      }
    },
    {
      "cell_type": "code",
      "source": [
        "def sqerror_gradient(x: Vector, y: float, beta: Vector) -> Vector:\n",
        "    err = error(x, y, beta)\n",
        "    return [2 * err * x_i for x_i in x]\n",
        "\n",
        "assert sqerror_gradient(x, y, beta) == [-12, -24, -36]"
      ],
      "metadata": {
        "id": "AbgraY1jyXcY"
      },
      "execution_count": null,
      "outputs": []
    },
    {
      "cell_type": "markdown",
      "source": [
        "Jika tidak, Anda harus mengambil kata-kata saya untuk itu.\n",
        "\n",
        "Pada titik ini, kami siap untuk menemukan beta optimal menggunakan penurunan gradien. Pertama-tama mari kita tulis fungsi least_squares_fit yang dapat bekerja dengan himpunan data apa pun:"
      ],
      "metadata": {
        "id": "N0uHufwzydDd"
      }
    },
    {
      "cell_type": "code",
      "source": [
        "import random\n",
        "import tqdm\n",
        "from scratch.linear_algebra import vector_mean\n",
        "from scratch.gradient_descent import gradient_step\n",
        "\n",
        "def least_squares_fit(xs: List[Vector],\n",
        "                      ys: List[float],\n",
        "                      learning_rate: float = 0.001,\n",
        "                      num_steps: int = 1000,\n",
        "                      batch_size: int = 1) -> Vector:\n",
        "\"\"\"\n",
        "Find the beta that minimizes the sum of squared errors\n",
        "assuming the model y = dot(x, beta).\n",
        "\"\"\"\n",
        "# Start with a random guess\n",
        "guess = [random.random() for _ in xs[0]]\n",
        "\n",
        "for _ in tqdm.trange(num_steps, desc=\"least squares fit\"):\n",
        "    for start in range(0, len(xs), batch_size):\n",
        "        batch_xs = xs[start:start+batch_size]\n",
        "        batch_ys = ys[start:start+batch_size]\n",
        "\n",
        "        gradient = vector_mean([sqerror_gradient(x, y, guess)\n",
        "                                for x, y in zip(batch_xs, batch_ys)])\n",
        "        guess = gradient_step(guess, gradient, -learning_rate)\n",
        "return guess"
      ],
      "metadata": {
        "id": "AGsWIzBJyuYH"
      },
      "execution_count": null,
      "outputs": []
    },
    {
      "cell_type": "markdown",
      "source": [
        "Kami kemudian dapat menerapkannya ke data kami:"
      ],
      "metadata": {
        "id": "LmCFuTE1zHCB"
      }
    },
    {
      "cell_type": "code",
      "source": [
        "from scratch.statistics import daily_minutes_good\n",
        "from scratch.gradient_descent import gradient_step\n",
        "\n",
        "random.seed(0)\n",
        "# I used trial and error to choose num_iters and step_size.\n",
        "# This will run for a while.\n",
        "learning_rate = 0.001\n",
        "\n",
        "beta = least_squares_fit(inputs, daily_minutes_good, learning_rate, 5000, 25)\n",
        "assert 30.50 < beta[0] < 30.70 # constant\n",
        "assert 0.96 < beta[1] < 1.00 # num friends\n",
        "assert -1.89 < beta[2] < -1.85 # work hours per day\n",
        "assert 0.91 < beta[3] < 0.94 # has PhD"
      ],
      "metadata": {
        "id": "m8SpX5gPzLwR"
      },
      "execution_count": null,
      "outputs": []
    },
    {
      "cell_type": "markdown",
      "source": [
        "Dalam praktiknya, Anda tidak akan memperkirakan regresi linier menggunakan penurunan gradien; Anda akan mendapatkan koefisien yang tepat menggunakan teknik aljabar linier yang berada di luar cakupan buku ini. Jika Anda melakukannya, Anda akan menemukan persamaannya:\n",
        "\n",
        "$$minutes = 30.58 +0.972 friends - 1.87 work hours+0.923 phd$$\n",
        "\n",
        "yang cukup dekat dengan apa yang kami temukan."
      ],
      "metadata": {
        "id": "mAJuJd3zz3xt"
      }
    },
    {
      "cell_type": "markdown",
      "source": [
        "##Menafsirkan Model\n",
        "\n",
        "Anda harus memikirkan koefisien model sebagai mewakili perkiraan semua-lain-menjadi-sama dari dampak masing-masing faktor. Semua hal lain dianggap sama, setiap teman tambahan sesuai dengan satu menit ekstra yang dihabiskan di situs setiap hari. Semua hal lain dianggap sama, setiap jam tambahan dalam hari kerja pengguna sesuai dengan sekitar dua menit lebih sedikit yang dihabiskan di situs setiap hari. Semua yang lain sama, memiliki gelar PhD adalah\n",
        "terkait dengan menghabiskan satu menit ekstra di situs setiap hari.\n",
        "\n",
        "Apa yang tidak (secara langsung) diberitahukan kepada kita adalah tentang interaksi di antara variabel. Ada kemungkinan bahwa efek jam kerja berbeda untuk orang dengan banyak teman daripada orang dengan sedikit teman. Model ini tidak menangkap itu. Salah satu cara untuk menangani kasus ini adalah dengan memperkenalkan variabel baru yang merupakan produk dari \"teman\" dan \"jam kerja.\" Ini secara efektif memungkinkan koefisien \"jam kerja\" meningkat (atau berkurang) seiring bertambahnya jumlah teman.\n",
        "\n",
        "Atau mungkin saja semakin banyak teman yang Anda miliki, semakin banyak waktu yang Anda habiskan di situs hingga titik tertentu, setelah itu teman lebih lanjut menyebabkan Anda menghabiskan lebih sedikit waktu di situs. (Mungkin dengan terlalu banyak teman Pengalaman terlalu luar biasa?) Kita dapat mencoba menangkap ini dalam model kita dengan menambahkan variabel lain yaitu kuadrat dari jumlah teman.\n",
        "\n",
        "Begitu kita mulai menambahkan variabel, kita perlu khawatir tentang apakah koefisiennya \"penting.\" Sana tidak ada batasan jumlah produk, log, kotak, dan kekuatan yang lebih tinggi yang dapat kami tambahkan."
      ],
      "metadata": {
        "id": "s-EcbH-l26vW"
      }
    },
    {
      "cell_type": "markdown",
      "source": [
        "##Kebaikan Fit\n",
        "Sekali lagi kita dapat melihat R-kuadrat:"
      ],
      "metadata": {
        "id": "q8vHo16W4B29"
      }
    },
    {
      "cell_type": "code",
      "source": [
        "from scratch.simple_linear_regression import total_sum_of_squares\n",
        "\n",
        "def multiple_r_squared(xs: List[Vector], ys: Vector, beta: Vector) -> float:\n",
        "    sum_of_squared_errors = sum(error(x, y, beta) ** 2\n",
        "                                for x, y in zip(xs, ys))\n",
        "    return 1.0 - sum_of_squared_errors / total_sum_of_squares(ys)"
      ],
      "metadata": {
        "id": "sbvKRcme4PZm"
      },
      "execution_count": null,
      "outputs": []
    },
    {
      "cell_type": "markdown",
      "source": [
        "yang sekarang telah meningkat menjadi 0,68:"
      ],
      "metadata": {
        "id": "iQqxFj5b4b0X"
      }
    },
    {
      "cell_type": "code",
      "source": [
        "assert 0.67 < multiple_r_squared(inputs, daily_minutes_good, beta) < 0.68"
      ],
      "metadata": {
        "id": "z5EacjOq4gTB"
      },
      "execution_count": null,
      "outputs": []
    },
    {
      "cell_type": "markdown",
      "source": [
        "Perlu diingat, bagaimanapun, bahwa menambahkan variabel baru ke regresi tentu akan meningkatkan Rkuadrat. Bagaimanapun, model regresi sederhana hanyalah kasus khusus dari model regresi berganda di mana koefisien pada \"jam kerja\" dan \"PhD\" keduanya sama dengan 0. Kelipatan optimal Model regresi tentu akan memiliki kesalahan setidaknya sekecil itu.\n",
        "\n",
        "Karena itu, dalam regresi berganda, kita juga perlu melihat kesalahan standar koefisien, yang mengukur seberapa yakin kita tentang perkiraan kita masing-masing $\\beta_{1}$. Regresi secara keseluruhan mungkin sesuai dengan data kami dengan sangat baik, tetapi jika beberapa variabel independen berkorelasi (atau tidak relevan), koefisien mereka mungkin tidak berarti banyak.\n",
        "\n",
        "Pendekatan khas untuk mengukur kesalahan ini dimulai dengan asumsi lain — bahwa kesalahan tersebut $\\varepsilon _{i}$ adalah variabel acak normal independen dengan rata-rata 0 dan beberapa standar deviasi bersama (tidak diketahui) $\\sigma $.\n",
        "Dalam hal ini, kita (atau, lebih mungkin, perangkat lunak statistik kita) dapat menggunakan beberapa aljabar linier untuk menemukan kesalahan standar dari setiap koefisien. Semakin besar, semakin tidak yakin model kita tentang koefisien itu. Sayangnya, kami tidak diatur untuk melakukan aljabar linier semacam itu dari awal."
      ],
      "metadata": {
        "id": "3jkroDJc4izO"
      }
    },
    {
      "cell_type": "markdown",
      "source": [
        "##Penyimpangan: Bootstrap\n",
        "\n",
        "Bayangkan bahwa kita memiliki sampel n titik data, yang dihasilkan oleh beberapa distribusi (tidak diketahui oleh kita):"
      ],
      "metadata": {
        "id": "jT6mAUpa5hsz"
      }
    },
    {
      "cell_type": "code",
      "source": [
        "data = get_sample(num_points=n)"
      ],
      "metadata": {
        "id": "doSfMjte5w47"
      },
      "execution_count": null,
      "outputs": []
    },
    {
      "cell_type": "markdown",
      "source": [
        "Dalam Bab 5, kita menulis fungsi yang dapat menghitung median sampel, yang dapat kita gunakan sebagai perkiraan median distribusi itu sendiri.\n",
        "\n",
        "Tapi seberapa yakin kita bisa tentang perkiraan kita? Jika semua titik data dalam sampel sangat dekat dengan 100, maka tampaknya median sebenarnya mendekati 100. Jika sekitar setengah titik data dalam sampel mendekati 0 dan setengah lainnya mendekati 200, maka kita tidak dapat hampir yakin tentang median.\n",
        "\n",
        "Jika kita bisa berulang kali mendapatkan sampel baru, kita bisa menghitung median dari banyak sampel dan melihat distribusi median tersebut. Seringkali kita tidak bisa. Dalam hal ini kita dapat bootstrap dataset baru dengan memilih n titik data dengan penggantian dari data kita. Dan kemudian kita dapat menghitung median dari himpunan data sintetis tersebut:"
      ],
      "metadata": {
        "id": "JuJCwLvL5xu5"
      }
    },
    {
      "cell_type": "code",
      "source": [
        "from typing import TypeVar, Callable\n",
        "\n",
        "X = TypeVar('X') # Generic type for data\n",
        "Stat = TypeVar('Stat') # Generic type for \"statistic\"\n",
        "\n",
        "def bootstrap_sample(data: List[X]) -> List[X]:\n",
        "    \"\"\"randomly samples len(data) elements with replacement\"\"\"\n",
        "    return [random.choice(data) for _ in data]\n",
        "\n",
        "def bootstrap_statistic(data: List[X],\n",
        "                        stats_fn: Callable[[List[X]], Stat],\n",
        "                        num_samples: int) -> List[Stat]:\n",
        "\"\"\"evaluates stats_fn on num_samples bootstrap samples from data\"\"\"\n",
        "return [stats_fn(bootstrap_sample(data)) for _ in range(num_samples)]"
      ],
      "metadata": {
        "id": "uE6F0OZx6Gw4"
      },
      "execution_count": null,
      "outputs": []
    },
    {
      "cell_type": "markdown",
      "source": [
        "Misalnya, pertimbangkan dua himpunan data berikut:"
      ],
      "metadata": {
        "id": "7EIB_RIY6SPd"
      }
    },
    {
      "cell_type": "code",
      "source": [
        "# 101 points all very close to 100\n",
        "close_to_100 = [99.5 + random.random() for _ in range(101)]\n",
        "\n",
        "# 101 points, 50 of them near 0, 50 of them near 200\n",
        "far_from_100 = ([99.5 + random.random()] +\n",
        "                [random.random() for _ in range(50)] +\n",
        "                [200 + random.random() for _ in range(50)])"
      ],
      "metadata": {
        "id": "PQNn4DVJ6Von"
      },
      "execution_count": null,
      "outputs": []
    },
    {
      "cell_type": "markdown",
      "source": [
        "Jika Anda menghitung median dari dua himpunan data, keduanya akan sangat dekat dengan 100. Namun, jika Anda melihat:"
      ],
      "metadata": {
        "id": "HnYpIkw56tNZ"
      }
    },
    {
      "cell_type": "code",
      "source": [
        "from scratch.statistics import median, standard_deviation\n",
        "medians_close = bootstrap_statistic(close_to_100, median, 100)"
      ],
      "metadata": {
        "id": "3QVi59Nj6yuJ"
      },
      "execution_count": null,
      "outputs": []
    },
    {
      "cell_type": "markdown",
      "source": [
        "Anda sebagian besar akan melihat angka sangat dekat dengan 100. Tetapi jika Anda melihat:"
      ],
      "metadata": {
        "id": "H2tPrhNP61Fd"
      }
    },
    {
      "cell_type": "code",
      "source": [
        "medians_far = bootstrap_statistic(far_from_100, median, 100)"
      ],
      "metadata": {
        "id": "0UaQw9PP64qF"
      },
      "execution_count": null,
      "outputs": []
    },
    {
      "cell_type": "markdown",
      "source": [
        "Anda akan melihat banyak angka mendekati 0 dan banyak angka mendekati 200.\n",
        "\n",
        "standard_deviation dari himpunan median pertama mendekati 0, sedangkan himpunan median kedua mendekati 100:"
      ],
      "metadata": {
        "id": "BBeiAnC96_aU"
      }
    },
    {
      "cell_type": "code",
      "source": [
        "assert standard_deviation(medians_close) < 1\n",
        "assert standard_deviation(medians_far) > 90"
      ],
      "metadata": {
        "id": "uV3i9F9B7Hbo"
      },
      "execution_count": null,
      "outputs": []
    },
    {
      "cell_type": "markdown",
      "source": [
        "(Kasus ekstrem ini akan sangat mudah diketahui dengan memeriksa data secara manual, tetapi secara umum itu tidak benar.)"
      ],
      "metadata": {
        "id": "kVm6H_Ya7IpJ"
      }
    },
    {
      "cell_type": "markdown",
      "source": [
        "##Kesalahan Standar Koefisien Regresi\n",
        "\n",
        "Kita dapat mengambil pendekatan yang sama untuk memperkirakan kesalahan standar koefisien regresi kita. Kami berulang kali mengambil bootstrap_sample data kami dan memperkirakan beta berdasarkan sampel tersebut. Jika koefisien yang sesuai dengan salah satu variabel independen (katakanlah, num_friends) tidak jauh berbeda di seluruh sampel, maka kita dapat yakin bahwa perkiraan kita relatif ketat. Jika koefisien sangat bervariasi di seluruh sampel, maka kita sama sekali tidak yakin dengan perkiraan kita.\n",
        "\n",
        "Satu-satunya kehalusan adalah bahwa, sebelum pengambilan sampel, kita harus zip data x dan data y kita untuk memastikan bahwa nilai yang sesuai dari variabel independen dan dependen diambil sampelnya bersama. Ini berarti bahwa bootstrap_sample akan mengembalikan daftar pasangan (x_i, y_i), yang perlu kita pasang kembali\n",
        "sebuah x_sample dan y_sample:\n"
      ],
      "metadata": {
        "id": "_QLwNUVR7NHi"
      }
    },
    {
      "cell_type": "code",
      "source": [
        "from typing import Tuple\n",
        "\n",
        "import datetime\n",
        "\n",
        "def estimate_sample_beta(pairs: List[Tuple[Vector, float]]):\n",
        "    x_sample = [x for x, _ in pairs]\n",
        "    y_sample = [y for _, y in pairs]\n",
        "    beta = least_squares_fit(x_sample, y_sample, learning_rate, 5000, 25)\n",
        "    print(\"bootstrap sample\", beta)\n",
        "    return beta\n",
        "\n",
        "random.seed(0) # so that you get the same results as me\n",
        "\n",
        "# This will take a couple of minutes!\n",
        "bootstrap_betas = bootstrap_statistic(list(zip(inputs, daily_minutes_good)),\n",
        "                                      estimate_sample_beta,\n",
        "                                      100)"
      ],
      "metadata": {
        "id": "e9fgBrE4CJwM"
      },
      "execution_count": null,
      "outputs": []
    },
    {
      "cell_type": "markdown",
      "source": [
        "Setelah itu kita dapat memperkirakan standar deviasi dari setiap koefisien:"
      ],
      "metadata": {
        "id": "ZLo8Iq91Cn-8"
      }
    },
    {
      "cell_type": "code",
      "source": [
        "bootstrap_standard_errors = [\n",
        "\n",
        "standard_deviation([beta[i] for beta in bootstrap_betas])\n",
        "for i in range(4)]\n",
        "print(bootstrap_standard_errors)\n",
        "# [1.272,     # constant term, actual error = 1.19\n",
        "# 0.103,      # num_friends, actual error = 0.080\n",
        "# 0.155,      # work_hours, actual error = 0.127\n",
        "# 1.249]      # phd, actual error = 0.998"
      ],
      "metadata": {
        "id": "4p7RP_zUChhg"
      },
      "execution_count": null,
      "outputs": []
    },
    {
      "cell_type": "markdown",
      "source": [
        "(Kami mungkin akan mendapatkan perkiraan yang lebih baik jika kami mengumpulkan lebih dari 100 sampel dan menggunakan lebih dari 5.000 iterasi untuk memperkirakan setiap beta, tetapi kami tidak punya waktu sepanjang hari.)\n",
        "\n",
        "Kita dapat menggunakan ini untuk menguji hipotesis seperti \"tidak $\\beta_{1}$ equal 0? Di bawah hipotesis nol $\\beta_{1}=0$ (dan dengan asumsi kami yang lain tentang distribusi $\\varepsilon _{i}$ adalah statistik:\n",
        "$$t_{j} = \\widehat{\\beta _{j}} / \\widehat{\\sigma _{j}}$$\n",
        "\n",
        "yang merupakan perkiraan kami $\\beta_{j}$ dibagi dengan perkiraan kami tentang kesalahan standarnya, mengikuti distribusi Siswa dengan \"$n-k$ derajat kebebasan.\"\n",
        "\n",
        "Jika kita memiliki fungsi students_t_cdf, kita dapat menghitung nilai-p untuk setiap koefisien kuadrat terkecil untuk menunjukkan seberapa besar kemungkinan kita akan mengamati nilai tersebut jika koefisien sebenarnya adalah 0. Sayangnya, kami tidak memiliki fungsi seperti itu. (Meskipun kami akan melakukannya jika kami tidak bekerja dari awal.)\n",
        "\n",
        "Namun, ketika derajat kebebasan menjadi besar, distribusi-t semakin dekat dan mendekati standar normal. Dalam situasi seperti ini, di mana n jauh lebih besar dari k, kita dapat menggunakan normal_cdf dan masih merasa nyaman dengan diri kita sendiri:\n"
      ],
      "metadata": {
        "id": "KvUfXm-CCwuL"
      }
    },
    {
      "cell_type": "code",
      "source": [
        "from scratch.probability import normal_cdf\n",
        "\n",
        "def p_value(beta_hat_j: float, sigma_hat_j: float) -> float:\n",
        "    if beta_hat_j > 0:\n",
        "        # if the coefficient is positive, we need to compute twice the\n",
        "        # probability of seeing an even *larger* value\n",
        "        return 2 * (1 - normal_cdf(beta_hat_j / sigma_hat_j))\n",
        "else:\n",
        "        # otherwise twice the probability of seeing a *smaller* value\n",
        "        return 2 * normal_cdf(beta_hat_j / sigma_hat_j)\n",
        "\n",
        "assert p_value(30.58, 1.27) < 0.001       # constant term\n",
        "assert p_value(0.972, 0.103) < 0.001      # num_friends\n",
        "assert p_value(-1.865, 0.155) < 0.001     # work_hours\n",
        "assert p_value(0.923, 1.249) > 0.4        # phd"
      ],
      "metadata": {
        "id": "-EsW4vlAEQPw"
      },
      "execution_count": null,
      "outputs": []
    },
    {
      "cell_type": "markdown",
      "source": [
        "(Dalam situasi yang tidak seperti ini, kita mungkin akan menggunakan perangkat lunak statistik yang tahu cara menghitung distribusi-t, serta cara menghitung kesalahan standar yang tepat.)\n",
        "\n",
        "Sementara sebagian besar koefisien memiliki nilai-p yang sangat kecil (menunjukkan bahwa mereka memang bukan nol), koefisien untuk \"PhD\" tidak \"secara signifikan\" berbeda dari 0, yang membuatnya cenderung bahwa koefisien untuk \"PhD\" adalah acak daripada bermakna.\n",
        "\n",
        "Dalam skenario regresi yang lebih rumit, Anda terkadang ingin menguji hipotesis yang lebih rumit tentang data, seperti \"setidaknya satu dari $\\beta_{j}$ bukan nol\" atau \" $\\beta_{1}$ sama $\\beta_{2}$ dan $\\beta_{3}$ sama $\\beta_{4}$.\"Anda dapat melakukan ini dengan uji-F, tetapi sayangnya, itu berada di luar cakupan buku ini."
      ],
      "metadata": {
        "id": "0gHzzaJ_EthH"
      }
    },
    {
      "cell_type": "markdown",
      "source": [
        "##Regularisasi\n",
        "\n",
        "Dalam praktiknya, Anda sering ingin menerapkan regresi linier ke kumpulan data dengan sejumlah besar variabel. Ini menciptakan beberapa kerutan ekstra. Pertama, semakin banyak variabel yang Anda gunakan, semakin besar kemungkinan Anda untuk menyesuaikan model Anda dengan set pelatihan. Dan kedua, semakin banyak koefisien bukan nol yang Anda miliki, semakin sulit untuk memahaminya. Jika tujuannya adalah untuk menjelaskan beberapa fenomena, model yang jarang dengan tiga faktor mungkin lebih berguna daripada model yang sedikit lebih baik dengan ratusan.\n",
        "\n",
        "Regularisasi adalah pendekatan di mana kami menambahkan ke istilah kesalahan penalti yang semakin besar saat beta semakin besar. Kami kemudian meminimalkan kesalahan dan penalti gabungan. Semakin penting kita menempatkan pada istilah penalti, semakin kita mencegah koefisien besar.\n",
        "\n",
        "Misalnya, dalam regresi punggungan, kami menambahkan penalti yang sebanding dengan jumlah kuadrat beta_i (kecuali bahwa biasanya kami tidak menghukum beta_0, istilah konstan):"
      ],
      "metadata": {
        "id": "6ANWylGmFmX0"
      }
    },
    {
      "cell_type": "code",
      "source": [
        "# alpha is a *hyperparameter* controlling how harsh the penalty is.\n",
        "# Sometimes it's called \"lambda\" but that already means something in Python.\n",
        "def ridge_penalty(beta: Vector, alpha: float) -> float:\n",
        "    return alpha * dot(beta[1:], beta[1:])\n",
        "\n",
        "def squared_error_ridge(x: Vector,\n",
        "                        y: float,\n",
        "                        beta: Vector,\n",
        "                        alpha: float) -> float:\n",
        "    \"\"\"estimate error plus ridge penalty on beta\"\"\"\n",
        "    return error(x, y, beta) ** 2 + ridge_penalty(beta, alpha)\n"
      ],
      "metadata": {
        "id": "P5-cJ4wLGB1C"
      },
      "execution_count": null,
      "outputs": []
    },
    {
      "cell_type": "markdown",
      "source": [
        "Kita kemudian dapat memasukkan ini ke dalam penurunan gradien dengan cara biasa:"
      ],
      "metadata": {
        "id": "EGEMevEgGL3_"
      }
    },
    {
      "cell_type": "code",
      "source": [
        "from scratch.linear_algebra import add\n",
        "def ridge_penalty_gradient(beta: Vector, alpha: float) -> Vector:\n",
        "    \"\"\"gradient of just the ridge penalty\"\"\"\n",
        "    return [0.] + [2 * alpha * beta_j for beta_j in beta[1:]]\n",
        "\n",
        "def sqerror_ridge_gradient(x: Vector,\n",
        "                          y: float,\n",
        "                          beta: Vector,\n",
        "                          alpha: float) -> Vector:\n",
        "\"\"\"\n",
        "the gradient corresponding to the ith squared error term\n",
        "including the ridge penalty\n",
        "\"\"\"\n",
        "return add(sqerror_gradient(x, y, beta),\n",
        "          ridge_penalty_gradient(beta, alpha))\n"
      ],
      "metadata": {
        "id": "nRnpe4Q4GQDO"
      },
      "execution_count": null,
      "outputs": []
    },
    {
      "cell_type": "markdown",
      "source": [
        "Dan kemudian kita hanya perlu memodifikasi fungsi least_squares_fit untuk menggunakan sqerror_ridge_gradient alih-alih sqerror_gradient. (Saya tidak akan mengulangi kode di sini.)\n",
        "\n",
        "Dengan alpha diatur ke 0, tidak ada penalti sama sekali dan kami mendapatkan hasil yang sama seperti sebelumnya:"
      ],
      "metadata": {
        "id": "G8qydESVGlga"
      }
    },
    {
      "cell_type": "code",
      "source": [
        "random.seed(0)\n",
        "beta_0 = least_squares_fit_ridge(inputs, daily_minutes_good, 0.0, # alpha\n",
        "                                learning_rate, 5000, 25)\n",
        "\n",
        "# [30.51, 0.97, -1.85, 0.91]\n",
        "assert 5 < dot(beta_0[1:], beta_0[1:]) < 6\n",
        "assert 0.67 < multiple_r_squared(inputs, daily_minutes_good, beta_0) < 0.69"
      ],
      "metadata": {
        "id": "tslTTJXkGs7s"
      },
      "execution_count": null,
      "outputs": []
    },
    {
      "cell_type": "markdown",
      "source": [
        "Saat kita meningkatkan alfa, kebaikan fit semakin buruk, tetapi ukuran beta semakin kecil:"
      ],
      "metadata": {
        "id": "OpKlbJ3_Gylv"
      }
    },
    {
      "cell_type": "code",
      "source": [
        "bebeta_0_1 = least_squares_fit_ridge(inputs, daily_minutes_good, 0.1, # alpha\n",
        "                                    learning_rate, 5000, 25)\n",
        "# [30.8, 0.95, -1.83, 0.54]\n",
        "assert 4 < dot(beta_0_1[1:], beta_0_1[1:]) < 5\n",
        "assert 0.67 < multiple_r_squared(inputs, daily_minutes_good, beta_0_1) < 0.69\n",
        "\n",
        "beta_1 = least_squares_fit_ridge(inputs, daily_minutes_good, 1, # alpha\n",
        "                                learning_rate, 5000, 25)\n",
        "# [30.6, 0.90, -1.68, 0.10]\n",
        "assert 3 < dot(beta_1[1:], beta_1[1:]) < 4\n",
        "assert 0.67 < multiple_r_squared(inputs, daily_minutes_good, beta_1) < 0.69\n",
        "\n",
        "beta_10 = least_squares_fit_ridge(inputs, daily_minutes_good,10, # alpha\n",
        "                                  learning_rate, 5000, 25)\n",
        "# [28.3, 0.67, -0.90, -0.01]\n",
        "assert 1 < dot(beta_10[1:], beta_10[1:]) < 2\n",
        "assert 0.5 < multiple_r_squared(inputs, daily_minutes_good, beta_10) < 0.6"
      ],
      "metadata": {
        "id": "X7KXwrgyG4lp"
      },
      "execution_count": null,
      "outputs": []
    },
    {
      "cell_type": "markdown",
      "source": [
        "Secara khusus, koefisien pada \"PhD\" menghilang saat kami meningkatkan penalti, yang sesuai dengan hasil kami sebelumnya bahwa itu tidak berbeda secara signifikan dari 0.\n",
        "\n",
        "Pendekatan lain adalah regresi laso, yang menggunakan penalti:"
      ],
      "metadata": {
        "id": "FrbTuTWZHSrH"
      }
    },
    {
      "cell_type": "code",
      "source": [
        "def lasso_penalty(beta, alpha):\n",
        "    return alpha * sum(abs(beta_i) for beta_i in beta[1:])"
      ],
      "metadata": {
        "id": "lZpu6w3xHexK"
      },
      "execution_count": null,
      "outputs": []
    },
    {
      "cell_type": "markdown",
      "source": [
        "Sedangkan penalti ridge mengecilkan koefisien secara keseluruhan, penalti lasso cenderung memaksa koefisien menjadi 0, yang membuatnya baik untuk mempelajari model yang jarang. Sayangnya, itu tidak setuju dengan penurunan gradien, yang berarti bahwa kita tidak akan dapat menyelesaikannya dari awal."
      ],
      "metadata": {
        "id": "jA3gJFSUHjoo"
      }
    },
    {
      "cell_type": "markdown",
      "source": [
        "# Bab 15 Regresi logistik\n",
        "Addin Zaidan Zakki 4112321026\n",
        "Fadilatul Husna 4112321032\n",
        "\n",
        "Di Bab 1, kita secara singkat melihat masalah mencoba memprediksi pengguna DataSciencester mana yang membayar\n",
        "untuk akun premium. Di sini kita akan meninjau kembali masalah itu.\n",
        "\n"
      ],
      "metadata": {
        "id": "n9ONFD39A0EW"
      }
    },
    {
      "cell_type": "markdown",
      "source": [
        "## Permasalahan\n",
        "Kami memiliki kumpulan data anonim dari sekitar 200 pengguna, berisi gaji setiap pengguna, tahun-tahunnya\n",
        "pengalaman sebagai ilmuwan data, dan apakah dia membayar untuk akun premium (Gambar 16-1). Dengan adanya\n",
        "tipikal dengan variabel kategori, kami mewakili variabel dependen sebagai 0 (tidak ada premi\n",
        "akun) atau 1 (akun premium).\n",
        "Seperti biasa, data kami adalah daftar baris [pengalaman, gaji, akun_berbayar]. Mari kita mengubahnya menjadi\n",
        "format yang kami butuhkan:\n",
        "\n"
      ],
      "metadata": {
        "id": "mrzUKJrtBhtd"
      }
    },
    {
      "cell_type": "code",
      "source": [
        "xs = [[1.0] + row[:2] for row in data]  # [1, experience, salary]\n",
        "ys = [row[2] for row in data]           # paid_account"
      ],
      "metadata": {
        "colab": {
          "base_uri": "https://localhost:8080/",
          "height": 183
        },
        "id": "T38kPmYKCAES",
        "outputId": "3d7010b2-1415-4c25-9321-b97683f9b854"
      },
      "execution_count": null,
      "outputs": [
        {
          "output_type": "error",
          "ename": "NameError",
          "evalue": "ignored",
          "traceback": [
            "\u001b[0;31m---------------------------------------------------------------------------\u001b[0m",
            "\u001b[0;31mNameError\u001b[0m                                 Traceback (most recent call last)",
            "\u001b[0;32m<ipython-input-1-1db7ae6994aa>\u001b[0m in \u001b[0;36m<cell line: 1>\u001b[0;34m()\u001b[0m\n\u001b[0;32m----> 1\u001b[0;31m \u001b[0mxs\u001b[0m \u001b[0;34m=\u001b[0m \u001b[0;34m[\u001b[0m\u001b[0;34m[\u001b[0m\u001b[0;36m1.0\u001b[0m\u001b[0;34m]\u001b[0m \u001b[0;34m+\u001b[0m \u001b[0mrow\u001b[0m\u001b[0;34m[\u001b[0m\u001b[0;34m:\u001b[0m\u001b[0;36m2\u001b[0m\u001b[0;34m]\u001b[0m \u001b[0;32mfor\u001b[0m \u001b[0mrow\u001b[0m \u001b[0;32min\u001b[0m \u001b[0mdata\u001b[0m\u001b[0;34m]\u001b[0m \u001b[0;31m# [1, experience, salary]\u001b[0m\u001b[0;34m\u001b[0m\u001b[0;34m\u001b[0m\u001b[0m\n\u001b[0m\u001b[1;32m      2\u001b[0m \u001b[0mys\u001b[0m \u001b[0;34m=\u001b[0m \u001b[0;34m[\u001b[0m\u001b[0mrow\u001b[0m\u001b[0;34m[\u001b[0m\u001b[0;36m2\u001b[0m\u001b[0;34m]\u001b[0m \u001b[0;32mfor\u001b[0m \u001b[0mrow\u001b[0m \u001b[0;32min\u001b[0m \u001b[0mdata\u001b[0m\u001b[0;34m]\u001b[0m \u001b[0;31m# paid_account\u001b[0m\u001b[0;34m\u001b[0m\u001b[0;34m\u001b[0m\u001b[0m\n",
            "\u001b[0;31mNameError\u001b[0m: name 'data' is not defined"
          ]
        }
      ]
    },
    {
      "cell_type": "markdown",
      "source": [
        "Upaya pertama yang jelas adalah menggunakan regresi linier dan menemukan model terbaik:\n",
        "$$ paid account=\\beta _{0}+\\beta _{1}experience+βsalary+\\varepsilon  $$\n",
        "\n",
        "\n",
        "\n",
        "\n",
        "\n",
        "\n",
        "\n",
        "\n",
        "\n",
        "\n",
        "\n",
        "\n",
        "\n"
      ],
      "metadata": {
        "id": "yMgCP8i5CJsE"
      }
    },
    {
      "cell_type": "markdown",
      "source": [],
      "metadata": {
        "id": "Gu-QJ6PX_0U_"
      }
    },
    {
      "cell_type": "markdown",
      "source": [
        "Dan tentu saja, tidak ada yang menghalangi kami untuk membuat model masalah dengan cara ini."
      ],
      "metadata": {
        "id": "5aVC05wCTZJ2"
      }
    },
    {
      "cell_type": "code",
      "source": [
        "from matplotlib import pyplot as plt\n",
        "from scratch.working_with_data import rescale\n",
        "from scratch.multiple_regression import least_squares_fit, predict\n",
        "from scratch.gradient_descent import gradient_step\n",
        "learning_rate = 0.001\n",
        "rescaled_xs = rescale(xs)\n",
        "beta = least_squares_fit(rescaled_xs, ys, learning_rate, 1000, 1)\n",
        "# [0.26, 0.43, -0.43]\n",
        "predictions = [predict(x_i, beta) for x_i in rescaled_xs]\n",
        "plt.scatter(predictions, ys)\n",
        "plt.xlabel(\"predicted\")\n",
        "plt.ylabel(\"actual\")\n",
        "plt.show()\n"
      ],
      "metadata": {
        "id": "QIQvvUe3TqNh"
      },
      "execution_count": null,
      "outputs": []
    },
    {
      "cell_type": "markdown",
      "source": [
        "Tetapi pendekatan ini mengarah ke beberapa masalah langsung:\n",
        "*   Kita menginginkan prediksi output kita menjadi 0 atau 1, untuk menunjukkan keanggotaan kelas. Tidak apa-apa jika nilainya di antara 0 dan 1, karena kita dapat menafsirkannya sebagai probabilitas—output 0,25 dapat berarti 25% peluang menjadi anggota berbayar. Tetapi output dari model linier dapat berupa angka positif yang sangat besar atau bahkan angka negatif, yang tidak jelas bagaimana menafsirkannya. Memang, di sini terdapat banyak prediksi kita yang negatif.\n",
        "*   Model regresi linier mengasumsikan bahwa error tidak berkorelasi dengan kolom x. Tetapi di sini, koefisien regresi untuk pengalaman adalah 0,43, yang menunjukkan bahwa lebih banyak pengalaman mengarah pada kemungkinan lebih besar akun premium. Ini berarti bahwa model kami menghasilkan nilai yang sangat besar untuk orang-orang dengan banyak pengalaman. Tetapi kita tahu bahwa nilai aktual harus tidak lebih dari 1, yang berarti output yang sangat besar (dan karena itu nilai pengalaman yang sangat besar) sesuai dengan nilai negatif yang sangat besar dari istilah error. Karena ini adalah kasus, perkiraan kita tentang beta adalah bias.\n",
        "\n",
        "Apa yang kita inginkan adalah agar nilai titik (x_i, beta) positif yang besar sesuai dengan probabilitas yang mendekati 1, dan agar nilai negatif yang besar sesuai dengan probabilitas yang mendekati 0. Hal ini dapat dicapai dengan menerapkan fungsi lain pada hasilnya."
      ],
      "metadata": {
        "id": "KyfTulk4BI2t"
      }
    },
    {
      "cell_type": "markdown",
      "source": [
        "## Fungsi Logistik\n",
        "Dalam kasus regresi logistik, kita menggunakan fungsi logistik,"
      ],
      "metadata": {
        "id": "A_f9WFiACqQV"
      }
    },
    {
      "cell_type": "code",
      "source": [
        "def logistic(x: float) -> float:\n",
        "    return 1.0 / (1 + math.exp(-x))"
      ],
      "metadata": {
        "id": "3BjkCCjO32aQ"
      },
      "execution_count": null,
      "outputs": []
    },
    {
      "cell_type": "markdown",
      "source": [
        "Ketika inputnya menjadi besar dan positif, ia akan semakin mendekati 1. Ketika inputnya menjadi besar dan negatif, ia akan semakin mendekati 0. Selain itu, ia memiliki sifat nyaman yang turunannya diberikan oleh:"
      ],
      "metadata": {
        "id": "MO6lpurd5AZC"
      }
    },
    {
      "cell_type": "code",
      "source": [
        "def logistic_prime(x: float) -> float:\n",
        "    y = logistic(x)\n",
        "    return y * (1 - y)"
      ],
      "metadata": {
        "id": "SMZCQWVS74H2"
      },
      "execution_count": null,
      "outputs": []
    },
    {
      "cell_type": "markdown",
      "source": [
        "yang akan kita gunakan sebentar lagi. Kita akan menggunakan ini untuk menyesuaikan model:\n",
        "$$y_i=f(x_iβ)+\\varepsilon_i$$\n",
        "di mana $f$ adalah fungsi logistik.\n",
        "\n",
        "Ingat bahwa untuk regresi linear kita menyesuaikan model dengan meminimalkan jumlah error kuadrat, yang akhirnya memilih $β$ yang memaksimalkan likelihood data.\n",
        "\n",
        "Di sini keduanya tidak setara, jadi kita akan menggunakan turunan gradien untuk memaksimalkan likelihoodnya secara langsung. Ini berarti kita perlu menghitung fungsi likelihood dan gradiennya.\n",
        "\n",
        "Mengingat beberapa $β$, model kita mengatakan bahwa setiap $y_i$ harus sama dengan 1 dengan probabilitas $f(x_iβ)$ dan 0 dengan probabilitas $1-f(x_iβ)$.\n",
        "\n",
        "Secara khusus, PDF untuk $y_i$ dapat ditulis sebagai:\n",
        "$$p(y_i|x_i\\beta)=f(x_i\\beta)^{y_i}(1-f(x_i\\beta))^{1-y_i}$$\n",
        "karena jika $y_i$ adalah 0, ini sama dengan:\n",
        "$$1-f(x_i\\beta)$$\n",
        "dan jika $y_i$ adalah 1, ini sama dengan:\n",
        "$$f(x_i\\beta)$$\n",
        "\n",
        "Ternyata sebenarnya lebih mudah untuk memaksimalkan likelihood log:\n",
        "$$\\log L(\\beta|x_i, y_i)=y_i \\log f(x_i\\beta)+(1-y_i) \\log (1-f(x_i\\beta))$$\n",
        "\n",
        "Karena log adalah fungsi yang meningkat secara ketat, setiap beta yang memaksimalkan log likelihood juga akan memaksimalkan likelihoodnya, dan sebaliknya. Karena turunan gradien meminimalkan banyak hal, kita akan benar-benar bekerja dengan likelihood log negatif, karena memaksimalkan likelihood sama dengan meminimalkan negatifnya:"
      ],
      "metadata": {
        "id": "s7hrfDbnU0xZ"
      }
    },
    {
      "cell_type": "code",
      "source": [
        "import math\n",
        "from scratch.linear_algebra import Vector, dot\n",
        "\n",
        "def _negative_log_likelihood(x: Vector, y: float, beta: Vector) -> float:\n",
        "    \"\"\"The negative log likelihood for one data point\"\"\"\n",
        "    if y == 1:\n",
        "        return -math.log(logistic(dot(x, beta)))\n",
        "    else:\n",
        "        return -math.log(1 - logistic(dot(x, beta)))"
      ],
      "metadata": {
        "id": "tQcLAtaAAg6c"
      },
      "execution_count": null,
      "outputs": []
    },
    {
      "cell_type": "markdown",
      "source": [
        "Jika kita mengasumsikan titik data yang berbeda independen satu sama lain, likelihood secara keseluruhan hanyalah produk dari likelihood individu. Itu berarti likelihood log secara keseluruhan adalah jumlah dari likelihood log individual:"
      ],
      "metadata": {
        "id": "reItpN2FBFqY"
      }
    },
    {
      "cell_type": "code",
      "source": [
        "from typing import List\n",
        "\n",
        "def negative_log_likelihood(xs: List[Vector],\n",
        "                            ys: List[float],\n",
        "                            beta: Vector) -> float:\n",
        "    return sum(_negative_log_likelihood(x, y, beta)\n",
        "               for x, y in zip(xs, ys))"
      ],
      "metadata": {
        "id": "bIiboqhBCyYB"
      },
      "execution_count": null,
      "outputs": []
    },
    {
      "cell_type": "markdown",
      "source": [
        "Sedikit kalkulus memberi kita gradien:"
      ],
      "metadata": {
        "id": "ZUFwI9W3C8PL"
      }
    },
    {
      "cell_type": "code",
      "source": [
        "from scratch.linear_algebra import vector_sum\n",
        "\n",
        "def _negative_log_partial_j(x: Vector, y: float, beta: Vector, j: int) -> float:\n",
        "    \"\"\"\n",
        "    The j-th partial derivative for one data pont\n",
        "    here i is the index of the data point\n",
        "    \"\"\"\n",
        "    return -(y - logistic(dot(x, beta))) * x[j]\n",
        "\n",
        "def _negative_log_gradient(x: Vector, y: float, beta: Vector) -> Vector:\n",
        "    \"\"\"\n",
        "    The gradient for one data point\n",
        "    \"\"\"\n",
        "    return [_negative_log_partial_j(x, y, beta, j)\n",
        "            for j in range(len(beta))]\n",
        "\n",
        "def negative_log_gradient(xs: List[Vector],\n",
        "                          ys: List[float],\n",
        "                          beta: Vector) -> Vector:\n",
        "    return vector_sum([_negative_log_gradient(x, y, beta)\n",
        "                       for x, y in zip(xs, ys)])"
      ],
      "metadata": {
        "id": "ianOBDM3DQTg"
      },
      "execution_count": null,
      "outputs": []
    },
    {
      "cell_type": "markdown",
      "source": [
        "Pada titik di mana kita memiliki semua bagian yang kita butuhkan."
      ],
      "metadata": {
        "id": "PRLCSSyDDr5p"
      }
    },
    {
      "cell_type": "markdown",
      "source": [
        "## Penerapan Model\n",
        "Kami ingin membagi data kami menjadi satu set pelatihan dan satu set pengujian:"
      ],
      "metadata": {
        "id": "Fo8PUDN4Ctom"
      }
    },
    {
      "cell_type": "code",
      "source": [
        "from scratch.machine_learning import train_test_split\n",
        "import random\n",
        "import tqdm\n",
        "random.seed(0)\n",
        "x_train, x_test, y_train, y_test = train_test_split(rescaled_xs, ys, 0.33)\n",
        "learning_rate = 0.01\n",
        "# pick a random starting point\n",
        "beta = [random.random() for _ in range(3)]\n",
        "with tqdm.trange(5000) as t:\n",
        "for epoch in t:\n",
        "gradient = negative_log_gradient(x_train, y_train, beta)\n",
        "beta = gradient_step(beta, gradient, -learning_rate)\n",
        "loss = negative_log_likelihood(x_train, y_train, beta)\n",
        "t.set_description(f\"loss: {loss:.3f} beta: {beta}\")"
      ],
      "metadata": {
        "id": "pKv-PGTXWirt"
      },
      "execution_count": null,
      "outputs": []
    },
    {
      "cell_type": "markdown",
      "source": [
        "setelah itu kami menemukan bahwa beta kira-kira:"
      ],
      "metadata": {
        "id": "6_tfy5W2WySz"
      }
    },
    {
      "cell_type": "code",
      "source": [
        "[-2.0, 4.7, -4.5]"
      ],
      "metadata": {
        "id": "hvviqKrzW9ys"
      },
      "execution_count": null,
      "outputs": []
    },
    {
      "cell_type": "markdown",
      "source": [
        "Ini adalah koefisien untuk data yang diskalakan ulang, tetapi kami dapat mengubahnya kembali ke data asli sebagai\n",
        "Sehat:"
      ],
      "metadata": {
        "id": "Fc7V-Cz-XAXT"
      }
    },
    {
      "cell_type": "code",
      "source": [
        "from scratch.working_with_data import scale\n",
        "means, stdevs = scale(xs)\n",
        "beta_unscaled = [(beta[0]\n",
        "- beta[1] * means[1] / stdevs[1]\n",
        "- beta[2] * means[2] / stdevs[2]),\n",
        "beta[1] / stdevs[1],\n",
        "beta[2] / stdevs[2]]\n",
        "# [8.9, 1.6, -0.000288]\n"
      ],
      "metadata": {
        "id": "mMHGAE2pXI-V"
      },
      "execution_count": null,
      "outputs": []
    },
    {
      "cell_type": "markdown",
      "source": [
        "Sayangnya, ini tidak mudah ditafsirkan sebagai koefisien regresi linier. Semuanya setara,\n",
        "satu tahun pengalaman tambahan menambah 1,6 input logistik. Semuanya setara, tambahan $10.000\n",
        "gaji dikurangi 2,88 dari input logistik.\n",
        "Akan tetapi, dampak pada output tergantung pada input lainnya juga. Jika titik(beta, x_i) adalah\n",
        "sudah besar (sesuai dengan probabilitas mendekati 1), meningkatkannya bahkan dengan banyak tidak dapat mempengaruhi\n",
        "probabilitas sangat banyak. Jika mendekati 0, meningkatkannya sedikit saja dapat meningkatkan probabilitas cukup besar\n",
        "sedikit.\n",
        "Apa yang dapat kami katakan adalah bahwa—semuanya setara—orang dengan lebih banyak pengalaman lebih cenderung membayar\n",
        "untuk akun. Dan itu—semuanya setara—orang dengan gaji lebih tinggi cenderung tidak akan membayar\n",
        "akun. (Ini juga agak terlihat saat kami memplot datanya.)\n"
      ],
      "metadata": {
        "id": "yAgu4UWtXP6G"
      }
    },
    {
      "cell_type": "markdown",
      "source": [
        "## Kebaikan Fit\n",
        "Kami belum menggunakan data uji yang kami berikan. Mari kita lihat apa yang terjadi jika kita memprediksi akun berbayar\n",
        "setiap kali probabilitas melebihi 0,5:"
      ],
      "metadata": {
        "id": "6tV_J9i0BCE-"
      }
    },
    {
      "cell_type": "code",
      "source": [
        "true_positives = false_positives = true_negatives = false_negatives = 0\n",
        "for x_i, y_i in zip(x_test, y_test):\n",
        "prediction = logistic(dot(beta, x_i))\n",
        "if y_i == 1 and prediction >= 0.5: # TP: paid and we predict paid\n",
        "true_positives += 1\n",
        "elif y_i == 1: # FN: paid and we predict unpaid\n",
        "false_negatives += 1\n",
        "elif prediction >= 0.5: # FP: unpaid and we predict paid\n",
        "false_positives += 1\n",
        "else: # TN: unpaid and we predict unpaid\n",
        "true_negatives += 1\n",
        "precision = true_positives / (true_positives + false_positives)\n",
        "recall = true_positives / (true_positives + false_negatives)\n"
      ],
      "metadata": {
        "id": "4Zccv7PwXpHX"
      },
      "execution_count": null,
      "outputs": []
    },
    {
      "cell_type": "markdown",
      "source": [
        "Ini memberikan ketepatan 75% (“ketika kami memprediksi akun berbayar, kami benar 75% dari waktu”) dan a\n",
        "ingat 80% (“ketika pengguna memiliki akun berbayar, kami memprediksi akun berbayar 80% dari waktu”), yaitu\n",
        "tidak buruk mengingat betapa sedikitnya data yang kami miliki.\n",
        "Kami juga dapat memplot prediksi versus aktual (Gambar 16-4), yang juga menunjukkan model tersebut\n",
        "berkinerja baik:"
      ],
      "metadata": {
        "id": "LZKr_unOYUN1"
      }
    },
    {
      "cell_type": "code",
      "source": [
        "predictions = [logistic(dot(beta, x_i)) for x_i in x_test]\n",
        "plt.scatter(predictions, y_test, marker='+')\n",
        "plt.xlabel(\"predicted probability\")\n",
        "plt.ylabel(\"actual outcome\")\n",
        "plt.title(\"Logistic Regression Predicted vs. Actual\")\n",
        "plt.show()"
      ],
      "metadata": {
        "id": "apl7bNUMYkyo"
      },
      "execution_count": null,
      "outputs": []
    },
    {
      "cell_type": "markdown",
      "source": [],
      "metadata": {
        "id": "D0-o-PZrYl3Y"
      }
    },
    {
      "cell_type": "markdown",
      "source": [
        "## Mendukung Mesin Vektor"
      ],
      "metadata": {
        "id": "GylUBllTH5fs"
      }
    },
    {
      "cell_type": "markdown",
      "source": [],
      "metadata": {
        "id": "EdZb4rcwIA_W"
      }
    },
    {
      "cell_type": "markdown",
      "source": [
        "#Bab. 16 Pohon Keputusan ( Decision Trees)\n",
        "\n",
        "Kelompok 8\n",
        "\n",
        "Putri Nadila (4112321006)\n",
        "\n",
        "Ananda Maya Oktaviani ()\n",
        "\n",
        "Devita Abellia Rahmawati (4112321010)"
      ],
      "metadata": {
        "id": "QRjMwaPgFZRJ"
      }
    },
    {
      "cell_type": "markdown",
      "source": [
        "\n",
        "\n",
        "Pohon adalah misteri yang tidak bisa dipahami.\n",
        "\n",
        "                                        —Jim Woodring\n",
        "\n",
        "VP of Talent Data Sciencester telah mewawancarai sejumlah kandidat pekerjaan dari situs tersebut, dengan berbagai tingkat keberhasilan. Dia mengumpulkan dataset yang terdiri dari beberapa atribut (kualitatif) setiap kandidat, serta apakah kandidat tersebut diwawancarai dengan baik atau buruk. Bisakah Anda, dia bertanya, menggunakan Data ini untuk membangun model yang mengidentifikasi kandidat mana yang akan diwawancarai dengan baik, sehingga dia tidak perlu melakukannya Buang waktu melakukan wawancara?\n",
        "\n",
        "Ini sepertinya cocok untuk pohon keputusan, alat pemodelan prediktif lain dalam ilmuwan dataKit.\n",
        "\n"
      ],
      "metadata": {
        "id": "ntjpC-YDFsc7"
      }
    },
    {
      "cell_type": "markdown",
      "source": [
        "## Apa itu Pohon Keputusan?\n",
        "\n",
        "Pohon keputusan menggunakan struktur pohon untuk mewakili sejumlah jalur keputusan yang mungkin dan hasil untuk setiap jalur.\n",
        "\n",
        "Jika pernah memainkan game Twenty Questions, maka sudah tidak asing lagi dengan pohon keputusan. Contohnya:\n",
        "\n",
        "\n",
        "*   \"Saya sedang memikirkan seekor binatang.\"\n",
        "*   \"Apakah ia memiliki lebih dari lima kaki?\"\n",
        "\n",
        "*   \"Tidak\"\n",
        "*   \"Apakah ini enak?\"\n",
        "\n",
        "*   \"Tidak\"\n",
        "*   \"Apakah itu muncul di belakang koin lima sen Australia?\"\n",
        "\n",
        "*   \"Iya\"\n",
        "*   “Apakah itu ekidna?”\n",
        "\n",
        "*   \"Ya itu!\"\n",
        "\n",
        "Ini sesuai dengan jalur:\n",
        "\n",
        "\"Tidak lebih dari 5 kaki\" → \"Tidak enak\" → \"Pada koin 5 sen\" → \"Ekidna!\"\n",
        "\n",
        "dalam pohon keputusan \"tebak hewan\" yang istimewa (dan tidak terlalu komprehensif) (Gambar 17-1)\n",
        "\n",
        "![p2.PNG](data:image/png;base64,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)\n",
        "\n",
        "Pohon keputusan memiliki banyak hal untuk direkomendasikan. Mereka sangat mudah dimengerti dan ditafsirkan, dan\n",
        "Proses di mana mereka mencapai prediksi benar-benar transparan. Berbeda dengan model lain yang kami miliki\n",
        "Melihat sejauh ini, pohon keputusan dapat dengan mudah menangani campuran numerik (misalnya, jumlah kaki) dan\n",
        "atribut kategoris (misalnya, delicious/not delicious) dan bahkan dapat mengklasifikasikan data untuk atribut mana\n",
        "hilang.\n",
        "\n",
        "Pada saat yang sama, menemukan pohon keputusan \"optimal\" untuk satu set data pelatihan secara komputasi adalah\n",
        "masalah yang sangat sulit. (Kita akan menyiasatinya dengan mencoba membangun pohon yang cukup baik dari pada Yang optimal, meskipun untuk kumpulan data besar ini masih bisa menjadi banyak pekerjaan.) Lebih penting lagi, ini sangat mudah (dan sangat buruk) untuk membangun pohon keputusan yang terlalu sesuai dengan data pelatihan, dan yang tidak menggeneralisasi baik untuk data yang tidak terlihat. Kami akan mencari cara untuk mengatasi hal ini.\n",
        "\n",
        "Kebanyakan orang membagi pohon keputusan menjadi pohon klasifikasi (yang menghasilkan output kategoris) dan pohon regresi (yang menghasilkan output numerik). Dalam bab ini, kita akan fokus pada pohon klasifikasi, dan kami akan bekerja melalui algoritma ID3 untuk mempelajari pohon keputusan dari sekumpulan data berlabel, yang seharusnya membantu kita memahami bagaimana pohon keputusan benar-benar bekerja. Untuk mempermudah, kami akan membatasi diri kita pada masalah dengan output biner seperti \"Haruskah saya mempekerjakan kandidat ini?\" atau \"Haruskah saya tampilkan iklan pengunjung situs web ini A atau iklan B?\" atau \"Apakah makan makanan ini saya temukan di kulkas kantor membuatku sakit?\"\n",
        "\n",
        "\n",
        "\n",
        "\n",
        "\n",
        "\n",
        "\n",
        "\n",
        "\n",
        "\n",
        "\n",
        "\n",
        "\n"
      ],
      "metadata": {
        "id": "roeeXT2dMLlZ"
      }
    },
    {
      "cell_type": "markdown",
      "source": [
        "## Entropi\n",
        "\n",
        "Untuk membangun pohon keputusan, kita perlu memutuskan pertanyaan apa yang akan diajukan dan dalam urutan apa. Di\n",
        "Setiap tahap pohon ada beberapa kemungkinan yang telah kita hilangkan dan beberapa yang belum. Sesudah Belajar bahwa seekor hewan tidak memiliki lebih dari lima kaki, kami telah menghilangkan kemungkinan bahwa itu adalah belalang. Kami belum menghilangkan kemungkinan bahwa itu bebek. Setiap partisi pertanyaan yang mungkin kemungkinan yang tersisa sesuai dengan jawabannya.\n",
        "\n",
        "Idealnya, kami ingin memilih pertanyaan yang jawabannya memberikan banyak informasi tentang apa pohon kami harus memprediksi. Jika ada satu pertanyaan ya/tidak yang jawabannya selalu sesuai dengan jawaban \"ya\" Output yang benar dan jawaban \"tidak\" untuk output yang salah (atau sebaliknya), ini akan menjadi pertanyaan yang luar biasa untuk memilih. Sebaliknya, pertanyaan ya / tidak yang tidak ada jawaban memberi Anda banyak informasi baru Tentang apa prediksi seharusnya mungkin bukan pilihan yang baik.\n",
        "\n",
        "Kami menangkap gagasan tentang \"berapa banyak informasi\" dengan entropi. Anda mungkin pernah mendengar istilah ini\n",
        "digunakan untuk berarti gangguan. Kami menggunakannya untuk mewakili ketidakpastian yang terkait dengan data.\n",
        "\n",
        "Bayangkan bahwa kita memiliki satu set S data, masing-masing anggota yang diberi label sebagai milik salah satu yang terbatas jumlah kelas $c_1,..c_n$. Jika semua titik data milik satu kelas, maka tidak ada yang nyata ketidak pastian, yang berarti kita ingin ada entropi rendah. Jika titik data tersebar merata Di seluruh kelas, ada banyak ketidakpastian dan kami ingin ada entropi tinggi.\n",
        "\n",
        "Dalam istilah matematika, $p_i$ jika pi adalah proporsi data yang diberi label sebagai kelas $c_i$ , kami mendefinisikan entropi sebagai:\n",
        "\n",
        "$$ H(S)= -p_i log_2pi-...-p_n log_2pn$$\n",
        "\n",
        "dengan konvensi (standar) yang 0 log 0 = 0.\n",
        "Tanpa terlalu khawatir tentang detail mengerikan, setiap istilah $-p_i log_2pi$ tidak negatif dan mendekati 0 tepatnya ketika $p_i$ mendekati 0 atau mendekati 1 (Gambar 17-2).\n",
        "\n",
        "![image.png](data:image/png;base64,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)\n",
        "\n",
        "Ini berarti entropi akan menjadi kecil ketika setiap $p_i$ mendekati 0 atau 1 (i.e., ketika sebagian besar data dalam\n",
        "satu kelas), dan itu akan lebih besar ketika banyak $p_i$'s tidak mendekati 0 (i.e., ketika data tersebar di beberapa kelas). Inilah perilaku yang kita inginkan.\n",
        "\n",
        "Cukup mudah untuk menggulung semua ini menjadi fungsi:\n",
        "\n"
      ],
      "metadata": {
        "id": "5G-MF6lgMPsr"
      }
    },
    {
      "cell_type": "code",
      "source": [
        "from typing import List\n",
        "import math\n",
        "\n",
        "def entropy(class_probabilities: List[float]) -> float:\n",
        "    \"\"\"Given a list of class probabilities, compute the entropy\"\"\"\n",
        "    return sum(-p * math.log(p, 2)\n",
        "                for p in class_probabilities\n",
        "                if p > 0)                   # ignore zero probabilities\n",
        "\n",
        "assert entropy([1.0]) == 0\n",
        "assert entropy([0.5, 0.5]) == 1\n",
        "assert 0.81 < entropy([0.25, 0.75]) < 0.82"
      ],
      "metadata": {
        "id": "EpIgOEEIvrLF"
      },
      "execution_count": null,
      "outputs": []
    },
    {
      "cell_type": "markdown",
      "source": [
        "Data kita akan terdiri dari pasangan (input, label), yang berarti bahwa kita perlu menghitung kelas probabilitas diri kita sendiri. Perhatikan bahwa kami sebenarnya tidak peduli label mana yang terkait dengan masing-masing label Probabilitas, hanya apa probabilitasnya:"
      ],
      "metadata": {
        "id": "D8bAFsFFv-Su"
      }
    },
    {
      "cell_type": "code",
      "source": [
        "from typing import Any\n",
        "from collections import Counter\n",
        "\n",
        "def class_probabilities(labels: List[Any]) -> List[float]:\n",
        "    total_count = len(labels)\n",
        "    return [count / total_count\n",
        "            for count in Counter(labels).values()]\n",
        "\n",
        "def data_entropy(labels: List[Any]) -> float:\n",
        "  return entropy(class_probabilities(labels))\n",
        "\n",
        "assert data_entropy(['a']) == 0\n",
        "assert data_entropy([True, False]) == 1\n",
        "assert data_entropy([3, 4, 4, 4]) == entropy([0.25, 0.75])\n"
      ],
      "metadata": {
        "id": "JlcaOlVOwJWp"
      },
      "execution_count": null,
      "outputs": []
    },
    {
      "cell_type": "markdown",
      "source": [
        "## Entropi Partisi\n",
        "\n",
        "Apa yang telah kami lakukan sejauh ini adalah menghitung entropi (pikirkan \"ketidakpastian\") dari satu set data berlabel. Sekarang, setiap tahap pohon keputusan melibatkan mengajukan pertanyaan yang jawabannya mempartisi data menjadi satu atau (semoga) lebih banyak himpunan bagian. Misalnya, partisi pertanyaan \"apakah memiliki lebih dari lima kaki?\" hewan menjadi mereka yang memiliki lebih dari lima kaki (misalnya, laba-laba) dan mereka yang tidak(misalnya, echidna).\n",
        "\n",
        "Sejalan dengan itu, kami ingin beberapa gagasan tentang entropi yang dihasilkan dari partisi satu set data dalam cara tertentu. Kami ingin partisi memiliki entropi rendah jika membagi data menjadi subset itu sendiri memiliki entropi rendah (yaitu, sangat pasti), dan entropi tinggi jika mengandung himpunan bagian yang (besar dan) memiliki entropi tinggi (yaitu, sangat tidak pasti).\n",
        "\n",
        "Misalnya, pertanyaan \"koin lima sen Australia\" saya cukup bodoh (meskipun cukup beruntung!), Karena itu mempartisi hewan yang tersisa pada saat itu menjadi $s_1=$ {Ekhidna} dan $s_2=$ {segalasesuatu yang lain} dimana $s_2=$ {Kelas}.\n",
        "\n",
        "Secara matematis, jika kita mempartisi data S kita menjadi subset $s_1,...,s_m$ mengandung proporsi $q_1,...,q_m$ dari data, Kemudian kita menghitung entropi partisi sebagai jumlah tertimbang: $$ H = q_{1} H(s_{1})+...+q_m H (s_m)$$\n",
        "\n",
        "yang dapat kita terapkan sebagai:\n",
        "\n"
      ],
      "metadata": {
        "id": "SZaKDlQrtr9p"
      }
    },
    {
      "cell_type": "code",
      "source": [
        "def partition_entropy(subsets: List[List[Any]]) -> float:\n",
        "    \"\"\"Returns the entropy from this partition of data into subsets\"\"\"\n",
        "    total_count = sum(len(subset) for subset in subsets)\n",
        "\n",
        "return sum(data_entropy(subset) * len(subset) / total_count\n",
        "            for subset in subsets)"
      ],
      "metadata": {
        "id": "zNakIEq43bMO"
      },
      "execution_count": null,
      "outputs": []
    },
    {
      "cell_type": "markdown",
      "source": [
        "NOTE\n",
        "\n",
        "---\n",
        "\n",
        "Satu masalah dengan pendekatan ini adalah bahwa partisi oleh atribut dengan banyak nilai yang berbeda akan menghasilkan sangat rendah entropi karena overfitting. Misalnya, bayangkan Anda bekerja untuk bank dan mencoba membangun pohon keputusan untuk memprediksi mana pelanggan Anda cenderung gagal membayar hipotek mereka, menggunakan beberapa data historis sebagai set pelatihan Anda. Bayangkan lebih jauh bahwa himpunan data berisi nomor Jaminan Sosial setiap pelanggan. Partisi pada SSN akan menghasilkan subset satu orang, Masing-masing harus memiliki entropi nol. Tetapi model yang mengandalkan SSN pasti tidak akan menggeneralisasi di luar pelatihan mengeset. Untuk alasan ini, Anda mungkin harus mencoba menghindari (atau bucket, jika sesuai) atribut dengan sejumlah besar kemungkinan nilai saat membuat pohon keputusan.\n",
        "\n",
        "---\n",
        "\n",
        "\n",
        "\n"
      ],
      "metadata": {
        "id": "D1zbg4Ak3x05"
      }
    },
    {
      "cell_type": "markdown",
      "source": [
        "## Membuat Pohon Keputusan\n",
        "\n",
        "VP memberi Anda data orang yang diwawancarai, yang terdiri dari (sesuai spesifikasi Anda) NamedTuple atribut yang relevan untuk setiap kandidat — levelnya, bahasa pilihannya, apakah dia aktif di Twitter, apakah dia memiliki gelar PhD, dan apakah dia mewawancarai dengan baik:"
      ],
      "metadata": {
        "id": "1o5D74Q3Mhq-"
      }
    },
    {
      "cell_type": "code",
      "source": [
        "from typing import NamedTuple, Optional\n",
        "\n",
        "class Candidate(NamedTuple):\n",
        "    level: str\n",
        "    lang: str\n",
        "    tweets: bool\n",
        "    phd: bool\n",
        "    did_well: Optional[bool] = None # allow unlabeled data\n",
        "\n",
        "                  # level lang tweets phd did_well\n",
        "inputs = [Candidate('Senior', 'Java', False, False, False),\n",
        "          Candidate('Senior', 'Java', False, True, False),\n",
        "          Candidate('Mid', 'Python', False, False, True),\n",
        "          Candidate('Junior', 'Python', False, False, True),\n",
        "          Candidate('Junior', 'R', True, False, True),\n",
        "          Candidate('Junior', 'R', True, True, False),\n",
        "          Candidate('Mid', 'R', True, True, True),\n",
        "          Candidate('Senior', 'Python', False, False, False),\n",
        "          Candidate('Senior', 'R', True, False, True),\n",
        "          Candidate('Junior', 'Python', True, False, True),\n",
        "          Candidate('Senior', 'Python', True, True, True),\n",
        "          Candidate('Mid', 'Python', False, True, True),\n",
        "          Candidate('Mid', 'Java', True, False, True),\n",
        "          Candidate('Junior', 'Python', False, True, False)\n",
        "        ]\n"
      ],
      "metadata": {
        "id": "WYAJO9cY4onE"
      },
      "execution_count": null,
      "outputs": []
    },
    {
      "cell_type": "markdown",
      "source": [
        "Pohon kita akan terdiri dari simpul keputusan (yang mengajukan pertanyaan dan mengarahkan kita secara berbeda tergantung pada jawabannya) dan simpul daun (yang memberi kita prediksi). Kami akan membangunnya menggunakan yang relatif sederhana Algoritma ID3, yang beroperasi dengan cara berikut. Katakanlah kita diberi beberapa data berlabel, dan\n",
        "Daftar atribut yang perlu dipertimbangkan untuk bercabang:\n",
        "\n",
        "*   Jika semua data memiliki label yang sama, buat simpul daun yang memprediksi label itu lalu hentikan.\n",
        "*   Jika daftar atribut kosong (yaitu, tidak ada lagi pertanyaan yang mungkin untuk diajukan), buat simpul daun\n",
        "*   Jika tidak, coba partisi data dengan masing-masing atribut.\n",
        "*   Pilih partisi dengan entropi partisi terendah\n",
        "*   Tambahkan simpul keputusan berdasarkan atribut yang dipilih.\n",
        "*   Berulang pada setiap subset yang dipartisi menggunakan atribut yang tersisa.\n",
        "\n",
        "Inilah yang dikenal sebagai algoritma \"serakah\" karena, pada setiap langkah, ia memilih yang paling cepat pilihan terbaik. Dengan dataset, mungkin ada pohon yang lebih baik dengan langkah pertama yang tampak lebih buruk. Jika demikian, ini algoritma tidak akan menemukannya. Meskipun demikian, relatif mudah dipahami dan diterapkan, yang membuatnya Tempat yang bagus untuk mulai menjelajahi pohon keputusan.\n",
        "\n",
        "Mari kita secara manual melalui langkah-langkah ini pada dataset orang yang diwawancarai. Himpunan data memiliki True dan Label palsu, dan kami memiliki empat atribut yang dapat kami bagi. Jadi langkah pertama kita adalah menemukan partisi dengan entropi paling sedikit. Kita akan mulai dengan menulis fungsi yang melakukan partisi:\n"
      ],
      "metadata": {
        "id": "_856EDtm5Q00"
      }
    },
    {
      "cell_type": "code",
      "source": [
        "from typing import Dict, TypeVar\n",
        "from collections import defaultdict\n",
        "\n",
        "T = TypeVar('T') # generic type for inputs\n",
        "\n",
        "def partition_by(inputs: List[T], attribute: str) -> Dict[Any, List[T]]:\n",
        "    \"\"\"Partition the inputs into lists based on the specified attribute.\"\"\"\n",
        "    partitions: Dict[Any, List[T]] = defaultdict(list)\n",
        "    for input in inputs:\n",
        "        key = getattr(input, attribute) # value of the specified attribute\n",
        "        partitions[key].append(input) # add input to the correct partition\n",
        "    return partitions"
      ],
      "metadata": {
        "id": "h2Ca-Ds36dWe"
      },
      "execution_count": null,
      "outputs": []
    },
    {
      "cell_type": "markdown",
      "source": [
        "dan yang menggunakannya untuk menghitung entropi:"
      ],
      "metadata": {
        "id": "_T_yHShF6yHr"
      }
    },
    {
      "cell_type": "code",
      "source": [
        "def partition_entropy_by(inputs: List[Any],\n",
        "                          attribute: str,\n",
        "                          label_attribute: str) -> float:\n",
        "    \"\"\"Compute the entropy corresponding to the given partition\"\"\"\n",
        "    # partitions consist of our inputs\n",
        "    partitions = partition_by(inputs, attribute)\n",
        "\n",
        "    # but partition_entropy needs just the class labels\n",
        "    labels = [[getattr(input, label_attribute) for input in partition]\n",
        "    for partition in partitions.values()]\n",
        "\n",
        "    return partition_entropy(labels)"
      ],
      "metadata": {
        "id": "YBI8XNFC6zJ0"
      },
      "execution_count": null,
      "outputs": []
    },
    {
      "cell_type": "markdown",
      "source": [
        "Maka kita hanya perlu menemukan partisi entropi minimum untuk seluruh dataset:"
      ],
      "metadata": {
        "id": "UUEQ74zY7V8T"
      }
    },
    {
      "cell_type": "code",
      "source": [
        "for key in ['level','lang','tweets','phd']:\n",
        "    print(key, partition_entropy_by(inputs, key, 'did_well'))\n",
        "assert 0.69 < partition_entropy_by(inputs, 'level', 'did_well') < 0.70\n",
        "assert 0.86 < partition_entropy_by(inputs, 'lang', 'did_well') < 0.87\n",
        "assert 0.78 < partition_entropy_by(inputs, 'tweets', 'did_well') < 0.79\n",
        "assert 0.89 < partition_entropy_by(inputs, 'phd', 'did_well') < 0.90\n"
      ],
      "metadata": {
        "id": "aVHGD9_a7fDF"
      },
      "execution_count": null,
      "outputs": []
    },
    {
      "cell_type": "markdown",
      "source": [
        "Entropi terendah berasal dari pemisahan pada level, jadi kita harus membuat subtree untuk setiap kemungkinan nilai level. Setiap kandidat Mid diberi label Benar, yang berarti bahwa subpohon Mid hanyalah sebuah daun node memprediksi Benar. Untuk kandidat Senior, kami memiliki campuran Benar dan Salah, jadi kami perlu Pisahkan lagi:"
      ],
      "metadata": {
        "id": "SihEn6LQ7xIL"
      }
    },
    {
      "cell_type": "code",
      "source": [
        "senior_inputs = [input for input in inputs if input.level == 'Senior']\n",
        "\n",
        "assert 0.4 == partition_entropy_by(senior_inputs, 'lang', 'did_well')\n",
        "assert 0.0 == partition_entropy_by(senior_inputs, 'tweets', 'did_well')\n",
        "assert 0.95 < partition_entropy_by(senior_inputs, 'phd', 'did_well') < 0.96"
      ],
      "metadata": {
        "id": "zMqOWInL73Ps"
      },
      "execution_count": null,
      "outputs": []
    },
    {
      "cell_type": "markdown",
      "source": [
        "Ini menunjukkan kepada kita bahwa perpecahan kita berikutnya harus pada tweet, yang menghasilkan partisi entropi nol. Bagi\n",
        "kandidat tingkat Senior ini, tweet \"ya\" selalu menghasilkan True sementara tweet \"tidak\" selalu menghasilkan dalam Salah.\n",
        "\n",
        "Gambar 17-3 menunjukkan pohon keputusan lengkap\n",
        "\n",
        "![image.png](data:image/png;base64,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)"
      ],
      "metadata": {
        "id": "dT6vMVS-7_Op"
      }
    },
    {
      "cell_type": "markdown",
      "source": [
        "## Menyatukan Semuanya\n",
        "\n",
        "Sekarang kita telah melihat bagaimana algoritma bekerja, kita ingin menerapkannya secara lebih umum. Ini berarti kita perlu memutuskan bagaimana kita ingin mewakili pohon. Kami akan menggunakan cukup banyak yang paling ringan representasi mungkin. Kami mendefinisikan pohon menjadi:\n",
        "\n",
        "*   Sebuah daun(yang memprediksi nilai tunggal), atau\n",
        "*   Perpecahan (berisi atribut untuk dipisahkan, subpohon untuk nilai tertentu dari atribut tersebut, dan\n",
        "mungkin nilai default untuk digunakan jika kita melihat nilai yang tidak diketahui).\n",
        "\n"
      ],
      "metadata": {
        "id": "cEvvsi-kNOpR"
      }
    },
    {
      "cell_type": "code",
      "source": [
        "from typing import NamedTuple, Union, Any\n",
        "\n",
        "\n",
        "class Leaf(NamedTuple):\n",
        "    value: Any\n",
        "\n",
        "\n",
        "class Split(NamedTuple):\n",
        "    attribute: str\n",
        "    subtrees: dict\n",
        "    default_value: Any = None\n",
        "\n",
        "\n",
        "DecisionTree = Union[Leaf, Split]"
      ],
      "metadata": {
        "id": "OpgYDPBS9YK4"
      },
      "execution_count": null,
      "outputs": []
    },
    {
      "cell_type": "markdown",
      "source": [
        "Dengan representasi ini, pohon perekrutan kami akan terlihat seperti:"
      ],
      "metadata": {
        "id": "UMz8xaUt9r44"
      }
    },
    {
      "cell_type": "code",
      "source": [
        "hiring_tree = Split('level', {  # first, consider \"level\"\n",
        "    'Junior': Split('phd', {    # if level is \"Junior\", next look at \"phd\"\n",
        "        False: Leaf(True),      # if \"phd\" is False, predict True\n",
        "        True: Leaf(False)       # if \"phd\" is True, predict False\n",
        "    }),\n",
        "    'Mid': Leaf(True),          # if level is \"Mid\", just predict True\n",
        "    'Senior': Split('tweets', { # if level is \"Senior\", look at \"tweets\"\n",
        "        False: Leaf(False),     # if \"tweets\" is False, predict False\n",
        "        True: Leaf(True)        # if \"tweets\" is True, predict True\n",
        "    })\n",
        "})"
      ],
      "metadata": {
        "id": "yEIsFmf89twZ"
      },
      "execution_count": null,
      "outputs": []
    },
    {
      "cell_type": "markdown",
      "source": [
        "Masih ada pertanyaan tentang apa yang harus dilakukan jika kita menemukan nilai atribut yang tidak terduga (atau hilang). Apa yang harus dilakukan pohon perekrutan kita jika bertemu dengan kandidat yang levelnya Magang? Kami akan menangani ini kasus dengan mengisi atribut default_value dengan label yang paling umum.\n",
        "\n",
        "Dengan representasi seperti itu, kita dapat mengklasifikasikan input dengan:"
      ],
      "metadata": {
        "id": "5IXuxeox-Q2G"
      }
    },
    {
      "cell_type": "code",
      "source": [
        "def classify(tree: DecisionTree, input: Any) -> Any:\n",
        "    \"\"\"classify the input using the given decision tree\"\"\"\n",
        "\n",
        "\n",
        "    # If this is a leaf node, return its value\n",
        "    if isinstance(tree, Leaf):\n",
        "        return tree.value\n",
        "\n",
        "\n",
        "    # Otherwise this tree consists of an attribute to split on\n",
        "    # and a dictionary whose keys are values of that attribute\n",
        "    # and whose values are subtrees to consider next\n",
        "    subtree_key = getattr(input, tree.attribute)\n",
        "\n",
        "\n",
        "    if subtree_key not in tree.subtrees:  # If no subtree for key,\n",
        "        return tree.default_value         # return the default value.\n",
        "\n",
        "\n",
        "    subtree = tree.subtrees[subtree_key]  # Choose the appropriate subtree\n",
        "    return classify(subtree, input)       # and use it to classify the input."
      ],
      "metadata": {
        "id": "ipTGAjUz-YXR"
      },
      "execution_count": null,
      "outputs": []
    },
    {
      "cell_type": "markdown",
      "source": [
        "Yang tersisa hanyalah membangun representasi pohon dari data pelatihan kami:"
      ],
      "metadata": {
        "id": "DKx2166q_FCw"
      }
    },
    {
      "cell_type": "code",
      "source": [
        "def build_tree_id3(inputs: List[Any],\n",
        "                    split_attributes: List[str],\n",
        "                    target_attribute: str) -> DecisionTree:\n",
        "    # Count target labels\n",
        "    label_counts = Counter(getattr(input, target_attribute)\n",
        "                            for input in inputs)\n",
        "    most_common_label = label_counts.most_common(1)[0][0]\n",
        "\n",
        "\n",
        "    # If there's a unique label, predict it\n",
        "    if len(label_counts) == 1:\n",
        "        return Leaf(most_common_label)\n",
        "\n",
        "\n",
        "    # If no split attributes left, return the majority label\n",
        "    if not split_attributes:\n",
        "        return Leaf(most_common_label)\n",
        "\n",
        "\n",
        "    # Otherwise split by the best attribute\n",
        "\n",
        "\n",
        "    def split_entropy(attribute: str) -> float:\n",
        "        \"\"\"Helper function for finding the best attribute\"\"\"\n",
        "        return partition_entropy_by(inputs, attribute, target_attribute)\n",
        "\n",
        "\n",
        "    best_attribute = min(split_attributes, key=split_entropy)\n",
        "\n",
        "\n",
        "    partitions = partition_by(inputs, best_attribute)\n",
        "    new_attributes = [a for a in split_attributes if a != best_attribute]\n",
        "\n",
        "\n",
        "    # Recursively build the subtrees\n",
        "    subtrees = {attribute_value : build_tree_id3(subset,\n",
        "                                                  new_attributes,\n",
        "                                                  target_attribute)\n",
        "                for attribute_value, subset in partitions.items()}\n",
        "\n",
        "\n",
        "return Split(best_attribute, subtrees, default_value=most_common_label)\n"
      ],
      "metadata": {
        "id": "5GCwWcWt_J5n"
      },
      "execution_count": null,
      "outputs": []
    },
    {
      "cell_type": "markdown",
      "source": [
        "Di pohon yang kami bangun, setiap daun seluruhnya terdiri dari input Benar atau seluruhnya dari input Palsu. Ini berarti pohon memprediksi dengan sempurna pada himpunan data pelatihan. Tapi kita juga bisa menerapkannya pada data baru yang tidak ada di set pelatihan:"
      ],
      "metadata": {
        "id": "dxvYLJhHAnwy"
      }
    },
    {
      "cell_type": "code",
      "source": [
        "tree = build_tree_id3(inputs,\n",
        "                      ['level', 'lang', 'tweets', 'phd'],\n",
        "                      'did_well')\n",
        "\n",
        "# Should predict True\n",
        "assert classify(tree, Candidate(\"Junior\", \"Java\", True, False))\n",
        "\n",
        "# Should predict False\n",
        "assert not classify(tree, Candidate(\"Junior\", \"Java\", True, True))"
      ],
      "metadata": {
        "id": "O9dUG8BbAx27"
      },
      "execution_count": null,
      "outputs": []
    },
    {
      "cell_type": "markdown",
      "source": [
        "Dan juga untuk data dengan nilai yang tidak terduga:"
      ],
      "metadata": {
        "id": "kYkJQxhnBCjp"
      }
    },
    {
      "cell_type": "code",
      "source": [
        "# Should predict True\n",
        "assert classify(tree, Candidate(\"Intern\", \"Java\", True, True))"
      ],
      "metadata": {
        "id": "G2E-lm8kBHeq"
      },
      "execution_count": null,
      "outputs": []
    },
    {
      "cell_type": "markdown",
      "source": [
        "NOTE\n",
        "\n",
        "---\n",
        "Karena tujuan kami terutama untuk menunjukkan cara membangun pohon, kami membangun pohon menggunakan seluruh dataset. Seperti biasa, jika kita Jika benar-benar mencoba membuat model yang baik untuk sesuatu, kami akan mengumpulkan lebih banyak data dan membaginya menjadi melatih / validasi / menguji subset.\n",
        "\n",
        "---\n",
        "\n",
        "\n",
        "\n"
      ],
      "metadata": {
        "id": "O4du-dCwBPFH"
      }
    },
    {
      "cell_type": "markdown",
      "source": [
        "## Hutan Acak\n",
        "\n",
        "Mengingat seberapa dekat pohon keputusan dapat menyesuaikan diri dengan data pelatihan mereka, tidak mengherankan bahwa mereka memiliki kecenderungan untuk overfit. Salah satu cara untuk menghindari ini adalah teknik yang disebut hutan acak, di mana Kami membangun beberapa pohon keputusan dan menggabungkan outputnya. Jika mereka pohon klasifikasi, kita mungkin biarkan mereka memilih; Jika mereka pohon regresi, kita mungkin rata-rata prediksi mereka.\n",
        "\n",
        "Proses pembangunan pohon kami bersifat deterministik, jadi bagaimana kami mendapatkan pohon secara acak?\n",
        "\n",
        "Satu bagian melibatkan data bootstrapping (ingat \"Digression: The Bootstrap\"). Daripada berlatih\n",
        "Setiap pohon pada semua input dalam set pelatihan, kami melatih setiap pohon pada hasil bootstrap_sample(masukan). Karena setiap pohon dibangun menggunakan data yang berbeda, setiap pohon akan berbeda dari setiap pohon lainnya. (Manfaat sampingan adalah bahwa itu benar-benar adil untuk menggunakan data nonsampled untuk menguji masing-masing\n",
        "pohon, yang berarti Anda bisa lolos dengan menggunakan semua data Anda sebagai set pelatihan jika Anda pintar bagaimana Anda mengukur kinerja.) Teknik ini dikenal sebagai bootstrap aggregating atau bagging.\n",
        "\n",
        "Sumber keacakan kedua melibatkan perubahan cara kita memilih best_attribute untuk dibagi di atas. Daripada melihat semua atribut yang tersisa, pertama-tama kita memilih subset acak dari mereka dan Kemudian pisahkan mana yang terbaik:"
      ],
      "metadata": {
        "id": "jyQkpfDENgGC"
      }
    },
    {
      "cell_type": "code",
      "source": [
        "# if there are already few enough split candidates, look at all of them\n",
        "if len(split_candidates) <= self.num_split_candidates:\n",
        "    sampled_split_candidates = split_candidates\n",
        "# otherwise pick a random sample\n",
        "else:\n",
        "    sampled_split_candidates = random.sample(split_candidates,\n",
        "                                            self.num_split_candidates)\n",
        "# now choose the best attribute only from those candidates\n",
        "best_attribute = min(sampled_split_candidates, key=split_entropy)\n",
        "\n",
        "partitions = partition_by(inputs, best_attribute)"
      ],
      "metadata": {
        "id": "wEN-V0oaCEQ1"
      },
      "execution_count": null,
      "outputs": []
    },
    {
      "cell_type": "markdown",
      "source": [
        "Ini adalah contoh teknik yang lebih luas yang disebut pembelajaran ansambel di mana kami menggabungkan beberapa\n",
        "Pembelajar yang lemah (biasanya bias tinggi, model varians rendah) untuk menghasilkan keseluruhan yang kuat pola.\n"
      ],
      "metadata": {
        "id": "61BuPUr7CguN"
      }
    },
    {
      "cell_type": "markdown",
      "source": [
        "## Untuk Eksplorasi Lebih Lanjut\n",
        "\n",
        "\n",
        "*   Scikit-learn memiliki banyak model pohon keputusan. Ini juga memiliki modul ansambel yang mencakup RandomForestClassifier serta metode ansambel lainnya.\n",
        "\n",
        "*   XGBoost adalah perpustakaan untuk melatih gradien didorong pohon keputusan yang cenderung memenangkan banyak\n",
        "Kompetisi pembelajaran mesin bergaya Kaggle.\n",
        "\n",
        "*   Kami baru saja menggores permukaan pohon keputusan dan algoritmanya. Wikipedia adalah Titik awal yang baik untuk eksplorasi yang lebih luas.\n",
        "\n",
        "\n",
        "\n",
        "\n"
      ],
      "metadata": {
        "id": "QphWjsc1uNqG"
      }
    }
  ]
}