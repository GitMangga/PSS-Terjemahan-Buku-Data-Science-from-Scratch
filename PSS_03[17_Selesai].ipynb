{
  "nbformat": 4,
  "nbformat_minor": 0,
  "metadata": {
    "colab": {
      "provenance": [],
      "toc_visible": true
    },
    "kernelspec": {
      "name": "python3",
      "display_name": "Python 3"
    },
    "language_info": {
      "name": "python"
    }
  },
  "cells": [
    {
      "cell_type": "markdown",
      "source": [
        "# Bab 17 Neural Networks\n",
        "\n",
        "Gustian 4112321002 \\\\\n",
        "Kuncoro Adi Wibowo 4112321028"
      ],
      "metadata": {
        "id": "zIgIkkoye_fw"
      }
    },
    {
      "cell_type": "markdown",
      "source": [
        "Saya suka omong kosong; omong kosong membangunkan sel-sel otak.\n",
        "-Dr. Seuss\n",
        "\n",
        "Jaringan syaraf tiruan (atau disingkat JST) adalah model prediktif yang dimotivasi oleh cara otak beroperasi. Bayangkan otak sebagai kumpulan neuron yang terhubung bersama. Setiap neuron melihat output dari neuron lain yang masuk ke dalamnya, melakukan perhitungan, dan kemudian menembak (jika perhitungannya melebihi ambang batas) atau tidak (jika tidak).\n",
        "\n",
        "Dengan demikian, jaringan saraf tiruan terdiri dari neuron-neuron tiruan, yang melakukan hal serupa melakukan perhitungan yang sama atas input mereka. Jaringan saraf dapat memecahkan berbagai macam masalah seperti tulisan tangan pengenalan dan deteksi wajah, dan mereka banyak digunakan dalam pembelajaran mendalam, salah satu yang paling trendi subbidang ilmu data. Namun, sebagian besar jaringan saraf adalah \"kotak hitam\"-memeriksa detailnya tidak memberi Anda banyak pemahaman tentang bagaimana mereka memecahkan masalah. Dan jaringan saraf yang besar bisa jadi sulit untuk dilatih. Untuk sebagian besar masalah yang akan Anda hadapi sebagai ilmuwan data pemula, mereka adalah mungkin bukan pilihan yang tepat. Suatu hari nanti, ketika Anda mencoba membangun kecerdasan buatan untuk membawa tentang Singularitas, mungkin saja mereka akan berhasil."
      ],
      "metadata": {
        "id": "hgl0z8n1fXSN"
      }
    },
    {
      "cell_type": "markdown",
      "source": [
        "## Perceptrons\n",
        "\n",
        "Jaringan saraf yang paling sederhana adalah perceptron, yang mendekati neuron tunggal dengan n input biner. Jaringan ini menghitung jumlah tertimbang dari inputnya dan \"menyala\" jika jumlah tertimbang tersebut adalah 0 atau lebih besar:"
      ],
      "metadata": {
        "id": "-iHHkNNsfaNA"
      }
    },
    {
      "cell_type": "code",
      "source": [
        "from scratch.linear_algebra import Vector, dot\n",
        "\n",
        "def step_function(x: float) -> float:\n",
        "    return 1.0 if x >= 0 else 0.0\n",
        "\n",
        "def perceptron_output(weights: Vector, bias: float, x: Vector) -> float:\n",
        "    \"\"\"Returns 1 if the perceptron 'fires', 0 if not\"\"\"\n",
        "    calculation = dot(weights, x) + bias\n",
        "    return step_function(calculation)"
      ],
      "metadata": {
        "id": "rRoi-iE8fhAX"
      },
      "execution_count": null,
      "outputs": []
    },
    {
      "cell_type": "markdown",
      "source": [
        "Perceptron secara sederhana membedakan antara setengah ruang yang dipisahkan oleh hyperplane titik-titik x yang mana:"
      ],
      "metadata": {
        "id": "FYlRqM_DfoPy"
      }
    },
    {
      "cell_type": "code",
      "source": [
        "dot(weights, x) + bias == 0"
      ],
      "metadata": {
        "id": "YytrIDXSfppN"
      },
      "execution_count": null,
      "outputs": []
    },
    {
      "cell_type": "markdown",
      "source": [
        "Dengan bobot yang dipilih secara tepat, perceptron dapat memecahkan sejumlah masalah sederhana (Gambar 18-1). Sebagai Sebagai contoh, kita bisa membuat gerbang AND (yang mengembalikan 1 jika kedua masukannya adalah 1 tetapi mengembalikan 0 jika salah satu masukannya adalah 0) dengan:"
      ],
      "metadata": {
        "id": "uj5akIn7ftUi"
      }
    },
    {
      "cell_type": "code",
      "source": [
        "and_weights = [2., 2]\n",
        "and_bias = -3.\n",
        "\n",
        "assert perceptron_output(and_weights, and_bias, [1, 1]) == 1\n",
        "assert perceptron_output(and_weights, and_bias, [0, 1]) == 0\n",
        "assert perceptron_output(and_weights, and_bias, [1, 0]) == 0\n",
        "assert perceptron_output(and_weights, and_bias, [0, 0]) == 0"
      ],
      "metadata": {
        "id": "eWmBvn6ZfvHO"
      },
      "execution_count": null,
      "outputs": []
    },
    {
      "cell_type": "markdown",
      "source": [
        "Jika kedua input adalah 1, perhitungannya sama dengan 2 + 2 - 3 = 1, dan outputnya adalah 1. Jika hanya salah satu input yang 1, perhitungannya sama dengan 2 + 0 - 3 = -1, dan outputnya adalah 0. Dan jika kedua input input adalah 1, perhitungannya sama dengan 2 + 0 - 3 = -1, dan outputnya adalah 0. Dan jika kedua input adalah 0, perhitungannya sama dengan -3, dan outputnya adalah 0.\n",
        "\n",
        "Dengan menggunakan penalaran yang sama, kita dapat membuat gerbang OR dengan:"
      ],
      "metadata": {
        "id": "7QFTk0odf0Kg"
      }
    },
    {
      "cell_type": "code",
      "source": [
        "or_weights = [2., 2]\n",
        "or_bias = -1.\n",
        "\n",
        "assert perceptron_output(or_weights, or_bias, [1, 1]) == 1\n",
        "assert perceptron_output(or_weights, or_bias, [0, 1]) == 1\n",
        "assert perceptron_output(or_weights, or_bias, [1, 0]) == 1\n",
        "assert perceptron_output(or_weights, or_bias, [0, 0]) == 0"
      ],
      "metadata": {
        "id": "SB2JOoLSf1v_"
      },
      "execution_count": null,
      "outputs": []
    },
    {
      "cell_type": "markdown",
      "source": [
        "Kita juga dapat membuat gerbang NOT (yang memiliki satu masukan dan mengubah 1 ke 0 dan 0 ke 1) dengan:"
      ],
      "metadata": {
        "id": "A_oaH5a6f4K6"
      }
    },
    {
      "cell_type": "code",
      "source": [
        "not_weights = [-2.]\n",
        "not_bias = 1.\n",
        "\n",
        "assert perceptron_output(not_weights, not_bias, [0]) == 1\n",
        "assert perceptron_output(not_weights, not_bias, [1]) == 0"
      ],
      "metadata": {
        "id": "JButU-0gf5nw"
      },
      "execution_count": null,
      "outputs": []
    },
    {
      "cell_type": "markdown",
      "source": [
        "Namun demikian, ada beberapa masalah yang tidak dapat diselesaikan oleh satu perceptron. Sebagai contoh, tidak peduli seberapa keras Anda mencoba, Anda tidak dapat menggunakan perceptron untuk membangun gerbang XOR yang menghasilkan 1 jika tepat salah satu inputnya adalah 1 dan 0 jika tidak. Di sinilah kita mulai membutuhkan jaringan syaraf yang lebih rumit.\n",
        "yang lebih rumit.\n",
        "\n",
        "Tentu saja, Anda tidak perlu membuat perkiraan neuron untuk membangun gerbang logika:"
      ],
      "metadata": {
        "id": "WlmS5WoYgAVl"
      }
    },
    {
      "cell_type": "code",
      "source": [
        "and_gate = min\n",
        "or_gate = max\n",
        "xor_gate = lambda x, y: 0 if x == y else 1"
      ],
      "metadata": {
        "id": "_tRLDcPOgCCH"
      },
      "execution_count": null,
      "outputs": []
    },
    {
      "cell_type": "markdown",
      "source": [
        "Seperti neuron asli, neuron buatan mulai menjadi lebih menarik ketika Anda mulai menghubungkannya bersama-sama."
      ],
      "metadata": {
        "id": "BrqG6b7mgFhQ"
      }
    },
    {
      "cell_type": "markdown",
      "source": [
        "## Feed-Forward Neural Networks\n",
        "\n",
        "Topologi otak sangat rumit, sehingga sangat umum untuk mendekatinya dengan jaringan saraf feed-forward yang ideal yang terdiri dari lapisan-lapisan neuron diskrit, masing-masing terhubung ke lapisan berikutnya. Hal ini biasanya melibatkan lapisan input (yang menerima input dan meneruskannya ke depan tanpa perubahan), satu atau lebih \"lapisan tersembunyi\" (yang masing-masing terdiri dari neuron yang mengambil output dari lapisan sebelumnya, melakukan beberapa kalkulasi, dan meneruskan hasilnya ke lapisan berikutnya), dan lapisan output (yang menghasilkan output akhir).\n",
        "\n",
        "Sama seperti pada perceptron, setiap neuron (non-input) memiliki bobot yang sesuai dengan masing-masing input dan bias. Untuk membuat representasi kita lebih sederhana, kita akan menambahkan bias pada akhir vektor bobot kita dan memberikan setiap neuron input bias yang selalu sama dengan 1.\n",
        "\n",
        "Seperti halnya perceptron, untuk setiap neuron, kita akan menjumlahkan hasil kali antara input dan bobotnya. Tetapi di sini, alih-alih mengeluarkan fungsi step_function yang diterapkan pada hasil penjumlahan tersebut, kita akan mengeluarkan sebuah aproksimasi yang halus. Di sini kita akan menggunakan fungsi sigmoid (Gambar 18-2):"
      ],
      "metadata": {
        "id": "3dZYBXRMgJqy"
      }
    },
    {
      "cell_type": "code",
      "source": [
        "import math\n",
        "\n",
        "def sigmoid(t: float) -> float:\n",
        "return 1 / (1 + math.exp(-t))"
      ],
      "metadata": {
        "id": "qkPedO-_gZyR"
      },
      "execution_count": null,
      "outputs": []
    },
    {
      "cell_type": "markdown",
      "source": [
        "Mengapa menggunakan sigmoid dan bukan step_function yang lebih sederhana? Untuk melatih jaringan syaraf, kita perlu menggunakan kalkulus, dan untuk menggunakan kalkulus, kita perlu fungsi mulus. step_function bahkan tidak kontinu, dan sigmoid adalah pendekatan mulus yang baik untuk itu.\n",
        "\n",
        "**CATATAN**\n",
        "\n",
        "Anda mungkin ingat sigmoid dari Bab 16, di mana ia disebut logistik. Secara teknis \"sigmoid\" mengacu pada bentuk fungsi dan \"logistik\" pada fungsi khusus ini, meskipun orang sering menggunakan istilah tersebut secara bergantian.\n",
        "\n",
        "Kami kemudian menghitung output sebagai:"
      ],
      "metadata": {
        "id": "I1EvYQnfgjDo"
      }
    },
    {
      "cell_type": "code",
      "source": [
        "def neuron_output(weights: Vector, inputs: Vector) -> float:\n",
        "    # weights includes the bias term, inputs includes a 1\n",
        "    return sigmoid(dot(weights, inputs))"
      ],
      "metadata": {
        "id": "ii0UErH_gnwT"
      },
      "execution_count": null,
      "outputs": []
    },
    {
      "cell_type": "markdown",
      "source": [
        "Dengan fungsi ini, kita dapat merepresentasikan sebuah neuron secara sederhana sebagai sebuah vektor bobot yang panjangnya satu kali lipat dari jumlah input pada neuron tersebut (karena adanya bobot bias). Kemudian kita dapat merepresentasikan jaringan saraf sebagai sebuah daftar lapisan (non-input), di mana setiap lapisan hanyalah sebuah daftar dari neuron-neuron di lapisan tersebut.\n",
        "\n",
        "Dengan kata lain, kita akan merepresentasikan jaringan syaraf sebagai sebuah daftar (lapisan) daftar (neuron) vektor (bobot).\n",
        "\n",
        "Dengan representasi seperti itu, menggunakan jaringan syaraf cukup sederhana:"
      ],
      "metadata": {
        "id": "OAB8Cbfdg6EU"
      }
    },
    {
      "cell_type": "code",
      "source": [
        "from typing import List\n",
        "\n",
        "def feed_forward(neural_network: List[List[Vector]],\n",
        "                 input_vector: Vector) -> List[Vector]:\n",
        "    \"\"\"\n",
        "    Feeds the input vector through the neural network.\n",
        "    Returns the outputs of all layers (not just the last one).\n",
        "    \"\"\"\n",
        "    outputs: List[Vector] = []\n",
        "    for layer in neural_network:\n",
        "        input_with_bias = input_vector + [1] # Add a constant.\n",
        "        output = [neuron_output(neuron, input_with_bias) # Compute the output\n",
        "                  for neuron in layer] # for each neuron.\n",
        "        outputs.append(output) # Add to results.\n",
        "\n",
        "        # Then the input to the next layer is the output of this one\n",
        "        input_vector = output\n",
        "\n",
        "return outputs"
      ],
      "metadata": {
        "id": "JQOZc_5wg74c"
      },
      "execution_count": null,
      "outputs": []
    },
    {
      "cell_type": "markdown",
      "source": [
        "Sekarang sangat mudah untuk membuat gerbang XOR yang tidak dapat kita buat dengan sebuah perceptron. Kita hanya perlu meningkatkan skala bobotnya sehingga neuron_output benar-benar mendekati 0 atau benar-benar mendekati 1:"
      ],
      "metadata": {
        "id": "YZf7HDDfhUzD"
      }
    },
    {
      "cell_type": "code",
      "source": [
        "xor_network = [# hidden layer\n",
        "               [[20., 20, -30],     # 'and' neuron\n",
        "                [20., 20, -10]],    # 'or' neuron\n",
        "               # output layer\n",
        "               [[-60., 60, -30]]]   # '2nd input but not 1st input' neuron\n",
        "\n",
        "# feed_forward returns the outputs of all layers, so the [-1] gets the\n",
        "# final output, and the [0] gets the value out of the resulting vector\n",
        "assert 0.000 < feed_forward(xor_network, [0, 0])[-1][0] < 0.001\n",
        "assert 0.999 < feed_forward(xor_network, [1, 0])[-1][0] < 1.000\n",
        "assert 0.999 < feed_forward(xor_network, [0, 1])[-1][0] < 1.000\n",
        "assert 0.000 < feed_forward(xor_network, [1, 1])[-1][0] < 0.001"
      ],
      "metadata": {
        "id": "1A8aozBfhYCF"
      },
      "execution_count": null,
      "outputs": []
    },
    {
      "cell_type": "markdown",
      "source": [
        "Untuk input yang diberikan (yang merupakan vektor dua dimensi), lapisan tersembunyi menghasilkan vektor dua dimensi vektor dua dimensi yang terdiri dari \"dan\" dari dua nilai input dan \"atau\" dari dua nilai input.\n",
        "\n",
        "Dan lapisan output mengambil vektor dua dimensi dan menghitung \"elemen kedua tetapi bukan elemen pertama\". elemen pertama.\" Hasilnya adalah sebuah jaringan yang melakukan \"atau, tetapi bukan dan,\" yang tepatnya adalah XOR (Gambar 18 - 3). 3)."
      ],
      "metadata": {
        "id": "_9oF0EhHhqOx"
      }
    },
    {
      "cell_type": "markdown",
      "source": [
        "![Screenshot 2023-06-06 140559.png](data:image/png;base64,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)"
      ],
      "metadata": {
        "id": "C8B7sNuchuZz"
      }
    },
    {
      "cell_type": "markdown",
      "source": [
        "Salah satu cara yang disarankan untuk memikirkan hal ini adalah bahwa lapisan tersembunyi menghitung fitur-fitur input data (dalam hal ini \"dan\" dan \"atau\") dan lapisan output menggabungkan fitur-fitur tersebut dengan cara menghasilkan output yang diinginkan."
      ],
      "metadata": {
        "id": "n76taFfGhyQT"
      }
    },
    {
      "cell_type": "markdown",
      "source": [
        "## Backpropagation\n",
        "\n",
        "Biasanya kita tidak membuat jaringan syaraf secara manual. Hal ini sebagian karena kita menggunakannya untuk menyelesaikan banyak masalah yang lebih besar - masalah pengenalan gambar mungkin melibatkan ratusan atau ribuan neuron. Dan sebagian lagi karena kita biasanya tidak dapat \"menebak\" seperti apa neuron-neuron itu seharusnya.\n",
        "\n",
        "Sebagai gantinya (seperti biasa) kita menggunakan data untuk melatih jaringan saraf. Pendekatan yang umum digunakan adalah algoritma yang disebut backpropagation, yang menggunakan gradient descent atau salah satu variannya.\n",
        "\n",
        "Bayangkan kita memiliki sebuah set pelatihan yang terdiri dari vektor-vektor input dan vektor-vektor output target yang sesuai. Sebagai contoh, pada contoh xor_network sebelumnya, vektor input [1, 0] berhubungan dengan target keluaran [1]. Bayangkan jaringan kita memiliki beberapa set bobot. Kita kemudian menyesuaikan bobot-bobot tersebut menggunakan menggunakan algoritma berikut:\n",
        "\n",
        "1. Jalankan feed_forward pada vektor input untuk menghasilkan output dari semua neuron dalam jaringan jaringan.\n",
        "2. Kita mengetahui target keluaran, sehingga kita dapat menghitung kerugian yang merupakan jumlah dari kesalahan kuadrat.\n",
        "3. Hitung gradien dari kerugian ini sebagai fungsi dari bobot neuron keluaran.\n",
        "4. \"Perbanyak\" gradien dan kesalahan ke belakang untuk menghitung gradien sehubungan dengan bobot neuron tersembunyi.\n",
        "5. Lakukan langkah penurunan gradien.\n",
        "\n",
        "Biasanya kita menjalankan algoritma ini berkali-kali untuk seluruh set pelatihan kita sampai jaringan menjadi konvergen.\n",
        "\n",
        "Pertama-tama, mari kita tuliskan fungsi untuk menghitung gradien:\n"
      ],
      "metadata": {
        "id": "yBxHTonPiC3J"
      }
    },
    {
      "cell_type": "code",
      "source": [
        "def sqerror_gradients(network: List[List[Vector]],\n",
        "                      input_vector: Vector,\n",
        "                      target_vector: Vector) -> List[List[Vector]]:\n",
        "    \"\"\"\n",
        "    Given a neural network, an input vector, and a target vector,\n",
        "    make a prediction and compute the gradient of the squared error\n",
        "    loss with respect to the neuron weights.\n",
        "    \"\"\"\n",
        "    # forward pass\n",
        "    hidden_outputs, outputs = feed_forward(network, input_vector)\n",
        "\n",
        "    # gradients with respect to output neuron pre-activation outputs\n",
        "    output_deltas = [output * (1 - output) * (output - target)\n",
        "                     for output, target in zip(outputs, target_vector)]\n",
        "\n",
        "    # gradients with respect to output neuron weights\n",
        "    output_grads = [[output_deltas[i] * hidden_output\n",
        "                     for hidden_output in hidden_outputs + [1]]\n",
        "                    for i, output_neuron in enumerate(network[-1])]\n",
        "\n",
        "    # gradients with respect to hidden neuron pre-activation outputs\n",
        "    hidden_deltas = [hidden_output * (1 - hidden_output) *\n",
        "                         dot(output_deltas, [n[i] for n in network[-1]])\n",
        "                     for i, hidden_output in enumerate(hidden_outputs)]\n",
        "\n",
        "    # gradients with respect to hidden neuron weights\n",
        "    hidden_grads = [[hidden_deltas[i] * input for input in input_vector + [1]]\n",
        "                    for i, hidden_neuron in enumerate(network[0])]\n",
        "\n",
        "    return [hidden_grads, output_grads]"
      ],
      "metadata": {
        "id": "1s70h7UzisfR"
      },
      "execution_count": null,
      "outputs": []
    },
    {
      "cell_type": "markdown",
      "source": [
        "Matematika di balik perhitungan sebelumnya tidak terlalu sulit, tetapi melibatkan beberapa kalkulus yang membosankan dan perhatian yang cermat terhadap detail, jadi saya akan meninggalkannya sebagai latihan untuk Anda.\n",
        "\n",
        "Berbekal kemampuan untuk menghitung gradien, sekarang kita dapat melatih jaringan saraf. Mari kita coba mempelajari jaringan XOR yang sebelumnya telah kita rancang secara manual.\n",
        "\n",
        "Kita akan mulai dengan membuat data pelatihan dan menginisialisasi jaringan syaraf tiruan kita dengan bobot acak:"
      ],
      "metadata": {
        "id": "T16qnzQMjOE8"
      }
    },
    {
      "cell_type": "code",
      "source": [
        "import random\n",
        "random.seed(0)\n",
        "\n",
        "# training data\n",
        "xs = [[0., 0], [0., 1], [1., 0], [1., 1]]\n",
        "ys = [[0.], [1.], [1.], [0.]]\n",
        "\n",
        "# start with random weights\n",
        "network = [ # hidden layer: 2 inputs -> 2 outputs\n",
        "            [[random.random() for _ in range(2 + 1)],   # 1st hidden neuron\n",
        "             [random.random() for _ in range(2 + 1)]],  # 2nd hidden neuron\n",
        "            # output layer: 2 inputs -> 1 output\n",
        "            [[random.random() for _ in range(2 + 1)]]   # 1st output neuron\n",
        "          ]"
      ],
      "metadata": {
        "id": "Dgx_kzXyjQCa"
      },
      "execution_count": null,
      "outputs": []
    },
    {
      "cell_type": "markdown",
      "source": [
        "Seperti biasa, kita bisa melatihnya dengan menggunakan gradient descent. Satu perbedaan dari contoh sebelumnya adalah bahwa di sini kita memiliki beberapa vektor parameter, masing-masing dengan gradiennya sendiri, yang berarti kita harus memanggil gradient_step untuk masing-masing vektor tersebut."
      ],
      "metadata": {
        "id": "SRJd3MWSjfrh"
      }
    },
    {
      "cell_type": "code",
      "source": [
        "from scratch.gradient_descent import gradient_step\n",
        "import tqdm\n",
        "\n",
        "learning_rate = 1.0\n",
        "\n",
        "for epoch in tqdm.trange(20000, desc=\"neural net for xor\"):\n",
        "    for x, y in zip(xs, ys):\n",
        "        gradients = sqerror_gradients(network, x, y)\n",
        "\n",
        "        # Take a gradient step for each neuron in each layer\n",
        "        network = [[gradient_step(neuron, grad, -learning_rate)\n",
        "                    for neuron, grad in zip(layer, layer_grad)]\n",
        "                   for layer, layer_grad in zip(network, gradients)]\n",
        "\n",
        "# check that it learned XOR\n",
        "assert feed_forward(network, [0, 0])[-1][0] < 0.01\n",
        "assert feed_forward(network, [0, 1])[-1][0] > 0.99\n",
        "assert feed_forward(network, [1, 0])[-1][0] > 0.99\n",
        "assert feed_forward(network, [1, 1])[-1][0] < 0.01"
      ],
      "metadata": {
        "id": "m6GGffNXjh3i"
      },
      "execution_count": null,
      "outputs": []
    },
    {
      "cell_type": "markdown",
      "source": [
        "Bagi saya, jaringan yang dihasilkan memiliki bobot yang terlihat seperti itu:"
      ],
      "metadata": {
        "id": "CtHL3_V7js0w"
      }
    },
    {
      "cell_type": "code",
      "source": [
        "[ # hidden layer\n",
        "  [[7, 7, -3], # computes OR\n",
        "   [5, 5, -8]], # computes AND\n",
        "  # output layer\n",
        "  [[11, -12, -5]] # computes \"first but not second\"\n",
        "]"
      ],
      "metadata": {
        "id": "bV0_iNfljuZG"
      },
      "execution_count": null,
      "outputs": []
    },
    {
      "cell_type": "markdown",
      "source": [
        "yang secara konseptual sangat mirip dengan jaringan kami sebelumnya."
      ],
      "metadata": {
        "id": "Qujuakydj0ee"
      }
    },
    {
      "cell_type": "markdown",
      "source": [
        "## Contoh: Fizz Buzz\n",
        "\n",
        "Wakil Presiden Teknik ingin mewawancarai kandidat teknis dengan membuat mereka memecahkan \"Fizz Buzz,\" tantangan pemrograman yang sudah dikenal dengan baik:"
      ],
      "metadata": {
        "id": "BDmAS2Uvj43b"
      }
    },
    {
      "cell_type": "code",
      "source": [
        "Print the numbers 1 to 100, except that if the number is divisible\n",
        "by 3, print \"fizz\"; if the number is divisible by 5, print \"buzz\";\n",
        "and if the number is divisible by 15, print \"fizzbuzz\"."
      ],
      "metadata": {
        "id": "xVBLFgTcj_Yk"
      },
      "execution_count": null,
      "outputs": []
    },
    {
      "cell_type": "markdown",
      "source": [
        "Menurutnya, kemampuan untuk menyelesaikan hal ini menunjukkan keterampilan pemrograman yang ekstrem. Anda berpikir bahwa ini masalah ini sangat sederhana sehingga jaringan syaraf bisa menyelesaikannya.\n",
        "\n",
        "Jaringan syaraf mengambil vektor sebagai input dan menghasilkan vektor sebagai output. Seperti yang dinyatakan, pemrograman masalahnya adalah mengubah bilangan bulat menjadi sebuah string. Jadi tantangan pertama adalah menemukan cara untuk menyusunnya kembali sebagai masalah vektor.\n",
        "\n",
        "Untuk keluarannya, hal ini tidaklah sulit: pada dasarnya ada empat kelas keluaran, sehingga kita dapat mengkodekan keluaran sebagai sebuah vektor yang terdiri dari empat angka 0 dan 1:"
      ],
      "metadata": {
        "id": "BSEKxqIYkAMd"
      }
    },
    {
      "cell_type": "code",
      "source": [
        "def fizz_buzz_encode(x: int) -> Vector:\n",
        "    if x % 15 == 0:\n",
        "        return [0, 0, 0, 1]\n",
        "    elif x % 5 == 0:\n",
        "        return [0, 0, 1, 0]\n",
        "    elif x % 3 == 0:\n",
        "        return [0, 1, 0, 0]\n",
        "    else:\n",
        "        return [1, 0, 0, 0]\n",
        "\n",
        "assert fizz_buzz_encode(2) == [1, 0, 0, 0]\n",
        "assert fizz_buzz_encode(6) == [0, 1, 0, 0]\n",
        "assert fizz_buzz_encode(10) == [0, 0, 1, 0]\n",
        "assert fizz_buzz_encode(30) == [0, 0, 0, 1]"
      ],
      "metadata": {
        "id": "4QRf2YAykJAQ"
      },
      "execution_count": null,
      "outputs": []
    },
    {
      "cell_type": "markdown",
      "source": [
        "Kita akan menggunakan ini untuk menghasilkan vektor target. Vektor input tidak terlalu jelas. Anda tidak ingin hanya menggunakan vektor satu dimensi yang berisi angka masukan, karena beberapa alasan. Sebuah masukan tunggal menangkap sebuah \"intensitas\", tetapi fakta bahwa 2 adalah dua kali lebih banyak dari 1, dan 4 adalah dua kali lebih banyak lagi, tidak relevan dengan masalah ini. Selain itu, hanya dengan satu input, lapisan tersembunyi tidak akan dapat menghitung fitur yang sangat menarik, yang berarti mungkin tidak akan dapat menyelesaikan masalah.\n",
        "\n",
        "Ternyata satu hal yang bekerja dengan cukup baik adalah mengubah setiap angka menjadi representasi binernya binernya, yaitu representasi 1 dan 0. (Jangan khawatir, hal ini tidak jelas-setidaknya bagi saya tidak jelas)."
      ],
      "metadata": {
        "id": "L3MuBk8_kcbr"
      }
    },
    {
      "cell_type": "code",
      "source": [
        "def binary_encode(x: int) -> Vector:\n",
        "    binary: List[float] = []\n",
        "\n",
        "    for i in range(10):\n",
        "        binary.append(x % 2)\n",
        "        x = x // 2\n",
        "\n",
        "    return binary\n",
        "\n",
        "#                             1 2 4 8 16 32 64 128 256 512\n",
        "assert binary_encode(0)   == [0, 0, 0, 0, 0, 0, 0, 0, 0, 0]\n",
        "assert binary_encode(1)   == [1, 0, 0, 0, 0, 0, 0, 0, 0, 0]\n",
        "assert binary_encode(10)  == [0, 1, 0, 1, 0, 0, 0, 0, 0, 0]\n",
        "assert binary_encode(101) == [1, 0, 1, 0, 0, 1, 1, 0, 0, 0]\n",
        "assert binary_encode(999) == [1, 1, 1, 0, 0, 1, 1, 1, 1, 1]"
      ],
      "metadata": {
        "id": "fJpaqGNmkf78"
      },
      "execution_count": null,
      "outputs": []
    },
    {
      "cell_type": "markdown",
      "source": [
        "Karena tujuannya adalah untuk membuat output untuk angka 1 hingga 100, maka akan menjadi curang jika melatih angka-angka tersebut angka-angka tersebut. Oleh karena itu, kita akan melatih angka 101 hingga 1.023 (yang merupakan angka terbesar yang bisa kita yang dapat kita wakili dengan 10 digit biner):"
      ],
      "metadata": {
        "id": "xUKknXAUkt5e"
      }
    },
    {
      "cell_type": "code",
      "source": [
        "xs = [binary_encode(n) for n in range(101, 1024)]\n",
        "ys = [fizz_buzz_encode(n) for n in range(101, 1024)]"
      ],
      "metadata": {
        "id": "6OqCza6UkvXw"
      },
      "execution_count": null,
      "outputs": []
    },
    {
      "cell_type": "markdown",
      "source": [
        "Selanjutnya, mari kita buat jaringan syaraf dengan bobot awal yang acak. Jaringan ini akan memiliki 10 neuron input (karena kita merepresentasikan input kita sebagai vektor 10 dimensi) dan 4 neuron output (karena kita merepresentasikan target kita sebagai vektor 4 dimensi). Kita akan memberikannya 25 unit tersembunyi, tetapi kita akan menggunakan variabel untuk itu agar mudah diubah:"
      ],
      "metadata": {
        "id": "m8S2oBJ1k2yJ"
      }
    },
    {
      "cell_type": "code",
      "source": [
        "NUM_HIDDEN = 25\n",
        "\n",
        "network = [\n",
        "    # hidden layer: 10 inputs -> NUM_HIDDEN outputs\n",
        "    [[random.random() for _ in range(10 + 1)] for _ in range(NUM_HIDDEN)],\n",
        "\n",
        "    # output_layer: NUM_HIDDEN inputs -> 4 outputs\n",
        "    [[random.random() for _ in range(NUM_HIDDEN + 1)] for _ in range(4)]\n",
        "]"
      ],
      "metadata": {
        "id": "P9KhugA3k4FV"
      },
      "execution_count": null,
      "outputs": []
    },
    {
      "cell_type": "markdown",
      "source": [
        "Itu dia. Sekarang kami siap untuk berlatih. Karena ini adalah masalah yang lebih rumit (dan ada banyak banyak hal yang harus dikacaukan), kami ingin memantau proses pelatihan dengan cermat. Secara khusus, untuk setiap kita akan melacak jumlah kesalahan kuadrat dan mencetaknya. Kami ingin memastikan bahwa jumlah tersebut berkurang:"
      ],
      "metadata": {
        "id": "1HGyhkSik_I_"
      }
    },
    {
      "cell_type": "code",
      "source": [
        "from scratch.linear_algebra import squared_distance\n",
        "\n",
        "learning_rate = 1.0\n",
        "\n",
        "with tqdm.trange(500) as t:\n",
        "    for epoch in t:\n",
        "        epoch_loss = 0.0\n",
        "\n",
        "        for x, y in zip(xs, ys):\n",
        "            predicted = feed_forward(network, x)[-1]\n",
        "            epoch_loss += squared_distance(predicted, y)\n",
        "            gradients = sqerror_gradients(network, x, y)\n",
        "\n",
        "            # Take a gradient step for each neuron in each layer\n",
        "            network = [[gradient_step(neuron, grad, -learning_rate)\n",
        "                        for neuron, grad in zip(layer, layer_grad)]\n",
        "                    for layer, layer_grad in zip(network, gradients)]\n",
        "\n",
        "        t.set_description(f\"fizz buzz (loss: {epoch_loss:.2f})\")"
      ],
      "metadata": {
        "id": "qKWUHfbWlA2J"
      },
      "execution_count": null,
      "outputs": []
    },
    {
      "cell_type": "markdown",
      "source": [
        "Ini akan memakan waktu beberapa saat untuk berlatih, tetapi pada akhirnya kerugian akan mulai berkurang.\n",
        "\n",
        "Akhirnya kita siap untuk menyelesaikan masalah awal kita. Kami memiliki satu masalah yang tersisa. Jaringan kita akan akan menghasilkan vektor angka empat dimensi, tetapi kita ingin satu prediksi. Kita akan melakukannya dengan mengambil argmax, yang merupakan indeks dari nilai terbesar:"
      ],
      "metadata": {
        "id": "qS61n_EtlVhx"
      }
    },
    {
      "cell_type": "code",
      "source": [
        "def argmax(xs: list) -> int:\n",
        "    \"\"\"Returns the index of the largest value\"\"\"\n",
        "    return max(range(len(xs)), key=lambda i: xs[i])\n",
        "\n",
        "assert argmax([0, -1]) == 0               # items[0] is largest\n",
        "assert argmax([-1Sekarang kita akhirnya bisa memecahkan \"FizzBuzz\":, 0]) == 1               # items[1] is largest\n",
        "assert argmax([-1, 10, 5, 20, -3]) == 3   # items[3] is largest"
      ],
      "metadata": {
        "id": "C4o4rRQPlXP1"
      },
      "execution_count": null,
      "outputs": []
    },
    {
      "cell_type": "markdown",
      "source": [
        "Sekarang kita akhirnya bisa memecahkan \"FizzBuzz\":"
      ],
      "metadata": {
        "id": "L4blwcXPlfwL"
      }
    },
    {
      "cell_type": "code",
      "source": [
        "num_correct = 0\n",
        "\n",
        "for n in range(1, 101):\n",
        "    x = binary_encode(n)\n",
        "    predicted = argmax(feed_forward(network, x)[-1])\n",
        "    actual = argmax(fizz_buzz_encode(n))\n",
        "    labels = [str(n), \"fizz\", \"buzz\", \"fizzbuzz\"]\n",
        "    print(n, labels[predicted], labels[actual])\n",
        "\n",
        "    if predicted == actual:\n",
        "        num_correct += 1\n",
        "print(num_correct, \"/\", 100)"
      ],
      "metadata": {
        "id": "jvVm5nnslhbJ"
      },
      "execution_count": null,
      "outputs": []
    },
    {
      "cell_type": "markdown",
      "source": [
        "Bagi saya, jaringan yang dilatih mendapatkan 96/100 benar, yang jauh di atas ambang batas perekrutan VP of Engineering ambang batas. Dihadapkan dengan bukti-bukti tersebut, dia mengalah dan mengubah tantangan wawancara menjadi \" Invert a Binary Binary Tree.\""
      ],
      "metadata": {
        "id": "YvUwsA_BlwtM"
      }
    },
    {
      "cell_type": "markdown",
      "source": [
        "# Bab 18 Pembelajaran Mendalam (Deep Learning)\n",
        "Yusnia Halimatussa'diyah 4112321007\n",
        "\n",
        "Fitria Adiba 4112321030\n",
        "\n"
      ],
      "metadata": {
        "id": "HUUcabW_c5i1"
      }
    },
    {
      "cell_type": "markdown",
      "source": [
        "Deep Learning awalnya mengacu pada penerapan jaringan neural \"dalam\" (yaitu, jaringan dengan lebih dari satu lapisan tersembunyi), meskipun dalam praktiknya istilah tersebut sekarang mencakup berbagai arsitektur neural (termasuk jaringan neural \"sederhana\"). Dalam bab ini kita akan melanjutkan pekerjaan kita sebelumnya dan melihat lebih banyak jenis jaringan neural. Untuk melakukannya, kami akan memperkenalkan sejumlah abstraksi yang memungkinkan kami berpikir tentang jaringan neural dengan cara yang lebih umum."
      ],
      "metadata": {
        "id": "HpEo9uvHFu5C"
      }
    },
    {
      "cell_type": "markdown",
      "source": [
        "##Tensor\n",
        "Sebelumnya, kita telah membedakan antara vektor (array satu dimensi) dan matriks (array dua dimensi). Saat mulai bekerja dengan jaringan neural yang lebih rumit, harus menggunakan array dimensi yang lebih tinggi juga. Di banyak perpustakaan jaringan neural, array n-dimensi disebut sebagai tensor. (Ada alasan matematis yang bertele-tele untuk tidak merujuk array n-dimensi sebagai tensor.) Jika saya menulis seluruh buku tentang *deep learning*, saya akan mengimplementasikan Tensor berfitur lengkap kelas yang membebani operator aritmatika Python dan dapat menangani berbagai operasi lainnya. Implementasi seperti itu akan memakan satu bab sendiri. Di sini kami akan menipu dan mengatakan bahwa Tensor hanyalah sebuah daftar. Ini benar dalam satu arah—semua vektor dan matriks kita dan analog dimensi yang lebih tinggi adalah daftar. Ini tentu saja tidak benar di arah lain—kebanyakan daftar Python bukan array n-dimensi dalam pengertian kita."
      ],
      "metadata": {
        "id": "OsN02uILm8t5"
      }
    },
    {
      "cell_type": "markdown",
      "source": [
        "NOTE\n",
        "\n",
        "Idealnya Anda ingin melakukan sesuatu seperti:"
      ],
      "metadata": {
        "id": "H9_GrD_0yJWo"
      }
    },
    {
      "cell_type": "code",
      "source": [
        "# A Tensor is either a float, or a List of Tensors\n",
        "Tensor = Union[float, List[Tensor]]"
      ],
      "metadata": {
        "id": "EpIgOEEIvrLF"
      },
      "execution_count": null,
      "outputs": []
    },
    {
      "cell_type": "markdown",
      "source": [
        "Namun, Python tidak mengizinkan Anda menentukan tipe rekursif seperti itu. Dan bahkan jika definisi itu masih tidak benar, karena memungkinkan\n",
        "untuk \"tensor\" yang buruk seperti:"
      ],
      "metadata": {
        "id": "TkPLEu9go1L-"
      }
    },
    {
      "cell_type": "code",
      "source": [
        "[[1.0, 2.0],\n",
        " [3.0]]\n"
      ],
      "metadata": {
        "id": "KMLkdhK2pEzC"
      },
      "execution_count": null,
      "outputs": []
    },
    {
      "cell_type": "markdown",
      "source": [
        "yang barisnya memiliki ukuran berbeda, yang menjadikannya bukan array n-dimensi."
      ],
      "metadata": {
        "id": "NYtNTTl_pK2Q"
      }
    },
    {
      "cell_type": "markdown",
      "source": [
        "Jadi, seperti yang saya katakan, kami hanya akan menipu:"
      ],
      "metadata": {
        "id": "Cjrpphf_pZn2"
      }
    },
    {
      "cell_type": "code",
      "source": [
        "Tensor = list"
      ],
      "metadata": {
        "id": "t1fhQmO_pagD"
      },
      "execution_count": null,
      "outputs": []
    },
    {
      "cell_type": "markdown",
      "source": [
        "Dan kami akan menulis fungsi pembantu untuk menemukan bentuk tensor:"
      ],
      "metadata": {
        "id": "OcxhW26Wpc65"
      }
    },
    {
      "cell_type": "code",
      "source": [
        "from typing import List\n",
        "\n",
        "def shape(tensor: Tensor) -> List[int]:\n",
        "  sizes: List[int] = []\n",
        "  while isinstance(tensor, list):\n",
        "    sizes.append(len(tensor))\n",
        "    tensor = tensor[0]\n",
        "  return sizes\n",
        "\n",
        "assert shape([1, 2, 3]) == [3]\n",
        "assert shape([[1, 2], [3, 4], [5, 6]]) == [3, 2]"
      ],
      "metadata": {
        "id": "oJybQRJ1piTk"
      },
      "execution_count": null,
      "outputs": []
    },
    {
      "cell_type": "markdown",
      "source": [
        "Karena tensor dapat memiliki jumlah dimensi berapa pun, biasanya kita perlu bekerja dengannya\n",
        "secara rekursif. Kami akan melakukan satu hal dalam kasus satu dimensi dan berulang dalam dimensi yang lebih tinggi\n",
        "kasus:"
      ],
      "metadata": {
        "id": "2vgLdEI2p57w"
      }
    },
    {
      "cell_type": "code",
      "source": [
        "def is_1d(tensor: Tensor) -> bool:\n",
        "  \"\"\"\n",
        "  If tensor[0] is a list, it's a higher-order tensor.\n",
        "  Otherwise, tensor is 1-dimensional (that is, a vector).\n",
        "  \"\"\"\n",
        "  return not isinstance(tensor[0], list)\n",
        "\n",
        "assert is_1d([1, 2, 3])\n",
        "assert not is_1d([[1, 2], [3, 4]])"
      ],
      "metadata": {
        "id": "BPz0DmZEqA8C"
      },
      "execution_count": null,
      "outputs": []
    },
    {
      "cell_type": "markdown",
      "source": [
        "yang dapat kita gunakan untuk menulis fungsi tensor_sum rekursif:"
      ],
      "metadata": {
        "id": "IHGqNIw4qKLg"
      }
    },
    {
      "cell_type": "code",
      "source": [
        "def tensor_sum(tensor: Tensor) -> float:\n",
        "  \"\"\"Sums up all the values in the tensor\"\"\"\n",
        "  if is_1d(tensor):\n",
        "    return sum(tensor) # just a list of floats, use Python sum\n",
        "else:\n",
        "    return sum(tensor_sum(tensor_i)   # Call tensor_sum on each row\n",
        "              for tensor_i in tensor) # and sum up those results.\n",
        "\n",
        "assert tensor_sum([1, 2, 3]) == 6\n",
        "assert tensor_sum([[1, 2], [3, 4]]) == 10"
      ],
      "metadata": {
        "id": "7no1hrSdqRrF"
      },
      "execution_count": null,
      "outputs": []
    },
    {
      "cell_type": "markdown",
      "source": [
        "Jika Anda tidak terbiasa berpikir secara rekursif, Anda harus merenungkan ini sampai masuk akal, karena kami akan melakukannya menggunakan logika yang sama sepanjang bab ini. Namun, kami akan membuat beberapa fungsi pembantu agar\n",
        "kita tidak perlu menulis ulang logika ini di mana-mana. Yang pertama menerapkan fungsi dengan elemen tunggal\n",
        "tensor:"
      ],
      "metadata": {
        "id": "T7_vO2jjqk1a"
      }
    },
    {
      "cell_type": "code",
      "source": [
        "from typing import Callable\n",
        "\n",
        "def tensor_apply(f: Callable[[float], float], tensor: Tensor) -> Tensor:\n",
        "  \"\"\"Applies f elementwise\"\"\"\n",
        "  if is_1d(tensor):\n",
        "      return [f(x) for x in tensor]\n",
        "  else:\n",
        "      return [tensor_apply(f, tensor_i) for tensor_i in tensor]\n",
        "\n",
        "assert tensor_apply(lambda x: x + 1, [1, 2, 3]) == [2, 3, 4]\n",
        "assert tensor_apply(lambda x: 2 * x, [[1, 2], [3, 4]]) == [[2, 4], [6, 8]]"
      ],
      "metadata": {
        "id": "KH_HyT-uq02z"
      },
      "execution_count": null,
      "outputs": []
    },
    {
      "cell_type": "markdown",
      "source": [
        "Kita dapat menggunakan ini untuk menulis fungsi yang membuat tensor nol dengan bentuk yang sama dengan tensor yang diberikan:"
      ],
      "metadata": {
        "id": "HgLtQvmBrBvn"
      }
    },
    {
      "cell_type": "code",
      "source": [
        "def zeros_like(tensor: Tensor) -> Tensor:\n",
        "    return tensor_apply(lambda _: 0.0, tensor)\n",
        "\n",
        "assert zeros_like([1, 2, 3]) == [0, 0, 0]\n",
        "assert zeros_like([[1, 2], [3, 4]]) == [[0, 0], [0, 0]]"
      ],
      "metadata": {
        "id": "3O4aygkHrHYh"
      },
      "execution_count": null,
      "outputs": []
    },
    {
      "cell_type": "markdown",
      "source": [
        "Kita juga perlu menerapkan fungsi ke elemen yang sesuai dari dua tensor (yang sebaiknya bentuk yang persis sama, meskipun kami tidak akan memeriksanya):"
      ],
      "metadata": {
        "id": "6mbsyxBfrN25"
      }
    },
    {
      "cell_type": "code",
      "source": [
        "def tensor_combine(f: Callable[[float, float], float],\n",
        "                   t1: Tensor,\n",
        "                   t2: Tensor) -> Tensor:\n",
        "    \"\"\"Applies f to corresponding elements of t1 and t2\"\"\"\n",
        "    if is_1d(t1):\n",
        "        return [f(x, y) for x, y in zip(t1, t2)]\n",
        "    else:\n",
        "        return [tensor_combine(f, t1_i, t2_i)\n",
        "                for t1_i, t2_i in zip(t1, t2)]\n",
        "\n",
        "import operator\n",
        "assert tensor_combine(operator.add, [1, 2, 3], [4, 5, 6]) == [5, 7, 9]\n",
        "assert tensor_combine(operator.mul, [1, 2, 3], [4, 5, 6]) == [4, 10, 18]"
      ],
      "metadata": {
        "id": "0PbpRZLqrUf9"
      },
      "execution_count": null,
      "outputs": []
    },
    {
      "cell_type": "markdown",
      "source": [
        "##Lapisan Abstraksi\n",
        "Di bab sebelumnya kita membuat jaringan neural sederhana yang memungkinkan kita menumpuk dua lapisan neuron, yang masing-masing menghitung sigmoid(titik(bobot, masukan)).\n",
        "\n",
        "Meskipun itu mungkin representasi ideal dari apa yang sebenarnya dilakukan oleh neuron, dalam praktiknya kami ingin mengizinkan lebih banyak variasi hal. Mungkin kita ingin neuron mengingat sesuatu tentang masukan mereka sebelumnya. Mungkin kami ingin menggunakan fungsi aktivasi yang berbeda dari sigmoid. Dan seringkali kami ingin menggunakan lebih dari dua lapisan. (Fungsi feed_forward kami benar-benar menangani sejumlah lapisan, tetapi perhitungan gradien kami tidak.)\n",
        "Dalam bab ini kita akan membuat mesin untuk mengimplementasikan beragam jaringan neural. Abstraksi fundamental kita akan menjadi Layer, sesuatu yang tahu bagaimana menerapkan beberapa fungsi ke inputnya dan yang tahu bagaimana mem-backpropagate gradien. Salah satu cara berpikir tentang jaringan neural yang kita buat di Bab 18 adalah sebagai lapisan “linear”,\n",
        "diikuti oleh lapisan \"sigmoid\", lalu lapisan linier lainnya dan lapisan sigmoid lainnya. Kami tidak membedakan mereka dalam istilah-istilah ini, tetapi hal itu akan memungkinkan kami untuk bereksperimen dengan struktur yang jauh lebih umum:"
      ],
      "metadata": {
        "id": "O5fJ3ktim90o"
      }
    },
    {
      "cell_type": "code",
      "source": [
        "from typing import Iterable, Tuple\n",
        "\n",
        "class Layer:\n",
        "  \"\"\"\n",
        "  Our neural networks will be composed of Layers, each of which\n",
        "  knows how to do some computation on its inputs in the \"forward\"\n",
        "  direction and propagate gradients in the \"backward\" direction.\n",
        "  \"\"\"\n",
        "  def forward(self, input):\n",
        "      \"\"\"\n",
        "      Note the lack of types. We're not going to be prescriptive\n",
        "      about what kinds of inputs layers can take and what kinds\n",
        "      of outputs they can return.\n",
        "      \"\"\"\n",
        "      raise NotImplementedError\n",
        "\n",
        "  def backward(self, gradient):\n",
        "      \"\"\"\n",
        "      Similarly, we're not going to be prescriptive about what the\n",
        "      gradient looks like. It's up to you the user to make sure\n",
        "      that you're doing things sensibly.\n",
        "      \"\"\"\n",
        "      raise NotImplementedError\n",
        "\n",
        "  def params(self) -> Iterable[Tensor]:\n",
        "      \"\"\"\n",
        "      Returns the parameters of this layer. The default implementation\n",
        "      returns nothing, so that if you have a layer with no parameters\n",
        "      you don't have to implement this.\n",
        "      \"\"\"\n",
        "      return ()\n",
        "\n",
        "  def grads(self) -> Iterable[Tensor]:\n",
        "      \"\"\"\n",
        "      Returns the gradients, in the same order as params().\n",
        "      \"\"\"\n",
        "      return ()\n"
      ],
      "metadata": {
        "id": "hkehL_vEs6kg"
      },
      "execution_count": null,
      "outputs": []
    },
    {
      "cell_type": "markdown",
      "source": [
        "Metode maju dan mundur harus diimplementasikan dalam subkelas konkret kita. Setelah kami membangun jaringan saraf, kami ingin melatihnya menggunakan penurunan gradien, yang berarti kami ingin memperbarui setiap parameter di jaringan menggunakan gradiennya. Oleh karena itu, kami bersikeras agar setiap lapisan dapat memberi tahu kami parameter dan gradiennya.\n",
        "\n",
        "Beberapa layer (misalnya, layer yang menerapkan sigmoid ke setiap inputnya) tidak memiliki parameter untuk diperbarui, jadi kami menyediakan implementasi default yang menangani kasus tersebut.\n",
        "Mari kita lihat lapisan itu:"
      ],
      "metadata": {
        "id": "aJ8jKM1LuLhX"
      }
    },
    {
      "cell_type": "code",
      "source": [
        "from scratch.neural_networks import sigmoid\n",
        "\n",
        "class Sigmoid(Layer):\n",
        "    def forward(self, input: Tensor) -> Tensor:\n",
        "        \"\"\"\n",
        "        Apply sigmoid to each element of the input tensor,\n",
        "        and save the results to use in backpropagation.\n",
        "        \"\"\"\n",
        "        self.sigmoids = tensor_apply(sigmoid, input)\n",
        "        return self.sigmoids\n",
        "\n",
        "  def backward(self, gradient: Tensor) -> Tensor:\n",
        "        return tensor_combine(lambda sig, grad: sig * (1 - sig) * grad,\n",
        "                              self.sigmoids,\n",
        "                              gradient)"
      ],
      "metadata": {
        "id": "RB9vvn-lubx0"
      },
      "execution_count": null,
      "outputs": []
    },
    {
      "cell_type": "markdown",
      "source": [
        "Ada beberapa hal yang perlu diperhatikan di sini. Salah satunya adalah selama forward pass kami menyimpan sigmoid yang dihitung sehingga kami dapat menggunakannya nanti di backward pass. Lapisan kami biasanya perlu melakukan hal semacam ini.\n",
        "\n",
        "Kedua, Anda mungkin bertanya-tanya dari mana sig * (1 - sig) * grad berasal. Ini hanyalah aturan rantai dari kalkulus dan sesuai dengan istilah output * (1 - output) * (output - target) di jaringan saraf kita sebelumnya.\n",
        "\n",
        "Terakhir, Anda dapat melihat bagaimana kami dapat menggunakan fungsi tensor_apply dan tensor_combine. Sebagian besar lapisan kami akan menggunakan fungsi ini dengan cara yang sama."
      ],
      "metadata": {
        "id": "D6k-iaJwuqiC"
      }
    },
    {
      "cell_type": "markdown",
      "source": [
        "##Lapisan Linier\n",
        "Bagian lain yang kita perlukan untuk menduplikasi jaringan neural dari bab sebelumnya adalah lapisan \"linear\" yang mewakili bagian titik (bobot, masukan) dari neuron.\n",
        "\n",
        "Lapisan ini akan memiliki parameter, yang ingin kita inisialisasi dengan nilai acak. Ternyata nilai parameter awal dapat membuat perbedaan besar dalam seberapa cepat (dan terkadang apakah) jaringan berlatih. Jika bobot terlalu besar, mereka dapat menghasilkan keluaran yang besar dalam rentang di mana fungsi aktivasi memiliki gradien mendekati nol. Dan bagian dari jaringan yang memiliki gradien nol tidak dapat mempelajari apa pun melalui penurunan gradien.\n",
        "\n",
        "Oleh karena itu, kami akan menerapkan tiga skema berbeda untuk membuat tensor bobot secara acak. Yang pertama adalah memilih setiap nilai dari distribusi seragam acak pada [0, 1]—yaitu, sebagai random.random(). Yang kedua (dan default) adalah memilih setiap nilai secara acak dari distribusi normal standar. Dan yang ketiga adalah menggunakan inisialisasi Xavier, dimana setiap bobot diinisialisasi dengan penarikan acak dari distribusi normal dengan rata-rata 0 dan varians 2 / (num_inputs + num_outputs). Ternyata ini sering bekerja dengan baik untuk bobot jaringan neural. Kami akan mengimplementasikannya dengan fungsi random_uniform dan fungsi random_normal:"
      ],
      "metadata": {
        "id": "StXnNPYkm-Vg"
      }
    },
    {
      "cell_type": "code",
      "source": [
        "import random\n",
        "\n",
        "from scratch.probability import inverse_normal_cdf\n",
        "\n",
        "def random_uniform(*dims: int) -> Tensor:\n",
        "    if len(dims) == 1:\n",
        "        return [random.random() for _ in range(dims[0])]\n",
        "    else:\n",
        "        return [random_uniform(*dims[1:]) for _ in range(dims[0])]\n",
        "\n",
        "def random_normal(*dims: int,\n",
        "                  mean: float = 0.0,\n",
        "                  variance: float = 1.0) -> Tensor:\n",
        "    if len(dims) == 1:\n",
        "        return [mean + variance * inverse_normal_cdf(random.random())\n",
        "                for _ in range(dims[0])]\n",
        "    else:\n",
        "        return [random_normal(*dims[1:], mean=mean, variance=variance)\n",
        "                for _ in range(dims[0])]\n",
        "\n",
        "assert shape(random_uniform(2, 3, 4)) == [2, 3, 4]\n",
        "assert shape(random_normal(5, 6, mean=10)) == [5, 6]"
      ],
      "metadata": {
        "id": "zJH_c952v8Aw"
      },
      "execution_count": null,
      "outputs": []
    },
    {
      "cell_type": "markdown",
      "source": [
        "Dan kemudian bungkus semuanya dalam fungsi random_tensor:"
      ],
      "metadata": {
        "id": "iA8QGOTKwkOl"
      }
    },
    {
      "cell_type": "code",
      "source": [
        "def random_tensor(*dims: int, init: str = 'normal') -> Tensor:\n",
        "    if init == 'normal':\n",
        "        return random_normal(*dims)\n",
        "    elif init == 'uniform':\n",
        "        return random_uniform(*dims)\n",
        "    elif init == 'xavier':\n",
        "        variance = len(dims) / sum(dims)\n",
        "        return random_normal(*dims, variance=variance)\n",
        "    else:\n",
        "        raise ValueError(f\"unknown init: {init}\")"
      ],
      "metadata": {
        "id": "7BpNE6gNwp9M"
      },
      "execution_count": null,
      "outputs": []
    },
    {
      "cell_type": "markdown",
      "source": [
        "Sekarang kita dapat mendefinisikan layer linier kita. Kita perlu menginisialisasinya dengan dimensi input (yang memberi tahu kita berapa banyak bobot yang dibutuhkan setiap neuron), dimensi output (yang memberi tahu kita berapa banyak neuron yang harus kita miliki), dan skema inisialisasi yang kita inginkan:"
      ],
      "metadata": {
        "id": "Wh58gd4Qw5Zc"
      }
    },
    {
      "cell_type": "code",
      "source": [
        "from scratch.linear_algebra import dot\n",
        "\n",
        "class Linear(Layer):\n",
        "    def __init__(self,\n",
        "                 input_dim: int,\n",
        "                 output_dim: int,\n",
        "                 init: str = 'xavier') -> None:\n",
        "        \"\"\"\n",
        "        A layer of output_dim neurons, each with input_dim weights\n",
        "        (and a bias).\n",
        "        \"\"\"\n",
        "        self.input_dim = input_dim\n",
        "        self.output_dim = output_dim\n",
        "\n",
        "        # self.w[o] is the weights for the oth neuron\n",
        "        self.w = random_tensor(output_dim, input_dim, init=init)\n",
        "\n",
        "        # self.b[o] is the bias term for the oth neuron\n",
        "        self.b = random_tensor(output_dim, init=init)"
      ],
      "metadata": {
        "id": "y-itUa-Bw_6s"
      },
      "execution_count": null,
      "outputs": []
    },
    {
      "cell_type": "markdown",
      "source": [
        "NOTE\n",
        "\n",
        "Jika Anda bertanya-tanya seberapa penting skema inisialisasi, beberapa jaringan dalam bab ini saya tidak bisa berlatih sama sekali dengan inisialisasi yang berbeda dari yang saya gunakan."
      ],
      "metadata": {
        "id": "-b6jqS2UxS75"
      }
    },
    {
      "cell_type": "markdown",
      "source": [
        "Metode forward mudah diimplementasikan. Kami akan mendapatkan satu keluaran per neuron, yang kami tempelkan di vektor. Dan keluaran setiap neuron hanyalah titik bobotnya dengan masukan, ditambah biasnya:"
      ],
      "metadata": {
        "id": "fSswZsxIxvVL"
      }
    },
    {
      "cell_type": "code",
      "source": [
        "def forward(self, input: Tensor) -> Tensor:\n",
        "    # Save the input to use in the backward pass.\n",
        "    self.input = input\n",
        "\n",
        "    # Return the vector of neuron outputs.\n",
        "    return [dot(input, self.w[o]) + self.b[o]\n",
        "            for o in range(self.output_dim)]"
      ],
      "metadata": {
        "id": "RlUOQozTy8c3"
      },
      "execution_count": null,
      "outputs": []
    },
    {
      "cell_type": "markdown",
      "source": [
        "Metode mundur lebih terlibat, tetapi jika Anda mengetahui kalkulus, itu tidak sulit:"
      ],
      "metadata": {
        "id": "Qoc-ZtbpzFVK"
      }
    },
    {
      "cell_type": "code",
      "source": [
        "def backward(self, gradient: Tensor) -> Tensor:\n",
        "    # Each b[o] gets added to output[o], which means\n",
        "    # the gradient of b is the same as the output gradient.\n",
        "    self.b_grad = gradient\n",
        "\n",
        "    # Each w[o][i] multiplies input[i] and gets added to output[o].\n",
        "    # So its gradient is input[i] * gradient[o].\n",
        "    self.w_grad = [[self.input[i] * gradient[o]\n",
        "                    for i in range(self.input_dim)]\n",
        "                   for o in range(self.output_dim)]\n",
        "    # Each input[i] multiplies every w[o][i] and gets added to every\n",
        "    # output[o]. So its gradient is the sum of w[o][i] * gradient[o]\n",
        "    # across all the outputs.\n",
        "    return [sum(self.w[o][i] * gradient[o] for o in range(self.output_dim))\n",
        "            for i in range(self.input_dim)]\n"
      ],
      "metadata": {
        "id": "8v0itmfgzLUy"
      },
      "execution_count": null,
      "outputs": []
    },
    {
      "cell_type": "markdown",
      "source": [
        "NOTE\n",
        "\n",
        "Dalam perpustakaan tensor \"nyata\", operasi ini (dan banyak lainnya) akan direpresentasikan sebagai perkalian matriks atau tensor, yang dirancang untuk dilakukan oleh perpustakaan tersebut dengan sangat cepat. Perpustakaan kami sangat lambat"
      ],
      "metadata": {
        "id": "jVjq9szoziJk"
      }
    },
    {
      "cell_type": "markdown",
      "source": [
        "Terakhir, di sini kita perlu mengimplementasikan params dan grads. Kami memiliki dua parameter dan dua gradien yang sesuai:"
      ],
      "metadata": {
        "id": "xZSNqPaFzt4d"
      }
    },
    {
      "cell_type": "code",
      "source": [
        "  def params(self) -> Iterable[Tensor]:\n",
        "      return [self.w, self.b]\n",
        "  def grads(self) -> Iterable[Tensor]:\n",
        "      return [self.w_grad, self.b_grad]"
      ],
      "metadata": {
        "id": "lwxPj3qkz7Hn"
      },
      "execution_count": null,
      "outputs": []
    },
    {
      "cell_type": "markdown",
      "source": [
        "##Jaringan Neural sebagai Urutan Lapisan\n",
        "Kami ingin menganggap jaringan neural sebagai urutan lapisan, jadi mari kita cari cara untuk menggabungkan beberapa lapisan menjadi satu. Neural network yang dihasilkan itu sendiri adalah sebuah layer, dan mengimplementasikan metode Layer dengan cara yang jelas:"
      ],
      "metadata": {
        "id": "AWYqSnihlf-K"
      }
    },
    {
      "cell_type": "code",
      "source": [
        "from typing import List\n",
        "\n",
        "class Sequential(Layer):\n",
        "    \"\"\"\n",
        "    A layer consisting of a sequence of other layers.\n",
        "    It's up to you to make sure that the output of each layer\n",
        "    makes sense as the input to the next layer.\n",
        "    \"\"\"\n",
        "    def __init__(self, layers: List[Layer]) -> None:\n",
        "        self.layers = layers\n",
        "\n",
        "    def forward(self, input):\n",
        "        \"\"\"Just forward the input through the layers in order.\"\"\"\n",
        "        for layer in self.layers:\n",
        "            input = layer.forward(input)\n",
        "        return input\n",
        "\n",
        "    def backward(self, gradient):\n",
        "        \"\"\"Just backpropagate the gradient through the layers in reverse.\"\"\"\n",
        "        for layer in reversed(self.layers):\n",
        "            gradient = layer.backward(gradient)\n",
        "        return gradient\n",
        "\n",
        "    def params(self) -> Iterable[Tensor]:\n",
        "        \"\"\"Just return the params from each layer.\"\"\"\n",
        "        return (param for layer in self.layers for param in layer.params())\n",
        "\n",
        "    def grads(self) -> Iterable[Tensor]:\n",
        "        \"\"\"Just return the grads from each layer.\"\"\"\n",
        "        return (grad for layer in self.layers for grad in layer.grads())"
      ],
      "metadata": {
        "id": "iPNslb9P0Wea"
      },
      "execution_count": null,
      "outputs": []
    },
    {
      "cell_type": "markdown",
      "source": [
        "Jadi kami dapat mewakili jaringan neural yang kami gunakan untuk XOR sebagai:"
      ],
      "metadata": {
        "id": "lTPyE1JG1DGW"
      }
    },
    {
      "cell_type": "code",
      "source": [
        "xor_net = Sequential([\n",
        "    Linear(input_dim=2, output_dim=2),\n",
        "    Sigmoid(),\n",
        "    Linear(input_dim=2, output_dim=1),\n",
        "    Sigmoid()\n",
        "])"
      ],
      "metadata": {
        "id": "z5CCJQIv1MeR"
      },
      "execution_count": null,
      "outputs": []
    },
    {
      "cell_type": "markdown",
      "source": [
        "Tapi kita masih membutuhkan lebih banyak mesin untuk melatihnya."
      ],
      "metadata": {
        "id": "kGZJ0OMl1M4l"
      }
    },
    {
      "cell_type": "markdown",
      "source": [
        "##Loss and Optimization\n",
        "Sebelumnya kami menulis fungsi kerugian individual dan fungsi gradien untuk model kami. Di sini kami ingin bereksperimen dengan fungsi kerugian yang berbeda, jadi (seperti biasa) kami akan memperkenalkan abstraksi Kerugian baru yang merangkum perhitungan kerugian dan perhitungan gradien:"
      ],
      "metadata": {
        "id": "6VxC4obHnVEw"
      }
    },
    {
      "cell_type": "code",
      "source": [
        "class Loss:\n",
        "    def loss(self, predicted: Tensor, actual: Tensor) -> float:\n",
        "        \"\"\"How good are our predictions? (Larger numbers are worse.)\"\"\"\n",
        "        raise NotImplementedError\n",
        "    def gradient(self, predicted: Tensor, actual: Tensor) -> Tensor:\n",
        "        \"\"\"How does the loss change as the predictions change?\"\"\"\n",
        "        raise NotImplementedError"
      ],
      "metadata": {
        "id": "oTu5houl2J7o"
      },
      "execution_count": null,
      "outputs": []
    },
    {
      "cell_type": "markdown",
      "source": [
        "Kami telah bekerja berkali-kali dengan kerugian yang merupakan jumlah dari kesalahan kuadrat, jadi kami akan memiliki waktu yang mudah untuk mengimplementasikannya. Satu-satunya trik adalah kita harus menggunakan tensor_combine:"
      ],
      "metadata": {
        "id": "E5fD0Vcw2S7y"
      }
    },
    {
      "cell_type": "code",
      "source": [
        "class SSE(Loss):\n",
        "    \"\"\"Loss function that computes the sum of the squared errors.\"\"\"\n",
        "    def loss(self, predicted: Tensor, actual: Tensor) -> float:\n",
        "        # Compute the tensor of squared differences\n",
        "        squared_errors = tensor_combine(\n",
        "            lambda predicted, actual: (predicted - actual) ** 2,\n",
        "            predicted,\n",
        "            actual)\n",
        "\n",
        "        # And just add them up\n",
        "        return tensor_sum(squared_errors)\n",
        "\n",
        "    def gradient(self, predicted: Tensor, actual: Tensor) -> Tensor:\n",
        "        return tensor_combine(\n",
        "            lambda predicted, actual: 2 * (predicted - actual),\n",
        "            predicted,\n",
        "            actual)"
      ],
      "metadata": {
        "id": "FWLXtQvF2h9X"
      },
      "execution_count": null,
      "outputs": []
    },
    {
      "cell_type": "markdown",
      "source": [
        "(Kita akan melihat fungsi kerugian yang berbeda sebentar lagi.)\n",
        "\n",
        "Bagian terakhir untuk mencari tahu adalah penurunan gradien. Sepanjang buku kami telah melakukan semua penurunan gradien kami secara manual dengan memiliki lingkaran pelatihan yang melibatkan sesuatu seperti:"
      ],
      "metadata": {
        "id": "5rEFRtvz21zv"
      }
    },
    {
      "cell_type": "code",
      "source": [
        "theta = gradient_step(theta, grad, -learning_rate)"
      ],
      "metadata": {
        "id": "TCYOnQuV2_es"
      },
      "execution_count": null,
      "outputs": []
    },
    {
      "cell_type": "markdown",
      "source": [
        "Di sini itu tidak akan berhasil bagi kita, karena beberapa alasan. Yang pertama adalah jaringan neural kita akan memiliki banyak parameter, dan kita harus memperbarui semuanya. Yang kedua adalah kami ingin dapat menggunakan varian penurunan gradien yang lebih pintar, dan kami tidak ingin harus menulis ulang setiap saat.\n",
        "\n",
        "Oleh karena itu, kami akan memperkenalkan (Anda dapat menebaknya) abstraksi Pengoptimal, yang penurunan gradiennya akan menjadi contoh khusus:"
      ],
      "metadata": {
        "id": "t1S5xi6c3CNs"
      }
    },
    {
      "cell_type": "code",
      "source": [
        "class Optimizer:\n",
        "    \"\"\"\n",
        "    An optimizer updates the weights of a layer (in place) using information\n",
        "    known by either the layer or the optimizer (or by both).\n",
        "    \"\"\"\n",
        "    def step(self, layer: Layer) -> None:\n",
        "        raise NotImplementedError"
      ],
      "metadata": {
        "id": "YSOL8GoO3LqD"
      },
      "execution_count": null,
      "outputs": []
    },
    {
      "cell_type": "markdown",
      "source": [
        "Setelah itu mudah untuk menerapkan penurunan gradien, sekali lagi menggunakan tensor_combine:"
      ],
      "metadata": {
        "id": "Q501CfXW3Wfx"
      }
    },
    {
      "cell_type": "code",
      "source": [
        "class GradientDescent(Optimizer):\n",
        "    def __init__(self, learning_rate: float = 0.1) -> None:\n",
        "        self.lr = learning_rate\n",
        "\n",
        "    def step(self, layer: Layer) -> None:\n",
        "        for param, grad in zip(layer.params(), layer.grads()):\n",
        "            # Update param using a gradient step\n",
        "            param[:] = tensor_combine(\n",
        "                lambda param, grad: param - grad * self.lr,\n",
        "                param,\n",
        "                grad)"
      ],
      "metadata": {
        "id": "iwRx-wTT3eKF"
      },
      "execution_count": null,
      "outputs": []
    },
    {
      "cell_type": "markdown",
      "source": [
        "Satu-satunya hal yang mungkin mengejutkan adalah \"penugasan irisan\", yang mencerminkan fakta bahwa menugaskan ulang daftar tidak mengubah nilai aslinya. Yaitu, jika Anda baru saja melakukan param = tensor_combine(. . .), Anda akan mendefinisikan ulang variabel lokal param, tetapi Anda tidak akan memengaruhi tensor parameter asli yang disimpan di lapisan. Namun, jika Anda menetapkan ke irisan [:], itu benar-benar mengubah nilai di dalam daftar.\n",
        "\n",
        "Berikut adalah contoh sederhana untuk ditunjukkan:"
      ],
      "metadata": {
        "id": "Z446R1EA31r5"
      }
    },
    {
      "cell_type": "code",
      "source": [
        "tensor = [[1, 2], [3, 4]]\n",
        "\n",
        "for row in tensor:\n",
        "    row = [0, 0]\n",
        "assert tensor == [[1, 2], [3, 4]], \"assignment doesn't update a list\"\n",
        "\n",
        "for row in tensor:\n",
        "    row[:] = [0, 0]\n",
        "assert tensor == [[0, 0], [0, 0]], \"but slice assignment does\""
      ],
      "metadata": {
        "id": "D7mbjU9a4Q0-"
      },
      "execution_count": null,
      "outputs": []
    },
    {
      "cell_type": "markdown",
      "source": [
        "Jika Anda agak tidak berpengalaman dengan Python, perilaku ini mungkin mengejutkan, jadi renungkan dan\n",
        "coba contoh sendiri sampai masuk akal.\n",
        "\n",
        "Untuk mendemonstrasikan nilai abstraksi ini, mari terapkan pengoptimal lain yang menggunakan momentum. Idenya adalah kita tidak ingin bereaksi berlebihan terhadap setiap gradien baru, jadi kita mempertahankan rata-rata berjalan dari gradien yang telah kita lihat, memperbaruinya dengan setiap gradien baru dan mengambil langkah ke arah rata-rata:"
      ],
      "metadata": {
        "id": "xEG0HLXC4ZON"
      }
    },
    {
      "cell_type": "code",
      "source": [
        "class Momentum(Optimizer):\n",
        "    def __init__(self,\n",
        "                 learning_rate: float,\n",
        "                 momentum: float = 0.9) -> None:\n",
        "        self.lr = learning_rate\n",
        "        self.mo = momentum\n",
        "        self.updates: List[Tensor] = [] # running average\n",
        "\n",
        "    def step(self, layer: Layer) -> None:\n",
        "        # If we have no previous updates, start with all zeros\n",
        "        if not self.updates:\n",
        "            self.updates = [zeros_like(grad) for grad in layer.grads()]\n",
        "\n",
        "    for update, param, grad in zip(self.updates,\n",
        "                                   layer.params(),\n",
        "                                   layer.grads()):\n",
        "        # Apply momentum\n",
        "        update[:] = tensor_combine(\n",
        "            lambda u, g: self.mo * u + (1 - self.mo) * g,\n",
        "            update,\n",
        "            grad)\n",
        "\n",
        "    # Then take a gradient step\n",
        "    param[:] = tensor_combine(\n",
        "        lambda p, u: p - self.lr * u,\n",
        "        param,\n",
        "        update)"
      ],
      "metadata": {
        "id": "zYAQmCby5Bw7"
      },
      "execution_count": null,
      "outputs": []
    },
    {
      "cell_type": "markdown",
      "source": [
        "Karena kami menggunakan abstraksi Pengoptimal, kami dapat dengan mudah beralih di antara berbagai pengoptimal kami."
      ],
      "metadata": {
        "id": "cxNtw1nB5Yr_"
      }
    },
    {
      "cell_type": "markdown",
      "source": [
        "##Contoh: XOR Revisited\n",
        "Mari kita lihat betapa mudahnya menggunakan framework baru kami untuk melatih jaringan yang dapat menghitung XOR. Kami mulai dengan membuat ulang data pelatihan:"
      ],
      "metadata": {
        "id": "2j6So0wKnVro"
      }
    },
    {
      "cell_type": "code",
      "source": [
        "# training data\n",
        "xs = [[0., 0], [0., 1], [1., 0], [1., 1]]\n",
        "ys = [[0.], [1.], [1.], [0.]]"
      ],
      "metadata": {
        "id": "GoVhSdzm6Iro"
      },
      "execution_count": null,
      "outputs": []
    },
    {
      "cell_type": "markdown",
      "source": [
        "dan kemudian kita mendefinisikan jaringan, meskipun sekarang kita dapat meninggalkan lapisan sigmoid terakhir:"
      ],
      "metadata": {
        "id": "1pIk6Ue16MJc"
      }
    },
    {
      "cell_type": "code",
      "source": [
        "random.seed(0)\n",
        "\n",
        "net = Sequential([\n",
        "    Linear(input_dim=2, output_dim=2),\n",
        "    Sigmoid(),\n",
        "    Linear(input_dim=2, output_dim=1)\n",
        "])"
      ],
      "metadata": {
        "id": "YaSvQzAM6mSh"
      },
      "execution_count": null,
      "outputs": []
    },
    {
      "cell_type": "markdown",
      "source": [
        "Kami sekarang dapat menulis loop pelatihan sederhana, kecuali bahwa sekarang kami dapat menggunakan abstraksi Pengoptimal dan Kerugian. Ini memungkinkan kita untuk dengan mudah mencoba yang berbeda:"
      ],
      "metadata": {
        "id": "G_Jz0oCC6tQR"
      }
    },
    {
      "cell_type": "code",
      "source": [
        "import tqdm\n",
        "\n",
        "optimizer = GradientDescent(learning_rate=0.1)\n",
        "loss = SSE()\n",
        "\n",
        "with tqdm.trange(3000) as t:\n",
        "    for epoch in t:\n",
        "        epoch_loss = 0.0\n",
        "\n",
        "    for x, y in zip(xs, ys):\n",
        "        predicted = net.forward(x)\n",
        "        epoch_loss += loss.loss(predicted, y)\n",
        "        gradient = loss.gradient(predicted, y)\n",
        "        net.backward(gradient)\n",
        "\n",
        "        optimizer.step(net)\n",
        "\n",
        "    t.set_description(f\"xor loss {epoch_loss:.3f}\")"
      ],
      "metadata": {
        "id": "SVJWIiwb65u4"
      },
      "execution_count": null,
      "outputs": []
    },
    {
      "cell_type": "markdown",
      "source": [
        "Ini harus dilatih dengan cepat, dan Anda akan melihat kerugiannya turun. Dan sekarang kita dapat memeriksa bobotnya:"
      ],
      "metadata": {
        "id": "7eTl4_Pf7GBA"
      }
    },
    {
      "cell_type": "code",
      "source": [
        "for param in net.params():\n",
        "    print(param)"
      ],
      "metadata": {
        "id": "D390Kykc7LDW"
      },
      "execution_count": null,
      "outputs": []
    },
    {
      "cell_type": "markdown",
      "source": [
        "Untuk jaringan saya, saya menemukan kira-kira:"
      ],
      "metadata": {
        "id": "XcSEna907Lq0"
      }
    },
    {
      "cell_type": "code",
      "source": [
        "hidden1 = -2.6 * x1 + -2.7 * x2 + 0.2 # NOR\n",
        "hidden2 =  2.1 * x1 + 2.1  * x2 - 3.4 # AND\n",
        "output =  -3.1 * h1 + -2.6 * h2 + 1.8 # NOR"
      ],
      "metadata": {
        "id": "A1grLwOJ7QJs"
      },
      "execution_count": null,
      "outputs": []
    },
    {
      "cell_type": "markdown",
      "source": [
        "Jadi hidden1 aktif jika tidak ada input 1. hidden2 aktif jika kedua input 1. Dan output aktif jika tidak ada output tersembunyi 1 — yaitu, jika tidak ada input yang 1 dan juga tidak jika kedua input adalah 1. Memang, inilah logika XOR.\n",
        "\n",
        "Perhatikan bahwa jaringan ini mempelajari fitur-fitur yang berbeda dari yang kita latih di bab sebelumnya, tetapi masih berhasil melakukan hal yang sama."
      ],
      "metadata": {
        "id": "DaE19w4D7QpT"
      }
    },
    {
      "cell_type": "markdown",
      "source": [
        "##Fungsi Aktivasi Lainnya\n",
        "Fungsi sigmoid tidak lagi disukai karena beberapa alasan. Salah satu alasannya adalah sigmoid(0) sama dengan 1/2, yang berarti bahwa sebuah neuron yang inputnya berjumlah 0 memiliki output positif. Lain adalah bahwa gradiennya sangat dekat dengan 0 untuk input yang sangat besar dan sangat kecil, yang berarti bahwa gradiennya bisa \"jenuh\" dan bobotnya bisa macet.\n"
      ],
      "metadata": {
        "id": "2j39-Ay1n4pv"
      }
    },
    {
      "cell_type": "markdown",
      "source": [
        "Salah satu pengganti yang populer adalah tanh (“hyperbolic tangent”), yang merupakan fungsi berbentuk sigmoid berbeda yang berkisar dari –1 hingga 1 dan menghasilkan 0 jika masukannya adalah 0. Turunan dari tanh(x) hanyalah 1 - tanh(x ) ** 2, yang membuat layer mudah ditulis:"
      ],
      "metadata": {
        "id": "SVJ-ESvl8NAB"
      }
    },
    {
      "cell_type": "code",
      "source": [
        "import math\n",
        "\n",
        "def tanh(x: float) -> float:\n",
        "    # If x is very large or very small, tanh is (essentially) 1 or -1.\n",
        "    # We check for this because, e.g., math.exp(1000) raises an error.\n",
        "    if x < -100: return -1\n",
        "    elif x > 100: return 1\n",
        "\n",
        "    em2x = math.exp(-2 * x)\n",
        "    return (1 - em2x) / (1 + em2x)\n",
        "\n",
        "class Tanh(Layer):\n",
        "    def forward(self, input: Tensor) -> Tensor:\n",
        "        # Save tanh output to use in backward pass.\n",
        "        self.tanh = tensor_apply(tanh, input)\n",
        "        return self.tanh\n",
        "\n",
        "    def backward(self, gradient: Tensor) -> Tensor:\n",
        "        return tensor_combine(\n",
        "            lambda tanh, grad: (1 - tanh ** 2) * grad,\n",
        "            self.tanh,\n",
        "            gradient)"
      ],
      "metadata": {
        "id": "9tkwTLmu8QRj"
      },
      "execution_count": null,
      "outputs": []
    },
    {
      "cell_type": "markdown",
      "source": [
        "Di jaringan yang lebih besar pengganti populer lainnya adalah Relu, yaitu 0 untuk input negatif dan identitas untuk input positif:"
      ],
      "metadata": {
        "id": "mILGizzR8hoh"
      }
    },
    {
      "cell_type": "code",
      "source": [
        "class Relu(Layer):\n",
        "    def forward(self, input: Tensor) -> Tensor:\n",
        "        self.input = input\n",
        "        return tensor_apply(lambda x: max(x, 0), input)\n",
        "\n",
        "    def backward(self, gradient: Tensor) -> Tensor:\n",
        "        return tensor_combine(lambda x, grad: grad if x > 0 else 0,\n",
        "                              self.input,\n",
        "                              gradient)"
      ],
      "metadata": {
        "id": "DUWOEGhp8x1i"
      },
      "execution_count": null,
      "outputs": []
    },
    {
      "cell_type": "markdown",
      "source": [
        "Ada banyak lainnya. Saya mendorong Anda untuk bermain-main dengan mereka di jaringan Anda."
      ],
      "metadata": {
        "id": "f-zTMiZ68yXl"
      }
    },
    {
      "cell_type": "markdown",
      "source": [
        "##Contoh: FizzBuzz Revisited\n",
        "Kami sekarang dapat menggunakan kerangka kerja \"*Deep Learning*\" kami untuk mereproduksi solusi kami dari \"Example: Fizz Buzz\". Mari siapkan datanya:"
      ],
      "metadata": {
        "id": "0j24z9_xn49P"
      }
    },
    {
      "cell_type": "code",
      "source": [
        "from scratch.neural_networks import binary_encode, fizz_buzz_encode, argmax\n",
        "\n",
        "xs = [binary_encode(n) for n in range(101, 1024)]\n",
        "ys = [fizz_buzz_encode(n) for n in range(101, 1024)]"
      ],
      "metadata": {
        "id": "TcA2n-YO9afh"
      },
      "execution_count": null,
      "outputs": []
    },
    {
      "cell_type": "markdown",
      "source": [
        "dan buat jaringan:"
      ],
      "metadata": {
        "id": "NkqBRyjX9enN"
      }
    },
    {
      "cell_type": "code",
      "source": [
        "NUM_HIDDEN = 25\n",
        "\n",
        "random.seed(0)\n",
        "\n",
        "net = Sequential([\n",
        "    Linear(input_dim=10, output_dim=NUM_HIDDEN, init='uniform'),\n",
        "    Tanh(),\n",
        "    Linear(input_dim=NUM_HIDDEN, output_dim=4, init='uniform'),\n",
        "    Sigmoid()\n",
        "])"
      ],
      "metadata": {
        "id": "1iWbespv9hz2"
      },
      "execution_count": null,
      "outputs": []
    },
    {
      "cell_type": "markdown",
      "source": [
        "Saat kita berlatih, mari lacak juga akurasi kita pada set latihan:"
      ],
      "metadata": {
        "id": "U_vRDMiT9sZG"
      }
    },
    {
      "cell_type": "code",
      "source": [
        "def fizzbuzz_accuracy(low: int, hi: int, net: Layer) -> float:\n",
        "    num_correct = 0\n",
        "    for n in range(low, hi):\n",
        "        x = binary_encode(n)\n",
        "        predicted = argmax(net.forward(x))\n",
        "        actual = argmax(fizz_buzz_encode(n))\n",
        "        if predicted == actual:\n",
        "            num_correct += 1\n",
        "\n",
        "    return num_correct / (hi - low)\n",
        "\n",
        "optimizer = Momentum(learning_rate=0.1, momentum=0.9)\n",
        "loss = SSE()\n",
        "\n",
        "with tqdm.trange(1000) as t:\n",
        "    for epoch in t:\n",
        "        epoch_loss = 0.0\n",
        "\n",
        "        for x, y in zip(xs, ys):\n",
        "            predicted = net.forward(x)\n",
        "            epoch_loss += loss.loss(predicted, y)\n",
        "            gradient = loss.gradient(predicted, y)\n",
        "            net.backward(gradient)\n",
        "\n",
        "            optimizer.step(net)\n",
        "\n",
        "        accuracy = fizzbuzz_accuracy(101, 1024, net)\n",
        "        t.set_description(f\"fb loss: {epoch_loss:.2f} acc: {accuracy:.2f}\")\n",
        "\n",
        "# Now check results on the test set\n",
        "print(\"test results\", fizzbuzz_accuracy(1, 101, net))"
      ],
      "metadata": {
        "id": "vhCmfewT9zAi"
      },
      "execution_count": null,
      "outputs": []
    },
    {
      "cell_type": "markdown",
      "source": [
        "Setelah 1.000 iterasi pelatihan, model mendapatkan akurasi 90% pada set pengujian; jika Anda terus melatihnya lebih lama, itu akan menjadi lebih baik. (Menurut saya tidak mungkin untuk melatih akurasi 100% dengan hanya 25 unit tersembunyi, tetapi sangat mungkin jika Anda menggunakan hingga 50 unit tersembunyi.)"
      ],
      "metadata": {
        "id": "bRjfOAYw-ZlK"
      }
    },
    {
      "cell_type": "markdown",
      "source": [
        "##Softmaxes and Cross-Entropy\n",
        "Neural net yang kita gunakan di bagian sebelumnya diakhiri dengan lapisan Sigmoid, yang berarti outputnya adalah vektor angka antara 0 dan 1. Secara khusus, jaringan ini dapat menghasilkan vektor yang seluruhnya 0, atau dapat menghasilkan vektor yang seluruhnya 1s. Namun saat kita mengerjakan soal klasifikasi, kita ingin menampilkan 1 untuk kelas yang benar dan 0 untuk semua kelas yang salah. Secara umum, prediksi kami tidak akan begitu sempurna, tetapi setidaknya kami ingin memprediksi distribusi probabilitas aktual pada kelas-kelas tersebut."
      ],
      "metadata": {
        "id": "lnZEGqh2n5Zo"
      }
    },
    {
      "cell_type": "markdown",
      "source": [
        "Misalnya, jika kita memiliki dua kelas, dan model kita menghasilkan [0, 0], sulit untuk memahaminya. Tidakkah menurutnya output termasuk dalam salah satu kelas?\n",
        "\n",
        "Tetapi jika model kita menghasilkan [0.4, 0.6], kita dapat mengartikannya sebagai prediksi bahwa ada probabilitas 0,4 bahwa input kita termasuk dalam kelas pertama dan 0,6 bahwa input kita termasuk dalam kelas kedua.\n",
        "\n",
        "Untuk mencapai hal ini, kami biasanya mengabaikan lapisan Sigmoid terakhir dan menggunakan fungsi softmax, yang mengubah vektor bilangan real menjadi vektor probabilitas. Kita menghitung exp(x) untuk setiap bilangan dalam vektor, yang menghasilkan vektor bilangan positif. Setelah itu, kita tinggal membagi masing-masing bilangan positif tersebut dengan jumlahnya, yang menghasilkan sekumpulan bilangan positif yang jumlahnya sama dengan 1—yakni vektor probabilitas.\n",
        "\n",
        "Jika kita akhirnya mencoba menghitung, katakanlah, exp(1000) kita akan mendapatkan kesalahan Python, jadi sebelum mengambil exp kita mengurangi nilai terbesar. Hal ini ternyata menghasilkan kemungkinan yang sama; hanya saja lebih aman untuk menghitung dengan Python:"
      ],
      "metadata": {
        "id": "8-N6wpG4_R-t"
      }
    },
    {
      "cell_type": "code",
      "source": [
        "def softmax(tensor: Tensor) -> Tensor:\n",
        "    \"\"\"Softmax along the last dimension\"\"\"\n",
        "    if is_1d(tensor):\n",
        "        # Subtract largest value for numerical stability.\n",
        "        largest = max(tensor)\n",
        "        exps = [math.exp(x - largest) for x in tensor]\n",
        "\n",
        "        sum_of_exps = sum(exps)                  # This is the total \"weight.\"\n",
        "        return [exp_i / sum_of_exps              # Probability is the fraction\n",
        "                for exp_i in exps]               # of the total weight.\n",
        "    else:\n",
        "        return [softmax(tensor_i) for tensor_i in tensor]"
      ],
      "metadata": {
        "id": "YVq5Sjw7_uDe"
      },
      "execution_count": null,
      "outputs": []
    },
    {
      "cell_type": "markdown",
      "source": [
        "Setelah jaringan kami menghasilkan probabilitas, kami sering menggunakan fungsi kerugian berbeda yang disebut cross-entropy (atau kadang-kadang \"kemungkinan log negatif\").\n",
        "\n",
        "Anda mungkin ingat bahwa dalam “Estimasi Kemungkinan Maksimum”, kami menjustifikasi penggunaan kuadrat terkecil dalam regresi linier dengan mengacu pada fakta bahwa (di bawah asumsi tertentu) koefisien kuadrat terkecil memaksimalkan kemungkinan data yang diamati.\n",
        "\n",
        "Di sini kita dapat melakukan hal serupa: jika keluaran jaringan kita adalah probabilitas, kehilangan lintas-entropi menunjukkan kemungkinan log negatif dari data yang diamati, yang berarti bahwa meminimalkan kerugian itu sama dengan memaksimalkan kemungkinan log (dan karenanya kemungkinan) dari data-data pelatihan.\n",
        "\n",
        "Biasanya kami tidak akan memasukkan fungsi softmax sebagai bagian dari jaringan saraf itu sendiri. Ini karena ternyata jika softmax adalah bagian dari fungsi kerugian Anda tetapi bukan bagian dari jaringan itu sendiri, gradien kerugian sehubungan dengan output jaringan sangat mudah dihitung."
      ],
      "metadata": {
        "id": "0M_cZybfAOZS"
      }
    },
    {
      "cell_type": "code",
      "source": [
        "class SoftmaxCrossEntropy(Loss):\n",
        "    \"\"\"\n",
        "    This is the negative-log-likelihood of the observed values, given the\n",
        "    neural net model. So if we choose weights to minimize it, our model will\n",
        "    be maximizing the likelihood of the observed data.\n",
        "    \"\"\"\n",
        "    def loss(self, predicted: Tensor, actual: Tensor) -> float:\n",
        "        # Apply softmax to get probabilities\n",
        "        probabilities = softmax(predicted)\n",
        "\n",
        "        # This will be log p_i for the actual class i and 0 for the other\n",
        "        # classes. We add a tiny amount to p to avoid taking log(0).\n",
        "        likelihoods = tensor_combine(lambda p, act: math.log(p + 1e-30) * act,\n",
        "                                     probabilities,\n",
        "                                     actual)\n",
        "\n",
        "        # And then we just sum up the negatives.\n",
        "        return -tensor_sum(likelihoods)\n",
        "\n",
        "    def gradient(self, predicted: Tensor, actual: Tensor) -> Tensor:\n",
        "        probabilities = softmax(predicted)\n",
        "\n",
        "        # Isn't this a pleasant equation?\n",
        "        return tensor_combine(lambda p, actual: p - actual,\n",
        "                              probabilities,\n",
        "                              actual)"
      ],
      "metadata": {
        "id": "B7Hwlan7AqEu"
      },
      "execution_count": null,
      "outputs": []
    },
    {
      "cell_type": "markdown",
      "source": [
        "Jika sekarang saya melatih jaringan Fizz Buzz yang sama menggunakan kerugian SoftmaxCrossEntropy, saya menemukan bahwa biasanya jaringan tersebut bekerja lebih cepat (yaitu, dalam zaman yang jauh lebih sedikit). Agaknya ini karena lebih mudah menemukan bobot yang softmax untuk distribusi tertentu daripada menemukan bobot yang sigmoid untuk distribusi tertentu.\n",
        "\n",
        "Yaitu, jika saya perlu memprediksi kelas 0 (vektor dengan 1 di posisi pertama dan 0s di posisi yang tersisa), dalam kasus linier + sigmoid saya memerlukan keluaran pertama berupa bilangan positif besar dan keluaran lainnya menjadi menjadi bilangan negatif besar. Namun dalam kasus softmax, saya hanya perlu keluaran pertama lebih besar dari keluaran yang tersisa. Jelas ada lebih banyak cara untuk kasus kedua terjadi, yang menunjukkan bahwa akan lebih mudah menemukan bobot yang membuatnya demikian:"
      ],
      "metadata": {
        "id": "LXa9T2TQBBxb"
      }
    },
    {
      "cell_type": "code",
      "source": [
        "random.seed(0)\n",
        "\n",
        "net = Sequential([\n",
        "    Linear(input_dim=10, output_dim=NUM_HIDDEN, init='uniform'),\n",
        "    Tanh(),\n",
        "    Linear(input_dim=NUM_HIDDEN, output_dim=4, init='uniform')\n",
        "    # No final sigmoid layer now\n",
        "])\n",
        "\n",
        "optimizer = Momentum(learning_rate=0.1, momentum=0.9)\n",
        "loss = SoftmaxCrossEntropy()\n",
        "\n",
        "with tqdm.trange(100) as t:\n",
        "    for epoch in t:\n",
        "        epoch_loss = 0.0\n",
        "\n",
        "        for x, y in zip(xs, ys):\n",
        "            predicted = net.forward(x)\n",
        "            epoch_loss += loss.loss(predicted, y)\n",
        "            gradient = loss.gradient(predicted, y)\n",
        "            net.backward(gradient)\n",
        "\n",
        "            optimizer.step(net)\n",
        "\n",
        "        accuracy = fizzbuzz_accuracy(101, 1024, net)\n",
        "        t.set_description(f\"fb loss: {epoch_loss:.3f} acc: {accuracy:.2f}\")\n",
        "\n",
        "# Again check results on the test set\n",
        "print(\"test results\", fizzbuzz_accuracy(1, 101, net))\n"
      ],
      "metadata": {
        "id": "vMRpnlNnBSvk"
      },
      "execution_count": null,
      "outputs": []
    },
    {
      "cell_type": "markdown",
      "source": [
        "##Dropout\n",
        "Seperti kebanyakan model pembelajaran mesin, jaringan neural cenderung overfitting ke data pelatihan mereka. Kami sebelumnya telah melihat cara untuk memperbaiki hal ini; misalnya, dalam \"Regularisasi\", kami menghukum bobot yang besar dan itu membantu mencegah pemasangan yang berlebihan.\n",
        "\n",
        "Cara umum mengatur jaringan neural adalah menggunakan putus sekolah. Pada waktu pelatihan, kami mematikan setiap neuron secara acak (yaitu, mengganti outputnya dengan 0) dengan probabilitas tetap. Ini berarti bahwa jaringan tidak dapat belajar untuk bergantung pada setiap neuron, yang tampaknya membantu overfitting.\n",
        "\n",
        "Pada waktu evaluasi, kami tidak ingin menghapus neuron apa pun, jadi lapisan Dropout perlu mengetahui apakah itu pelatihan atau tidak. Selain itu, pada waktu pelatihan, lapisan Dropout hanya meneruskan sebagian acak dari inputnya. Agar keluarannya sebanding selama evaluasi, kami akan menurunkan keluaran (secara seragam) menggunakan fraksi yang sama:\n"
      ],
      "metadata": {
        "id": "x6JwqY_YoRrP"
      }
    },
    {
      "cell_type": "code",
      "source": [
        "class Dropout(Layer):\n",
        "    def __init__(self, p: float) -> None:\n",
        "        self.p = p\n",
        "        self.train = True\n",
        "\n",
        "    def forward(self, input: Tensor) -> Tensor:\n",
        "        if self.train:\n",
        "            # Create a mask of 0s and 1s shaped like the input\n",
        "            # using the specified probability.\n",
        "            self.mask = tensor_apply(\n",
        "                lambda _: 0 if random.random() < self.p else 1,\n",
        "                input)\n",
        "            # Multiply by the mask to dropout inputs.\n",
        "            return tensor_combine(operator.mul, input, self.mask)\n",
        "        else:\n",
        "            # During evaluation just scale down the outputs uniformly.\n",
        "            return tensor_apply(lambda x: x * (1 - self.p), input)\n",
        "\n",
        "    def backward(self, gradient: Tensor) -> Tensor:\n",
        "        if self.train:\n",
        "            # Only propagate the gradients where mask == 1.\n",
        "            return tensor_combine(operator.mul, gradient, self.mask)\n",
        "        else:\n",
        "            raise RuntimeError(\"don't call backward when not in train mode\")"
      ],
      "metadata": {
        "id": "TwWhPcQOCH8d"
      },
      "execution_count": null,
      "outputs": []
    },
    {
      "cell_type": "markdown",
      "source": [
        "Kami akan menggunakan ini untuk membantu mencegah overfitting pada model *deep learning* kami."
      ],
      "metadata": {
        "id": "ppEsl6dvClcx"
      }
    },
    {
      "cell_type": "markdown",
      "source": [
        "##Contoh: MNIST\n",
        "MNIST adalah kumpulan data digit tulisan tangan yang digunakan semua orang untuk belajar *Deep Learning*.\n",
        "\n",
        "Ini tersedia dalam format biner yang agak rumit, jadi kami akan memasang pustaka mnist untuk menggunakannya. (Ya, bagian ini secara teknis bukan “dari awal.”)"
      ],
      "metadata": {
        "id": "Nfp5xuw8oSH3"
      }
    },
    {
      "cell_type": "code",
      "source": [
        "python -m pip install mnist"
      ],
      "metadata": {
        "id": "7pL1J1MKDTeh"
      },
      "execution_count": null,
      "outputs": []
    },
    {
      "cell_type": "markdown",
      "source": [
        "Dan kemudian kita dapat memuat data:"
      ],
      "metadata": {
        "id": "hdwClIvADdJE"
      }
    },
    {
      "cell_type": "code",
      "source": [
        "import mnist\n",
        "\n",
        "# This will download the data; change this to where you want it.\n",
        "# (Yes, it's a 0-argument function, that's what the library expects.)\n",
        "# (Yes, I'm assigning a lambda to a variable, like I said never to do.)\n",
        "mnist.temporary_dir = lambda: '/tmp'\n",
        "\n",
        "# Each of these functions first downloads the data and returns a numpy array.\n",
        "# We call .tolist() because our \"tensors\" are just lists.\n",
        "train_images = mnist.train_images().tolist()\n",
        "train_labels = mnist.train_labels().tolist()\n",
        "\n",
        "assert shape(train_images) == [60000, 28, 28]\n",
        "assert shape(train_labels) == [60000]\n"
      ],
      "metadata": {
        "id": "qQjzSPA1Diui"
      },
      "execution_count": null,
      "outputs": []
    },
    {
      "cell_type": "markdown",
      "source": [
        "Mari plot 100 gambar latih pertama untuk melihat seperti apa tampilannya (Gambar 19-1):"
      ],
      "metadata": {
        "id": "AeKj5QNbDjxZ"
      }
    },
    {
      "cell_type": "code",
      "source": [
        "import matplotlib.pyplot as plt\n",
        "\n",
        "fig, ax = plt.subplots(10, 10)\n",
        "\n",
        "for i in range(10):\n",
        "    for j in range(10):\n",
        "        # Plot each image in black and white and hide the axes.\n",
        "        ax[i][j].imshow(train_images[10 * i + j], cmap='Greys')\n",
        "        ax[i][j].xaxis.set_visible(False)\n",
        "        ax[i][j].yaxis.set_visible(False)\n",
        "\n",
        "plt.show()"
      ],
      "metadata": {
        "id": "Ynn0zbSBDw_N"
      },
      "execution_count": null,
      "outputs": []
    },
    {
      "cell_type": "markdown",
      "source": [
        "![MNIST IMG.jpg](data:image/jpeg;base64,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)\n",
        "\n",
        "Anda dapat melihat bahwa mereka memang terlihat seperti angka tulisan tangan."
      ],
      "metadata": {
        "id": "MqXGqqJfNaV6"
      }
    },
    {
      "cell_type": "markdown",
      "source": [
        "NOTE\n",
        "\n",
        "Upaya pertama saya untuk menampilkan gambar menghasilkan angka kuning dengan latar belakang hitam. Saya tidak pintar atau cukup halus untuk mengetahui bahwa saya perlu menambahkan cmap=Greys untuk mendapatkan gambar hitam-putih; Saya mencarinya di Google dan menemukan solusinya di Stack Overflow. Sebagai seorang ilmuwan data, Anda akan menjadi cukup mahir dalam alur kerja ini."
      ],
      "metadata": {
        "id": "z23hjSWHGZ-D"
      }
    },
    {
      "cell_type": "markdown",
      "source": [
        "Kami juga perlu memuat gambar uji:"
      ],
      "metadata": {
        "id": "ARKtYJ4TGrXb"
      }
    },
    {
      "cell_type": "code",
      "source": [
        "test_images = mnist.test_images().tolist()\n",
        "test_labels = mnist.test_labels().tolist()\n",
        "\n",
        "assert shape(test_images) == [10000, 28, 28]\n",
        "assert shape(test_labels) == [10000]"
      ],
      "metadata": {
        "id": "NjgHQcPJGx0z"
      },
      "execution_count": null,
      "outputs": []
    },
    {
      "cell_type": "markdown",
      "source": [
        "Setiap gambar berukuran 28 × 28 piksel, tetapi lapisan linier kami hanya dapat menangani input satu dimensi, jadi kami akan meratakannya (dan juga membaginya dengan 256 untuk mendapatkan antara 0 dan 1). Selain itu, jaringan saraf kita akan berlatih lebih baik jika rata-rata masukan kita adalah 0, jadi kita akan mengurangi nilai rata-ratanya:"
      ],
      "metadata": {
        "id": "aJa8eUjwG1-g"
      }
    },
    {
      "cell_type": "code",
      "source": [
        "# Compute the average pixel value\n",
        "avg = tensor_sum(train_images) / 60000 / 28 / 28\n",
        "\n",
        "# Recenter, rescale, and flatten\n",
        "train_images = [[(pixel - avg) / 256 for row in image for pixel in row]\n",
        "                for image in train_images]\n",
        "test_images = [[(pixel - avg) / 256 for row in image for pixel in row]\n",
        "               for image in test_images]\n",
        "\n",
        "assert shape(train_images) == [60000, 784], \"images should be flattened\"\n",
        "assert shape(test_images) == [10000, 784], \"images should be flattened\"\n",
        "\n",
        "# After centering, average pixel should be very close to 0\n",
        "assert -0.0001 < tensor_sum(train_images) < 0.0001"
      ],
      "metadata": {
        "id": "RdNG_JRHHB4D"
      },
      "execution_count": null,
      "outputs": []
    },
    {
      "cell_type": "markdown",
      "source": [
        "Kami juga ingin melakukan one-hot-encode pada target, karena kami memiliki 10 output. Pertama mari kita tulis fungsi one_hot_encode:"
      ],
      "metadata": {
        "id": "6Bvm0xZDHLMF"
      }
    },
    {
      "cell_type": "code",
      "source": [
        "def one_hot_encode(i: int, num_labels: int = 10) -> List[float]:\n",
        "    return [1.0 if j == i else 0.0 for j in range(num_labels)]\n",
        "\n",
        "assert one_hot_encode(3) == [0, 0, 0, 1, 0, 0, 0, 0, 0, 0]\n",
        "assert one_hot_encode(2, num_labels=5) == [0, 0, 1, 0, 0]"
      ],
      "metadata": {
        "id": "0HjCKXOAHYG_"
      },
      "execution_count": null,
      "outputs": []
    },
    {
      "cell_type": "markdown",
      "source": [
        "lalu menerapkannya ke data kami:"
      ],
      "metadata": {
        "id": "Fqxp9b25Hg2C"
      }
    },
    {
      "cell_type": "code",
      "source": [
        "train_labels = [one_hot_encode(label) for label in train_labels]\n",
        "test_labels = [one_hot_encode(label) for label in test_labels]\n",
        "\n",
        "assert shape(train_labels) == [60000, 10]\n",
        "assert shape(test_labels) == [10000, 10]"
      ],
      "metadata": {
        "id": "VcMEx2-aHhqu"
      },
      "execution_count": null,
      "outputs": []
    },
    {
      "cell_type": "markdown",
      "source": [
        "Salah satu kekuatan abstraksi kami adalah bahwa kami dapat menggunakan loop pelatihan/evaluasi yang sama dengan berbagai model. Jadi mari kita tulis dulu. Kami akan menyebarkannya model kami, data, fungsi kerugian, dan (jika kami melatih) pengoptimal.\n",
        "\n",
        "Ini akan melewati data kami, melacak kinerja, dan (jika kami mengirimkan pengoptimal) memperbarui parameter kami:"
      ],
      "metadata": {
        "id": "8S-piopRHlBl"
      }
    },
    {
      "cell_type": "code",
      "source": [
        "import tqdm\n",
        "\n",
        "def loop(model: Layer,\n",
        "         images: List[Tensor],\n",
        "         labels: List[Tensor],\n",
        "         loss: Loss,\n",
        "         optimizer: Optimizer = None) -> None:\n",
        "    correct = 0         # Track number of correct predictions.\n",
        "    total_loss = 0.0    # Track total loss.\n",
        "\n",
        "    with tqdm.trange(len(images)) as t:\n",
        "        for i in t:\n",
        "            predicted = model.forward(images[i])             # Predict.\n",
        "            if argmax(predicted) == argmax(labels[i]):       # Check for\n",
        "                correct += 1                                 # correctness.\n",
        "            total_loss += loss.loss(predicted, labels[i])    # Compute loss.\n",
        "\n",
        "            # If we're training, backpropagate gradient and update weights.\n",
        "            if optimizer is not None:\n",
        "                gradient = loss.gradient(predicted, labels[i])\n",
        "                model.backward(gradient)\n",
        "                optimizer.step(model)\n",
        "\n",
        "            # And update our metrics in the progress bar.\n",
        "            avg_loss = total_loss / (i + 1)\n",
        "            acc = correct / (i + 1)\n",
        "            t.set_description(f\"mnist loss: {avg_loss:.3f} acc: {acc:.3f}\")"
      ],
      "metadata": {
        "id": "-odHYlBbH5P0"
      },
      "execution_count": null,
      "outputs": []
    },
    {
      "cell_type": "markdown",
      "source": [
        "Sebagai dasar, kita dapat menggunakan perpustakaan *deep learning* kita untuk melatih model regresi logistik (multikelas), yang hanya merupakan lapisan linier tunggal yang diikuti oleh softmax. Model ini (pada dasarnya) hanya mencari 10 fungsi linier sedemikian rupa sehingga jika masukannya mewakili, katakanlah, 5, maka fungsi linier ke-5 menghasilkan keluaran terbesar.\n",
        "\n",
        "Satu langkah melalui 60.000 contoh pelatihan kami seharusnya cukup untuk mempelajari model:"
      ],
      "metadata": {
        "id": "8SECcvg1IlPC"
      }
    },
    {
      "cell_type": "code",
      "source": [
        "random.seed(0)\n",
        "\n",
        "# Logistic regression is just a linear layer followed by softmax\n",
        "model = Linear(784, 10)\n",
        "loss = SoftmaxCrossEntropy()\n",
        "\n",
        "# This optimizer seems to work\n",
        "optimizer = Momentum(learning_rate=0.01, momentum=0.99)\n",
        "\n",
        "# Train on the training data\n",
        "loop(model, train_images, train_labels, loss, optimizer)\n",
        "\n",
        "# Test on the test data (no optimizer means just evaluate)\n",
        "loop(model, test_images, test_labels, loss)"
      ],
      "metadata": {
        "id": "I3Zbm8IXJGC5"
      },
      "execution_count": null,
      "outputs": []
    },
    {
      "cell_type": "markdown",
      "source": [
        "Ini mendapat sekitar 89% akurasi. Mari kita lihat apakah kita dapat melakukan yang lebih baik dengan jaringan saraf yang dalam. Kami akan menggunakan dua layer tersembunyi, yang pertama dengan 30 neuron, dan yang kedua dengan 10 neuron. Dan kita akan menggunakan aktivasi Tanh:"
      ],
      "metadata": {
        "id": "shtetI9xNwRR"
      }
    },
    {
      "cell_type": "code",
      "source": [
        "random.seed(0)\n",
        "\n",
        "# Name them so we can turn train on and off\n",
        "dropout1 = Dropout(0.1)\n",
        "dropout2 = Dropout(0.1)\n",
        "\n",
        "model = Sequential([\n",
        "    Linear(784, 30), # Hidden layer 1: size 30\n",
        "    dropout1,\n",
        "    Tanh(),\n",
        "    Linear(30, 10), # Hidden layer 2: size 10\n",
        "    dropout2,\n",
        "    Tanh(),\n",
        "    Linear(10, 10) # Output layer: size 10\n",
        "])"
      ],
      "metadata": {
        "id": "g9ub7lCSOGnY"
      },
      "execution_count": null,
      "outputs": []
    },
    {
      "cell_type": "markdown",
      "source": [
        "Dan kita bisa menggunakan loop pelatihan yang sama!"
      ],
      "metadata": {
        "id": "7zmLWeuHOBco"
      }
    },
    {
      "cell_type": "code",
      "source": [
        "optimizer = Momentum(learning_rate=0.01, momentum=0.99)\n",
        "loss = SoftmaxCrossEntropy()\n",
        "\n",
        "# Enable dropout and train (takes > 20 minutes on my laptop!)\n",
        "dropout1.train = dropout2.train = True\n",
        "loop(model, train_images, train_labels, loss, optimizer)\n",
        "\n",
        "# Disable dropout and evaluate\n",
        "dropout1.train = dropout2.train = False\n",
        "loop(model, test_images, test_labels, loss)"
      ],
      "metadata": {
        "id": "gXy65ULlOrLZ"
      },
      "execution_count": null,
      "outputs": []
    },
    {
      "cell_type": "markdown",
      "source": [
        "Model mendalam kami mendapatkan akurasi lebih baik dari 92% pada set pengujian, yang merupakan peningkatan bagus dari model logistik sederhana.\n",
        "\n",
        "Situs web MNIST menjelaskan berbagai model yang mengungguli model tersebut. Banyak di antaranya dapat diimplementasikan menggunakan mesin yang telah kami kembangkan sejauh ini, tetapi akan membutuhkan waktu yang sangat lama untuk melatih kerangka kerja daftar-sebagai-tensor kami. Beberapa model terbaik melibatkan lapisan konvolusional, yang penting tetapi sayangnya berada di luar cakupan buku pengantar tentang ilmu data."
      ],
      "metadata": {
        "id": "-N27vBjDOuvn"
      }
    },
    {
      "cell_type": "markdown",
      "source": [
        "##Model Penyimpanan dan Pemuatan\n",
        "Model-model ini membutuhkan waktu lama untuk dilatih, jadi alangkah baiknya jika kita dapat menyimpannya sehingga kita tidak perlu melatihnya setiap saat. Untungnya, kita dapat menggunakan modul json untuk dengan mudah membuat serialisasi bobot model ke sebuah file.\n",
        "\n",
        "Untuk menyimpan, kita dapat menggunakan Layer.params untuk mengumpulkan bobot, memasukkannya ke dalam daftar, dan menggunakan json.dump untuk menyimpan daftar tersebut ke file:"
      ],
      "metadata": {
        "id": "3ujpvrIsoSfX"
      }
    },
    {
      "cell_type": "code",
      "source": [
        "import json\n",
        "\n",
        "def save_weights(model: Layer, filename: str) -> None:\n",
        "    weights = list(model.params())\n",
        "    with open(filename, 'w') as f:\n",
        "        json.dump(weights, f)"
      ],
      "metadata": {
        "id": "Nlpev0v8QwBq"
      },
      "execution_count": null,
      "outputs": []
    },
    {
      "cell_type": "markdown",
      "source": [
        "Memuat beban kembali hanyalah sedikit pekerjaan lagi. Kami hanya menggunakan json.load untuk mendapatkan kembali daftar bobot dari file dan penugasan slice untuk mengatur bobot model kami.\n",
        "\n",
        "(Secara khusus, ini berarti bahwa kita harus membuat model sendiri dan kemudian memuat bobot. Pendekatan alternatif juga akan menyimpan beberapa representasi dari arsitektur model dan menggunakannya untuk membuat model. Itu bukan ide yang buruk, tetapi itu akan memerlukan lebih banyak kode dan perubahan pada semua Lapisan kita, jadi kita akan tetap menggunakan cara yang lebih sederhana.)\n",
        "\n",
        "Sebelum kami memuat bobot, kami ingin memeriksa apakah mereka memiliki bentuk yang sama dengan param model yang kami muat. (Ini adalah perlindungan terhadap, misalnya, mencoba memuat bobot untuk jaringan dalam yang tersimpan ke dalam jaringan dangkal, atau masalah serupa.)"
      ],
      "metadata": {
        "id": "VdYecXwAQ7L8"
      }
    },
    {
      "cell_type": "code",
      "source": [
        "def load_weights(model: Layer, filename: str) -> None:\n",
        "    with open(filename) as f:\n",
        "      weights = json.load(f)\n",
        "\n",
        "    # Check for consistency\n",
        "    assert all(shape(param) == shape(weight)\n",
        "               for param, weight in zip(model.params(), weights))\n",
        "\n",
        "    # Then load using slice assignment\n",
        "    for param, weight in zip(model.params(), weights):\n",
        "        param[:] = weight"
      ],
      "metadata": {
        "id": "WqHk7vbxSIUj"
      },
      "execution_count": null,
      "outputs": []
    },
    {
      "cell_type": "markdown",
      "source": [
        "# Bab 19 Pengelompokan\n",
        "Muthia Yulisa (4112321035)\n",
        "\n",
        "Yudha Setya Wicaksana (4112321012)"
      ],
      "metadata": {
        "id": "9ASyh-KplxuO"
      }
    },
    {
      "cell_type": "markdown",
      "source": [
        "##  Sebuah Ide\n",
        "\n",
        "Setiap kali Anda melihat beberapa sumber data, kemungkinan besar data tersebut akan membentuk cluster. A\n",
        "kumpulan data yang menunjukkan tempat tinggal para jutawan mungkin memiliki kelompok di tempat-tempat seperti Beverly Hills dan\n",
        "Manhattan. Kumpulan data yang menunjukkan berapa jam orang bekerja setiap minggu mungkin memiliki cluster\n",
        "40 (dan jika diambil dari negara bagian dengan undang-undang yang mengamanatkan tunjangan khusus untuk setidaknya orang yang bekerja\n",
        "20 jam seminggu, mungkin ada cluster lain sekitar 19). Kumpulan data demografis dari\n",
        "pemilih terdaftar cenderung membentuk berbagai kelompok (misalnya, \"ibu sepak bola\", \"pensiunan yang bosan\",\n",
        "“milenial pengangguran”) yang dianggap relevan oleh lembaga survei dan konsultan politik.\n",
        "\n",
        "Tidak seperti beberapa masalah yang telah kami lihat, umumnya tidak ada pengelompokan yang \"benar\". Sebuah\n",
        "skema pengelompokan alternatif mungkin mengelompokkan beberapa “generasi milenial yang menganggur” dengan “lulusan\n",
        "siswa\", dan lainnya dengan \"penghuni ruang bawah tanah orang tua\". Tidak ada skema yang lebih benar\n",
        "—sebagai gantinya, masing-masing cenderung lebih optimal sehubungan dengan \"seberapa bagus clusternya?\" metrik.\n",
        "Selain itu, cluster tidak akan melabeli dirinya sendiri. Anda harus melakukannya dengan melihat data\n",
        "mendasari masing-masing."
      ],
      "metadata": {
        "id": "67rAnw8bmGYN"
      }
    },
    {
      "cell_type": "markdown",
      "source": [
        "## Sebuah Model\n",
        "\n",
        "Bagi kami, setiap input akan menjadi vektor dalam ruang d-dimensi, yang, seperti biasa, akan kami wakili sebagai a\n",
        "daftar nomor. Tujuan kami adalah untuk mengidentifikasi kelompok input serupa dan (kadang-kadang) untuk menemukan a\n",
        "nilai representatif untuk setiap cluster.\n",
        "\n",
        "Misalnya, setiap input dapat berupa vektor numerik yang merepresentasikan judul posting blog, di mana\n",
        "jika tujuannya mungkin untuk menemukan kelompok posting serupa, mungkin untuk memahami apa yang pengguna kami\n",
        "ngeblog tentang. Atau bayangkan kita memiliki gambar yang berisi ribuan (merah, hijau, biru)\n",
        "warna dan kita perlu mencetak versi 10 warna itu. Pengelompokan dapat membantu kita memilih 10\n",
        "warna yang akan meminimalkan total \"kesalahan warna.\"\n",
        "\n",
        "Salah satu metode pengelompokan yang paling sederhana adalah k-means, di mana jumlah k cluster dipilih\n",
        "maju, setelah itu tujuannya adalah untuk mempartisi input menjadi set dengan cara yang meminimalkan total\n",
        "jumlah kuadrat jarak dari setiap titik ke rata-rata cluster yang ditugaskan.\n",
        "\n",
        "Salah satu metode pengelompokan yang paling sederhana adalah k-means, di mana jumlah k cluster dipilih\n",
        "maju, setelah itu tujuannya adalah untuk mempartisi input menjadi set dengan cara yang meminimalkan total\n",
        "jumlah kuadrat jarak dari setiap titik ke rata-rata cluster yang ditugaskan.\n",
        "\n",
        "Ada banyak cara untuk menetapkan n poin ke k cluster, yang berarti menemukan clustering yang optimal\n",
        "adalah masalah yang sangat sulit. Kami akan menerima algoritme iteratif yang biasanya menemukan pengelompokan yang baik:\n",
        "\n",
        "\n",
        "\n",
        "*   Mulailah dengan satu set k-means, yang merupakan titik-titik dalam ruang d-dimensi.\n",
        "*   Tetapkan setiap titik ke rata-rata terdekatnya.\n",
        "*   Jika tidak ada penugasan poin yang berubah, hentikan dan pertahankan cluster.\n",
        "*   Jika penugasan beberapa poin telah berubah, hitung ulang rata-rata dan kembali ke langkah 2.\n",
        "\n",
        "Menggunakan fungsi vector_mean dari Bab 4, cukup mudah untuk membuat kelas yang melakukan ini.\n",
        "Untuk memulainya, kita akan membuat fungsi pembantu yang mengukur berapa banyak perbedaan koordinat dua vektor\n",
        "di. Kami akan menggunakan ini untuk melacak kemajuan pelatihan kami:"
      ],
      "metadata": {
        "id": "1JGLZEnVmVwt"
      }
    },
    {
      "cell_type": "code",
      "source": [
        "from scratch.linear_algebra import Vector\n",
        "def num_differences(v1: Vector, v2: Vector) -> int:\n",
        "assert len(v1) == len(v2)\n",
        "return len([x1 for x1, x2 in zip(v1, v2) if x1 != x2])\n",
        "assert num_differences([1, 2, 3], [2, 1, 3]) == 2\n",
        "assert num_differences([1, 2], [1, 2]) == 0"
      ],
      "metadata": {
        "id": "7LrX3WqymgEZ"
      },
      "execution_count": null,
      "outputs": []
    },
    {
      "cell_type": "markdown",
      "source": [
        "Kami juga membutuhkan fungsi yang, dengan memberikan beberapa vektor dan penugasannya ke cluster, menghitungnya\n",
        "sarana cluster. Mungkin beberapa cluster tidak memiliki poin yang ditetapkan padanya. Kami tidak bisa mengambil\n",
        "rata-rata koleksi kosong, jadi dalam hal ini kami hanya akan secara acak memilih salah satu poin untuk dijadikan\n",
        "\"rata-rata\" dari cluster itu:"
      ],
      "metadata": {
        "id": "bVlGaBKZmnLs"
      }
    },
    {
      "cell_type": "code",
      "source": [
        "from typing import List\n",
        "from scratch.linear_algebra import vector_mean\n",
        "def cluster_means(k: int,\n",
        "\n",
        "inputs: List[Vector],\n",
        "assignments: List[int]) -> List[Vector]:\n",
        "# clusters[i] contains the inputs whose assignment is i\n",
        "clusters = [[] for i in range(k)]\n",
        "for input, assignment in zip(inputs, assignments):\n",
        "clusters[assignment].append(input)\n",
        "# if a cluster is empty, just use a random point\n",
        "return [vector_mean(cluster) if cluster else random.choice(inputs)\n",
        "for cluster in clusters]"
      ],
      "metadata": {
        "id": "Z0cRJGCMmokm"
      },
      "execution_count": null,
      "outputs": []
    },
    {
      "cell_type": "markdown",
      "source": [
        "Dan sekarang kami siap untuk mengkodekan clusterer kami. Seperti biasa, kami akan menggunakan tqdm untuk melacak kemajuan kami, tetapi di sini kami tidak tahu berapa banyak iterasi yang diperlukan, jadi kami kemudian menggunakan itertools.count, yang mana membuat iterable tak terbatas, dan kami akan mengembalikannya setelah selesai:"
      ],
      "metadata": {
        "id": "chABQQw_mpB1"
      }
    },
    {
      "cell_type": "code",
      "source": [
        "import itertools\n",
        "import random\n",
        "import tqdm\n",
        "from scratch.linear_algebra import squared_distance\n",
        "class KMeans:\n",
        "def __init__(self, k: int) -> None:\n",
        "self.k = k # number of clusters\n",
        "self.means = None\n",
        "def classify(self, input: Vector) -> int:\n",
        "\"\"\"return the index of the cluster closest to the input\"\"\"\n",
        "return min(range(self.k),\n",
        "\n",
        "key=lambda i: squared_distance(input, self.means[i]))\n",
        "\n",
        "def train(self, inputs: List[Vector]) -> None:\n",
        "# Start with random assignments\n",
        "assignments = [random.randrange(self.k) for _ in inputs]\n",
        "with tqdm.tqdm(itertools.count()) as t:\n",
        "for _ in t:\n",
        "# Compute means and find new assignments\n",
        "self.means = cluster_means(self.k, inputs, assignments)\n",
        "new_assignments = [self.classify(input) for input in inputs]\n",
        "# Check how many assignments changed and if we're done\n",
        "num_changed = num_differences(assignments, new_assignments)\n",
        "if num_changed == 0:\n",
        "return\n",
        "# Otherwise keep the new assignments, and compute new means\n",
        "assignments = new_assignments\n",
        "self.means = cluster_means(self.k, inputs, assignments)\n",
        "t.set_description(f\"changed: {num_changed} / {len(inputs)}\")"
      ],
      "metadata": {
        "id": "EHnpuKtfLtnN"
      },
      "execution_count": null,
      "outputs": []
    },
    {
      "cell_type": "markdown",
      "source": [
        "Mari kita lihat cara kerjanya."
      ],
      "metadata": {
        "id": "j5DmaPf8PFAV"
      }
    },
    {
      "cell_type": "markdown",
      "source": [
        "## Contoh: Pertemuan\n",
        "\n",
        "Untuk merayakan pertumbuhan DataSciencester, VP User Rewards Anda ingin mengatur beberapa\n",
        "pertemuan orang untuk pengguna di kota Anda, lengkap dengan bir, pizza, dan kaos DataSciencester.\n",
        "\n",
        "Anda mengetahui lokasi semua pengguna lokal Anda (Gambar 20-1), dan dia ingin Anda memilih pertemuan\n",
        "lokasi yang memudahkan semua orang untuk hadir.\n",
        "\n",
        "\n",
        "Bergantung pada bagaimana Anda melihatnya, Anda mungkin melihat dua atau tiga kelompok. (Ini mudah dilakukan secara visual\n",
        "karena datanya hanya dua dimensi. Dengan lebih banyak dimensi, akan jauh lebih sulit untuk dilihat.)\n",
        "Bayangkan dulu dia memiliki anggaran yang cukup untuk tiga pertemuan. Anda pergi ke komputer Anda dan coba ini:"
      ],
      "metadata": {
        "id": "5Gu_rBDYLuRa"
      }
    },
    {
      "cell_type": "code",
      "source": [
        "random.seed(12) # so you get the same results as me\n",
        "clusterer = KMeans(k=3)\n",
        "clusterer.train(inputs)\n",
        "means = sorted(clusterer.means) # sort for the unit test\n",
        "assert len(means) == 3\n",
        "# Check that the means are close to what we expect\n",
        "assert squared_distance(means[0], [-44, 5]) < 1\n",
        "assert squared_distance(means[1], [-16, -10]) < 1\n",
        "assert squared_distance(means[2], [18, 20]) < 1"
      ],
      "metadata": {
        "id": "ZPhfcrPuL2BD"
      },
      "execution_count": null,
      "outputs": []
    },
    {
      "cell_type": "markdown",
      "source": [
        "Anda menemukan tiga klaster yang berpusat di [–44, 5], [–16, –10], dan [18, 20], dan Anda mencari tempat pertemuan\n",
        "dekat lokasi tersebut (Gambar 20-2).\n",
        "\n",
        "\n",
        "Anda menunjukkan hasil Anda kepada VP, yang memberi tahu Anda bahwa sekarang dia hanya memiliki anggaran yang cukup untuk dua orang\n",
        "pertemuan.\n",
        "\n",
        "\"Tidak masalah,\" Anda berkata:"
      ],
      "metadata": {
        "id": "v5kIrssFL-Rz"
      }
    },
    {
      "cell_type": "code",
      "source": [
        "random.seed(0)\n",
        "clusterer = KMeans(k=2)\n",
        "clusterer.train(inputs)\n",
        "means = sorted(clusterer.means)\n",
        "assert len(means) == 2\n",
        "assert squared_distance(means[0], [-26, -5]) < 1\n",
        "assert squared_distance(means[1], [18, 20]) < 1"
      ],
      "metadata": {
        "id": "tc6eDXOuMFmW"
      },
      "execution_count": null,
      "outputs": []
    },
    {
      "cell_type": "markdown",
      "source": [
        "Seperti yang ditunjukkan pada Gambar 20-3, satu pertemuan seharusnya masih dekat [18, 20], tetapi sekarang pertemuan lainnya harus dekat [–26, –5]."
      ],
      "metadata": {
        "id": "vDYwpev9MJYt"
      }
    },
    {
      "cell_type": "markdown",
      "source": [
        "## Memilih K\n",
        "\n",
        "Pada contoh sebelumnya, pemilihan k didorong oleh faktor-faktor di luar kendali kita. Secara umum, ini\n",
        "tidak akan terjadi. Ada berbagai cara untuk memilih k. Salah satu yang cukup mudah dimengerti\n",
        "melibatkan memplot jumlah kesalahan kuadrat (antara setiap titik dan rata-rata klasternya) sebagai a\n",
        "fungsi k dan melihat di mana grafik \"membungkuk\":"
      ],
      "metadata": {
        "id": "ar0sKmggMN47"
      }
    },
    {
      "cell_type": "code",
      "source": [
        "from matplotlib import pyplot as plt\n",
        "def squared_clustering_errors(inputs: List[Vector], k: int) -> float:\n",
        "\"\"\"finds the total squared error from k-means clustering the inputs\"\"\"\n",
        "clusterer = KMeans(k)\n",
        "clusterer.train(inputs)\n",
        "means = clusterer.means\n",
        "assignments = [clusterer.classify(input) for input in inputs]\n",
        "return sum(squared_distance(input, means[cluster])\n",
        "for input, cluster in zip(inputs, assignments))"
      ],
      "metadata": {
        "id": "UX1mPU2pMO68"
      },
      "execution_count": null,
      "outputs": []
    },
    {
      "cell_type": "markdown",
      "source": [
        "yang dapat kita terapkan pada contoh kita sebelumnya:"
      ],
      "metadata": {
        "id": "TKUQPV4_MS1k"
      }
    },
    {
      "cell_type": "code",
      "source": [
        "plt.imshow(new_img)\n",
        "plt.axis('off')\n",
        "plt.show()"
      ],
      "metadata": {
        "id": "OtxGxsQlMVeE"
      },
      "execution_count": null,
      "outputs": []
    },
    {
      "cell_type": "markdown",
      "source": [
        "Melihat Gambar 20-4, metode ini sesuai dengan anggapan awal kita bahwa tiga adalah yang \"benar\" jumlah cluster."
      ],
      "metadata": {
        "id": "ES-sBVvkMZLs"
      }
    },
    {
      "cell_type": "markdown",
      "source": [
        "## Contoh: Clustering Warna\n",
        "\n",
        "\n",
        "VP of Swag telah merancang stiker DataSciencester yang menarik yang dia ingin Anda bagikan\n",
        "\n",
        "pertemuan. Sayangnya, printer stiker Anda hanya bisa mencetak maksimal lima warna per stiker. Dan sejak VP\n",
        "of Art sedang cuti panjang, VP of Swag bertanya apakah ada cara agar Anda dapat mengambil desainnya dan memodifikasinya\n",
        "sehingga hanya berisi lima warna.\n",
        "Gambar komputer dapat direpresentasikan sebagai susunan piksel dua dimensi, di mana setiap piksel itu sendiri a\n",
        "vektor tiga dimensi (merah, hijau, biru) yang menunjukkan warnanya.\n",
        "Membuat versi lima warna dari gambar, kemudian, memerlukan:\n",
        "\n",
        "\n",
        "\n",
        "*   Memilih lima warna.\n",
        "*   Menetapkan salah satu warna tersebut ke setiap piksel.\n",
        "\n",
        "Ternyata ini adalah tugas yang bagus untuk pengelompokan k-means, yang dapat mempartisi piksel menjadi lima kelompok\n",
        "dalam ruang merah-hijau-biru. Jika kemudian kami mewarnai ulang piksel di setiap kluster ke warna rata-rata, kami selesai.\n",
        "Untuk memulainya, kita membutuhkan cara untuk memuat gambar ke dalam Python. Kita bisa melakukan ini dengan matplotlib, jika kita\n",
        "pertama instal perpustakaan bantal:\n",
        "\n",
        "    python -m pip install pillow\n",
        "Kemudian kita bisa menggunakan matplotlib.image.imread:"
      ],
      "metadata": {
        "id": "bamIsNqwMhF0"
      }
    },
    {
      "cell_type": "code",
      "source": [
        "image_path = r\"girl_with_book.jpg\"    # wherever your image is\n",
        "import matplotlib.image as mpimg\n",
        "img = mpimg.imread(image_path) / 256  # rescale to between 0 and 1"
      ],
      "metadata": {
        "id": "BrjDJXniMl3s"
      },
      "execution_count": null,
      "outputs": []
    },
    {
      "cell_type": "markdown",
      "source": [
        "Di belakang layar img adalah array NumPy, tetapi untuk tujuan kita, kita dapat memperlakukannya sebagai daftar dari daftar. img[i][j] adalah piksel pada baris ke-i dan kolom ke-j, dan setiap piksel adalah daftar [merah, hijau, biru] angka antara 0 dan 1 yang menunjukkan warna piksel tersebut:"
      ],
      "metadata": {
        "id": "FTeJL95PMpxN"
      }
    },
    {
      "cell_type": "code",
      "source": [
        "top_row = img[0]\n",
        "top_left_pixel = top_row[0]\n",
        "red, green, blue = top_left_pixel"
      ],
      "metadata": {
        "id": "iEp1j7o-Mt3s"
      },
      "execution_count": null,
      "outputs": []
    },
    {
      "cell_type": "markdown",
      "source": [
        "Secara khusus, kita bisa mendapatkan daftar semua piksel yang diratakan sebagai:"
      ],
      "metadata": {
        "id": "bbsl_C7MMxaX"
      }
    },
    {
      "cell_type": "code",
      "source": [
        "# .tolist() converts a NumPy array to a Python list\n",
        "pixels = [pixel.tolist() for row in img for pixel in row]"
      ],
      "metadata": {
        "id": "BFlAVDW-M1Og"
      },
      "execution_count": null,
      "outputs": []
    },
    {
      "cell_type": "markdown",
      "source": [
        "dan kemudian berikan mereka ke clusterer kami:"
      ],
      "metadata": {
        "id": "kXVBdgM2M6EF"
      }
    },
    {
      "cell_type": "code",
      "source": [
        "clusterer = KMeans(5)\n",
        "clusterer.train(pixels) # this might take a while"
      ],
      "metadata": {
        "id": "nclcOCX3M9FP"
      },
      "execution_count": null,
      "outputs": []
    },
    {
      "cell_type": "markdown",
      "source": [
        "Setelah selesai, kita tinggal membuat gambar baru dengan format yang sama:"
      ],
      "metadata": {
        "id": "PM36O1U1NAFs"
      }
    },
    {
      "cell_type": "code",
      "source": [
        "def recolor(pixel: Vector) -> Vector:\n",
        "cluster = clusterer.classify(pixel) # index of the closest cluster\n",
        "return clusterer.means[cluster] # mean of the closest cluster\n",
        "new_img = [[recolor(pixel) for pixel in row] # recolor this row of pixels\n",
        "for row in img] # for each row in the image"
      ],
      "metadata": {
        "id": "3X3Bl07BNC90"
      },
      "execution_count": null,
      "outputs": []
    },
    {
      "cell_type": "markdown",
      "source": [
        "dan tampilkan, menggunakan plt.imshow:"
      ],
      "metadata": {
        "id": "S1P3R02QNFx8"
      }
    },
    {
      "cell_type": "code",
      "source": [
        "plt.imshow(new_img)\n",
        "plt.axis('off')\n",
        "plt.show()"
      ],
      "metadata": {
        "id": "aWVoVgkRQLYm"
      },
      "execution_count": null,
      "outputs": []
    },
    {
      "cell_type": "markdown",
      "source": [
        "Sulit untuk menunjukkan hasil warna dalam buku hitam-putih, tetapi Gambar 20-5 menunjukkan skala abu-abu versi gambar penuh warna dan keluaran menggunakan proses ini untuk menguranginya menjadi lima warna."
      ],
      "metadata": {
        "id": "bLk35B3lNMDs"
      }
    },
    {
      "cell_type": "markdown",
      "source": [
        "## Pengelompokan Hirarkis Bawah-Atas\n",
        "\n",
        "Pendekatan alternatif untuk pengelompokan adalah “menumbuhkan” kelompok dari bawah ke atas. Kita bisa melakukan ini di\n",
        "cara berikut:\n",
        "\n",
        "1.   Jadikan setiap input clusternya sendiri.\n",
        "2.   Selama masih ada beberapa cluster yang tersisa, temukan dua cluster terdekat dan gabungkan\n",
        "mereka.\n",
        "\n",
        "Pada akhirnya, kita akan memiliki satu kluster raksasa yang berisi semua masukan. Jika kami melacak urutan penggabungan,\n",
        "kita dapat membuat ulang sejumlah cluster dengan memisahkan. Misalnya, jika kita ingin tiga cluster, kita bisa\n",
        "batalkan saja dua penggabungan terakhir.\n",
        "\n",
        "Kami akan menggunakan representasi cluster yang sangat sederhana. Nilai-nilai kita akan hidup dalam gugusan daun, yang kita\n",
        "akan mewakili sebagai NamedTuples:"
      ],
      "metadata": {
        "id": "cNHOyyoVNTOv"
      }
    },
    {
      "cell_type": "code",
      "source": [
        "from typing import NamedTuple, Union\n",
        "class Leaf(NamedTuple):\n",
        "value: Vector\n",
        "leaf1 = Leaf([10, 20])\n",
        "leaf2 = Leaf([30, -15])"
      ],
      "metadata": {
        "id": "09qXyyNANULs"
      },
      "execution_count": null,
      "outputs": []
    },
    {
      "cell_type": "markdown",
      "source": [
        "Kami akan menggunakan ini untuk menumbuhkan cluster gabungan, yang juga akan kami wakili sebagai NamedTuples:"
      ],
      "metadata": {
        "id": "PXV7NkE2NXMc"
      }
    },
    {
      "cell_type": "code",
      "source": [
        "class Merged(NamedTuple):\n",
        "children: tuple\n",
        "order: int\n",
        "merged = Merged((leaf1, leaf2), order=1)\n",
        "Cluster = Union[Leaf, Merged]"
      ],
      "metadata": {
        "id": "e2nEG-b7NbHk"
      },
      "execution_count": null,
      "outputs": []
    },
    {
      "cell_type": "markdown",
      "source": [
        "Kita akan berbicara sedikit tentang urutan penggabungan, tetapi pertama-tama mari kita buat fungsi pembantu yang secara rekursif mengembalikan semua\n",
        "nilai-nilai yang terkandung dalam cluster (mungkin digabungkan):"
      ],
      "metadata": {
        "id": "xScWucPONdxP"
      }
    },
    {
      "cell_type": "code",
      "source": [
        "def get_values(cluster: Cluster) -> List[Vector]:\n",
        "if isinstance(cluster, Leaf):\n",
        "return [cluster.value]\n",
        "else:\n",
        "return [value\n",
        "for child in cluster.children\n",
        "for value in get_values(child)]\n",
        "assert get_values(merged) == [[10, 20], [30, -15]]"
      ],
      "metadata": {
        "id": "wI5ibaq1NhEr"
      },
      "execution_count": null,
      "outputs": []
    },
    {
      "cell_type": "markdown",
      "source": [
        "Untuk menggabungkan cluster-cluster terdekat, kita memerlukan beberapa pengertian tentang jarak antar cluster. Dengan baik menggunakan jarak minimum antara elemen dari dua cluster, yang menggabungkan dua cluster itu paling dekat dengan sentuhan (tetapi terkadang akan menghasilkan kelompok besar seperti rantai yang tidak terlalu rapat). Jika kami menginginkan klaster bola yang rapat, kami mungkin menggunakan jarak maksimum sebagai gantinya, karena menggabungkan keduanya cluster yang muat di bola terkecil. Keduanya adalah pilihan umum, seperti jarak rata-rata:"
      ],
      "metadata": {
        "id": "2whULovvNj7Y"
      }
    },
    {
      "cell_type": "code",
      "source": [
        "from typing import Callable\n",
        "from scratch.linear_algebra import distance\n",
        "\n",
        "def cluster_distance(cluster1: Cluster,\n",
        "cluster2: Cluster,\n",
        "distance_agg: Callable = min) -> float:\n",
        "\n",
        "\"\"\"\n",
        "compute all the pairwise distances between cluster1 and cluster2\n",
        "and apply the aggregation function _distance_agg_ to the resulting list\n",
        "\"\"\"\n",
        "return distance_agg([distance(v1, v2)\n",
        "\n",
        "for v1 in get_values(cluster1)\n",
        "for v2 in get_values(cluster2)])"
      ],
      "metadata": {
        "id": "buwZGRMrNnEo"
      },
      "execution_count": null,
      "outputs": []
    },
    {
      "cell_type": "markdown",
      "source": [
        "Kami akan menggunakan slot pesanan gabungan untuk melacak urutan di mana kami melakukan penggabungan. Angka yang lebih kecil akan mewakili penggabungan nanti. Ini berarti ketika kami ingin memisahkan cluster, kami melakukannya dari penggabungan terendah urutan ke tertinggi. Karena kluster Daun tidak pernah digabungkan, kami akan menetapkannya tak terhingga, yang tertinggi nilai yang mungkin. Dan karena mereka tidak memiliki properti .order, kami akan membuat fungsi pembantu:"
      ],
      "metadata": {
        "id": "twKPcNEoNqZ8"
      }
    },
    {
      "cell_type": "code",
      "source": [
        "def get_merge_order(cluster: Cluster) -> float:\n",
        "if isinstance(cluster, Leaf):\n",
        "return float('inf') # was never merged\n",
        "else:\n",
        "return cluster.order"
      ],
      "metadata": {
        "id": "vkH33s0vNt6T"
      },
      "execution_count": null,
      "outputs": []
    },
    {
      "cell_type": "markdown",
      "source": [
        "mengembalikan cluster.order\n",
        "\n",
        "Demikian pula, karena kluster Daun tidak memiliki turunan, kami akan membuat dan menambahkan fungsi pembantu untuk itu:"
      ],
      "metadata": {
        "id": "4Z0opdOqNzhz"
      }
    },
    {
      "cell_type": "code",
      "source": [
        "from typing import Tuple\n",
        "def get_children(cluster: Cluster):\n",
        "if isinstance(cluster, Leaf):\n",
        "raise TypeError(\"Leaf has no children\")\n",
        "else:\n",
        "return cluster.children"
      ],
      "metadata": {
        "id": "S_UIEuC5N3J0"
      },
      "execution_count": null,
      "outputs": []
    },
    {
      "cell_type": "markdown",
      "source": [
        "Sekarang kami siap membuat algoritme pengelompokan:"
      ],
      "metadata": {
        "id": "9tE8imqyN7x-"
      }
    },
    {
      "cell_type": "code",
      "source": [
        "def bottom_up_cluster(inputs: List[Vector],\n",
        "\n",
        "distance_agg: Callable = min) -> Cluster:\n",
        "\n",
        "# Start with all leaves\n",
        "clusters: List[Cluster] = [Leaf(input) for input in inputs]\n",
        "def pair_distance(pair: Tuple[Cluster, Cluster]) -> float:\n",
        "return cluster_distance(pair[0], pair[1], distance_agg)\n",
        "# as long as we have more than one cluster left...\n",
        "while len(clusters) > 1:\n",
        "# find the two closest clusters\n",
        "c1, c2 = min(((cluster1, cluster2)\n",
        "\n",
        "for i, cluster1 in enumerate(clusters)\n",
        "for cluster2 in clusters[:i]),\n",
        "key=pair_distance)\n",
        "# remove them from the list of clusters\n",
        "\n",
        "clusters = [c for c in clusters if c != c1 and c != c2]\n",
        "# merge them, using merge_order = # of clusters left\n",
        "merged_cluster = Merged((c1, c2), order=len(clusters))\n",
        "# and add their merge\n",
        "clusters.append(merged_cluster)\n",
        "# when there's only one cluster left, return it\n",
        "return clusters[0]"
      ],
      "metadata": {
        "id": "BIma_EK3N_yb"
      },
      "execution_count": null,
      "outputs": []
    },
    {
      "cell_type": "markdown",
      "source": [
        "Menggunakannya sangat simple:"
      ],
      "metadata": {
        "id": "w4Tw34bBOExU"
      }
    },
    {
      "cell_type": "code",
      "source": [
        "base_cluster = bottom_up_cluster(inputs)"
      ],
      "metadata": {
        "id": "qn01xKA9OIQs"
      },
      "execution_count": null,
      "outputs": []
    },
    {
      "cell_type": "markdown",
      "source": [
        "Ini menghasilkan pengelompokan yang terlihat sebagai berikut:\n",
        "\n",
        "suruh ngasih gambar\n",
        "\n",
        "Angka di atas menunjukkan \"urutan gabungan\". Karena kami memiliki 20 input, butuh 19 penggabungan untuk mencapainya\n",
        "klaster yang satu ini. Penggabungan pertama membuat cluster 18 dengan menggabungkan daun [19, 28] dan [21, 27]. Dan\n",
        "penggabungan terakhir membuat cluster 0.\n",
        "\n",
        "Jika Anda hanya menginginkan dua klaster, Anda akan membaginya pada garpu pertama (“0”), membuat satu klaster dengan enam titik\n",
        "dan satu detik dengan yang lainnya. Untuk tiga kluster, Anda akan melanjutkan ke garpu kedua (“1”), yaitu\n",
        "menunjukkan untuk membagi cluster pertama menjadi cluster dengan ([19, 28], [21, 27], [20, 23], [26, 13]) dan\n",
        "klaster dengan ([11, 15], [13, 13]). Dan seterusnya.\n",
        "\n",
        "Namun, secara umum, kami tidak ingin menyipitkan mata pada representasi teks yang buruk seperti ini. Sebaliknya, mari\n",
        "tulis fungsi yang menghasilkan sejumlah cluster dengan melakukan jumlah yang sesuai\n",
        "memisahkan:"
      ],
      "metadata": {
        "id": "tEBP60LBOMPk"
      }
    },
    {
      "cell_type": "code",
      "source": [
        "def generate_clusters(base_cluster: Cluster,\n",
        "\n",
        "num_clusters: int) -> List[Cluster]:\n",
        "# start with a list with just the base cluster\n",
        "clusters = [base_cluster]\n",
        "# as long as we don't have enough clusters yet...\n",
        "while len(clusters) < num_clusters:\n",
        "# choose the last-merged of our clusters\n",
        "next_cluster = min(clusters, key=get_merge_order)\n",
        "# remove it from the list\n",
        "clusters = [c for c in clusters if c != next_cluster]\n",
        "# and add its children to the list (i.e., unmerge it)\n",
        "clusters.extend(get_children(next_cluster))\n",
        "# once we have enough clusters...\n",
        "return clusters"
      ],
      "metadata": {
        "id": "1597kEkCOQGU"
      },
      "execution_count": null,
      "outputs": []
    },
    {
      "cell_type": "markdown",
      "source": [
        "Jadi, misalnya, jika kita ingin membuat tiga cluster, kita cukup melakukan:"
      ],
      "metadata": {
        "id": "jPlPHYgwOS20"
      }
    },
    {
      "cell_type": "code",
      "source": [
        "three_clusters = [get_values(cluster)\n",
        "\n",
        "for cluster in generate_clusters(base_cluster, 3)]"
      ],
      "metadata": {
        "id": "2eZ_ya47OWOM"
      },
      "execution_count": null,
      "outputs": []
    },
    {
      "cell_type": "markdown",
      "source": [
        "yang dapat kita plot dengan mudah:"
      ],
      "metadata": {
        "id": "VtgDhsOIObhd"
      }
    },
    {
      "cell_type": "code",
      "source": [
        "for i, cluster, marker, color in zip([1, 2, 3],\n",
        "three_clusters,\n",
        "['D','o','*'],\n",
        "['r','g','b']):\n",
        "xs, ys = zip(*cluster) # magic unzipping trick\n",
        "plt.scatter(xs, ys, color=color, marker=marker)\n",
        "# put a number at the mean of the cluster\n",
        "x, y = vector_mean(cluster)\n",
        "plt.plot(x, y, marker='$' + str(i) + '$', color='black')\n",
        "plt.title(\"User Locations -- 3 Bottom-Up Clusters, Min\")\n",
        "plt.xlabel(\"blocks east of city center\")\n",
        "plt.ylabel(\"blocks north of city center\")\n",
        "plt.show()"
      ],
      "metadata": {
        "id": "Vn9xZHUTOd_t"
      },
      "execution_count": null,
      "outputs": []
    },
    {
      "cell_type": "markdown",
      "source": [
        "Ini memberikan hasil yang sangat berbeda dari k-means, seperti yang ditunjukkan pada Gambar 20-6.\n",
        "\n",
        "ngasih gambar\n",
        "\n",
        "Seperti disebutkan sebelumnya, ini karena menggunakan min di cluster_distance cenderung memberikan seperti rantai cluster. Jika kita malah menggunakan max (yang memberikan cluster ketat), itu terlihat sama dengan hasil 3-means (Gambar 20-7)."
      ],
      "metadata": {
        "id": "oApZpRGyOnIc"
      }
    },
    {
      "cell_type": "markdown",
      "source": [
        "## Untuk Penjelasan Lebih Lanjut\n",
        "\n",
        "*   scikit-learn memiliki seluruh modul, sklearn.cluster, yang berisi beberapa pengelompokan\n",
        "algoritma termasuk KMeans dan algoritma pengelompokan hierarki Ward (yang menggunakan a\n",
        "kriteria yang berbeda untuk menggabungkan cluster daripada yang kami lakukan).\n",
        "*   SciPy memiliki dua model pengelompokan: scipy.cluster.vq, yang berarti k-means, dan\n",
        "scipy.cluster.hierarchy, yang memiliki berbagai algoritma pengelompokan hierarkis."
      ],
      "metadata": {
        "id": "RQQwhZ7iOvEW"
      }
    },
    {
      "cell_type": "markdown",
      "source": [
        "# BAB 20. Pemrosesan Bahasa Alami\n",
        "Tangkas Pangestu (4112321021) \\\\\n",
        "Indah Fitri Auliya (4112321031)"
      ],
      "metadata": {
        "id": "GhR7fpXRZbRx"
      }
    },
    {
      "cell_type": "markdown",
      "source": [
        "*Pemrosesan bahasa alami* (NLP) mengacu pada teknik komputasi yang melibatkan bahasa. Ini bidang yang luas, tetapi kita akan melihat beberapa teknik, baik yang sederhana maupun yang tidak sederhana."
      ],
      "metadata": {
        "id": "dCG2n14c5TOu"
      }
    },
    {
      "cell_type": "markdown",
      "source": [
        "##Clouds Kata"
      ],
      "metadata": {
        "id": "pdvePdaN5ldQ"
      }
    },
    {
      "cell_type": "markdown",
      "source": [
        "Pada Bab 1, kita menghitung jumlah kata dari minat pengguna. Salah satu pendekatan untuk memvisualisasikan kata dan jumlah adalah cloud, yang secara artistik menggambarkan kata-kata pada ukuran yang sebanding dengan jumlah mereka.\n",
        "\n",
        "Namun, secara umum, ilmuwan data tidak terlalu memikirkan cloud kata, sebagian besar karena penempatan kata tidak berarti apa pun selain \"di sini ada ruang tempat saya dapat memasukkan kata\".\n",
        "\n",
        "Jika Anda pernah dipaksa untuk membuat cloud kata, pikirkan apakah Anda dapat membuat sumbu menyampaikan sesuatu. Misalnya, bayangkan bahwa, untuk setiap kumpulan kata kunci terkait ilmu data, Anda memiliki dua angka antara 0 dan 100—angka pertama menunjukkan seberapa sering kata itu muncul di posting pekerjaan, dan yang kedua menunjukkan seberapa sering kata itu muncul di resume:"
      ],
      "metadata": {
        "id": "BacFYrQv5sBm"
      }
    },
    {
      "cell_type": "code",
      "source": [
        "data = [ (\"big data\", 100, 15), (\"Hadoop\", 95, 25), (\"Python\", 75, 50),\n",
        "         (\"R\", 50, 40), (\"machine learning\", 80, 20), (\"statistics\", 20, 60),\n",
        "         (\"data science\", 60, 70), (\"analytics\", 90, 3),\n",
        "         (\"team player\", 85, 85), (\"dynamic\", 2, 90), (\"synergies\", 70, 0),\n",
        "         (\"actionable insights\", 40, 30), (\"think out of the box\", 45, 10),\n",
        "         (\"self-starter\", 30, 50), (\"customer focus\", 65, 15),\n",
        "         (\"thought leadership\", 35, 35)]\n"
      ],
      "metadata": {
        "id": "prFUv60O6qK7"
      },
      "execution_count": null,
      "outputs": []
    },
    {
      "cell_type": "markdown",
      "source": [
        "Pendekatan cloud kata hanya untuk mengatur kata-kata pada halaman dalam font yang tampak keren (Gambar 21-1)."
      ],
      "metadata": {
        "id": "Fdt-iGS97AvN"
      }
    },
    {
      "cell_type": "markdown",
      "source": [
        "Ini terlihat rapi tetapi tidak benar-benar memberi tahu kita apa pun. Pendekatan yang lebih menarik mungkin dengan menyebarkannya sehingga posisi horizontal menunjukkan popularitas posting dan posisi vertikal menunjukkan popularitas resume, yang menghasilkan visualisasi yang menyampaikan beberapa wawasan (Gambar 21-2)"
      ],
      "metadata": {
        "id": "yvycEiup7WvL"
      }
    },
    {
      "cell_type": "code",
      "source": [
        "from matplotlib import pyplot as plt\n",
        "\n",
        "def text_size(total: int) -> float:\n",
        "    \"\"\"equals 8 if total is 0, 28 if total is 200\"\"\"\n",
        "    return 8 + total / 200 * 20\n",
        "\n",
        "for word, job_popularity, resume_popularity in data:\n",
        "    plt.text(job_popularity, resume_popularity, word,\n",
        "              ha='center', va='center',\n",
        "              size=text_size(job_popularity + resume_popularity))\n",
        "plt.xlabel(\"Popularity on Job Postings\")\n",
        "plt.ylabel(\"Popularity on Resumes\")\n",
        "plt.axis([0, 100, 0, 100])\n",
        "plt.xticks([])\n",
        "plt.yticks([])\n",
        "plt.show()\n"
      ],
      "metadata": {
        "id": "NfzNf80x7dbA",
        "colab": {
          "base_uri": "https://localhost:8080/",
          "height": 426
        },
        "outputId": "5472288b-9eba-448a-d110-37ce197eb7c1"
      },
      "execution_count": null,
      "outputs": [
        {
          "output_type": "display_data",
          "data": {
            "text/plain": [
              "<Figure size 640x480 with 1 Axes>"
            ],
            "image/png": "[encoded data removed]"
          },
          "metadata": {}
        }
      ]
    },
    {
      "cell_type": "markdown",
      "source": [
        "##Model Bahasa n-Gram"
      ],
      "metadata": {
        "id": "JkdeuOQE7zL3"
      }
    },
    {
      "cell_type": "markdown",
      "source": [
        "VP DataSciencester dari Search Engine Marketing ingin membuat ribuan halaman web tentang ilmu data sehingga situs Anda akan berperingkat lebih tinggi dalam hasil pencarian untuk istilah terkait ilmu data. (Anda mencoba menjelaskan kepadanya bahwa algoritme mesin telusur cukup pintar sehingga ini tidak akan berhasil, tetapi dia menolak untuk mendengarkan.)\n",
        "\n",
        "Tentu saja, dia tidak ingin menulis ribuan halaman web, dia juga tidak ingin membayar segerombolan “ahli strategi konten” untuk melakukannya. Alih-alih, dia bertanya kepada Anda apakah Anda dapat membuat halaman web ini secara terprogram. Untuk melakukan ini, kita memerlukan beberapa cara bahasa pemodelan.\n",
        "\n",
        "Salah satu pendekatannya adalah memulai dengan sekumpulan dokumen dan mempelajari model statistik bahasa. Dalam kasus kita, kita akan mulai dengan esai Mike Loukides “What Is Data Science?”\n",
        "\n",
        "Seperti di Bab 9, kita akan menggunakan pustaka Permintaan dan Sup Cantik untuk mengambil data. Ada beberapa masalah yang perlu diperhatikan.\n",
        "\n",
        "Yang pertama adalah bahwa apostrof dalam teks sebenarnya adalah karakter Unicode u\"\\u2019\". Kita akan membuat fungsi pembantu untuk menggantinya dengan apostrof normal:"
      ],
      "metadata": {
        "id": "MLeQtDoU71aB"
      }
    },
    {
      "cell_type": "code",
      "source": [
        "def fix_unicode(text: str) -> str:\n",
        "    return text.replace(u\"\\u2019\", \"'\")\n"
      ],
      "metadata": {
        "id": "XWmIBtYG9JAz"
      },
      "execution_count": null,
      "outputs": []
    },
    {
      "cell_type": "markdown",
      "source": [
        "Masalah kedua adalah begitu kita mendapatkan teks halaman web, kita ingin membaginya menjadi urutan kata dan titik (sehingga kita dapat mengetahui di mana akhir kalimat). Kita dapat melakukan ini menggunakan re.findall:"
      ],
      "metadata": {
        "id": "pAassppd9ZVF"
      }
    },
    {
      "cell_type": "code",
      "source": [
        "import re\n",
        "from bs4 import BeautifulSoup\n",
        "import requests\n",
        "\n",
        "url = \"https://www.oreilly.com/ideas/what-is-data-science\"\n",
        "html = requests.get(url).text\n",
        "soup = BeautifulSoup(html, 'html5lib')\n",
        "\n",
        "content = soup.find(\"div\", \"article-body\")   # find article-body div\n",
        "regex = r\"[\\w']+|[\\.]\"                       # matches a word or a period\n",
        "\n",
        "document = []\n",
        "\n",
        "for paragraph in content(\"p\"):\n",
        "    words = re.findall(regex, fix_unicode(paragraph.text))\n",
        "    document.extend(words)\n"
      ],
      "metadata": {
        "id": "wyqJ-wOX9awR",
        "colab": {
          "base_uri": "https://localhost:8080/",
          "height": 235
        },
        "outputId": "073f3d7e-c491-4199-a8eb-fe3f052986a4"
      },
      "execution_count": null,
      "outputs": [
        {
          "output_type": "error",
          "ename": "TypeError",
          "evalue": "ignored",
          "traceback": [
            "\u001b[0;31m---------------------------------------------------------------------------\u001b[0m",
            "\u001b[0;31mTypeError\u001b[0m                                 Traceback (most recent call last)",
            "\u001b[0;32m<ipython-input-126-5e08bb9c6228>\u001b[0m in \u001b[0;36m<cell line: 15>\u001b[0;34m()\u001b[0m\n\u001b[1;32m     13\u001b[0m \u001b[0mdocument\u001b[0m \u001b[0;34m=\u001b[0m \u001b[0;34m[\u001b[0m\u001b[0;34m]\u001b[0m\u001b[0;34m\u001b[0m\u001b[0;34m\u001b[0m\u001b[0m\n\u001b[1;32m     14\u001b[0m \u001b[0;34m\u001b[0m\u001b[0m\n\u001b[0;32m---> 15\u001b[0;31m \u001b[0;32mfor\u001b[0m \u001b[0mparagraph\u001b[0m \u001b[0;32min\u001b[0m \u001b[0mcontent\u001b[0m\u001b[0;34m(\u001b[0m\u001b[0;34m\"p\"\u001b[0m\u001b[0;34m)\u001b[0m\u001b[0;34m:\u001b[0m\u001b[0;34m\u001b[0m\u001b[0;34m\u001b[0m\u001b[0m\n\u001b[0m\u001b[1;32m     16\u001b[0m     \u001b[0mwords\u001b[0m \u001b[0;34m=\u001b[0m \u001b[0mre\u001b[0m\u001b[0;34m.\u001b[0m\u001b[0mfindall\u001b[0m\u001b[0;34m(\u001b[0m\u001b[0mregex\u001b[0m\u001b[0;34m,\u001b[0m \u001b[0mfix_unicode\u001b[0m\u001b[0;34m(\u001b[0m\u001b[0mparagraph\u001b[0m\u001b[0;34m.\u001b[0m\u001b[0mtext\u001b[0m\u001b[0;34m)\u001b[0m\u001b[0;34m)\u001b[0m\u001b[0;34m\u001b[0m\u001b[0;34m\u001b[0m\u001b[0m\n\u001b[1;32m     17\u001b[0m     \u001b[0mdocument\u001b[0m\u001b[0;34m.\u001b[0m\u001b[0mextend\u001b[0m\u001b[0;34m(\u001b[0m\u001b[0mwords\u001b[0m\u001b[0;34m)\u001b[0m\u001b[0;34m\u001b[0m\u001b[0;34m\u001b[0m\u001b[0m\n",
            "\u001b[0;31mTypeError\u001b[0m: 'NoneType' object is not callable"
          ]
        }
      ]
    },
    {
      "cell_type": "markdown",
      "source": [
        "Kita tentu saja dapat (dan mungkin harus) membersihkan data ini lebih lanjut. Masih ada sejumlah teks asing dalam dokumen (misalnya, kata pertama adalah Bagian), dan kita telah membagi periode kalimat tengah (misalnya, di Web 2.0), dan ada beberapa keterangan dan daftar tersebar di seluruh . Karena itu, kita akan mengerjakan dokumen sebagaimana adanya.\n",
        "\n",
        "Sekarang setelah kita memiliki teks sebagai rangkaian kata, kita dapat memodelkan bahasa dengan cara berikut: diberi beberapa kata awal (katakanlah, buku), kita melihat semua kata yang mengikutinya di dokumen sumber. Kita secara acak memilih salah satu dari ini untuk menjadi kata berikutnya, dan kita mengulangi prosesnya sampai kita mencapai titik, yang menandakan akhir kalimat. Kita menyebutnya model bigram, karena ditentukan sepenuhnya oleh frekuensi bigram (pasangan kata) dalam data asli.\n",
        "\n",
        "Bagaimana dengan kata awal? Kita hanya dapat memilih secara acak dari kata-kata yang mengikuti periode. Untuk memulai, mari hitung terlebih dahulu kemungkinan transisi kata. Ingatlah bahwa zip berhenti ketika salah satu inputnya selesai, sehingga zip(document, document[1:]) memberi kita secara tepat pasangan elemen dokumen yang berurutan:"
      ],
      "metadata": {
        "id": "wTjiOc7M-EDj"
      }
    },
    {
      "cell_type": "code",
      "source": [
        "from collections import defaultdict\n",
        "\n",
        "transitions = defaultdict(list)\n",
        "for prev, current in zip(document, document[1:]):\n",
        "    transitions[prev].append(current)\n"
      ],
      "metadata": {
        "id": "4VdNVxg2_hK6"
      },
      "execution_count": null,
      "outputs": []
    },
    {
      "cell_type": "markdown",
      "source": [
        "Sekarang kami siap membuat kalimat:"
      ],
      "metadata": {
        "id": "Ymti2g_g_qjJ"
      }
    },
    {
      "cell_type": "code",
      "source": [
        "from collections import defaultdict\n",
        "\n",
        "transitions = defaultdict(list)\n",
        "for prev, current in zip(document, document[1:]):\n",
        "    transitions[prev].append(current)\n",
        "\n",
        "def generate_using_bigrams() -> str:\n",
        "    current = \".\"   # this means the next word will start a sentence\n",
        "    result = []\n",
        "    while True:\n",
        "        next_word_candidates = transitions[current]    # bigrams (current, _)\n",
        "        current = random.choice(next_word_candidates)  # choose one at random\n",
        "        result.append(current)                         # append it to results\n",
        "        if current == \".\": return \" \".join(result)     # if \".\" we're done"
      ],
      "metadata": {
        "id": "iBFQ72Ne_rxG"
      },
      "execution_count": null,
      "outputs": []
    },
    {
      "cell_type": "markdown",
      "source": [
        "Kalimat yang dihasilkannya adalah omong kosong, tetapi itu adalah jenis omong kosong yang mungkin Anda tempatkan di situs web Anda jika Anda mencoba untuk terdengar ilmiah. Misalnya:\n",
        "\n",
        "*Jika Anda mungkin tahu mana yang Anda inginkan untuk menyortir data, memberi feeds web teman seseorang tentang topik yang sedang tren karena data di Hadoop adalah ilmu data yang memerlukan buku yang menunjukkan mengapa visualisasi ada, tetapi kita melakukan korelasi besar-besaran di banyak disk drive komersial dalam bahasa Python dan membuat lebih banyak formulir yang dapat dilacak membuat koneksi kemudian menggunakan dan menggunakannya untuk menyelesaikan data*. —Model Besar\n",
        "\n",
        "Kita bisa membuat kalimat-kalimatnya tidak terlalu muluk-muluk dengan melihat *trigram*, triplet dari kata-kata yang berurutan. (Secara umum, Anda mungkin melihat *n-gram* yang terdiri dari *n* kata berurutan, tetapi tiga sudah cukup bagi kami.) Sekarang transisi akan bergantung pada *dua* kata sebelumnya:"
      ],
      "metadata": {
        "id": "-bPe5gj60PoS"
      }
    },
    {
      "cell_type": "code",
      "source": [
        "trigram_transitions = defaultdict(list)\n",
        "starts = []\n",
        "\n",
        "for prev, current, next in zip(document, document[1:], document[2:]):\n",
        "\n",
        "    if prev == \".\":             # if the previous \"word\" was a period\n",
        "        starts.append(current)  # then this is a start word\n",
        "\n",
        "    trigram_transitions[(prev, current)].append(next)\n"
      ],
      "metadata": {
        "id": "clcsAh0w13Mc"
      },
      "execution_count": null,
      "outputs": []
    },
    {
      "cell_type": "markdown",
      "source": [
        "Perhatikan bahwa sekarang kita harus melacak kata awal secara terpisah. Kita dapat membuat kalimat dengan cara yang hampir sama:"
      ],
      "metadata": {
        "id": "r2RJCy1d2SpV"
      }
    },
    {
      "cell_type": "code",
      "source": [
        "def generate_using_trigrams() -> str:\n",
        "    current = random.choice(starts) # choose a random starting word\n",
        "    prev = \".\"                      # and precede it with a '.'\n",
        "    result = [current]\n",
        "    while True:\n",
        "        next_word_candidates = trigram_transitions[(prev, current)]\n",
        "        next_word = random.choice(next_word_candidates)\n",
        "\n",
        "        prev, current = current, next_word\n",
        "        result.append(current)\n",
        "\n",
        "        if current == \".\":\n",
        "            return \" \".join(result)\n"
      ],
      "metadata": {
        "id": "zME5v4Ax2am-"
      },
      "execution_count": null,
      "outputs": []
    },
    {
      "cell_type": "markdown",
      "source": [
        "Ini menghasilkan kalimat yang lebih baik seperti:\n",
        "\n",
        "*Kalau dipikir-pikir, MapReduce tampak seperti epidemi dan jika demikian apakah itu memberi kita wawasan baru tentang cara kerja ekonomi?*  —Model Trigram\n",
        "\n",
        "Tentu saja, mereka terdengar lebih baik karena pada setiap langkah proses pembangkitan memiliki lebih sedikit pilihan, dan pada banyak langkah hanya ada satu pilihan. Artinya, kita sering membuat kalimat (atau setidaknya frasa panjang) yang terlihat secara verbatim di data asli. Memiliki lebih banyak data akan membantu; itu juga akan bekerja lebih baik jika kita mengumpulkan *n-gram* dari beberapa esai tentang ilmu data."
      ],
      "metadata": {
        "id": "QZkOgUFK25tR"
      }
    },
    {
      "cell_type": "markdown",
      "source": [
        "##Tata bahasa"
      ],
      "metadata": {
        "id": "Q8-7IMzM3-h6"
      }
    },
    {
      "cell_type": "markdown",
      "source": [
        "Pendekatan berbeda untuk pemodelan bahasa adalah dengan *tata bahasa*, aturan untuk menghasilkan kalimat yang dapat diterima. Di sekolah dasar, Anda mungkin belajar tentang bagian-bagian pidato dan cara menggabungkannya. Misalnya, jika Anda memiliki guru bahasa Inggris yang sangat buruk, Anda dapat mengatakan bahwa sebuah kalimat harus terdiri dari kata benda yang diikuti oleh kata kerja. Jika Anda kemudian memiliki daftar kata benda dan kata kerja, Anda dapat membuat kalimat sesuai aturan.\n",
        "\n",
        "Kita akan mendefinisikan tata bahasa yang sedikit lebih rumit:"
      ],
      "metadata": {
        "id": "6WFn47OM4ClZ"
      }
    },
    {
      "cell_type": "code",
      "source": [
        "from typing import List, Dict\n",
        "\n",
        "# Type alias to refer to grammars later\n",
        "Grammar = Dict[str, List[str]]\n",
        "\n",
        "grammar = {\n",
        "    \"_S\"  : [\"_NP _VP\"],\n",
        "    \"_NP\" : [\"_N\",\n",
        "             \"_A _NP _P _A _N\"],\n",
        "    \"_VP\" : [\"_V\",\n",
        "             \"_V _NP\"],\n",
        "    \"_N\" : [\"data science\", \"Python\", \"regression\"],\n",
        "    \"_A\" : [\"big\", \"linear\", \"logistic\"],\n",
        "    \"_P\" : [\"about\", \"near\"],\n",
        "    \"_V\" : [\"learns\", \"trains\", \"tests\", \"is\"]\n",
        "}\n"
      ],
      "metadata": {
        "id": "wGgJEg-S43EJ"
      },
      "execution_count": null,
      "outputs": []
    },
    {
      "cell_type": "markdown",
      "source": [
        "Saya membuat konvensi bahwa nama yang dimulai dengan *garis* bawah mengacu pada aturan yang perlu diperluas lebih lanjut, dan nama lain adalah *terminal* yang tidak memerlukan pemrosesan lebih lanjut.\n",
        "\n",
        "Jadi, misalnya, \"_S\" adalah aturan \"kalimat\", yang menghasilkan aturan \"_NP\" (\"frasa kata benda\") diikuti dengan aturan \"_VP\" (\"frasa kata kerja\").\n",
        "\n",
        "Aturan frasa kata kerja dapat menghasilkan aturan \"_V\" (\"kata kerja\"), atau aturan kata kerja yang diikuti oleh aturan frasa kata benda.\n",
        "\n",
        "Perhatikan bahwa aturan \"_NP\" memuat dirinya sendiri di salah satu produksinya. Tata bahasa bisa bersifat rekursif, yang memungkinkan bahkan tata bahasa terbatas seperti ini untuk menghasilkan banyak kalimat berbeda yang tak terhingga.\n",
        "\n",
        "Bagaimana kita menghasilkan kalimat dari tata bahasa ini? Kita akan mulai dengan daftar yang berisi aturan kalimat [\"_S\"]. Dan kemudian kita akan berulang kali memperluas setiap aturan dengan menggantinya dengan salah satu produksinya yang dipilih secara acak. Kita berhenti ketika kita memiliki daftar yang hanya terdiri dari terminal.\n",
        "\n",
        "Misalnya, satu perkembangan seperti itu mungkin terlihat seperti:"
      ],
      "metadata": {
        "id": "juZT5hiB5ix2"
      }
    },
    {
      "cell_type": "code",
      "source": [
        "['_S']\n",
        "['_NP','_VP']\n",
        "['_N','_VP']\n",
        "['Python','_VP']\n",
        "['Python','_V','_NP']\n",
        "['Python','trains','_NP']\n",
        "['Python','trains','_A','_NP','_P','_A','_N']\n",
        "['Python','trains','logistic','_NP','_P','_A','_N']\n",
        "['Python','trains','logistic','_N','_P','_A','_N']\n",
        "['Python','trains','logistic','data science','_P','_A','_N']\n",
        "['Python','trains','logistic','data science','about','_A', '_N']\n",
        "['Python','trains','logistic','data science','about','logistic','_N']\n",
        "['Python','trains','logistic','data science','about','logistic','Python']"
      ],
      "metadata": {
        "id": "S1NkHKMq7YtF",
        "colab": {
          "base_uri": "https://localhost:8080/"
        },
        "outputId": "14528154-536b-46eb-a96d-002a07a7dfdd"
      },
      "execution_count": null,
      "outputs": [
        {
          "output_type": "execute_result",
          "data": {
            "text/plain": [
              "['Python', 'trains', 'logistic', 'data science', 'about', 'logistic', 'Python']"
            ]
          },
          "metadata": {},
          "execution_count": 144
        }
      ]
    },
    {
      "cell_type": "markdown",
      "source": [
        "Bagaimana kita menerapkan ini? Nah, untuk memulai, kita akan membuat fungsi pembantu sederhana untuk mengidentifikasi terminal:"
      ],
      "metadata": {
        "id": "qZG4g56J7aBd"
      }
    },
    {
      "cell_type": "code",
      "source": [
        "def is_terminal(token: str) -> bool:\n",
        "    return token[0] != \"_\"\n"
      ],
      "metadata": {
        "id": "yQuFZE2I7lKO"
      },
      "execution_count": null,
      "outputs": []
    },
    {
      "cell_type": "markdown",
      "source": [
        "Selanjutnya kita perlu menulis sebuah fungsi untuk mengubah daftar token menjadi sebuah kalimat. Kita akan mencari token nonterminal pertama. Jika kita tidak dapat menemukannya, itu berarti kita memiliki kalimat lengkap dan selesai.\n",
        "\n",
        "Jika kita menemukan nonterminal, maka kita memilih salah satu produksinya secara acak. Jika produksi itu adalah terminal (yaitu, sebuah kata), kita cukup mengganti tokennya dengan itu. Jika tidak, itu adalah urutan token nonterminal yang dipisahkan ruang yang perlu kita pisahkan dan kemudian disambungkan ke token saat ini. Either way, kita mengulangi proses pada set token baru.\n",
        "\n",
        "Menyatukan semuanya, kita mendapatkan:"
      ],
      "metadata": {
        "id": "LUzmH4CV71Uo"
      }
    },
    {
      "cell_type": "code",
      "source": [
        "def expand(grammar: Grammar, tokens: List[str]) -> List[str]:\n",
        "    for i, token in enumerate(tokens):\n",
        "        # If this is a terminal token, skip it.\n",
        "        if is_terminal(token): continue\n",
        "\n",
        "        # Otherwise, it's a nonterminal token,\n",
        "        # so we need to choose a replacement at random.\n",
        "        replacement = random.choice(grammar[token])\n",
        "\n",
        "        if is_terminal(replacement):\n",
        "            tokens[i] = replacement\n",
        "        else:\n",
        "            # Replacement could be, e.g., \"_NP _VP\", so we need to\n",
        "            # split it on spaces and splice it in.\n",
        "            tokens = tokens[:i] + replacement.split() + tokens[(i+1):]\n",
        "\n",
        "        # Now call expand on the new list of tokens.\n",
        "        return expand(grammar, tokens)\n",
        "\n",
        "    # If we get here, we had all terminals and are done.\n",
        "    return tokens"
      ],
      "metadata": {
        "id": "FN_Yc2kR8k_3"
      },
      "execution_count": null,
      "outputs": []
    },
    {
      "cell_type": "markdown",
      "source": [
        "Dan sekarang kita bisa mulai membuat kalimat:"
      ],
      "metadata": {
        "id": "5sCvS9oW9N5D"
      }
    },
    {
      "cell_type": "code",
      "source": [
        "def generate_sentence(grammar: Grammar) -> List[str]:\n",
        "    return expand(grammar, [\"_S\"])\n"
      ],
      "metadata": {
        "id": "7yIWJfXY9PZs"
      },
      "execution_count": null,
      "outputs": []
    },
    {
      "cell_type": "markdown",
      "source": [
        "Coba ubah tata bahasa—tambahkan lebih banyak kata, tambahkan lebih banyak aturan, tambahkan bagian ucapan Anda sendiri—hingga Anda siap membuat halaman web sebanyak yang dibutuhkan perusahaan Anda.\n",
        "\n",
        "Tata bahasa sebenarnya lebih menarik ketika digunakan ke arah lain. Mengingat kalimat, kita bisa menggunakan tata bahasa untuk *mengurai* kalimat. Ini kemudian memungkinkan kita untuk mengidentifikasi subjek dan kata kerja dan membantu kita memahami kalimat tersebut.\n",
        "\n",
        "Menggunakan ilmu data untuk menghasilkan teks adalah trik yang rapi; menggunakannya untuk memahami teks lebih ajaib. (Lihat \"Untuk Eksplorasi Lebih Lanjut\" untuk perpustakaan yang dapat Anda gunakan untuk ini.)"
      ],
      "metadata": {
        "id": "5KvjnKs_9hru"
      }
    },
    {
      "cell_type": "markdown",
      "source": [
        "##Tambahan: Pengambilan Sampel Gibbs"
      ],
      "metadata": {
        "id": "gU7bm7Nh-Wzb"
      }
    },
    {
      "cell_type": "markdown",
      "source": [
        "Menghasilkan sampel dari beberapa distribusi itu mudah. Kita bisa mendapatkan variabel random yang seragam dengan:"
      ],
      "metadata": {
        "id": "U05Hglk9-ZOx"
      }
    },
    {
      "cell_type": "code",
      "source": [
        "random.random()"
      ],
      "metadata": {
        "id": "gq560mu8-sPx"
      },
      "execution_count": null,
      "outputs": []
    },
    {
      "cell_type": "markdown",
      "source": [
        "dan variabel random normal dengan:"
      ],
      "metadata": {
        "id": "SI_oMe7--w64"
      }
    },
    {
      "cell_type": "code",
      "source": [
        "inverse_normal_cdf(random.random())\n"
      ],
      "metadata": {
        "id": "wzdWj3lU-45T",
        "colab": {
          "base_uri": "https://localhost:8080/",
          "height": 183
        },
        "outputId": "c6c6c5d9-7cad-46ad-b88c-c73e18b1b2c2"
      },
      "execution_count": null,
      "outputs": [
        {
          "output_type": "error",
          "ename": "NameError",
          "evalue": "ignored",
          "traceback": [
            "\u001b[0;31m---------------------------------------------------------------------------\u001b[0m",
            "\u001b[0;31mNameError\u001b[0m                                 Traceback (most recent call last)",
            "\u001b[0;32m<ipython-input-148-4f777f9f002d>\u001b[0m in \u001b[0;36m<cell line: 2>\u001b[0;34m()\u001b[0m\n\u001b[1;32m      1\u001b[0m \u001b[0mrandom\u001b[0m\u001b[0;34m.\u001b[0m\u001b[0mrandom\u001b[0m\u001b[0;34m(\u001b[0m\u001b[0;34m)\u001b[0m\u001b[0;34m\u001b[0m\u001b[0;34m\u001b[0m\u001b[0m\n\u001b[0;32m----> 2\u001b[0;31m \u001b[0minverse_normal_cdf\u001b[0m\u001b[0;34m(\u001b[0m\u001b[0mrandom\u001b[0m\u001b[0;34m.\u001b[0m\u001b[0mrandom\u001b[0m\u001b[0;34m(\u001b[0m\u001b[0;34m)\u001b[0m\u001b[0;34m)\u001b[0m\u001b[0;34m\u001b[0m\u001b[0;34m\u001b[0m\u001b[0m\n\u001b[0m",
            "\u001b[0;31mNameError\u001b[0m: name 'inverse_normal_cdf' is not defined"
          ]
        }
      ]
    },
    {
      "cell_type": "markdown",
      "source": [
        "Tetapi beberapa distribusi lebih sulit untuk diambil sampelnya. Pengambilan *sampel Gibbs* adalah teknik untuk menghasilkan sampel dari distribusi multidimensi ketika kita hanya mengetahui beberapa distribusi bersyarat.\n",
        "\n",
        "Misalnya, bayangkan melempar dua dadu. Biarkan $x$ menjadi nilai dadu pertama dan $y$ menjadi jumlah dadu, dan bayangkan Anda ingin menghasilkan banyak pasangan $(x, y)$. Dalam hal ini mudah untuk menghasilkan sampel secara langsung:"
      ],
      "metadata": {
        "id": "RtJ6JQUa-9_F"
      }
    },
    {
      "cell_type": "code",
      "source": [
        "from typing import Tuple\n",
        "import random\n",
        "\n",
        "def roll_a_die() -> int:\n",
        "    return random.choice([1, 2, 3, 4, 5, 6])\n",
        "\n",
        "def direct_sample() -> Tuple[int, int]:\n",
        "    d1 = roll_a_die()\n",
        "    d2 = roll_a_die()\n",
        "    return d1, d1 + d2\n"
      ],
      "metadata": {
        "id": "q5j1JUPj_wqn"
      },
      "execution_count": null,
      "outputs": []
    },
    {
      "cell_type": "markdown",
      "source": [
        "Tetapi bayangkan Anda hanya mengetahui distribusi bersyarat. Distribusi $y$ bersyarat pada $x$ mudah—jika Anda mengetahui nilai $x, y$ kemungkinan besar adalah $x + 1, x + 2, x + 3, x + 4, x + 5, atau x + 6:$"
      ],
      "metadata": {
        "id": "wfMYNE7YAG0u"
      }
    },
    {
      "cell_type": "code",
      "source": [
        "def random_y_given_x(x: int) -> int:\n",
        "    \"\"\"equally likely to be x + 1, x + 2, ... , x + 6\"\"\"\n",
        "    return x + roll_a_die()"
      ],
      "metadata": {
        "id": "l5gs2sXcAYYP"
      },
      "execution_count": null,
      "outputs": []
    },
    {
      "cell_type": "markdown",
      "source": [
        "Arah lain lebih rumit. Misalnya, jika Anda mengetahui bahwa $y$ adalah $2$, maka $x$ adalah $1$ (karena satu-satunya cara dua dadu dapat berjumlah $2$ adalah jika keduanya adalah $1$). Jika Anda tahu $y$ adalah $3$, maka $x$ kemungkinannya adalah $1$ atau $2$. Demikian pula, jika $y$ adalah $11$, maka $x$ harus $5$ atau $6:$"
      ],
      "metadata": {
        "id": "5HsCMvn7Ass4"
      }
    },
    {
      "cell_type": "code",
      "source": [
        "def random_x_given_y(y: int) -> int:\n",
        "    if y <= 7:\n",
        "        # if the total is 7 or less, the first die is equally likely to be\n",
        "        # 1, 2, ..., (total - 1)\n",
        "        return random.randrange(1, y)\n",
        "    else:\n",
        "        # if the total is 7 or more, the first die is equally likely to be\n",
        "        # (total - 6), (total - 5), ..., 6\n",
        "        return random.randrange(y - 6, 7)\n"
      ],
      "metadata": {
        "id": "gYTZAhxTBS9j"
      },
      "execution_count": null,
      "outputs": []
    },
    {
      "cell_type": "markdown",
      "source": [
        "Cara pengambilan sampel Gibbs bekerja adalah kita mulai dengan nilai (valid) apa pun untuk $x$ dan $y$ dan kemudian berulang kali mengganti $x$ dengan nilai acak yang dipilih bersyarat pada $y$ dan mengganti $y$ dengan nilai acak yang dipilih bersyarat pada $x$. Setelah sejumlah iterasi, nilai $x$ dan $y$ yang dihasilkan akan mewakili sampel dari distribusi gabungan tak bersyarat:"
      ],
      "metadata": {
        "id": "_mfNOL_YB4Yf"
      }
    },
    {
      "cell_type": "code",
      "source": [
        "def gibbs_sample(num_iters: int = 100) -> Tuple[int, int]:\n",
        "    x, y = 1, 2 # doesn't really matter\n",
        "    for _ in range(num_iters):\n",
        "        x = random_x_given_y(y)\n",
        "        y = random_y_given_x(x)\n",
        "    return x, y"
      ],
      "metadata": {
        "id": "nJgahVxsCZBy"
      },
      "execution_count": null,
      "outputs": []
    },
    {
      "cell_type": "markdown",
      "source": [
        "Anda dapat memeriksa apakah ini memberikan hasil yang mirip dengan sampel langsung:"
      ],
      "metadata": {
        "id": "E_P6pxdaCqLg"
      }
    },
    {
      "cell_type": "code",
      "source": [
        "def compare_distributions(num_samples: int = 1000) -> Dict[int, List[int]]:\n",
        "    counts = defaultdict(lambda: [0, 0])\n",
        "    for _ in range(num_samples):\n",
        "        counts[gibbs_sample()][0] += 1\n",
        "        counts[direct_sample()][1] += 1\n",
        "    return counts"
      ],
      "metadata": {
        "id": "ga69KoBPCw6M"
      },
      "execution_count": null,
      "outputs": []
    },
    {
      "cell_type": "markdown",
      "source": [
        "Kita akan menggunakan teknik ini di bagian selanjutnya."
      ],
      "metadata": {
        "id": "Lz4NX7N2DCUN"
      }
    },
    {
      "cell_type": "markdown",
      "source": [
        "##Pemodelan Topik"
      ],
      "metadata": {
        "id": "TfVUBo6VDeKZ"
      }
    },
    {
      "cell_type": "markdown",
      "source": [
        "Saat kita membuat rekomendasi \"Ilmuwan Data yang Mungkin Anda Kenal\" di Bab 1, kita hanya mencari kecocokan yang tepat dengan minat yang dinyatakan orang.\n",
        "\n",
        "Pendekatan yang lebih canggih untuk memahami minat pengguna kita mungkin mencoba mengidentifikasi *topik* yang mendasari minat tersebut. Teknik yang disebut *alokasi Dirichlet laten* (LDA) biasanya digunakan untuk mengidentifikasi topik umum dalam kumpulan dokumen. Kita akan menerapkannya pada dokumen yang memuat minat setiap pengguna.\n",
        "\n",
        "LDA memiliki beberapa kemiripan dengan pengklasifikasi Naive Bayes yang kita buat di Bab 13, karena LDA mengasumsikan model probabilistik untuk dokumen. Kita akan mengabaikan detail matematis yang lebih rumit, tetapi untuk tujuan kita, model tersebut mengasumsikan bahwa:\n",
        "\n",
        "\n",
        "\n",
        "*   Ada beberapa topik nomor $K$ yang tetap.\n",
        "*   Ada variabel acak yang memberikan setiap topik distribusi probabilitas terkait kata-kata. Anda harus memikirkan distribusi ini sebagai kemungkinan melihat kata $w$ diberikan topik $k$.\n",
        "*   Ada variabel acak lain yang memberikan setiap dokumen distribusi probabilitas atas topik. Anda harus menganggap distribusi ini sebagai campuran topik dalam dokumen $d$.\n",
        "*   Setiap kata dalam dokumen dihasilkan dengan terlebih dahulu memilih topik secara acak (dari distribusi topik dokumen) dan kemudian memilih kata secara acak (dari distribusi kata topik).\n",
        "\n",
        "Secara khusus, kita memiliki kumpulan dokumen, yang masing-masing berisi daftar kata. Dan kita memiliki koleksi document_topics terkait yang menetapkan topik (di sini angka antara 0 dan K – 1) untuk setiap kata di setiap dokumen.\n",
        "\n",
        "Jadi, kata kelima dalam dokumen keempat adalah:"
      ],
      "metadata": {
        "id": "nIu7vqgUDy0T"
      }
    },
    {
      "cell_type": "code",
      "source": [
        "documents[3][4]\n"
      ],
      "metadata": {
        "id": "PE8HcrcxGHlU"
      },
      "execution_count": null,
      "outputs": []
    },
    {
      "cell_type": "markdown",
      "source": [
        "dan topik dari mana kata itu dipilih adalah:"
      ],
      "metadata": {
        "id": "MICOEVKeGN4w"
      }
    },
    {
      "cell_type": "code",
      "source": [
        "document_topics[3][4]"
      ],
      "metadata": {
        "id": "ofNgmiL6GPDW"
      },
      "execution_count": null,
      "outputs": []
    },
    {
      "cell_type": "markdown",
      "source": [
        "Ini secara sangat eksplisit menentukan distribusi setiap dokumen atas topik, dan secara implisit menentukan distribusi setiap topik atas kata-kata.\n",
        "\n",
        "Kita dapat memperkirakan kemungkinan topik 1 menghasilkan kata tertentu dengan membandingkan berapa kali topik 1 menghasilkan kata tersebut dengan berapa kali topik 1 menghasilkan kata apa pun. (Demikian pula, saat kita membuat filter spam di Bab 13, kita membandingkan berapa kali setiap kata muncul di spam dengan jumlah total kata yang muncul di spam.)\n",
        "\n",
        "Meskipun topik-topik ini hanyalah angka, kita dapat memberinya nama deskriptif dengan melihat kata-kata yang menjadi bobot terberatnya. Kita hanya perlu membuat document_topics. Di sinilah pengambilan sampel Gibbs berperan.\n",
        "\n",
        "Kita mulai dengan menetapkan setiap kata dalam setiap dokumen sebuah topik secara acak. Sekarang kita telusuri setiap dokumen satu kata pada satu waktu. Untuk kata dan dokumen tersebut, kita membuat bobot untuk setiap topik yang bergantung pada distribusi (saat ini) topik dalam dokumen tersebut dan distribusi kata (saat ini) untuk topik tersebut. Kita kemudian menggunakan bobot tersebut untuk mengambil sampel topik baru untuk kata tersebut. Jika kita mengulangi proses ini berkali-kali, kita akan mendapatkan sampel gabungan dari distribusi topik-kata dan distribusi dokumen-topik.\n",
        "\n",
        "Untuk memulainya, kita memerlukan fungsi untuk memilih indeks secara acak berdasarkan kumpulan bobot arbitrer:"
      ],
      "metadata": {
        "id": "2NNyn_cOGTUE"
      }
    },
    {
      "cell_type": "code",
      "source": [
        "def sample_from(weights: List[float]) -> int:\n",
        "    \"\"\"returns i with probability weights[i] / sum(weights)\"\"\"\n",
        "    total = sum(weights)\n",
        "    rnd = total * random.random()     # uniform between 0 and total\n",
        "    for i, w in enumerate(weights):\n",
        "        rnd -= w                      # return the smallest i such that\n",
        "        if rnd <= 0: return i         # weights[0] + ... + weights[i] >= rnd"
      ],
      "metadata": {
        "id": "zQVg_NPSHz3y"
      },
      "execution_count": null,
      "outputs": []
    },
    {
      "cell_type": "markdown",
      "source": [
        "Misalnya, jika Anda memberikan bobot $[1, 1, 3]$, maka seperlima waktu akan mengembalikan $0$, seperlima waktu akan mengembalikan $1$, dan tiga perlima waktu akan mengembalikan $2$. Mari kita menulis tes:"
      ],
      "metadata": {
        "id": "FKrIo5-JIEn0"
      }
    },
    {
      "cell_type": "code",
      "source": [
        "from collections import Counter\n",
        "\n",
        "# Draw 1000 times and count\n",
        "draws = Counter(sample_from([0.1, 0.1, 0.8]) for _ in range(1000))\n",
        "assert 10 < draws[0] < 190 # should be ~10%, this is a really loose test\n",
        "assert 10 < draws[1] < 190 # should be ~10%, this is a really loose test\n",
        "assert 650 < draws[2] < 950 # should be ~80%, this is a really loose test\n",
        "assert draws[0] + draws[1] + draws[2] == 1000"
      ],
      "metadata": {
        "id": "nNo-pgiRIjAW"
      },
      "execution_count": null,
      "outputs": []
    },
    {
      "cell_type": "markdown",
      "source": [
        "Dokumen kita adalah minat pengguna kita, yang terlihat seperti:"
      ],
      "metadata": {
        "id": "Tb6cNDQaIyxQ"
      }
    },
    {
      "cell_type": "code",
      "source": [
        "documents = [\n",
        "    [\"Hadoop\", \"Big Data\", \"HBase\", \"Java\", \"Spark\", \"Storm\", \"Cassandra\"],\n",
        "    [\"NoSQL\", \"MongoDB\", \"Cassandra\", \"HBase\", \"Postgres\"],\n",
        "    [\"Python\", \"scikit-learn\", \"scipy\", \"numpy\", \"statsmodels\", \"pandas\"],\n",
        "    [\"R\", \"Python\", \"statistics\", \"regression\", \"probability\"],\n",
        "    [\"machine learning\", \"regression\", \"decision trees\", \"libsvm\"],\n",
        "    [\"Python\", \"R\", \"Java\", \"C++\", \"Haskell\", \"programming languages\"],\n",
        "    [\"statistics\", \"probability\", \"mathematics\", \"theory\"],\n",
        "    [\"machine learning\", \"scikit-learn\", \"Mahout\", \"neural networks\"],\n",
        "    [\"neural networks\", \"deep learning\", \"Big Data\", \"artificial intelligence\"],\n",
        "    [\"Hadoop\", \"Java\", \"MapReduce\", \"Big Data\"],\n",
        "    [\"statistics\", \"R\", \"statsmodels\"],\n",
        "    [\"C++\", \"deep learning\", \"artificial intelligence\", \"probability\"],\n",
        "    [\"pandas\", \"R\", \"Python\"],\n",
        "    [\"databases\", \"HBase\", \"Postgres\", \"MySQL\", \"MongoDB\"],\n",
        "    [\"libsvm\", \"regression\", \"support vector machines\"]\n",
        "]\n"
      ],
      "metadata": {
        "id": "7Oatx-2RI8mN"
      },
      "execution_count": null,
      "outputs": []
    },
    {
      "cell_type": "markdown",
      "source": [
        "Dan kami akan mencoba menemukan:"
      ],
      "metadata": {
        "id": "TtVJN8o9JVqX"
      }
    },
    {
      "cell_type": "code",
      "source": [
        "K = 4\n"
      ],
      "metadata": {
        "id": "IMwwye6VJXZ7"
      },
      "execution_count": null,
      "outputs": []
    },
    {
      "cell_type": "markdown",
      "source": [
        "topik. Untuk menghitung bobot sampel, kita perlu mencatat beberapa hitungan. Mari pertama-tama buat struktur data untuk mereka.\n",
        "\n",
        "\n",
        "*   Berapa kali setiap topik ditugaskan ke setiap dokumen:\n",
        "\n",
        "\n"
      ],
      "metadata": {
        "id": "z1e1SqyfJbw-"
      }
    },
    {
      "cell_type": "code",
      "source": [
        "# a list of Counters, one for each document\n",
        "document_topic_counts = [Counter() for _ in documents]"
      ],
      "metadata": {
        "id": "4cogLAD2J7PT"
      },
      "execution_count": null,
      "outputs": []
    },
    {
      "cell_type": "markdown",
      "source": [
        "\n",
        "\n",
        "*   Berapa kali setiap kata ditugaskan untuk setiap topik:\n",
        "\n",
        "\n"
      ],
      "metadata": {
        "id": "SyoNNnjBKAEO"
      }
    },
    {
      "cell_type": "code",
      "source": [
        "# a list of Counters, one for each topic\n",
        "topic_word_counts = [Counter() for _ in range(K)]\n"
      ],
      "metadata": {
        "id": "-vloFB5OKXBA"
      },
      "execution_count": null,
      "outputs": []
    },
    {
      "cell_type": "markdown",
      "source": [
        "\n",
        "\n",
        "*   Jumlah total kata yang ditetapkan untuk setiap topik:\n",
        "\n",
        "\n"
      ],
      "metadata": {
        "id": "1DpbinK9KbRC"
      }
    },
    {
      "cell_type": "code",
      "source": [
        "# a list of numbers, one for each topic\n",
        "topic_counts = [0 for _ in range(K)]\n"
      ],
      "metadata": {
        "id": "HkLHHl0IKoUp"
      },
      "execution_count": null,
      "outputs": []
    },
    {
      "cell_type": "markdown",
      "source": [
        "\n",
        "\n",
        "*   Jumlah total kata yang terkandung dalam setiap dokumen:\n",
        "\n",
        "\n"
      ],
      "metadata": {
        "id": "EXNG5LI5KveE"
      }
    },
    {
      "cell_type": "code",
      "source": [
        "# a list of numbers, one for each document\n",
        "document_lengths = [len(document) for document in documents]\n"
      ],
      "metadata": {
        "id": "ntMpkTQsLF7s"
      },
      "execution_count": null,
      "outputs": []
    },
    {
      "cell_type": "markdown",
      "source": [
        "\n",
        "\n",
        "*   Jumlah kata yang berbeda:\n",
        "\n",
        "\n"
      ],
      "metadata": {
        "id": "g4K5J4_YLL4h"
      }
    },
    {
      "cell_type": "code",
      "source": [
        "distinct_words = set(word for document in documents for word in document)\n",
        "W = len(distinct_words)"
      ],
      "metadata": {
        "id": "3bbQvt1rLWPu"
      },
      "execution_count": null,
      "outputs": []
    },
    {
      "cell_type": "markdown",
      "source": [
        "\n",
        "\n",
        "*   Dan jumlah dokumen:\n",
        "\n",
        "\n"
      ],
      "metadata": {
        "id": "vmog_BFsLa4p"
      }
    },
    {
      "cell_type": "code",
      "source": [
        "D = len(documents)\n"
      ],
      "metadata": {
        "id": "64tlpqZwLkkC"
      },
      "execution_count": null,
      "outputs": []
    },
    {
      "cell_type": "markdown",
      "source": [
        "Setelah kami mengisinya, kami dapat menemukan, misalnya, jumlah kata dalam dokumen $[3]$ yang terkait dengan topik $1$ sebagai berikut:"
      ],
      "metadata": {
        "id": "KM7JKdqhLxb_"
      }
    },
    {
      "cell_type": "code",
      "source": [
        "document_topic_counts[3][1]"
      ],
      "metadata": {
        "id": "GLdk0bteMDZ6"
      },
      "execution_count": null,
      "outputs": []
    },
    {
      "cell_type": "markdown",
      "source": [
        "Dan kita dapat menemukan berapa kali *nlp* dikaitkan dengan topik $2$ sebagai berikut:"
      ],
      "metadata": {
        "id": "WL3LK83UMEqh"
      }
    },
    {
      "cell_type": "code",
      "source": [
        "topic_word_counts[2][\"nlp\"]"
      ],
      "metadata": {
        "id": "IypuK27eMTUD"
      },
      "execution_count": null,
      "outputs": []
    },
    {
      "cell_type": "markdown",
      "source": [
        "Sekarang kita siap untuk mendefinisikan fungsi probabilitas bersyarat kita. Seperti pada Bab 13, masing-masing memiliki istilah pemulusan yang memastikan setiap topik memiliki peluang bukan nol untuk dipilih dalam dokumen apa pun dan bahwa setiap kata memiliki peluang bukan nol untuk dipilih untuk topik apa pun:"
      ],
      "metadata": {
        "id": "k_fVfQDyMUfJ"
      }
    },
    {
      "cell_type": "code",
      "source": [
        "def p_topic_given_document(topic: int, d: int, alpha: float = 0.1) -> float:\n",
        "    \"\"\"\n",
        "    The fraction of words in document 'd'\n",
        "    that are assigned to 'topic' (plus some smoothing)\n",
        "    \"\"\"\n",
        "    return ((document_topic_counts[d][topic] + alpha) /\n",
        "            (document_lengths[d] + K * alpha))\n",
        "\n",
        "def p_word_given_topic(word: str, topic: int, beta: float = 0.1) -> float:\n",
        "    \"\"\"\n",
        "    The fraction of words assigned to 'topic'\n",
        "    that equal 'word' (plus some smoothing)\n",
        "    \"\"\"\n",
        "    return ((topic_word_counts[topic][word] + beta) /\n",
        "            (topic_counts[topic] + W * beta))\n"
      ],
      "metadata": {
        "id": "rdfZGwa7NJoW"
      },
      "execution_count": null,
      "outputs": []
    },
    {
      "cell_type": "markdown",
      "source": [
        "Kita akan menggunakan ini untuk membuat bobot untuk memperbarui topik:"
      ],
      "metadata": {
        "id": "iuk5r_8vNjoh"
      }
    },
    {
      "cell_type": "code",
      "source": [
        "def topic_weight(d: int, word: str, k: int) -> float:\n",
        "    \"\"\"\n",
        "    Given a document and a word in that document,\n",
        "    return the weight for the kth topic\n",
        "    \"\"\"\n",
        "    return p_word_given_topic(word, k) * p_topic_given_document(k, d)\n",
        "\n",
        "def choose_new_topic(d: int, word: str) -> int:\n",
        "    return sample_from([topic_weight(d, word, k)\n",
        "                        for k in range(K)])\n"
      ],
      "metadata": {
        "id": "42BzS8IpNqwr"
      },
      "execution_count": null,
      "outputs": []
    },
    {
      "cell_type": "markdown",
      "source": [
        "Ada alasan matematis yang kuat mengapa topic_weight didefinisikan seperti itu, tetapi detailnya akan membawa kita terlalu jauh. Mudah-mudahan masuk akal setidaknya secara intuitif bahwa—dengan kata dan dokumennya—kemungkinan pilihan topik bergantung pada seberapa besar kemungkinan topik tersebut untuk dokumen dan seberapa besar kemungkinan kata tersebut untuk topik.\n",
        "\n",
        "Ini semua mesin yang kita butuhkan. Kita mulai dengan menetapkan setiap kata ke topik acak dan mengisi penghitung kita dengan tepat:"
      ],
      "metadata": {
        "id": "6PkfJpSwOJKZ"
      }
    },
    {
      "cell_type": "code",
      "source": [
        "K = 4\n",
        "random.seed(0)\n",
        "document_topics = [[random.randrange(K) for word in document]\n",
        "                   for document in documents]\n",
        "\n",
        "D = len(documents)\n",
        "document_topic_counts = [Counter() for _ in documents]\n",
        "topic_word_counts = [Counter() for _ in range(K)]\n",
        "topic_counts = [0 for _ in range(K)]\n",
        "for d in range(D):\n",
        "    for word, topic in zip(documents[d], document_topics[d]):\n",
        "        document_topic_counts[d][topic] += 1\n",
        "        topic_word_counts[topic][word] += 1\n",
        "        topic_counts[topic] += 1"
      ],
      "metadata": {
        "id": "mcYakWkAOdcS"
      },
      "execution_count": null,
      "outputs": []
    },
    {
      "cell_type": "markdown",
      "source": [
        "Tujuan kita adalah untuk mendapatkan sampel gabungan dari distribusi topik-kata dan distribusi dokumen-topik. Kita melakukan ini menggunakan bentuk pengambilan sampel Gibbs yang menggunakan probabilitas bersyarat yang didefinisikan sebelumnya:"
      ],
      "metadata": {
        "id": "rPF-zA2sO7n2"
      }
    },
    {
      "cell_type": "code",
      "source": [
        "import tqdm\n",
        "for iter in tqdm.trange(1000):\n",
        "    for d in range(D):\n",
        "        for i, (word, topic) in enumerate(zip(documents[d],\n",
        "                                              document_topics[d])):\n",
        "\n",
        "            # remove this word / topic from the counts\n",
        "            # so that it doesn't influence the weights\n",
        "            document_topic_counts[d][topic] -= 1\n",
        "            topic_word_counts[topic][word] -= 1\n",
        "            topic_counts[topic] -= 1\n",
        "            document_lengths[d] -= 1\n",
        "\n",
        "            # choose a new topic based on the weights\n",
        "            new_topic = choose_new_topic(d, word)\n",
        "            document_topics[d][i] = new_topic\n",
        "\n",
        "            # and now add it back to the counts\n",
        "            document_topic_counts[d][new_topic] += 1\n",
        "            topic_word_counts[new_topic][word] += 1\n",
        "            topic_counts[new_topic] += 1\n",
        "            document_lengths[d] += 1"
      ],
      "metadata": {
        "id": "t56zKDGuPOzS",
        "colab": {
          "base_uri": "https://localhost:8080/"
        },
        "outputId": "02bdd263-6e3c-40e8-946e-3684a98327d3"
      },
      "execution_count": null,
      "outputs": [
        {
          "output_type": "stream",
          "name": "stderr",
          "text": [
            "100%|██████████| 1000/1000 [00:00<00:00, 2371.20it/s]\n"
          ]
        }
      ]
    },
    {
      "cell_type": "markdown",
      "source": [
        "Apa topiknya? Itu hanya angka $0,\\;1,\\;2,\\;dan\\;3$. Jika kita menginginkan nama untuk mereka, kita harus melakukannya sendiri. Mari kita lihat lima kata yang paling berbobot untuk masing-masing kata (Tabel 21-1):"
      ],
      "metadata": {
        "id": "BBfUqLYyQCG-"
      }
    },
    {
      "cell_type": "code",
      "source": [
        "for k, word_counts in enumerate(topic_word_counts):\n",
        "    for word, count in word_counts.most_common():\n",
        "        if count > 0:\n",
        "            print(k, word, count)\n"
      ],
      "metadata": {
        "id": "o6tZwOIrQRX7",
        "colab": {
          "base_uri": "https://localhost:8080/"
        },
        "outputId": "98c7834a-a6f3-4e6a-e706-544a64232621"
      },
      "execution_count": null,
      "outputs": [
        {
          "output_type": "stream",
          "name": "stdout",
          "text": [
            "0 Big Data 3\n",
            "0 Java 2\n",
            "0 artificial intelligence 2\n",
            "0 Hadoop 2\n",
            "0 deep learning 2\n",
            "0 pandas 1\n",
            "0 Spark 1\n",
            "0 Storm 1\n",
            "0 MapReduce 1\n",
            "0 neural networks 1\n",
            "1 HBase 3\n",
            "1 Cassandra 2\n",
            "1 Postgres 2\n",
            "1 MongoDB 2\n",
            "1 databases 1\n",
            "1 MySQL 1\n",
            "1 NoSQL 1\n",
            "2 Python 4\n",
            "2 R 4\n",
            "2 probability 3\n",
            "2 statistics 3\n",
            "2 statsmodels 2\n",
            "2 C++ 2\n",
            "2 Java 1\n",
            "2 scipy 1\n",
            "2 mathematics 1\n",
            "2 theory 1\n",
            "2 Haskell 1\n",
            "2 programming languages 1\n",
            "2 neural networks 1\n",
            "2 scikit-learn 1\n",
            "2 Mahout 1\n",
            "3 regression 3\n",
            "3 machine learning 2\n",
            "3 libsvm 2\n",
            "3 support vector machines 1\n",
            "3 decision trees 1\n",
            "3 pandas 1\n",
            "3 scikit-learn 1\n",
            "3 numpy 1\n"
          ]
        }
      ]
    },
    {
      "cell_type": "code",
      "source": [
        "from prettytable import PrettyTable\n",
        "table = PrettyTable([\"Topic 0\",\"Topic 1\",\"Topic 2\",\"Topic 3\"])\n",
        "table.add_row([\"Java\",\"R\",\"HBase\",\"regression\"])\n",
        "table.add_row([\"Big Data\",\"statistics\",\"Postgres\",\"libsvm\"])\n",
        "table.add_row([\"Hadoop\",\"Python\",\"MongoDB\",\"scikit-learn\"])\n",
        "table.add_row([\"deep learning\",\"probability\",\"Cassandra\",\"machine learning\"])\n",
        "table.add_row([\"artificial intelligence\",\"pandas\",\"NoSQL\",\"neural networks\"])\n",
        "print(table)"
      ],
      "metadata": {
        "colab": {
          "base_uri": "https://localhost:8080/"
        },
        "id": "JTOApmP2h9iK",
        "outputId": "a7dd5c9a-2398-40eb-ef5e-511c39fcc762"
      },
      "execution_count": null,
      "outputs": [
        {
          "output_type": "stream",
          "name": "stdout",
          "text": [
            "+-------------------------+-------------+-----------+------------------+\n",
            "|         Topic 0         |   Topic 1   |  Topic 2  |     Topic 3      |\n",
            "+-------------------------+-------------+-----------+------------------+\n",
            "|           Java          |      R      |   HBase   |    regression    |\n",
            "|         Big Data        |  statistics |  Postgres |      libsvm      |\n",
            "|          Hadoop         |    Python   |  MongoDB  |   scikit-learn   |\n",
            "|      deep learning      | probability | Cassandra | machine learning |\n",
            "| artificial intelligence |    pandas   |   NoSQL   | neural networks  |\n",
            "+-------------------------+-------------+-----------+------------------+\n"
          ]
        }
      ]
    },
    {
      "cell_type": "markdown",
      "source": [
        "Berdasarkan ini saya mungkin akan menetapkan nama topik:"
      ],
      "metadata": {
        "id": "g6OI-y7RQ0Jb"
      }
    },
    {
      "cell_type": "code",
      "source": [
        "topic_names = [\"Big Data and programming languages\",\n",
        "               \"Python and statistics\",\n",
        "               \"databases\",\n",
        "               \"machine learning\"]\n"
      ],
      "metadata": {
        "id": "XyCK71SbRHoG"
      },
      "execution_count": null,
      "outputs": []
    },
    {
      "cell_type": "markdown",
      "source": [
        "pada titik mana kita dapat melihat bagaimana model menetapkan topik untuk setiap minat pengguna:"
      ],
      "metadata": {
        "id": "_qRpgfV5RROZ"
      }
    },
    {
      "cell_type": "code",
      "source": [
        "topic_names = [\"Big Data and programming languages\",\n",
        "               \"Python and statistics\",\n",
        "               \"databases\",\n",
        "               \"machine learning\"]\n",
        "\n",
        "for document, topic_counts in zip(documents, document_topic_counts):\n",
        "    print(document)\n",
        "    for topic, count in topic_counts.most_common():\n",
        "        if count > 0:\n",
        "            print(topic_names[topic], count)\n",
        "    print()\n"
      ],
      "metadata": {
        "id": "BAX7BYoSRc2B",
        "colab": {
          "base_uri": "https://localhost:8080/"
        },
        "outputId": "299fa34c-573f-435a-a864-3a8dfae28575"
      },
      "execution_count": null,
      "outputs": [
        {
          "output_type": "stream",
          "name": "stdout",
          "text": [
            "['Hadoop', 'Big Data', 'HBase', 'Java', 'Spark', 'Storm', 'Cassandra']\n",
            "databases 7\n",
            "\n",
            "['NoSQL', 'MongoDB', 'Cassandra', 'HBase', 'Postgres']\n",
            "databases 5\n",
            "\n",
            "['Python', 'scikit-learn', 'scipy', 'numpy', 'statsmodels', 'pandas']\n",
            "Python and statistics 4\n",
            "databases 2\n",
            "\n",
            "['R', 'Python', 'statistics', 'regression', 'probability']\n",
            "Python and statistics 3\n",
            "machine learning 2\n",
            "\n",
            "['machine learning', 'regression', 'decision trees', 'libsvm']\n",
            "machine learning 4\n",
            "\n",
            "['Python', 'R', 'Java', 'C++', 'Haskell', 'programming languages']\n",
            "Big Data and programming languages 3\n",
            "Python and statistics 3\n",
            "\n",
            "['statistics', 'probability', 'mathematics', 'theory']\n",
            "machine learning 3\n",
            "Python and statistics 1\n",
            "\n",
            "['machine learning', 'scikit-learn', 'Mahout', 'neural networks']\n",
            "databases 2\n",
            "Big Data and programming languages 1\n",
            "machine learning 1\n",
            "\n",
            "['neural networks', 'deep learning', 'Big Data', 'artificial intelligence']\n",
            "Big Data and programming languages 4\n",
            "\n",
            "['Hadoop', 'Java', 'MapReduce', 'Big Data']\n",
            "databases 4\n",
            "\n",
            "['statistics', 'R', 'statsmodels']\n",
            "Python and statistics 3\n",
            "\n",
            "['C++', 'deep learning', 'artificial intelligence', 'probability']\n",
            "Big Data and programming languages 3\n",
            "machine learning 1\n",
            "\n",
            "['pandas', 'R', 'Python']\n",
            "Python and statistics 3\n",
            "\n",
            "['databases', 'HBase', 'Postgres', 'MySQL', 'MongoDB']\n",
            "databases 5\n",
            "\n",
            "['libsvm', 'regression', 'support vector machines']\n",
            "machine learning 3\n",
            "\n"
          ]
        }
      ]
    },
    {
      "cell_type": "markdown",
      "source": [
        "##Vektor Kata"
      ],
      "metadata": {
        "id": "177klM8sSNYG"
      }
    },
    {
      "cell_type": "markdown",
      "source": [
        "Banyak kemajuan terbaru dalam NLP melibatkan pembelajaran mendalam. Di sisa bab ini kita akan melihat beberapa di antaranya dengan menggunakan mesin yang kita kembangkan di Bab 19.\n",
        "\n",
        "Salah satu inovasi penting melibatkan representasi kata sebagai vektor berdimensi rendah. Vektor ini dapat dibandingkan, dijumlahkan, dimasukkan ke dalam model pembelajaran mesin, atau apa pun yang ingin Anda lakukan dengannya. Mereka biasanya memiliki sifat yang bagus; misalnya, kata-kata yang mirip cenderung memiliki vektor yang mirip. Artinya, biasanya vektor kata untuk besar cukup dekat dengan vektor kata untuk besar, sehingga model yang beroperasi pada vektor kata dapat (sampai taraf tertentu) menangani hal-hal seperti sinonim secara gratis.\n",
        "\n",
        "Seringkali vektor akan menunjukkan sifat aritmatika yang menyenangkan juga. Misalnya, dalam beberapa model seperti itu jika Anda mengambil vektor untuk raja, kurangi vektor untuk pria, dan tambahkan vektor untuk wanita, Anda akan mendapatkan vektor yang sangat dekat dengan vektor untuk ratu. Mungkin menarik untuk merenungkan apa artinya ini tentang apa yang sebenarnya \"dipelajari\" kata vektor, meskipun kita tidak akan menghabiskan waktu untuk itu di sini.\n",
        "\n",
        "Menghasilkan vektor seperti itu untuk kosakata kata yang besar adalah pekerjaan yang sulit, jadi biasanya kita akan mempelajarinya dari kumpulan teks. Ada beberapa skema yang berbeda, tetapi pada level tinggi tugas biasanya terlihat seperti ini:\n",
        "\n",
        "\n",
        "\n",
        "1.   Dapatkan banyak teks.\n",
        "2.   Buat kumpulan data di mana tujuannya adalah untuk memprediksi kata yang diberikan kata terdekat (atau sebagai alternatif, untuk memprediksi kata terdekat yang diberikan sebuah kata).\n",
        "3.   Latih jaringan saraf untuk mengerjakan tugas ini dengan baik.\n",
        "4.   Ambil status internal jaringan saraf terlatih sebagai vektor kata.\n",
        "\n",
        "Secara khusus, karena tugasnya adalah memprediksi kata yang diberikan kata-kata terdekat, kata-kata yang muncul dalam konteks yang serupa (dan karenanya memiliki kata-kata terdekat yang serupa) harus memiliki keadaan internal yang serupa dan oleh karena itu vektor kata serupa.\n",
        "\n",
        "Di sini kita akan mengukur \"kesamaan\" menggunakan *kesamaan kosinus*, yang merupakan angka antara $–1 dan 1$ yang mengukur sejauh mana dua vektor menunjuk ke arah yang sama:\n",
        "\n"
      ],
      "metadata": {
        "id": "r56rhj7iSPXW"
      }
    },
    {
      "cell_type": "code",
      "source": [
        "import math\n",
        "from typing import List\n",
        "\n",
        "Vector = List[float]\n",
        "\n",
        "def scalar_multiply(c: float, v: Vector) -> Vector:\n",
        "    \"\"\"Multiplies every element by c\"\"\"\n",
        "    return [c * v_i for v_i in v]\n",
        "\n",
        "def vector_sum(vectors: List[Vector]) -> Vector:\n",
        "    \"\"\"Sums all corresponding elements\"\"\"\n",
        "    # Check that vectors is not empty\n",
        "    assert vectors, \"no vectors provided!\"\n",
        "\n",
        "    # Check the vectors are all the same size\n",
        "    num_elements = len(vectors[0])\n",
        "    assert all(len(v) == num_elements for v in vectors), \"different sizes!\"\n",
        "\n",
        "    # the i-th element of the result is the sum of every vector[i]\n",
        "    return [sum(vector[i] for vector in vectors)\n",
        "            for i in range(num_elements)]\n",
        "\n",
        "def vector_mean(vectors: List[Vector]) -> Vector:\n",
        "    \"\"\"Computes the element-wise average\"\"\"\n",
        "    n = len(vectors)\n",
        "    return scalar_multiply(1/n, vector_sum(vectors))\n",
        "\n",
        "def dot(v: Vector, w: Vector) -> float:\n",
        "    \"\"\"Computes v_1 * w_1 + ... + v_n * w_n\"\"\"\n",
        "    assert len(v) == len(w), \"vectors must be same length\"\n",
        "\n",
        "    return sum(v_i * w_i for v_i, w_i in zip(v, w))\n",
        "\n",
        "def cosine_similarity(v1: Vector, v2: Vector) -> float:\n",
        "    return dot(v1, v2) / math.sqrt(dot(v1, v1) * dot(v2, v2))\n",
        "\n",
        "assert cosine_similarity([1., 1, 1], [2., 2, 2]) == 1, \"same direction\"\n",
        "assert cosine_similarity([-1., -1], [2., 2]) == -1, \"opposite direction\"\n",
        "assert cosine_similarity([1., 0], [0., 1]) == 0, \"orthogonal\""
      ],
      "metadata": {
        "id": "v14e4hfyVc0X"
      },
      "execution_count": null,
      "outputs": []
    },
    {
      "cell_type": "markdown",
      "source": [
        "Mari pelajari beberapa vektor kata untuk melihat cara kerjanya.\n",
        "\n",
        "Untuk memulainya, kita memerlukan kumpulan data mainan. Vektor kata yang umum digunakan biasanya berasal dari pelatihan jutaan atau bahkan miliaran kata. Karena perpustakaan mainan kita tidak dapat menangani data sebanyak itu, kita akan membuat kumpulan data buatan dengan beberapa struktur di dalamnya:"
      ],
      "metadata": {
        "id": "7fMTRwtKVmms"
      }
    },
    {
      "cell_type": "code",
      "source": [
        "import random\n",
        "colors = [\"red\", \"green\", \"blue\", \"yellow\", \"black\", \"\"]\n",
        "nouns = [\"bed\", \"car\", \"boat\", \"cat\"]\n",
        "verbs = [\"is\", \"was\", \"seems\"]\n",
        "adverbs = [\"very\", \"quite\", \"extremely\", \"\"]\n",
        "adjectives = [\"slow\", \"fast\", \"soft\", \"hard\"]\n",
        "\n",
        "def make_sentence() -> str:\n",
        "    return \" \".join([\n",
        "        \"The\",\n",
        "        random.choice(colors),\n",
        "        random.choice(nouns),\n",
        "        random.choice(verbs),\n",
        "        random.choice(adverbs),\n",
        "        random.choice(adjectives),\n",
        "        \".\"\n",
        "    ])\n",
        "NUM_SENTENCES = 50\n",
        "\n",
        "random.seed(0)\n",
        "sentences = [make_sentence() for _ in range(NUM_SENTENCES)]"
      ],
      "metadata": {
        "id": "hP4mNxp6WAxB"
      },
      "execution_count": null,
      "outputs": []
    },
    {
      "cell_type": "markdown",
      "source": [
        "Ini akan menghasilkan banyak kalimat dengan struktur serupa tetapi kata-kata berbeda; misalnya, \"Perahu hijau sepertinya agak lambat.\" Mengingat pengaturan ini, warna sebagian besar akan muncul dalam konteks \"serupa\", seperti halnya kata benda, dan seterusnya. Jadi jika kita melakukan pekerjaan yang baik dalam menetapkan vektor kata, warnanya akan mendapatkan vektor yang serupa, dan seterusnya."
      ],
      "metadata": {
        "id": "fMtDqfhdWklr"
      }
    },
    {
      "cell_type": "markdown",
      "source": [
        "CATATAN\n",
        "\n",
        "Dalam penggunaan praktis, Anda mungkin memiliki kumpulan jutaan kalimat, dalam hal ini Anda akan mendapatkan konteks \"cukup\" dari kalimat sebagaimana adanya. Di sini, dengan hanya 50 kalimat, kita harus membuatnya agak artifisial."
      ],
      "metadata": {
        "id": "J_lKYGKIXRCD"
      }
    },
    {
      "cell_type": "markdown",
      "source": [
        "Seperti yang disebutkan sebelumnya, kami ingin melakukan one-hot-encode kata-kata kami, yang berarti kami harus mengonversinya menjadi ID. Kami akan memperkenalkan kelas Vocabulary untuk melacak pemetaan ini:"
      ],
      "metadata": {
        "id": "jO1zIYagXVnU"
      }
    },
    {
      "cell_type": "code",
      "source": [
        "Tensor = list\n",
        "from typing import List\n",
        "class Vocabulary:\n",
        "    def __init__(self, words: List[str] = None) -> None:\n",
        "        self.w2i: Dict[str, int] = {}   # mapping word -> word_id\n",
        "        self.i2w: Dict[int, str] = {}   # mapping word_id -> word\n",
        "\n",
        "        for word in (words or []):      # If words were provided,\n",
        "            self.add(word)              # add them.\n",
        "\n",
        "    @property\n",
        "    def size(self) -> int:\n",
        "        \"\"\"how many words are in the vocabulary\"\"\"\n",
        "        return len(self.w2i)\n",
        "\n",
        "    def add(self, word: str) -> None:\n",
        "        if word not in self.w2i:        # If the word is new to us:\n",
        "            word_id = len(self.w2i)     # Find the next id.\n",
        "            self.w2i[word] = word_id    # Add to the word -> word_id map.\n",
        "            self.i2w[word_id] = word    # Add to the word_id -> word map.\n",
        "    def get_id(self, word: str) -> int:\n",
        "        \"\"\"return the id of the word (or None)\"\"\"\n",
        "        return self.w2i.get(word)\n",
        "\n",
        "    def get_word(self, word_id: int) -> str:\n",
        "        \"\"\"return the word with the given id (or None)\"\"\"\n",
        "        return self.i2w.get(word_id)\n",
        "    def one_hot_encode(self, word: str) -> Tensor:\n",
        "        word_id = self.get_id(word)\n",
        "        assert word_id is not None, f\"unknown word {word}\"\n",
        "\n",
        "        return [1.0 if i == word_id else 0.0 for i in range(self.size)]\n"
      ],
      "metadata": {
        "id": "R3peZXN1XsmO"
      },
      "execution_count": null,
      "outputs": []
    },
    {
      "cell_type": "markdown",
      "source": [
        "Ini semua adalah hal yang dapat kITA lakukan secara manual, tetapi berguna untuk memilikinya di kelas. Kita mungkin harus mengujinya:"
      ],
      "metadata": {
        "id": "WWHklZgsYvCg"
      }
    },
    {
      "cell_type": "code",
      "source": [
        "vocab = Vocabulary([\"a\", \"b\", \"c\"])\n",
        "assert vocab.size == 3, \"there are 3 words in the vocab\"\n",
        "assert vocab.get_id(\"b\") == 1, \"b should have word_id 1\"\n",
        "assert vocab.one_hot_encode(\"b\") == [0, 1, 0]\n",
        "assert vocab.get_id(\"z\") is None, \"z is not in the vocab\"\n",
        "assert vocab.get_word(2) == \"c\", \"word_id 2 should be c\"\n",
        "vocab.add(\"z\")\n",
        "assert vocab.size == 4, \"now there are 4 words in the vocab\"\n",
        "assert vocab.get_id(\"z\") == 3, \"now z should have id 3\"\n",
        "assert vocab.one_hot_encode(\"z\") == [0, 0, 0, 1]"
      ],
      "metadata": {
        "id": "N6FUqyPqY3qi"
      },
      "execution_count": null,
      "outputs": []
    },
    {
      "cell_type": "markdown",
      "source": [
        "Kita juga harus menulis fungsi pembantu sederhana untuk menyimpan dan memuat kosa kata, seperti yang kita miliki untuk model pembelajaran mendalam kita:"
      ],
      "metadata": {
        "id": "bJXSTBF7ZAZH"
      }
    },
    {
      "cell_type": "code",
      "source": [
        "import json\n",
        "\n",
        "def save_vocab(vocab: Vocabulary, filename: str) -> None:\n",
        "    with open(filename, 'w') as f:\n",
        "        json.dump(vocab.w2i, f) # Only need to save w2i\n",
        "\n",
        "def load_vocab(filename: str) -> Vocabulary:\n",
        "    vocab = Vocabulary()\n",
        "    with open(filename) as f:\n",
        "        # Load w2i and generate i2w from it\n",
        "        vocab.w2i = json.load(f)\n",
        "        vocab.i2w = {id: word for word, id in vocab.w2i.items()}\n",
        "    return vocab"
      ],
      "metadata": {
        "id": "4gxTeE_jZGvF"
      },
      "execution_count": null,
      "outputs": []
    },
    {
      "cell_type": "markdown",
      "source": [
        "Kita akan menggunakan model vektor kata yang disebut skip-gram yang mengambil kata sebagai input dan menghasilkan probabilitas untuk kata apa yang mungkin terlihat di dekatnya. Kita akan memberinya pasangan pelatihan (word, near_word) dan mencoba meminimalkan kerugian SoftmaxCrossEntropy."
      ],
      "metadata": {
        "id": "SZMusyAmZmt_"
      }
    },
    {
      "cell_type": "markdown",
      "source": [
        "CATATAN\n",
        "\n",
        "Model umum lainnya, *continuous bag-of-words* (CBOW), mengambil kata terdekat sebagai masukan dan mencoba memprediksi kata aslinya."
      ],
      "metadata": {
        "id": "5xjGK1NjZ5R1"
      }
    },
    {
      "cell_type": "markdown",
      "source": [
        "Mari kita rancang jaringan saraf kita. Pada intinya akan menjadi lapisan embedding yang mengambil ID kata sebagai input dan mengembalikan vektor kata. Di bawah penutup kita bisa menggunakan tabel pencarian untuk ini.\n",
        "\n",
        "Kita kemudian akan meneruskan vektor kata ke lapisan Linear dengan jumlah keluaran yang sama seperti kata-kata yang ada dalam kosakata kita. Seperti sebelumnya, kita akan menggunakan softmax untuk mengonversi keluaran ini menjadi probabilitas pada kata-kata terdekat. Saat kita menggunakan penurunan gradien untuk melatih model, kami akan memperbarui vektor di tabel pencarian. Setelah kita menyelesaikan pelatihan, tabel pencarian itu memberi kita vektor kata kita.\n",
        "\n",
        "Mari buat layer penyematan itu. Dalam praktiknya kita mungkin ingin menyematkan sesuatu selain kata-kata, jadi kita akan membuat lapisan Penyematan yang lebih umum. (Nanti kita akan menulis subkelas TextEmbedding yaitu khusus untuk vektor kata.)\n",
        "\n",
        "Dalam konstruktornya, kita akan memberikan jumlah dan dimensi vektor embedding kita, sehingga dapat membuat embeddings (yang pada awalnya akan menjadi normal acak standar):"
      ],
      "metadata": {
        "id": "hwDBMoYEZ71E"
      }
    },
    {
      "cell_type": "code",
      "source": [
        "from typing import Iterable\n",
        "Tensor = list\n",
        "from typing import List\n",
        "from typing import Callable\n",
        "\n",
        "def is_1d(tensor: Tensor) -> bool:\n",
        "    \"\"\"\n",
        "    If tensor[0] is a list, it's a higher-order tensor.\n",
        "    Otherwise, tensor is 1-dimensonal (that is, a vector).\n",
        "    \"\"\"\n",
        "    return not isinstance(tensor[0], list)\n",
        "\n",
        "def tensor_apply(f: Callable[[float], float], tensor: Tensor) -> Tensor:\n",
        "    \"\"\"Applies f elementwise\"\"\"\n",
        "    if is_1d(tensor):\n",
        "        return [f(x) for x in tensor]\n",
        "    else:\n",
        "        return [tensor_apply(f, tensor_i) for tensor_i in tensor]\n",
        "\n",
        "def zeros_like(tensor: Tensor) -> Tensor:\n",
        "    return tensor_apply(lambda _: 0.0, tensor)\n",
        "\n",
        "def random_tensor(*dims: int, init: str = 'normal') -> Tensor:\n",
        "    if init == 'normal':\n",
        "        return random_normal(*dims)\n",
        "    elif init == 'uniform':\n",
        "        return random_uniform(*dims)\n",
        "    elif init == 'xavier':\n",
        "        variance = len(dims) / sum(dims)\n",
        "        return random_normal(*dims, variance=variance)\n",
        "    else:\n",
        "        raise ValueError(f\"unknown init: {init}\")\n",
        "\n",
        "class Embedding(Layer):\n",
        "    def __init__(self, num_embeddings: int, embedding_dim: int) -> None:\n",
        "        self.num_embeddings = num_embeddings\n",
        "        self.embedding_dim = embedding_dim\n",
        "\n",
        "        # One vector of size embedding_dim for each desired embedding\n",
        "        self.embeddings = random_tensor(num_embeddings, embedding_dim)\n",
        "        self.grad = zeros_like(self.embeddings)\n",
        "\n",
        "        # Save last input id\n",
        "        self.last_input_id = None"
      ],
      "metadata": {
        "id": "4-9Ah1t61_Ah"
      },
      "execution_count": null,
      "outputs": []
    },
    {
      "cell_type": "markdown",
      "source": [
        "Dalam kasus kita, kita hanya akan menyematkan satu kata pada satu waktu. Namun, dalam model lain kita mungkin ingin menyematkan urutan kata dan mendapatkan kembali urutan vektor kata. (Misalnya, jika kita ingin melatih model CBOW yang dijelaskan sebelumnya.) Jadi, desain alternatif akan menggunakan urutan ID kata. Kita akan tetap dengan satu per satu, untuk membuatnya lebih sederhana."
      ],
      "metadata": {
        "id": "iu--2aOa2eJH"
      }
    },
    {
      "cell_type": "code",
      "source": [
        "def forward(self, input_id: int) -> Tensor:\n",
        "    \"\"\"Just select the embedding vector corresponding to the input id\"\"\"\n",
        "    self.input_id = input_id # remember for use in backpropagation\n",
        "\n",
        "    return self.embeddings[input_id]\n"
      ],
      "metadata": {
        "id": "0I-LoFiY2psm"
      },
      "execution_count": null,
      "outputs": []
    },
    {
      "cell_type": "markdown",
      "source": [
        "Untuk pass mundur kita akan mendapatkan gradien yang sesuai dengan vektor embedding yang dipilih, dan kita harus membuat gradien yang sesuai untuk self.embeddings, yang bernilai nol untuk setiap embedding selain yang dipilih:"
      ],
      "metadata": {
        "id": "ya6fhL0V3IPo"
      }
    },
    {
      "cell_type": "code",
      "source": [
        "def backward(self, gradient: Tensor) -> None:\n",
        "    # Zero out the gradient corresponding to the last input.\n",
        "    # This is way cheaper than creating a new all-zero tensor each time.\n",
        "    if self.last_input_id is not None:\n",
        "        zero_row = [0 for _ in range(self.embedding_dim)]\n",
        "        self.grad[self.last_input_id] = zero_row\n",
        "\n",
        "    self.last_input_id = self.input_id\n",
        "    self.grad[self.input_id] = gradient\n"
      ],
      "metadata": {
        "id": "U2gHpXgR3PLC"
      },
      "execution_count": null,
      "outputs": []
    },
    {
      "cell_type": "markdown",
      "source": [
        "Karena kita memiliki parameter dan gradien, kita perlu mengganti metode tersebut:"
      ],
      "metadata": {
        "id": "JgAKJI183i6V"
      }
    },
    {
      "cell_type": "code",
      "source": [
        "def params(self) -> Iterable[Tensor]:\n",
        "    return [self.embeddings]\n",
        "\n",
        "def grads(self) -> Iterable[Tensor]:\n",
        "    return [self.grad]\n"
      ],
      "metadata": {
        "id": "oAyE5zEO3no2"
      },
      "execution_count": null,
      "outputs": []
    },
    {
      "cell_type": "markdown",
      "source": [
        "Seperti disebutkan sebelumnya, kita menginginkan subkelas khusus untuk vektor kata. Dalam hal ini, jumlah penyematan kita ditentukan oleh kosakata kita, jadi mari kita teruskan saja:"
      ],
      "metadata": {
        "id": "67Twrmyp31lF"
      }
    },
    {
      "cell_type": "code",
      "source": [
        "class TextEmbedding(Embedding):\n",
        "    def __init__(self, vocab: Vocabulary, embedding_dim: int) -> None:\n",
        "        # Call the superclass constructor\n",
        "        super().__init__(vocab.size, embedding_dim)\n",
        "\n",
        "        # And hang onto the vocab\n",
        "        self.vocab = vocab"
      ],
      "metadata": {
        "id": "ONyTcFT_39-i"
      },
      "execution_count": null,
      "outputs": []
    },
    {
      "cell_type": "markdown",
      "source": [
        "Semua metode bawaan lainnya akan berfungsi sebagaimana adanya, tetapi kita akan menambahkan beberapa metode khusus untuk bekerja dengan teks. Misalnya, kita ingin dapat mengambil vektor untuk kata tertentu. (Ini bukan bagian dari antarmuka Lapisan, tetapi kita selalu bebas menambahkan metode ekstra ke lapisan tertentu sesuka kita.)"
      ],
      "metadata": {
        "id": "pcR-XeEZ4Sk1"
      }
    },
    {
      "cell_type": "code",
      "source": [
        "def __getitem__(self, word: str) -> Tensor:\n",
        "    word_id = self.vocab.get_id(word)\n",
        "    if word_id is not None:\n",
        "        return self.embeddings[word_id]\n",
        "    else:\n",
        "        return None"
      ],
      "metadata": {
        "id": "1J87rkC34gQA"
      },
      "execution_count": null,
      "outputs": []
    },
    {
      "cell_type": "markdown",
      "source": [
        "Metode dunder ini akan memungkinkan kita mengambil vektor kata menggunakan pengindeksan:"
      ],
      "metadata": {
        "id": "5YWYFVNr4vrj"
      }
    },
    {
      "cell_type": "code",
      "source": [
        "word_vector = embedding[\"black\"]\n"
      ],
      "metadata": {
        "id": "9VIZdGfk40F6",
        "colab": {
          "base_uri": "https://localhost:8080/",
          "height": 200
        },
        "outputId": "995d9c93-ec7f-4e1b-fcee-101e44ff173d"
      },
      "execution_count": null,
      "outputs": [
        {
          "output_type": "error",
          "ename": "NameError",
          "evalue": "ignored",
          "traceback": [
            "\u001b[0;31m---------------------------------------------------------------------------\u001b[0m",
            "\u001b[0;31mNameError\u001b[0m                                 Traceback (most recent call last)",
            "\u001b[0;32m<ipython-input-23-c0d1f489e24f>\u001b[0m in \u001b[0;36m<cell line: 21>\u001b[0;34m()\u001b[0m\n\u001b[1;32m     19\u001b[0m         \u001b[0mself\u001b[0m\u001b[0;34m.\u001b[0m\u001b[0mvocab\u001b[0m \u001b[0;34m=\u001b[0m \u001b[0mvocab\u001b[0m\u001b[0;34m\u001b[0m\u001b[0;34m\u001b[0m\u001b[0m\n\u001b[1;32m     20\u001b[0m \u001b[0;34m\u001b[0m\u001b[0m\n\u001b[0;32m---> 21\u001b[0;31m \u001b[0mword_vector\u001b[0m \u001b[0;34m=\u001b[0m \u001b[0membedding\u001b[0m\u001b[0;34m[\u001b[0m\u001b[0;34m\"black\"\u001b[0m\u001b[0;34m]\u001b[0m\u001b[0;34m\u001b[0m\u001b[0;34m\u001b[0m\u001b[0m\n\u001b[0m",
            "\u001b[0;31mNameError\u001b[0m: name 'embedding' is not defined"
          ]
        }
      ]
    },
    {
      "cell_type": "markdown",
      "source": [
        "Dan kita juga ingin lapisan embedding memberi tahu kita kata-kata yang paling dekat dengan kata tertentu:"
      ],
      "metadata": {
        "id": "CkjRNh5t47OR"
      }
    },
    {
      "cell_type": "code",
      "source": [
        "from typing import Tuple\n",
        "def closest(self, word: str, n: int = 5) -> List[Tuple[float, str]]:\n",
        "    \"\"\"Returns the n closest words based on cosine similarity\"\"\"\n",
        "    vector = self[word]\n",
        "\n",
        "    # Compute pairs (similarity, other_word), and sort most similar first\n",
        "    scores = [(cosine_similarity(vector, self.embeddings[i]), other_word)\n",
        "              for other_word, i in self.vocab.w2i.items()]\n",
        "    scores.sort(reverse=True)\n",
        "\n",
        "    return scores[:n]"
      ],
      "metadata": {
        "id": "5Rm3tTBR5Eda"
      },
      "execution_count": null,
      "outputs": []
    },
    {
      "cell_type": "markdown",
      "source": [
        "Lapisan embedding kita hanya menampilkan vektor, yang dapat kita masukkan ke dalam lapisan Linear.\n",
        "\n",
        "Sekarang kita siap untuk mengumpulkan data pelatihan kita. Untuk setiap kata masukan, kita akan memilih sebagai kata target dua kata di sebelah kirinya dan dua kata di sebelah kanannya.\n",
        "\n",
        "Mari kita mulai dengan mengecilkan kalimat dan membaginya menjadi kata-kata:"
      ],
      "metadata": {
        "id": "_HCG6XSY5hWH"
      }
    },
    {
      "cell_type": "code",
      "source": [
        "import re\n",
        "\n",
        "# This is not a great regex, but it works on our data.\n",
        "tokenized_sentences = [re.findall(\"[a-z]+|[.]\", sentence.lower())\n",
        "                       for sentence in sentences]"
      ],
      "metadata": {
        "id": "mn0X2bij575N"
      },
      "execution_count": null,
      "outputs": []
    },
    {
      "cell_type": "markdown",
      "source": [
        "pada titik mana kita dapat membangun kosakata:"
      ],
      "metadata": {
        "id": "cMp_xaSf6HDN"
      }
    },
    {
      "cell_type": "code",
      "source": [
        "# Create a vocabulary (that is, a mapping word -> word_id) based on our text.\n",
        "vocab = Vocabulary(word\n",
        "                   for sentence_words in tokenized_sentences\n",
        "                   for word in sentence_words)"
      ],
      "metadata": {
        "id": "qanv0dgs6KrF"
      },
      "execution_count": null,
      "outputs": []
    },
    {
      "cell_type": "markdown",
      "source": [
        "Dan sekarang kita dapat membuat data pelatihan:"
      ],
      "metadata": {
        "id": "NfOC3THQ6e9m"
      }
    },
    {
      "cell_type": "code",
      "source": [
        "Tensor = list\n",
        "from typing import List\n",
        "def one_hot_encode(i: int, num_labels: int = 10) -> List[float]:\n",
        "    return [1.0 if j == i else 0.0 for j in range(num_labels)]\n",
        "\n",
        "inputs: List[int] = []\n",
        "targets: List[Tensor] = []\n",
        "\n",
        "for sentence in tokenized_sentences:\n",
        "    for i, word in enumerate(sentence):         # For each word\n",
        "        for j in [i - 2, i - 1, i + 1, i + 2]:  # take the nearby locations\n",
        "            if 0 <= j < len(sentence):          # that aren't out of bounds\n",
        "                nearby_word = sentence[j]       # and get those words.\n",
        "\n",
        "                # Add an input that's the original word_id\n",
        "                inputs.append(vocab.get_id(word))\n",
        "\n",
        "                # Add a target that's the one-hot-encoded nearby word\n",
        "                targets.append(vocab.one_hot_encode(nearby_word))\n"
      ],
      "metadata": {
        "id": "vzcRlqYG6lRF"
      },
      "execution_count": null,
      "outputs": []
    },
    {
      "cell_type": "markdown",
      "source": [
        "Dengan mesin yang telah kita buat, sekarang mudah untuk membuat model kita:"
      ],
      "metadata": {
        "id": "oPECuJ0b7Klm"
      }
    },
    {
      "cell_type": "code",
      "source": [
        "from typing import List\n",
        "import random\n",
        "\n",
        "def normal_cdf(x: float, mu: float = 0, sigma: float = 1) -> float:\n",
        "    return (1 + math.erf((x - mu) / math.sqrt(2) / sigma)) / 2\n",
        "\n",
        "def inverse_normal_cdf(p: float,\n",
        "                       mu: float = 0,\n",
        "                       sigma: float = 1,\n",
        "                       tolerance: float = 0.00001) -> float:\n",
        "    \"\"\"Find approximate inverse using binary search\"\"\"\n",
        "\n",
        "    # if not standard, compute standard and rescale\n",
        "    if mu != 0 or sigma != 1:\n",
        "        return mu + sigma * inverse_normal_cdf(p, tolerance=tolerance)\n",
        "\n",
        "    low_z = -10.0                      # normal_cdf(-10) is (very close to) 0\n",
        "    hi_z  =  10.0                      # normal_cdf(10)  is (very close to) 1\n",
        "    while hi_z - low_z > tolerance:\n",
        "        mid_z = (low_z + hi_z) / 2     # Consider the midpoint\n",
        "        mid_p = normal_cdf(mid_z)      # and the cdf's value there\n",
        "        if mid_p < p:\n",
        "            low_z = mid_z              # Midpoint too low, search above it\n",
        "        else:\n",
        "            hi_z = mid_z               # Midpoint too high, search below it\n",
        "\n",
        "    return mid_z\n",
        "\n",
        "def random_uniform(*dims: int) -> Tensor:\n",
        "    if len(dims) == 1:\n",
        "        return [random.random() for _ in range(dims[0])]\n",
        "    else:\n",
        "        return [random_uniform(*dims[1:]) for _ in range(dims[0])]\n",
        "\n",
        "def random_normal(*dims: int,\n",
        "                  mean: float = 0.0,\n",
        "                  variance: float = 1.0) -> Tensor:\n",
        "    if len(dims) == 1:\n",
        "        return [mean + variance * inverse_normal_cdf(random.random())\n",
        "                for _ in range(dims[0])]\n",
        "    else:\n",
        "        return [random_normal(*dims[1:], mean=mean, variance=variance)\n",
        "                for _ in range(dims[0])]\n",
        "\n",
        "def random_tensor(*dims: int, init: str = 'normal') -> Tensor:\n",
        "    if init == 'normal':\n",
        "        return random_normal(*dims)\n",
        "    elif init == 'uniform':\n",
        "        return random_uniform(*dims)\n",
        "    elif init == 'xavier':\n",
        "        variance = len(dims) / sum(dims)\n",
        "        return random_normal(*dims, variance=variance)\n",
        "    else:\n",
        "        raise ValueError(f\"unknown init: {init}\")\n",
        "\n",
        "class Linear(Layer):\n",
        "    def __init__(self, input_dim: int, output_dim: int, init: str = 'xavier') -> None:\n",
        "        \"\"\"\n",
        "        A layer of output_dim neurons, each with input_dim weights\n",
        "        (and a bias).\n",
        "        \"\"\"\n",
        "        self.input_dim = input_dim\n",
        "        self.output_dim = output_dim\n",
        "\n",
        "        # self.w[o] is the weights for the o-th neuron\n",
        "        self.w = random_tensor(output_dim, input_dim, init=init)\n",
        "\n",
        "        # self.b[o] is the bias term for the o-th neuron\n",
        "        self.b = random_tensor(output_dim, init=init)\n",
        "\n",
        "    def forward(self, input: Tensor) -> Tensor:\n",
        "        # Save the input to use in the backward pass.\n",
        "        self.input = input\n",
        "\n",
        "        # Return the vector of neuron outputs.\n",
        "        return [dot(input, self.w[o]) + self.b[o]\n",
        "                for o in range(self.output_dim)]\n",
        "\n",
        "    def backward(self, gradient: Tensor) -> Tensor:\n",
        "        # Each b[o] gets added to output[o], which means\n",
        "        # the gradient of b is the same as the output gradient.\n",
        "        self.b_grad = gradient\n",
        "\n",
        "        # Each w[o][i] multiplies input[i] and gets added to output[o].\n",
        "        # So its gradient is input[i] * gradient[o].\n",
        "        self.w_grad = [[self.input[i] * gradient[o]\n",
        "                        for i in range(self.input_dim)]\n",
        "                       for o in range(self.output_dim)]\n",
        "\n",
        "        # Each input[i] multiplies every w[o][i] and gets added to every\n",
        "        # output[o]. So its gradient is the sum of w[o][i] * gradient[o]\n",
        "        # across all the outputs.\n",
        "        return [sum(self.w[o][i] * gradient[o] for o in range(self.output_dim))\n",
        "                for i in range(self.input_dim)]\n",
        "\n",
        "    def params(self) -> Iterable[Tensor]:\n",
        "        return [self.w, self.b]\n",
        "\n",
        "    def grads(self) -> Iterable[Tensor]:\n",
        "        return [self.w_grad, self.b_grad]\n",
        "\n",
        "class Sequential(Layer):\n",
        "    \"\"\"\n",
        "    A layer consisting of a sequence of other layers.\n",
        "    It's up to you to make sure that the output of each layer\n",
        "    makes sense as the input to the next layer.\n",
        "    \"\"\"\n",
        "    def __init__(self, layers: List[Layer]) -> None:\n",
        "        self.layers = layers\n",
        "\n",
        "    def forward(self, input):\n",
        "        \"\"\"Just forward the input through the layers in order.\"\"\"\n",
        "        for layer in self.layers:\n",
        "            input = layer.forward(input)\n",
        "        return input\n",
        "\n",
        "    def backward(self, gradient):\n",
        "        \"\"\"Just backpropagate the gradient through the layers in reverse.\"\"\"\n",
        "        for layer in reversed(self.layers):\n",
        "            gradient = layer.backward(gradient)\n",
        "        return gradient\n",
        "\n",
        "    def params(self) -> Iterable[Tensor]:\n",
        "        \"\"\"Just return the params from each layer.\"\"\"\n",
        "        return (param for layer in self.layers for param in layer.params())\n",
        "\n",
        "    def grads(self) -> Iterable[Tensor]:\n",
        "        \"\"\"Just return the grads from each layer.\"\"\"\n",
        "        return (grad for layer in self.layers for grad in layer.grads())\n",
        "\n",
        "class TextEmbedding(Embedding):\n",
        "    def __init__(self, vocab: Vocabulary, embedding_dim: int) -> None:\n",
        "        # Call the superclass constructor\n",
        "        super().__init__(vocab.size, embedding_dim)\n",
        "\n",
        "        # And hang onto the vocab\n",
        "        self.vocab = vocab\n",
        "\n",
        "random.seed(0)\n",
        "EMBEDDING_DIM = 5 # seems like a good size\n",
        "\n",
        "# Define the embedding layer separately, so we can reference it.\n",
        "embedding = TextEmbedding(vocab=vocab, embedding_dim=EMBEDDING_DIM)\n",
        "\n",
        "model = Sequential([\n",
        "    # Given a word (as a vector of word_ids), look up its embedding.\n",
        "    embedding,\n",
        "    # And use a linear layer to compute scores for \"nearby words.\"\n",
        "    Linear(input_dim=EMBEDDING_DIM, output_dim=vocab.size)\n",
        "])\n"
      ],
      "metadata": {
        "id": "Tg7zbVG07Xo4"
      },
      "execution_count": null,
      "outputs": []
    },
    {
      "cell_type": "markdown",
      "source": [
        "Dengan menggunakan mesin dari Bab 19, mudah untuk melatih model kita:"
      ],
      "metadata": {
        "id": "hXdpPWgs7qAR"
      }
    },
    {
      "cell_type": "code",
      "source": [
        "Tensor = list\n",
        "from typing import List\n",
        "from typing import Callable\n",
        "\n",
        "def backward(self, gradient: Tensor) -> None:\n",
        "    # Zero out the gradient corresponding to the last input.\n",
        "    # This is way cheaper than creating a new all-zero tensor each time.\n",
        "    if self.last_input_id is not None:\n",
        "        zero_row = [0 for _ in range(self.embedding_dim)]\n",
        "        self.grad[self.last_input_id] = zero_row\n",
        "\n",
        "    self.last_input_id = self.input_id\n",
        "    self.grad[self.input_id] = gradient\n",
        "\n",
        "def backward(self, gradient: Tensor):\n",
        "    # Backpropagate through the tanh\n",
        "    a_grad = [gradient[h] * (1 - self.hidden[h] ** 2)\n",
        "                  for h in range(self.hidden_dim)]\n",
        "\n",
        "    # b has the same gradient as a\n",
        "    self.b_grad = a_grad\n",
        "\n",
        "    # Each w[h][i] is multiplied by input[i] and added to a[h],\n",
        "    # so each w_grad[h][i] = a_grad[h] * input[i]\n",
        "    self.w_grad = [[a_grad[h] * self.input[i]\n",
        "                    for i in range(self.input_dim)]\n",
        "                   for h in range(self.hidden_dim)]\n",
        "\n",
        "    # Each u[h][h2] is multiplied by hidden[h2] and added to a[h],\n",
        "    # so each u_grad[h][h2] = a_grad[h] * prev_hidden[h2]\n",
        "    self.u_grad = [[a_grad[h] * self.prev_hidden[h2]\n",
        "                    for h2 in range(self.hidden_dim)]\n",
        "                   for h in range(self.hidden_dim)]\n",
        "\n",
        "    # Each input[i] is multiplied by every w[h][i] and added to a[h],\n",
        "    # so each input_grad[i] = sum(a_grad[h] * w[h][i] for h in ...)\n",
        "    return [sum(a_grad[h] * self.w[h][i] for h in range(self.hidden_dim))\n",
        "            for i in range(self.input_dim)]\n",
        "\n",
        "def tensor_combine(f: Callable[[float, float], float],\n",
        "                   t1: Tensor,\n",
        "                   t2: Tensor) -> Tensor:\n",
        "    \"\"\"Applies f to corresponding elements of t1 and t2\"\"\"\n",
        "    if is_1d(t1):\n",
        "        return [f(x, y) for x, y in zip(t1, t2)]\n",
        "    else:\n",
        "        return [tensor_combine(f, t1_i, t2_i)\n",
        "                for t1_i, t2_i in zip(t1, t2)]\n",
        "\n",
        "def tensor_sum(tensor: Tensor) -> float:\n",
        "    \"\"\"Sums up all the values in the tensor\"\"\"\n",
        "    if is_1d(tensor):\n",
        "        return sum(tensor)  # just a list of floats, use Python sum\n",
        "    else:\n",
        "        return sum(tensor_sum(tensor_i)      # Call tensor_sum on each row\n",
        "                   for tensor_i in tensor)   # and sum up those results.\n",
        "\n",
        "def softmax(tensor: Tensor) -> Tensor:\n",
        "    \"\"\"Softmax along the last dimension\"\"\"\n",
        "    if is_1d(tensor):\n",
        "        # Subtract largest value for numerical stabilitity.\n",
        "        largest = max(tensor)\n",
        "        exps = [math.exp(x - largest) for x in tensor]\n",
        "\n",
        "        sum_of_exps = sum(exps)                 # This is the total \"weight\".\n",
        "        return [exp_i / sum_of_exps             # Probability is the fraction\n",
        "                for exp_i in exps]              # of the total weight.\n",
        "    else:\n",
        "        return [softmax(tensor_i) for tensor_i in tensor]\n",
        "\n",
        "class Layer:\n",
        "    \"\"\"\n",
        "    Our neural networks will be composed of Layers, each of which\n",
        "    knows how to do some computation on its inputs in the \"forward\"\n",
        "    direction and propagate gradients in the \"backward\" direction.\n",
        "    \"\"\"\n",
        "\n",
        "    def forward(self, input_id: int) -> Tensor:\n",
        "      \"\"\"Just select the embedding vector corresponding to the input id\"\"\"\n",
        "      self.input_id = input_id    # remember for use in backpropagation\n",
        "\n",
        "      return self.embeddings[input_id]\n",
        "\n",
        "    def forward(self, input: Tensor) -> Tensor:\n",
        "      self.input = input              # Save both input and previous\n",
        "      self.prev_hidden = self.hidden  # hidden state to use in backprop.\n",
        "\n",
        "      a = [(dot(self.w[h], input) +           # weights @ input\n",
        "          dot(self.u[h], self.hidden) +     # weights @ hidden\n",
        "          self.b[h])                        # bias\n",
        "          for h in range(self.hidden_dim)]\n",
        "\n",
        "      self.hidden = tensor_apply(tanh, a)  # Apply tanh activation\n",
        "      return self.hidden                   # and return the result.\n",
        "      raise NotImplementedError\n",
        "\n",
        "    def backward(self, gradient):\n",
        "        \"\"\"\n",
        "        Similarly, we're not going to be prescriptive about what the\n",
        "        gradient looks like. It's up to you the user to make sure\n",
        "        that you're doing things sensibly.\n",
        "        \"\"\"\n",
        "        raise NotImplementedError\n",
        "\n",
        "    def params(self) -> Iterable[Tensor]:\n",
        "        \"\"\"\n",
        "        Returns the parameters of this layer. The default implementation\n",
        "        returns nothing, so that if you have a layer with no parameters\n",
        "        you don't have to implement this.\n",
        "        \"\"\"\n",
        "        return ()\n",
        "\n",
        "    def grads(self) -> Iterable[Tensor]:\n",
        "        \"\"\"\n",
        "        Returns the gradients, in the same order as params()\n",
        "        \"\"\"\n",
        "        return ()\n",
        "\n",
        "class Optimizer:\n",
        "    \"\"\"\n",
        "    An optimizer updates the weights of a layer (in place) using information\n",
        "    known by either the layer or the optimizer (or by both).\n",
        "    \"\"\"\n",
        "    def step(self, layer: Layer) -> None:\n",
        "        raise NotImplementedError\n",
        "\n",
        "class GradientDescent(Optimizer):\n",
        "    def __init__(self, learning_rate: float = 0.1) -> None:\n",
        "        self.lr = learning_rate\n",
        "\n",
        "    def step(self, layer: Layer) -> None:\n",
        "        for param, grad in zip(layer.params(), layer.grads()):\n",
        "            # Update param using a gradient step\n",
        "            param[:] = tensor_combine(\n",
        "                lambda param, grad: param - grad * self.lr,\n",
        "                param,\n",
        "                grad)\n",
        "\n",
        "class Momentum(Optimizer):\n",
        "    def __init__(self,\n",
        "                 learning_rate: float,\n",
        "                 momentum: float = 0.9) -> None:\n",
        "        self.lr = learning_rate\n",
        "        self.mo = momentum\n",
        "        self.updates: List[Tensor] = []  # running average\n",
        "\n",
        "    def step(self, layer: Layer) -> None:\n",
        "        # If we have no previous updates, start with all zeros.\n",
        "        if not self.updates:\n",
        "            self.updates = [zeros_like(grad) for grad in layer.grads()]\n",
        "\n",
        "        for update, param, grad in zip(self.updates,\n",
        "                                       layer.params(),\n",
        "                                       layer.grads()):\n",
        "            # Apply momentum\n",
        "            update[:] = tensor_combine(\n",
        "                lambda u, g: self.mo * u + (1 - self.mo) * g,\n",
        "                update,\n",
        "                grad)\n",
        "\n",
        "            # Then take a gradient step\n",
        "            param[:] = tensor_combine(\n",
        "                lambda p, u: p - self.lr * u,\n",
        "                param,\n",
        "                update)\n",
        "\n",
        "class Loss:\n",
        "    def loss(self, predicted: Tensor, actual: Tensor) -> float:\n",
        "        \"\"\"How good are our predictions? (Larger numbers are worse.)\"\"\"\n",
        "        raise NotImplementedError\n",
        "\n",
        "    def gradient(self, predicted: Tensor, actual: Tensor) -> Tensor:\n",
        "        \"\"\"How does the loss change as the predictions change?\"\"\"\n",
        "        raise NotImplementedError\n",
        "\n",
        "class SoftmaxCrossEntropy(Loss):\n",
        "    \"\"\"\n",
        "    This is the negative-log-likelihood of the observed values, given the\n",
        "    neural net model. So if we choose weights to minimize it, our model will\n",
        "    be maximizing the likelihood of the observed data.\n",
        "    \"\"\"\n",
        "    def loss(self, predicted: Tensor, actual: Tensor) -> float:\n",
        "        # Apply softmax to get probabilities\n",
        "        probabilities = softmax(predicted)\n",
        "\n",
        "        # This will be log p_i for the actual class i and 0 for the other\n",
        "        # classes. We add a tiny amount to p to avoid taking log(0).\n",
        "        likelihoods = tensor_combine(lambda p, act: math.log(p + 1e-30) * act,\n",
        "                                     probabilities,\n",
        "                                     actual)\n",
        "\n",
        "        # And then we just sum up the negatives.\n",
        "        return -tensor_sum(likelihoods)\n",
        "\n",
        "    def gradient(self, predicted: Tensor, actual: Tensor) -> Tensor:\n",
        "        probabilities = softmax(predicted)\n",
        "\n",
        "        # Isn't this a pleasant equation?\n",
        "        return tensor_combine(lambda p, actual: p - actual,\n",
        "                              probabilities,\n",
        "                              actual)\n",
        "\n",
        "class Vocabulary:\n",
        "    def __init__(self, words: List[str] = None) -> None:\n",
        "        self.w2i: Dict[str, int] = {}  # mapping word -> word_id\n",
        "        self.i2w: Dict[int, str] = {}  # mapping word_id -> word\n",
        "\n",
        "        for word in (words or []):     # If words were provided,\n",
        "            self.add(word)             # add them.\n",
        "\n",
        "    @property\n",
        "    def size(self) -> int:\n",
        "        \"\"\"how many words are in the vocabulary\"\"\"\n",
        "        return len(self.w2i)\n",
        "\n",
        "    def add(self, word: str) -> None:\n",
        "        if word not in self.w2i:        # If the word is new to us:\n",
        "            word_id = len(self.w2i)     # Find the next id.\n",
        "            self.w2i[word] = word_id    # Add to the word -> word_id map.\n",
        "            self.i2w[word_id] = word    # Add to the word_id -> word map.\n",
        "\n",
        "    def get_id(self, word: str) -> int:\n",
        "        \"\"\"return the id of the word (or None)\"\"\"\n",
        "        return self.w2i.get(word)\n",
        "\n",
        "    def get_word(self, word_id: int) -> str:\n",
        "        \"\"\"return the word with the given id (or None)\"\"\"\n",
        "        return self.i2w.get(word_id)\n",
        "\n",
        "    def one_hot_encode(self, word: str) -> Tensor:\n",
        "        word_id = self.get_id(word)\n",
        "        assert word_id is not None, f\"unknown word {word}\"\n",
        "\n",
        "        return [1.0 if i == word_id else 0.0 for i in range(self.size)]\n",
        "\n",
        "vocab = Vocabulary([\"a\", \"b\", \"c\"])\n",
        "\n",
        "class Embedding(Layer):\n",
        "    def __init__(self, num_embeddings: int, embedding_dim: int) -> None:\n",
        "        self.num_embeddings = num_embeddings\n",
        "        self.embedding_dim = embedding_dim\n",
        "\n",
        "        # One vector of size embedding_dim for each desired embedding\n",
        "        self.embeddings = random_tensor(num_embeddings, embedding_dim)\n",
        "        self.grad = zeros_like(self.embeddings)\n",
        "\n",
        "        # Save last input id\n",
        "        self.last_input_id = None\n",
        "\n",
        "    def forward(self, input_id: int) -> Tensor:\n",
        "        \"\"\"Just select the embedding vector corresponding to the input id\"\"\"\n",
        "        self.input_id = input_id    # remember for use in backpropagation\n",
        "\n",
        "        return self.embeddings[input_id]\n",
        "\n",
        "    def backward(self, gradient: Tensor) -> None:\n",
        "        # Zero out the gradient corresponding to the last input.\n",
        "        # This is way cheaper than creating a new all-zero tensor each time.\n",
        "        if self.last_input_id is not None:\n",
        "            zero_row = [0 for _ in range(self.embedding_dim)]\n",
        "            self.grad[self.last_input_id] = zero_row\n",
        "\n",
        "        self.last_input_id = self.input_id\n",
        "        self.grad[self.input_id] = gradient\n",
        "\n",
        "    def params(self) -> Iterable[Tensor]:\n",
        "        return [self.embeddings]\n",
        "\n",
        "    def grads(self) -> Iterable[Tensor]:\n",
        "        return [self.grad]\n",
        "\n",
        "class TextEmbedding(Embedding):\n",
        "    def __init__(self, vocab: Vocabulary, embedding_dim: int) -> None:\n",
        "        # Call the superclass constructor\n",
        "        super().__init__(vocab.size, embedding_dim)\n",
        "\n",
        "        # And hang onto the vocab\n",
        "        self.vocab = vocab\n",
        "\n",
        "    def __getitem__(self, word: str) -> Tensor:\n",
        "        word_id = self.vocab.get_id(word)\n",
        "        if word_id is not None:\n",
        "            return self.embeddings[word_id]\n",
        "        else:\n",
        "            return None\n",
        "\n",
        "    def closest(self, word: str, n: int = 5) -> List[Tuple[float, str]]:\n",
        "        \"\"\"Returns the n closest words based on cosine similarity\"\"\"\n",
        "        vector = self[word]\n",
        "\n",
        "        # Compute pairs (similarity, other_word), and sort most similar first\n",
        "        scores = [(cosine_similarity(vector, self.embeddings[i]), other_word)\n",
        "                  for other_word, i in self.vocab.w2i.items()]\n",
        "        scores.sort(reverse=True)\n",
        "\n",
        "        return scores[:n]\n",
        "\n",
        "EMBEDDING_DIM = 5  # seems like a good size\n",
        "\n",
        "# Define the embedding layer separately, so we can reference it.\n",
        "embedding = TextEmbedding(vocab=vocab, embedding_dim=EMBEDDING_DIM)\n",
        "\n",
        "loss = SoftmaxCrossEntropy()\n",
        "optimizer = GradientDescent(learning_rate=0.01)\n",
        "\n",
        "for epoch in range(100):\n",
        "    epoch_loss = 0.0\n",
        "    for input, target in zip(inputs, targets):\n",
        "        predicted = model.forward(input)\n",
        "        epoch_loss += loss.loss(predicted, target)\n",
        "        gradient = loss.gradient(predicted, target)\n",
        "        model.backward(gradient)\n",
        "        optimizer.step(model)\n",
        "    print(epoch, epoch_loss)          # Print the loss\n",
        "    print(embedding.closest(\"black\")) # and also a few nearest words\n",
        "    print(embedding.closest(\"slow\"))  # so we can see what's being\n",
        "    print(embedding.closest(\"car\"))   # learned.\n"
      ],
      "metadata": {
        "id": "f_fsQhjV7vOi",
        "colab": {
          "base_uri": "https://localhost:8080/",
          "height": 745
        },
        "outputId": "742355f8-0241-4ab7-878e-9244ce53a525"
      },
      "execution_count": null,
      "outputs": [
        {
          "output_type": "error",
          "ename": "TypeError",
          "evalue": "ignored",
          "traceback": [
            "\u001b[0;31m---------------------------------------------------------------------------\u001b[0m",
            "\u001b[0;31mTypeError\u001b[0m                                 Traceback (most recent call last)",
            "\u001b[0;32m<ipython-input-82-fc7ca5017835>\u001b[0m in \u001b[0;36m<cell line: 306>\u001b[0;34m()\u001b[0m\n\u001b[1;32m    307\u001b[0m     \u001b[0mepoch_loss\u001b[0m \u001b[0;34m=\u001b[0m \u001b[0;36m0.0\u001b[0m\u001b[0;34m\u001b[0m\u001b[0;34m\u001b[0m\u001b[0m\n\u001b[1;32m    308\u001b[0m     \u001b[0;32mfor\u001b[0m \u001b[0minput\u001b[0m\u001b[0;34m,\u001b[0m \u001b[0mtarget\u001b[0m \u001b[0;32min\u001b[0m \u001b[0mzip\u001b[0m\u001b[0;34m(\u001b[0m\u001b[0minputs\u001b[0m\u001b[0;34m,\u001b[0m \u001b[0mtargets\u001b[0m\u001b[0;34m)\u001b[0m\u001b[0;34m:\u001b[0m\u001b[0;34m\u001b[0m\u001b[0;34m\u001b[0m\u001b[0m\n\u001b[0;32m--> 309\u001b[0;31m         \u001b[0mpredicted\u001b[0m \u001b[0;34m=\u001b[0m \u001b[0mmodel\u001b[0m\u001b[0;34m.\u001b[0m\u001b[0mforward\u001b[0m\u001b[0;34m(\u001b[0m\u001b[0minput\u001b[0m\u001b[0;34m)\u001b[0m\u001b[0;34m\u001b[0m\u001b[0;34m\u001b[0m\u001b[0m\n\u001b[0m\u001b[1;32m    310\u001b[0m         \u001b[0mepoch_loss\u001b[0m \u001b[0;34m+=\u001b[0m \u001b[0mloss\u001b[0m\u001b[0;34m.\u001b[0m\u001b[0mloss\u001b[0m\u001b[0;34m(\u001b[0m\u001b[0mpredicted\u001b[0m\u001b[0;34m,\u001b[0m \u001b[0mtarget\u001b[0m\u001b[0;34m)\u001b[0m\u001b[0;34m\u001b[0m\u001b[0;34m\u001b[0m\u001b[0m\n\u001b[1;32m    311\u001b[0m         \u001b[0mgradient\u001b[0m \u001b[0;34m=\u001b[0m \u001b[0mloss\u001b[0m\u001b[0;34m.\u001b[0m\u001b[0mgradient\u001b[0m\u001b[0;34m(\u001b[0m\u001b[0mpredicted\u001b[0m\u001b[0;34m,\u001b[0m \u001b[0mtarget\u001b[0m\u001b[0;34m)\u001b[0m\u001b[0;34m\u001b[0m\u001b[0;34m\u001b[0m\u001b[0m\n",
            "\u001b[0;32m<ipython-input-65-1b32e4471023>\u001b[0m in \u001b[0;36mforward\u001b[0;34m(self, input)\u001b[0m\n\u001b[1;32m    112\u001b[0m         \u001b[0;34m\"\"\"Just forward the input through the layers in order.\"\"\"\u001b[0m\u001b[0;34m\u001b[0m\u001b[0;34m\u001b[0m\u001b[0m\n\u001b[1;32m    113\u001b[0m         \u001b[0;32mfor\u001b[0m \u001b[0mlayer\u001b[0m \u001b[0;32min\u001b[0m \u001b[0mself\u001b[0m\u001b[0;34m.\u001b[0m\u001b[0mlayers\u001b[0m\u001b[0;34m:\u001b[0m\u001b[0;34m\u001b[0m\u001b[0;34m\u001b[0m\u001b[0m\n\u001b[0;32m--> 114\u001b[0;31m             \u001b[0minput\u001b[0m \u001b[0;34m=\u001b[0m \u001b[0mlayer\u001b[0m\u001b[0;34m.\u001b[0m\u001b[0mforward\u001b[0m\u001b[0;34m(\u001b[0m\u001b[0minput\u001b[0m\u001b[0;34m)\u001b[0m\u001b[0;34m\u001b[0m\u001b[0;34m\u001b[0m\u001b[0m\n\u001b[0m\u001b[1;32m    115\u001b[0m         \u001b[0;32mreturn\u001b[0m \u001b[0minput\u001b[0m\u001b[0;34m\u001b[0m\u001b[0;34m\u001b[0m\u001b[0m\n\u001b[1;32m    116\u001b[0m \u001b[0;34m\u001b[0m\u001b[0m\n",
            "\u001b[0;32m<ipython-input-65-1b32e4471023>\u001b[0m in \u001b[0;36mforward\u001b[0;34m(self, input)\u001b[0m\n\u001b[1;32m     74\u001b[0m \u001b[0;34m\u001b[0m\u001b[0m\n\u001b[1;32m     75\u001b[0m         \u001b[0;31m# Return the vector of neuron outputs.\u001b[0m\u001b[0;34m\u001b[0m\u001b[0;34m\u001b[0m\u001b[0m\n\u001b[0;32m---> 76\u001b[0;31m         return [dot(input, self.w[o]) + self.b[o]\n\u001b[0m\u001b[1;32m     77\u001b[0m                 for o in range(self.output_dim)]\n\u001b[1;32m     78\u001b[0m \u001b[0;34m\u001b[0m\u001b[0m\n",
            "\u001b[0;32m<ipython-input-65-1b32e4471023>\u001b[0m in \u001b[0;36m<listcomp>\u001b[0;34m(.0)\u001b[0m\n\u001b[1;32m     74\u001b[0m \u001b[0;34m\u001b[0m\u001b[0m\n\u001b[1;32m     75\u001b[0m         \u001b[0;31m# Return the vector of neuron outputs.\u001b[0m\u001b[0;34m\u001b[0m\u001b[0;34m\u001b[0m\u001b[0m\n\u001b[0;32m---> 76\u001b[0;31m         return [dot(input, self.w[o]) + self.b[o]\n\u001b[0m\u001b[1;32m     77\u001b[0m                 for o in range(self.output_dim)]\n\u001b[1;32m     78\u001b[0m \u001b[0;34m\u001b[0m\u001b[0m\n",
            "\u001b[0;32m<ipython-input-76-8a577a42fdfb>\u001b[0m in \u001b[0;36mdot\u001b[0;34m(v, w)\u001b[0m\n\u001b[1;32m     40\u001b[0m \u001b[0;32mdef\u001b[0m \u001b[0mdot\u001b[0m\u001b[0;34m(\u001b[0m\u001b[0mv\u001b[0m\u001b[0;34m:\u001b[0m \u001b[0mVector\u001b[0m\u001b[0;34m,\u001b[0m \u001b[0mw\u001b[0m\u001b[0;34m:\u001b[0m \u001b[0mVector\u001b[0m\u001b[0;34m)\u001b[0m \u001b[0;34m->\u001b[0m \u001b[0mfloat\u001b[0m\u001b[0;34m:\u001b[0m\u001b[0;34m\u001b[0m\u001b[0;34m\u001b[0m\u001b[0m\n\u001b[1;32m     41\u001b[0m     \u001b[0;34m\"\"\"Computes v_1 * w_1 + ... + v_n * w_n\"\"\"\u001b[0m\u001b[0;34m\u001b[0m\u001b[0;34m\u001b[0m\u001b[0m\n\u001b[0;32m---> 42\u001b[0;31m     \u001b[0;32massert\u001b[0m \u001b[0mlen\u001b[0m\u001b[0;34m(\u001b[0m\u001b[0mv\u001b[0m\u001b[0;34m)\u001b[0m \u001b[0;34m==\u001b[0m \u001b[0mlen\u001b[0m\u001b[0;34m(\u001b[0m\u001b[0mw\u001b[0m\u001b[0;34m)\u001b[0m\u001b[0;34m,\u001b[0m \u001b[0;34m\"vectors must be same length\"\u001b[0m\u001b[0;34m\u001b[0m\u001b[0;34m\u001b[0m\u001b[0m\n\u001b[0m\u001b[1;32m     43\u001b[0m \u001b[0;34m\u001b[0m\u001b[0m\n\u001b[1;32m     44\u001b[0m     \u001b[0;32mreturn\u001b[0m \u001b[0msum\u001b[0m\u001b[0;34m(\u001b[0m\u001b[0mv_i\u001b[0m \u001b[0;34m*\u001b[0m \u001b[0mw_i\u001b[0m \u001b[0;32mfor\u001b[0m \u001b[0mv_i\u001b[0m\u001b[0;34m,\u001b[0m \u001b[0mw_i\u001b[0m \u001b[0;32min\u001b[0m \u001b[0mzip\u001b[0m\u001b[0;34m(\u001b[0m\u001b[0mv\u001b[0m\u001b[0;34m,\u001b[0m \u001b[0mw\u001b[0m\u001b[0;34m)\u001b[0m\u001b[0;34m)\u001b[0m\u001b[0;34m\u001b[0m\u001b[0;34m\u001b[0m\u001b[0m\n",
            "\u001b[0;31mTypeError\u001b[0m: object of type 'NoneType' has no len()"
          ]
        }
      ]
    },
    {
      "cell_type": "markdown",
      "source": [
        "Saat Anda menonton kereta ini, Anda dapat melihat warna semakin dekat satu sama lain, kata sifat semakin dekat satu sama lain, dan kata benda semakin dekat satu sama lain.\n",
        "\n",
        "Setelah model dilatih, sangat menyenangkan untuk menjelajahi kata-kata yang paling mirip:"
      ],
      "metadata": {
        "id": "SjkcjY1C8Jo1"
      }
    },
    {
      "cell_type": "code",
      "source": [
        "def cosine_similarity(v1: Vector, v2: Vector) -> float:\n",
        "    return dot(v1, v2) / math.sqrt(dot(v1, v1) * dot(v2, v2))\n",
        "\n",
        "class Vocabulary:\n",
        "    def __init__(self, words: List[str] = None) -> None:\n",
        "        self.w2i: Dict[str, int] = {}  # mapping word -> word_id\n",
        "        self.i2w: Dict[int, str] = {}  # mapping word_id -> word\n",
        "\n",
        "        for word in (words or []):     # If words were provided,\n",
        "            self.add(word)             # add them.\n",
        "\n",
        "    @property\n",
        "    def size(self) -> int:\n",
        "        \"\"\"how many words are in the vocabulary\"\"\"\n",
        "        return len(self.w2i)\n",
        "\n",
        "    def add(self, word: str) -> None:\n",
        "        if word not in self.w2i:        # If the word is new to us:\n",
        "            word_id = len(self.w2i)     # Find the next id.\n",
        "            self.w2i[word] = word_id    # Add to the word -> word_id map.\n",
        "            self.i2w[word_id] = word    # Add to the word_id -> word map.\n",
        "\n",
        "    def get_id(self, word: str) -> int:\n",
        "        \"\"\"return the id of the word (or None)\"\"\"\n",
        "        return self.w2i.get(word)\n",
        "\n",
        "    def get_word(self, word_id: int) -> str:\n",
        "        \"\"\"return the word with the given id (or None)\"\"\"\n",
        "        return self.i2w.get(word_id)\n",
        "\n",
        "    def one_hot_encode(self, word: str) -> Tensor:\n",
        "        word_id = self.get_id(word)\n",
        "        assert word_id is not None, f\"unknown word {word}\"\n",
        "\n",
        "        return [1.0 if i == word_id else 0.0 for i in range(self.size)]\n",
        "\n",
        "vocab = Vocabulary([\"a\", \"b\", \"c\"])\n",
        "\n",
        "class Embedding(Layer):\n",
        "    def __init__(self, num_embeddings: int, embedding_dim: int) -> None:\n",
        "        self.num_embeddings = num_embeddings\n",
        "        self.embedding_dim = embedding_dim\n",
        "\n",
        "        # One vector of size embedding_dim for each desired embedding\n",
        "        self.embeddings = random_tensor(num_embeddings, embedding_dim)\n",
        "        self.grad = zeros_like(self.embeddings)\n",
        "\n",
        "        # Save last input id\n",
        "        self.last_input_id = None\n",
        "\n",
        "    def forward(self, input_id: int) -> Tensor:\n",
        "        \"\"\"Just select the embedding vector corresponding to the input id\"\"\"\n",
        "        self.input_id = input_id    # remember for use in backpropagation\n",
        "\n",
        "        return self.embeddings[input_id]\n",
        "\n",
        "    def backward(self, gradient: Tensor) -> None:\n",
        "        # Zero out the gradient corresponding to the last input.\n",
        "        # This is way cheaper than creating a new all-zero tensor each time.\n",
        "        if self.last_input_id is not None:\n",
        "            zero_row = [0 for _ in range(self.embedding_dim)]\n",
        "            self.grad[self.last_input_id] = zero_row\n",
        "\n",
        "        self.last_input_id = self.input_id\n",
        "        self.grad[self.input_id] = gradient\n",
        "\n",
        "    def params(self) -> Iterable[Tensor]:\n",
        "        return [self.embeddings]\n",
        "\n",
        "    def grads(self) -> Iterable[Tensor]:\n",
        "        return [self.grad]\n",
        "\n",
        "class TextEmbedding(Embedding):\n",
        "    def __init__(self, vocab: Vocabulary, embedding_dim: int) -> None:\n",
        "        # Call the superclass constructor\n",
        "        super().__init__(vocab.size, embedding_dim)\n",
        "\n",
        "        # And hang onto the vocab\n",
        "        self.vocab = vocab\n",
        "\n",
        "    def __getitem__(self, word: str) -> Tensor:\n",
        "        word_id = self.vocab.get_id(word)\n",
        "        if word_id is not None:\n",
        "            return self.embeddings[word_id]\n",
        "        else:\n",
        "            return None\n",
        "\n",
        "    def closest(self, word: str, n: int = 5) -> List[Tuple[float, str]]:\n",
        "        \"\"\"Returns the n closest words based on cosine similarity\"\"\"\n",
        "        vector = self[word]\n",
        "\n",
        "        # Compute pairs (similarity, other_word), and sort most similar first\n",
        "        scores = [(cosine_similarity(vector, self.embeddings[i]), other_word)\n",
        "                  for other_word, i in self.vocab.w2i.items()]\n",
        "        scores.sort(reverse=True)\n",
        "\n",
        "        return scores[:n]\n",
        "\n",
        "EMBEDDING_DIM = 5  # seems like a good size\n",
        "\n",
        "# Define the embedding layer separately, so we can reference it.\n",
        "embedding = TextEmbedding(vocab=vocab, embedding_dim=EMBEDDING_DIM)\n",
        "\n",
        "pairs = [(cosine_similarity(embedding[w1], embedding[w2]), w1, w2)\n",
        "          for w1 in vocab.w2i\n",
        "          for w2 in vocab.w2i\n",
        "          if w1 < w2]\n",
        "\n",
        "pairs.sort(reverse=True)\n",
        "print(pairs[:5])\n",
        "\n",
        "# Plot word vectors\n",
        "plt.close()\n"
      ],
      "metadata": {
        "id": "yjCFnykM8ZuR",
        "colab": {
          "base_uri": "https://localhost:8080/"
        },
        "outputId": "4e010971-384d-4443-fd86-07bc28b6ca3e"
      },
      "execution_count": null,
      "outputs": [
        {
          "output_type": "stream",
          "name": "stdout",
          "text": [
            "[(0.5309900776004893, 'a', 'c'), (0.3714568504719056, 'a', 'b'), (-0.1910087541221678, 'b', 'c')]\n"
          ]
        }
      ]
    },
    {
      "cell_type": "markdown",
      "source": [
        "yang (bagi saya) menghasilkan:"
      ],
      "metadata": {
        "id": "Uo1O-hcb8j8P"
      }
    },
    {
      "cell_type": "code",
      "source": [
        "[(0.9980283554864815, 'boat', 'car'),\n",
        " (0.9975147744587706, 'bed', 'cat'),\n",
        " (0.9953153441218054, 'seems', 'was'),\n",
        " (0.9927107440377975, 'extremely', 'quite'),\n",
        " (0.9836183658415987, 'bed', 'car')]"
      ],
      "metadata": {
        "id": "w3QSKMfi8oIn",
        "colab": {
          "base_uri": "https://localhost:8080/"
        },
        "outputId": "1f293693-6c50-4519-a217-d0dd603f0068"
      },
      "execution_count": null,
      "outputs": [
        {
          "output_type": "execute_result",
          "data": {
            "text/plain": [
              "[(0.9980283554864815, 'boat', 'car'),\n",
              " (0.9975147744587706, 'bed', 'cat'),\n",
              " (0.9953153441218054, 'seems', 'was'),\n",
              " (0.9927107440377975, 'extremely', 'quite'),\n",
              " (0.9836183658415987, 'bed', 'car')]"
            ]
          },
          "metadata": {},
          "execution_count": 50
        }
      ]
    },
    {
      "cell_type": "markdown",
      "source": [
        "(Jelas tempat tidur dan kucing tidak benar-benar mirip, tetapi dalam kalimat pelatihan kami tampaknya seperti itu, dan itulah yang ditangkap oleh model.)\n",
        "\n",
        "Kita juga dapat mengekstraksi dua komponen utama pertama dan memplotnya:"
      ],
      "metadata": {
        "id": "RxjmhRAO81xT"
      }
    },
    {
      "cell_type": "code",
      "source": [
        "from typing import List\n",
        "import math\n",
        "Vector = List[float]\n",
        "import tqdm\n",
        "\n",
        "def add(v: Vector, w: Vector) -> Vector:\n",
        "    \"\"\"Adds corresponding elements\"\"\"\n",
        "    assert len(v) == len(w), \"vectors must be the same length\"\n",
        "\n",
        "    return [v_i + w_i for v_i, w_i in zip(v, w)]\n",
        "\n",
        "def subtract(v: Vector, w: Vector) -> Vector:\n",
        "    \"\"\"Subtracts corresponding elements\"\"\"\n",
        "    assert len(v) == len(w), \"vectors must be the same length\"\n",
        "\n",
        "    return [v_i - w_i for v_i, w_i in zip(v, w)]\n",
        "\n",
        "def vector_sum(vectors: List[Vector]) -> Vector:\n",
        "    \"\"\"Sums all corresponding elements\"\"\"\n",
        "    # Check that vectors is not empty\n",
        "    assert vectors, \"no vectors provided!\"\n",
        "\n",
        "    # Check the vectors are all the same size\n",
        "    num_elements = len(vectors[0])\n",
        "    assert all(len(v) == num_elements for v in vectors), \"different sizes!\"\n",
        "\n",
        "    # the i-th element of the result is the sum of every vector[i]\n",
        "    return [sum(vector[i] for vector in vectors)\n",
        "            for i in range(num_elements)]\n",
        "\n",
        "def scalar_multiply(c: float, v: Vector) -> Vector:\n",
        "    \"\"\"Multiplies every element by c\"\"\"\n",
        "    return [c * v_i for v_i in v]\n",
        "\n",
        "def vector_mean(vectors: List[Vector]) -> Vector:\n",
        "    \"\"\"Computes the element-wise average\"\"\"\n",
        "    n = len(vectors)\n",
        "    return scalar_multiply(1/n, vector_sum(vectors))\n",
        "\n",
        "def dot(v: Vector, w: Vector) -> float:\n",
        "    \"\"\"Computes v_1 * w_1 + ... + v_n * w_n\"\"\"\n",
        "    assert len(v) == len(w), \"vectors must be same length\"\n",
        "\n",
        "    return sum(v_i * w_i for v_i, w_i in zip(v, w))\n",
        "\n",
        "def sum_of_squares(v: Vector) -> float:\n",
        "    \"\"\"Returns v_1 * v_1 + ... + v_n * v_n\"\"\"\n",
        "    return dot(v, v)\n",
        "\n",
        "def magnitude(v: Vector) -> float:\n",
        "    \"\"\"Returns the magnitude (or length) of v\"\"\"\n",
        "    return math.sqrt(sum_of_squares(v))   # math.sqrt is square root function\n",
        "\n",
        "def squared_distance(v: Vector, w: Vector) -> float:\n",
        "    \"\"\"Computes (v_1 - w_1) ** 2 + ... + (v_n - w_n) ** 2\"\"\"\n",
        "    return sum_of_squares(subtract(v, w))\n",
        "\n",
        "def distance(v: Vector, w: Vector) -> float:\n",
        "    \"\"\"Computes the distance between v and w\"\"\"\n",
        "    return math.sqrt(squared_distance(v, w))\n",
        "\n",
        "def direction(w: Vector) -> Vector:\n",
        "    mag = magnitude(w)\n",
        "    return [w_i / mag for w_i in w]\n",
        "\n",
        "def directional_variance(data: List[Vector], w: Vector) -> float:\n",
        "    \"\"\"\n",
        "    Returns the variance of x in the direction of w\n",
        "    \"\"\"\n",
        "    w_dir = direction(w)\n",
        "    return sum(dot(v, w_dir) ** 2 for v in data)\n",
        "\n",
        "def directional_variance_gradient(data: List[Vector], w: Vector) -> Vector:\n",
        "    \"\"\"\n",
        "    The gradient of directional variance with respect to w\n",
        "    \"\"\"\n",
        "    w_dir = direction(w)\n",
        "    return [sum(2 * dot(v, w_dir) * v[i] for v in data)\n",
        "            for i in range(len(w))]\n",
        "\n",
        "def gradient_step(v: Vector, gradient: Vector, step_size: float) -> Vector:\n",
        "    \"\"\"Moves `step_size` in the `gradient` direction from `v`\"\"\"\n",
        "    assert len(v) == len(gradient)\n",
        "    step = scalar_multiply(step_size, gradient)\n",
        "    return add(v, step)\n",
        "\n",
        "def first_principal_component(data: List[Vector],\n",
        "                              n: int = 100,\n",
        "                              step_size: float = 0.1) -> Vector:\n",
        "    # Start with a random guess\n",
        "    guess = [1.0 for _ in data[0]]\n",
        "\n",
        "    with tqdm.trange(n) as t:\n",
        "        for _ in t:\n",
        "            dv = directional_variance(data, guess)\n",
        "            gradient = directional_variance_gradient(data, guess)\n",
        "            guess = gradient_step(guess, gradient, step_size)\n",
        "            t.set_description(f\"dv: {dv:.3f}\")\n",
        "\n",
        "    return direction(guess)\n",
        "\n",
        "def project(v: Vector, w: Vector) -> Vector:\n",
        "    \"\"\"return the projection of v onto the direction w\"\"\"\n",
        "    projection_length = dot(v, w)\n",
        "    return scalar_multiply(projection_length, w)\n",
        "\n",
        "def subtract(v: Vector, w: Vector) -> Vector:\n",
        "    \"\"\"Subtracts corresponding elements\"\"\"\n",
        "    assert len(v) == len(w), \"vectors must be the same length\"\n",
        "\n",
        "    return [v_i - w_i for v_i, w_i in zip(v, w)]\n",
        "\n",
        "def remove_projection_from_vector(v: Vector, w: Vector) -> Vector:\n",
        "    \"\"\"projects v onto w and subtracts the result from v\"\"\"\n",
        "    return subtract(v, project(v, w))\n",
        "\n",
        "def remove_projection(data: List[Vector], w: Vector) -> List[Vector]:\n",
        "    return [remove_projection_from_vector(v, w) for v in data]\n",
        "\n",
        "def pca(data: List[Vector], num_components: int) -> List[Vector]:\n",
        "    components: List[Vector] = []\n",
        "    for _ in range(num_components):\n",
        "        component = first_principal_component(data)\n",
        "        components.append(component)\n",
        "        data = remove_projection(data, component)\n",
        "\n",
        "    return components\n",
        "\n",
        "def transform_vector(v: Vector, components: List[Vector]) -> Vector:\n",
        "    return [dot(v, w) for w in components]\n",
        "\n",
        "def transform(data: List[Vector], components: List[Vector]) -> List[Vector]:\n",
        "    return [transform_vector(v, components) for v in data]\n",
        "\n",
        "import matplotlib.pyplot as plt\n",
        "\n",
        "# Extract the first two principal components and transform the word vectors\n",
        "components = pca(embedding.embeddings, 2)\n",
        "transformed = transform(embedding.embeddings, components)\n",
        "\n",
        "# Scatter the points (and make them white so they're \"invisible\")\n",
        "fig, ax = plt.subplots()\n",
        "ax.scatter(*zip(*transformed), marker='.', color='w')\n",
        "\n",
        "# Add annotations for each word at its transformed location\n",
        "for word, idx in vocab.w2i.items():\n",
        "    ax.annotate(word, transformed[idx])\n",
        "\n",
        "# And hide the axes\n",
        "ax.get_xaxis().set_visible(False)\n",
        "ax.get_yaxis().set_visible(False)\n",
        "\n",
        "plt.show()"
      ],
      "metadata": {
        "id": "V05O8Z5L9HqC",
        "colab": {
          "base_uri": "https://localhost:8080/",
          "height": 441
        },
        "outputId": "2f19f72f-3f09-4c70-f031-9239fa98441e"
      },
      "execution_count": null,
      "outputs": [
        {
          "output_type": "stream",
          "name": "stderr",
          "text": [
            "dv: 25.651: 100%|██████████| 100/100 [00:00<00:00, 268.50it/s]\n",
            "dv: 40.174: 100%|██████████| 100/100 [00:00<00:00, 141.69it/s]\n"
          ]
        },
        {
          "output_type": "display_data",
          "data": {
            "text/plain": [
              "<Figure size 640x480 with 1 Axes>"
            ],
            "image/png": "[encoded data removed]"
          },
          "metadata": {}
        }
      ]
    },
    {
      "cell_type": "markdown",
      "source": [
        "yang menunjukkan bahwa kata-kata yang mirip memang mengelompok bersama (Gambar 21-3):\n",
        "\n",
        "Jika Anda tertarik, tidak sulit untuk melatih vektor kata CBOW. Anda harus melakukan sedikit pekerjaan. Pertama, Anda harus memodifikasi layer Embedding sehingga dibutuhkan sebagai input daftar ID dan output daftar vektor embedding. Kemudian Anda harus membuat layer baru (Jumlah?) Yang mengambil daftar vektor dan mengembalikan jumlahnya.\n",
        "\n",
        "Setiap kata mewakili contoh pelatihan di mana inputnya adalah ID kata untuk kata-kata di sekitarnya, dan targetnya adalah penyandian satu kata dari kata itu sendiri.\n",
        "\n",
        "Lapisan Penyematan yang dimodifikasi mengubah kata-kata di sekitarnya menjadi daftar vektor, lapisan Sum baru menciutkan daftar vektor menjadi satu vektor, dan kemudian lapisan Linear dapat menghasilkan skor yang dapat dimaksimalkan untuk mendapatkan distribusi yang mewakili \"kata-kata yang paling mungkin , mengingat konteks ini.”\n",
        "\n",
        "Saya menemukan model CBOW lebih sulit untuk dilatih daripada model skip-gram, tetapi saya mendorong Anda untuk mencobanya."
      ],
      "metadata": {
        "id": "kMn3ceMQ9YYR"
      }
    },
    {
      "cell_type": "markdown",
      "source": [
        "##Jaringan Syaraf Berulang"
      ],
      "metadata": {
        "id": "bPLghPha-EEk"
      }
    },
    {
      "cell_type": "markdown",
      "source": [
        "Vektor kata yang kita kembangkan di bagian sebelumnya sering digunakan sebagai input ke jaringan saraf. Salah satu tantangan untuk melakukannya adalah kalimat memiliki panjang yang bervariasi: Anda dapat menganggap kalimat $3$ kata sebagai tensor $[3, embedding_dim]$ dan kalimat $10$ kata sebagai tensor $[10, embedding_dim]$. Untuk, katakanlah, meneruskannya ke lapisan Linear, kita perlu melakukan sesuatu tentang dimensi panjang variabel pertama itu.\n",
        "\n",
        "Salah satu opsinya adalah menggunakan lapisan Sum (atau varian yang menggunakan rata-rata); namun, *urutan kata* dalam sebuah kalimat biasanya penting untuk maknanya. Untuk mengambil contoh umum, \"anjing menggigit manusia\" dan \"manusia menggigit anjing\" adalah dua cerita yang sangat berbeda!\n",
        "\n",
        "Cara lain untuk menangani ini adalah menggunakan *jaringan saraf berulang* (RNN), yang memiliki *status tersembunyi* yang dipertahankan di antara input. Dalam kasus yang paling sederhana, setiap masukan digabungkan dengan keadaan tersembunyi saat ini untuk menghasilkan keluaran, yang kemudian digunakan sebagai keadaan tersembunyi yang baru. Ini memungkinkan jaringan semacam itu untuk \"mengingat\" (dalam arti tertentu) masukan yang telah mereka lihat, dan untuk membangun keluaran akhir yang bergantung pada semua masukan dan urutannya.\n",
        "\n",
        "Kita akan membuat lapisan RNN yang paling sederhana, yang akan menerima satu input (sesuai dengan, misalnya, satu kata dalam kalimat, atau satu karakter dalam satu kata), dan yang akan mempertahankan status tersembunyinya di antara panggilan.\n",
        "\n",
        "Ingatlah bahwa layer Linear kita memiliki bobot, w, dan bias, b. Butuh input vektor dan menghasilkan vektor yang berbeda sebagai output menggunakan logika:"
      ],
      "metadata": {
        "id": "3ctsPeHc-PCs"
      }
    },
    {
      "cell_type": "code",
      "source": [
        "output[o] = dot(w[o], input) + b[o]\n"
      ],
      "metadata": {
        "id": "I2jl0pfNAMnd"
      },
      "execution_count": null,
      "outputs": []
    },
    {
      "cell_type": "markdown",
      "source": [
        "Di sini kita ingin memasukkan status tersembunyi kita, jadi kita akan memiliki dua set bobot—satu untuk diterapkan ke input dan satu untuk diterapkan ke status tersembunyi sebelumnya:"
      ],
      "metadata": {
        "id": "rKCaD2IEAZPv"
      }
    },
    {
      "cell_type": "code",
      "source": [
        "output[o] = dot(w[o], input) + dot(u[o], hidden) + b[o]\n"
      ],
      "metadata": {
        "id": "Kkk2cnrtAd9e"
      },
      "execution_count": null,
      "outputs": []
    },
    {
      "cell_type": "markdown",
      "source": [
        "Selanjutnya, kita akan menggunakan vektor keluaran sebagai nilai tersembunyi yang baru. Ini bukan perubahan besar, tetapi ini akan memungkinkan jaringan kami melakukan hal-hal luar biasa."
      ],
      "metadata": {
        "id": "xoPpD0uFAk0d"
      }
    },
    {
      "cell_type": "code",
      "source": [
        "from typing import Callable\n",
        "import math\n",
        "\n",
        "def tensor_apply(f: Callable[[float], float], tensor: Tensor) -> Tensor:\n",
        "    \"\"\"Applies f elementwise\"\"\"\n",
        "    if is_1d(tensor):\n",
        "        return [f(x) for x in tensor]\n",
        "    else:\n",
        "        return [tensor_apply(f, tensor_i) for tensor_i in tensor]\n",
        "\n",
        "def tanh(x: float) -> float:\n",
        "    # If x is very large or very small, tanh is (essentially) 1 or -1.\n",
        "    # We check for this because e.g. math.exp(1000) raises an error.\n",
        "    if x < -100:  return -1\n",
        "    elif x > 100: return 1\n",
        "\n",
        "    em2x = math.exp(-2 * x)\n",
        "    return (1 - em2x) / (1 + em2x)\n",
        "\n",
        "class SimpleRnn(Layer):\n",
        "    \"\"\"Just about the simplest possible recurrent layer.\"\"\"\n",
        "    def __init__(self, input_dim: int, hidden_dim: int) -> None:\n",
        "        self.input_dim = input_dim\n",
        "        self.hidden_dim = hidden_dim\n",
        "\n",
        "        self.w = random_tensor(hidden_dim, input_dim, init='xavier')\n",
        "        self.u = random_tensor(hidden_dim, hidden_dim, init='xavier')\n",
        "        self.b = random_tensor(hidden_dim)\n",
        "        self.reset_hidden_state()\n",
        "\n",
        "    def reset_hidden_state(self) -> None:\n",
        "        self.hidden = [0 for _ in range(self.hidden_dim)]"
      ],
      "metadata": {
        "id": "OaRdQOxKAqt3"
      },
      "execution_count": null,
      "outputs": []
    },
    {
      "cell_type": "markdown",
      "source": [
        "Anda dapat melihat bahwa kita memulai status tersembunyi sebagai vektor 0, dan kita menyediakan fungsi yang dapat dipanggil oleh orang yang menggunakan jaringan untuk menyetel ulang status tersembunyi.\n",
        "\n",
        "Dengan pengaturan ini, fungsi penerusan cukup mudah (setidaknya, jika Anda mengingat dan memahami cara kerja lapisan Linear kita):"
      ],
      "metadata": {
        "id": "ZJc9tetMBMFz"
      }
    },
    {
      "cell_type": "code",
      "source": [
        "def forward(self, input: Tensor) -> Tensor:\n",
        "    self.input = input # Save both input and previous\n",
        "    self.prev_hidden = self.hidden # hidden state to use in backprop.\n",
        "\n",
        "    a = [(dot(self.w[h], input) + # weights @ input\n",
        "          dot(self.u[h], self.hidden) + # weights @ hidden\n",
        "          self.b[h]) # bias\n",
        "         for h in range(self.hidden_dim)]\n",
        "\n",
        "    self.hidden = tensor_apply(tanh, a) # Apply tanh activation\n",
        "    return self.hidden # and return the result.\n"
      ],
      "metadata": {
        "id": "rs-gFnKwbp3m"
      },
      "execution_count": null,
      "outputs": []
    },
    {
      "cell_type": "markdown",
      "source": [
        "Lintasan mundur mirip dengan yang ada di lapisan Linear kita, kecuali bahwa ia perlu menghitung kumpulan gradien tambahan untuk bobot u:"
      ],
      "metadata": {
        "id": "pZpvkAp6caUF"
      }
    },
    {
      "cell_type": "code",
      "source": [
        "def backward(self, gradient: Tensor):\n",
        "    # Backpropagate through the tanh\n",
        "    a_grad = [gradient[h] * (1 - self.hidden[h] ** 2)\n",
        "              for h in range(self.hidden_dim)]\n",
        "\n",
        "    # b has the same gradient as a\n",
        "    self.b_grad = a_grad\n",
        "\n",
        "    # Each w[h][i] is multiplied by input[i] and added to a[h],\n",
        "    # so each w_grad[h][i] = a_grad[h] * input[i]\n",
        "    self.w_grad = [[a_grad[h] * self.input[i]\n",
        "                    for i in range(self.input_dim)]\n",
        "                   for h in range(self.hidden_dim)]\n",
        "\n",
        "    # Each u[h][h2] is multiplied by hidden[h2] and added to a[h],\n",
        "    # so each u_grad[h][h2] = a_grad[h] * prev_hidden[h2]\n",
        "    self.u_grad = [[a_grad[h] * self.prev_hidden[h2]\n",
        "                    for h2 in range(self.hidden_dim)]\n",
        "                   for h in range(self.hidden_dim)]\n",
        "\n",
        "    # Each input[i] is multiplied by every w[h][i] and added to a[h],\n",
        "    # so each input_grad[i] = sum(a_grad[h] * w[h][i] for h in ...)\n",
        "    return [sum(a_grad[h] * self.w[h][i] for h in range(self.hidden_dim))\n",
        "            for i in range(self.input_dim)]\n"
      ],
      "metadata": {
        "id": "N2pEjVfpcpdf"
      },
      "execution_count": null,
      "outputs": []
    },
    {
      "cell_type": "markdown",
      "source": [
        "Dan akhirnya kita perlu mengganti metode params dan grads:"
      ],
      "metadata": {
        "id": "eb1hlJdpdNsU"
      }
    },
    {
      "cell_type": "code",
      "source": [
        "def params(self) -> Iterable[Tensor]:\n",
        "    return [self.w, self.u, self.b]\n",
        "\n",
        "def grads(self) -> Iterable[Tensor]:\n",
        "    return [self.w_grad, self.u_grad, self.b_grad]"
      ],
      "metadata": {
        "id": "K9TWuluqdSLx"
      },
      "execution_count": null,
      "outputs": []
    },
    {
      "cell_type": "markdown",
      "source": [
        "PERINGATAN\n",
        "\n",
        "RNN \"sederhana\" ini sangat sederhana sehingga Anda mungkin tidak boleh menggunakannya dalam praktik."
      ],
      "metadata": {
        "id": "sNyEakfldbqp"
      }
    },
    {
      "cell_type": "markdown",
      "source": [
        "SimpleRnn kita memiliki beberapa fitur yang tidak diinginkan. Salah satunya adalah seluruh status tersembunyinya digunakan untuk memperbarui input setiap kali Anda memanggilnya. Yang lainnya adalah bahwa seluruh status tersembunyi ditimpa setiap kali Anda memanggilnya. Kedua hal ini membuat sulit untuk dilatih; khususnya, mereka mempersulit model untuk mempelajari dependensi jarak jauh.\n",
        "\n",
        "Untuk alasan ini, hampir tidak ada yang menggunakan RNN sederhana semacam ini. Sebagai gantinya, mereka menggunakan varian yang lebih rumit seperti LSTM (\"memori jangka pendek panjang\") atau GRU (\"gated recurrent unit\"), yang memiliki lebih banyak parameter dan menggunakan \"gerbang\" berparameter yang memungkinkan hanya sebagian dari keadaan untuk menjadi diperbarui (dan hanya beberapa status yang akan digunakan) di setiap langkah waktu.\n",
        "\n",
        "Tidak ada yang *sulit* tentang varian ini; namun, mereka melibatkan lebih banyak kode, yang (menurut saya) tidak akan lebih mendidik untuk dibaca. Kode untuk bab ini di GitHub menyertakan implementasi LSTM. Saya mendorong Anda untuk memeriksanya, tetapi agak membosankan sehingga kita tidak akan membahasnya lebih lanjut di sini.\n",
        "\n",
        "Satu keanehan lain dari implementasi kita adalah hanya membutuhkan satu \"langkah\" pada satu waktu dan mengharuskan kita untuk mengatur ulang status tersembunyi secara manual. Implementasi RNN yang lebih praktis mungkin menerima urutan input, menyetel status tersembunyinya ke 0 pada awal setiap urutan, dan menghasilkan urutan output. Kita pasti bisa dimodifikasi untuk berperilaku seperti ini; sekali lagi, ini akan membutuhkan lebih banyak kode dan kerumitan untuk mendapatkan sedikit pemahaman."
      ],
      "metadata": {
        "id": "fAHv74eEdy6a"
      }
    },
    {
      "cell_type": "markdown",
      "source": [
        "##Contoh: Menggunakan RNN Tingkat Karakter"
      ],
      "metadata": {
        "id": "Vy042xONezEF"
      }
    },
    {
      "cell_type": "markdown",
      "source": [
        "VP Branding yang baru direkrut tidak memberikan nama *DataSciencester* sendiri, dan (oleh karena itu) dia curiga bahwa nama yang lebih baik dapat membawa kesuksesan yang lebih besar bagi perusahaan. Dia meminta Anda menggunakan ilmu data untuk menyarankan kandidat pengganti.\n",
        "\n",
        "Salah satu aplikasi RNN yang \"imut\" melibatkan penggunaan *karakter* (bukan kata-kata) sebagai inputnya, melatih mereka untuk mempelajari pola bahasa halus di beberapa kumpulan data, dan kemudian menggunakannya untuk menghasilkan contoh fiksi dari kumpulan data tersebut.\n",
        "\n",
        "Misalnya, Anda dapat melatih RNN tentang nama band alternatif, menggunakan model terlatih untuk menghasilkan nama baru untuk band alternatif palsu, lalu memilih sendiri yang paling lucu dan membagikannya di Twitter. Kegembiraan!\n",
        "\n",
        "Setelah melihat trik ini berkali-kali untuk tidak menganggapnya pintar, Anda memutuskan untuk mencobanya.\n",
        "\n",
        "Setelah beberapa penggalian, Anda menemukan bahwa akselerator startup $Y$ Combinator telah menerbitkan daftar $100$ teratas (sebenarnya $101$) startup paling sukses, yang sepertinya merupakan titik awal yang baik. Memeriksa halaman, Anda menemukan bahwa semua nama perusahaan ada di dalam $<b class=\"h4\">$ tag, yang berarti mudah untuk menggunakan keterampilan pengikisan web Anda untuk mengambilnya:"
      ],
      "metadata": {
        "id": "OgAPTMx6e1Ii"
      }
    },
    {
      "cell_type": "code",
      "source": [
        "from bs4 import BeautifulSoup\n",
        "import requests\n",
        "\n",
        "url = \"https://www.ycombinator.com/topcompanies/\"\n",
        "soup = BeautifulSoup(requests.get(url).text, 'html5lib')\n",
        "\n",
        "# We get the companies twice, so use a set comprehension to deduplicate.\n",
        "companies = list({b.text\n",
        "                  for b in soup(\"b\")\n",
        "                  if \"h4\" in b.get(\"class\", ())})\n",
        "assert len(companies) == 101"
      ],
      "metadata": {
        "id": "dQQclKBkgJoe"
      },
      "execution_count": null,
      "outputs": []
    },
    {
      "cell_type": "markdown",
      "source": [
        "Seperti biasa, halaman dapat berubah (atau hilang), dalam hal ini kode ini tidak akan berfungsi. Jika demikian, Anda dapat menggunakan keterampilan ilmu data yang baru Anda pelajari untuk memperbaikinya atau dapatkan daftarnya dari situs GitHub buku.\n",
        "\n",
        "Jadi apa rencana kita? Kita akan melatih model untuk memprediksi karakter berikutnya dari sebuah nama, mengingat karakter saat ini *dan* status tersembunyi yang mewakili semua karakter yang telah kita lihat sejauh ini.\n",
        "\n",
        "Seperti biasa, kita akan benar-benar memprediksi distribusi probabilitas pada karakter dan melatih model kita untuk meminimalkan kerugian SoftmaxCrossEntropy.\n",
        "\n",
        "Setelah model kita dilatih, kita dapat menggunakannya untuk menghasilkan beberapa probabilitas, mengambil sampel karakter secara acak berdasarkan probabilitas tersebut, lalu memberi makan karakter tersebut sebagai input berikutnya. Ini akan memungkinkan kita untuk menghasilkan nama perusahaan menggunakan bobot yang dipelajari.\n",
        "\n",
        "Untuk memulainya, kita harus membuat Vocabulary dari karakter dalam nama:"
      ],
      "metadata": {
        "id": "IbjawvzegYgD"
      }
    },
    {
      "cell_type": "code",
      "source": [
        "vocab = Vocabulary([c for company in companies for c in company])\n"
      ],
      "metadata": {
        "id": "wmLrRuXMhTry"
      },
      "execution_count": null,
      "outputs": []
    },
    {
      "cell_type": "markdown",
      "source": [
        "Selain itu, kita akan menggunakan token khusus untuk menandai awal dan akhir nama perusahaan. Hal ini memungkinkan model untuk mempelajari karakter mana yang harus diawali dengan nama perusahaan dan juga untuk mempelajari kapan nama perusahaan *diakhiri*.\n",
        "\n",
        "Kita hanya akan menggunakan karakter regex untuk memulai dan mengakhiri, yang (untungnya) tidak muncul di daftar perusahaan kita:"
      ],
      "metadata": {
        "id": "1wAomcH1heOp"
      }
    },
    {
      "cell_type": "code",
      "source": [
        "START = \"^\"\n",
        "STOP = \"$\"\n",
        "\n",
        "# We need to add them to the vocabulary too.\n",
        "vocab.add(START)\n",
        "vocab.add(STOP"
      ],
      "metadata": {
        "id": "US-5k62Khy7c"
      },
      "execution_count": null,
      "outputs": []
    },
    {
      "cell_type": "markdown",
      "source": [
        "Untuk model kita, kita akan melakukan one-hot-encode setiap karakter, menyebarkannya melalui dua SimpleRnns, dan kemudian menggunakan layer Linear untuk menghasilkan skor untuk setiap kemungkinan karakter berikutnya:"
      ],
      "metadata": {
        "id": "eAMQAbp2h8q_"
      }
    },
    {
      "cell_type": "code",
      "source": [
        "HIDDEN_DIM = 32 # You should experiment with different sizes!\n",
        "\n",
        "rnn1 = SimpleRnn(input_dim=vocab.size, hidden_dim=HIDDEN_DIM)\n",
        "rnn2 = SimpleRnn(input_dim=HIDDEN_DIM, hidden_dim=HIDDEN_DIM)\n",
        "linear = Linear(input_dim=HIDDEN_DIM, output_dim=vocab.size)\n",
        "\n",
        "model = Sequential([\n",
        "    rnn1,\n",
        "    rnn2,\n",
        "    linear\n",
        "])\n"
      ],
      "metadata": {
        "id": "QX3s0XnYiFaV"
      },
      "execution_count": null,
      "outputs": []
    },
    {
      "cell_type": "markdown",
      "source": [
        "Bayangkan sejenak kita telah melatih model ini. Mari tulis fungsi yang menggunakannya untuk menghasilkan nama perusahaan baru, dengan menggunakan fungsi sample_from dari “Pemodelan Topik”:"
      ],
      "metadata": {
        "id": "EPOgHsvYiSDh"
      }
    },
    {
      "cell_type": "code",
      "source": [
        "START = \"^\"\n",
        "\n",
        "def softmax(tensor: Tensor) -> Tensor:\n",
        "    \"\"\"Softmax along the last dimension\"\"\"\n",
        "    if is_1d(tensor):\n",
        "        # Subtract largest value for numerical stabilitity.\n",
        "        largest = max(tensor)\n",
        "        exps = [math.exp(x - largest) for x in tensor]\n",
        "\n",
        "        sum_of_exps = sum(exps)                 # This is the total \"weight\".\n",
        "        return [exp_i / sum_of_exps             # Probability is the fraction\n",
        "                for exp_i in exps]              # of the total weight.\n",
        "    else:\n",
        "        return [softmax(tensor_i) for tensor_i in tensor]\n",
        "\n",
        "def generate(seed: str = START, max_len: int = 50) -> str:\n",
        "    rnn1.reset_hidden_state() # Reset both hidden states\n",
        "    rnn2.reset_hidden_state()\n",
        "    output = [seed] # Start the output with the specified seed\n",
        "\n",
        "    # Keep going until we produce the STOP character or reach the max length\n",
        "    while output[-1] != STOP and len(output) < max_len:\n",
        "        # Use the last character as the input\n",
        "        input = vocab.one_hot_encode(output[-1])\n",
        "\n",
        "        # Generate scores using the model\n",
        "        predicted = model.forward(input)\n",
        "\n",
        "        # Convert them to probabilities and draw a random char_id\n",
        "        probabilities = softmax(predicted)\n",
        "        next_char_id = sample_from(probabilities)\n",
        "\n",
        "        # Add the corresponding char to our output\n",
        "        output.append(vocab.get_word(next_char_id))\n",
        "\n",
        "    # Get rid of START and END characters and return the word\n",
        "    return ''.join(output[1:-1])"
      ],
      "metadata": {
        "id": "QC0IHGWjiZnl"
      },
      "execution_count": null,
      "outputs": []
    },
    {
      "cell_type": "markdown",
      "source": [
        "Akhirnya, kita siap untuk melatih RNN level karakter kita. Ini akan memakan waktu lama!"
      ],
      "metadata": {
        "id": "euDksYF6i5T0"
      }
    },
    {
      "cell_type": "code",
      "source": [
        "from bs4 import BeautifulSoup\n",
        "import requests\n",
        "\n",
        "url = \"https://www.ycombinator.com/topcompanies/\"\n",
        "soup = BeautifulSoup(requests.get(url).text, 'html5lib')\n",
        "\n",
        "# We get the companies twice, so use a set comprehension to deduplicate.\n",
        "companies = list({b.text\n",
        "                  for b in soup(\"b\")\n",
        "                  if \"h4\" in b.get(\"class\", ())})\n",
        "loss = SoftmaxCrossEntropy()\n",
        "optimizer = Momentum(learning_rate=0.01, momentum=0.9)\n",
        "\n",
        "for epoch in range(300):\n",
        "    random.shuffle(companies) # Train in a different order each epoch.\n",
        "    epoch_loss = 0 # Track the loss.\n",
        "    for company in tqdm.tqdm(companies):\n",
        "        rnn1.reset_hidden_state() # Reset both hidden states.\n",
        "        rnn2.reset_hidden_state()\n",
        "        company = START + company + STOP # Add START and STOP characters.\n",
        "\n",
        "        # The rest is just our usual training loop, except that the inputs\n",
        "        # and target are the one-hot-encoded previous and next characters.\n",
        "        for prev, next in zip(company, company[1:]):\n",
        "            input = vocab.one_hot_encode(prev)\n",
        "            target = vocab.one_hot_encode(next)\n",
        "            predicted = model.forward(input)\n",
        "            epoch_loss += loss.loss(predicted, target)\n",
        "            gradient = loss.gradient(predicted, target)\n",
        "            model.backward(gradient)\n",
        "            optimizer.step(model)\n",
        "        # Each epoch, print the loss and also generate a name.\n",
        "        print(epoch, epoch_loss, generate())\n",
        "\n",
        "        # Turn down the learning rate for the last 100 epochs.\n",
        "        # There's no principled reason for this, but it seems to work.\n",
        "        if epoch == 200:\n",
        "            optimizer.lr *= 0.1"
      ],
      "metadata": {
        "id": "k2TRVKOyjBXg",
        "colab": {
          "base_uri": "https://localhost:8080/"
        },
        "outputId": "0f0dba77-7296-457e-86cb-85a9618dba6a"
      },
      "execution_count": null,
      "outputs": [
        {
          "output_type": "stream",
          "name": "stderr",
          "text": [
            "0it [00:00, ?it/s]\n",
            "0it [00:00, ?it/s]\n",
            "0it [00:00, ?it/s]\n",
            "0it [00:00, ?it/s]\n",
            "0it [00:00, ?it/s]\n",
            "0it [00:00, ?it/s]\n",
            "0it [00:00, ?it/s]\n",
            "0it [00:00, ?it/s]\n",
            "0it [00:00, ?it/s]\n",
            "0it [00:00, ?it/s]\n",
            "0it [00:00, ?it/s]\n",
            "0it [00:00, ?it/s]\n",
            "0it [00:00, ?it/s]\n",
            "0it [00:00, ?it/s]\n",
            "0it [00:00, ?it/s]\n",
            "0it [00:00, ?it/s]\n",
            "0it [00:00, ?it/s]\n",
            "0it [00:00, ?it/s]\n",
            "0it [00:00, ?it/s]\n",
            "0it [00:00, ?it/s]\n",
            "0it [00:00, ?it/s]\n",
            "0it [00:00, ?it/s]\n",
            "0it [00:00, ?it/s]\n",
            "0it [00:00, ?it/s]\n",
            "0it [00:00, ?it/s]\n",
            "0it [00:00, ?it/s]\n",
            "0it [00:00, ?it/s]\n",
            "0it [00:00, ?it/s]\n",
            "0it [00:00, ?it/s]\n",
            "0it [00:00, ?it/s]\n",
            "0it [00:00, ?it/s]\n",
            "0it [00:00, ?it/s]\n",
            "0it [00:00, ?it/s]\n",
            "0it [00:00, ?it/s]\n",
            "0it [00:00, ?it/s]\n",
            "0it [00:00, ?it/s]\n",
            "0it [00:00, ?it/s]\n",
            "0it [00:00, ?it/s]\n",
            "0it [00:00, ?it/s]\n",
            "0it [00:00, ?it/s]\n",
            "0it [00:00, ?it/s]\n",
            "0it [00:00, ?it/s]\n",
            "0it [00:00, ?it/s]\n",
            "0it [00:00, ?it/s]\n",
            "0it [00:00, ?it/s]\n",
            "0it [00:00, ?it/s]\n",
            "0it [00:00, ?it/s]\n",
            "0it [00:00, ?it/s]\n",
            "0it [00:00, ?it/s]\n",
            "0it [00:00, ?it/s]\n",
            "0it [00:00, ?it/s]\n",
            "0it [00:00, ?it/s]\n",
            "0it [00:00, ?it/s]\n",
            "0it [00:00, ?it/s]\n",
            "0it [00:00, ?it/s]\n",
            "0it [00:00, ?it/s]\n",
            "0it [00:00, ?it/s]\n",
            "0it [00:00, ?it/s]\n",
            "0it [00:00, ?it/s]\n",
            "0it [00:00, ?it/s]\n",
            "0it [00:00, ?it/s]\n",
            "0it [00:00, ?it/s]\n",
            "0it [00:00, ?it/s]\n",
            "0it [00:00, ?it/s]\n",
            "0it [00:00, ?it/s]\n",
            "0it [00:00, ?it/s]\n",
            "0it [00:00, ?it/s]\n",
            "0it [00:00, ?it/s]\n",
            "0it [00:00, ?it/s]\n",
            "0it [00:00, ?it/s]\n",
            "0it [00:00, ?it/s]\n",
            "0it [00:00, ?it/s]\n",
            "0it [00:00, ?it/s]\n",
            "0it [00:00, ?it/s]\n",
            "0it [00:00, ?it/s]\n",
            "0it [00:00, ?it/s]\n",
            "0it [00:00, ?it/s]\n",
            "0it [00:00, ?it/s]\n",
            "0it [00:00, ?it/s]\n",
            "0it [00:00, ?it/s]\n",
            "0it [00:00, ?it/s]\n",
            "0it [00:00, ?it/s]\n",
            "0it [00:00, ?it/s]\n",
            "0it [00:00, ?it/s]\n",
            "0it [00:00, ?it/s]\n",
            "0it [00:00, ?it/s]\n",
            "0it [00:00, ?it/s]\n",
            "0it [00:00, ?it/s]\n",
            "0it [00:00, ?it/s]\n",
            "0it [00:00, ?it/s]\n",
            "0it [00:00, ?it/s]\n",
            "0it [00:00, ?it/s]\n",
            "0it [00:00, ?it/s]\n",
            "0it [00:00, ?it/s]\n",
            "0it [00:00, ?it/s]\n",
            "0it [00:00, ?it/s]\n",
            "0it [00:00, ?it/s]\n",
            "0it [00:00, ?it/s]\n",
            "0it [00:00, ?it/s]\n",
            "0it [00:00, ?it/s]\n",
            "0it [00:00, ?it/s]\n",
            "0it [00:00, ?it/s]\n",
            "0it [00:00, ?it/s]\n",
            "0it [00:00, ?it/s]\n",
            "0it [00:00, ?it/s]\n",
            "0it [00:00, ?it/s]\n",
            "0it [00:00, ?it/s]\n",
            "0it [00:00, ?it/s]\n",
            "0it [00:00, ?it/s]\n",
            "0it [00:00, ?it/s]\n",
            "0it [00:00, ?it/s]\n",
            "0it [00:00, ?it/s]\n",
            "0it [00:00, ?it/s]\n",
            "0it [00:00, ?it/s]\n",
            "0it [00:00, ?it/s]\n",
            "0it [00:00, ?it/s]\n",
            "0it [00:00, ?it/s]\n",
            "0it [00:00, ?it/s]\n",
            "0it [00:00, ?it/s]\n",
            "0it [00:00, ?it/s]\n",
            "0it [00:00, ?it/s]\n",
            "0it [00:00, ?it/s]\n",
            "0it [00:00, ?it/s]\n",
            "0it [00:00, ?it/s]\n",
            "0it [00:00, ?it/s]\n",
            "0it [00:00, ?it/s]\n",
            "0it [00:00, ?it/s]\n",
            "0it [00:00, ?it/s]\n",
            "0it [00:00, ?it/s]\n",
            "0it [00:00, ?it/s]\n",
            "0it [00:00, ?it/s]\n",
            "0it [00:00, ?it/s]\n",
            "0it [00:00, ?it/s]\n",
            "0it [00:00, ?it/s]\n",
            "0it [00:00, ?it/s]\n",
            "0it [00:00, ?it/s]\n",
            "0it [00:00, ?it/s]\n",
            "0it [00:00, ?it/s]\n",
            "0it [00:00, ?it/s]\n",
            "0it [00:00, ?it/s]\n",
            "0it [00:00, ?it/s]\n",
            "0it [00:00, ?it/s]\n",
            "0it [00:00, ?it/s]\n",
            "0it [00:00, ?it/s]\n",
            "0it [00:00, ?it/s]\n",
            "0it [00:00, ?it/s]\n",
            "0it [00:00, ?it/s]\n",
            "0it [00:00, ?it/s]\n",
            "0it [00:00, ?it/s]\n",
            "0it [00:00, ?it/s]\n",
            "0it [00:00, ?it/s]\n",
            "0it [00:00, ?it/s]\n",
            "0it [00:00, ?it/s]\n",
            "0it [00:00, ?it/s]\n",
            "0it [00:00, ?it/s]\n",
            "0it [00:00, ?it/s]\n",
            "0it [00:00, ?it/s]\n",
            "0it [00:00, ?it/s]\n",
            "0it [00:00, ?it/s]\n",
            "0it [00:00, ?it/s]\n",
            "0it [00:00, ?it/s]\n",
            "0it [00:00, ?it/s]\n",
            "0it [00:00, ?it/s]\n",
            "0it [00:00, ?it/s]\n",
            "0it [00:00, ?it/s]\n",
            "0it [00:00, ?it/s]\n",
            "0it [00:00, ?it/s]\n",
            "0it [00:00, ?it/s]\n",
            "0it [00:00, ?it/s]\n",
            "0it [00:00, ?it/s]\n",
            "0it [00:00, ?it/s]\n",
            "0it [00:00, ?it/s]\n",
            "0it [00:00, ?it/s]\n",
            "0it [00:00, ?it/s]\n",
            "0it [00:00, ?it/s]\n",
            "0it [00:00, ?it/s]\n",
            "0it [00:00, ?it/s]\n",
            "0it [00:00, ?it/s]\n",
            "0it [00:00, ?it/s]\n",
            "0it [00:00, ?it/s]\n",
            "0it [00:00, ?it/s]\n",
            "0it [00:00, ?it/s]\n",
            "0it [00:00, ?it/s]\n",
            "0it [00:00, ?it/s]\n",
            "0it [00:00, ?it/s]\n",
            "0it [00:00, ?it/s]\n",
            "0it [00:00, ?it/s]\n",
            "0it [00:00, ?it/s]\n",
            "0it [00:00, ?it/s]\n",
            "0it [00:00, ?it/s]\n",
            "0it [00:00, ?it/s]\n",
            "0it [00:00, ?it/s]\n",
            "0it [00:00, ?it/s]\n",
            "0it [00:00, ?it/s]\n",
            "0it [00:00, ?it/s]\n",
            "0it [00:00, ?it/s]\n",
            "0it [00:00, ?it/s]\n",
            "0it [00:00, ?it/s]\n",
            "0it [00:00, ?it/s]\n",
            "0it [00:00, ?it/s]\n",
            "0it [00:00, ?it/s]\n",
            "0it [00:00, ?it/s]\n",
            "0it [00:00, ?it/s]\n",
            "0it [00:00, ?it/s]\n",
            "0it [00:00, ?it/s]\n",
            "0it [00:00, ?it/s]\n",
            "0it [00:00, ?it/s]\n",
            "0it [00:00, ?it/s]\n",
            "0it [00:00, ?it/s]\n",
            "0it [00:00, ?it/s]\n",
            "0it [00:00, ?it/s]\n",
            "0it [00:00, ?it/s]\n",
            "0it [00:00, ?it/s]\n",
            "0it [00:00, ?it/s]\n",
            "0it [00:00, ?it/s]\n",
            "0it [00:00, ?it/s]\n",
            "0it [00:00, ?it/s]\n",
            "0it [00:00, ?it/s]\n",
            "0it [00:00, ?it/s]\n",
            "0it [00:00, ?it/s]\n",
            "0it [00:00, ?it/s]\n",
            "0it [00:00, ?it/s]\n",
            "0it [00:00, ?it/s]\n",
            "0it [00:00, ?it/s]\n",
            "0it [00:00, ?it/s]\n",
            "0it [00:00, ?it/s]\n",
            "0it [00:00, ?it/s]\n",
            "0it [00:00, ?it/s]\n",
            "0it [00:00, ?it/s]\n",
            "0it [00:00, ?it/s]\n",
            "0it [00:00, ?it/s]\n",
            "0it [00:00, ?it/s]\n",
            "0it [00:00, ?it/s]\n",
            "0it [00:00, ?it/s]\n",
            "0it [00:00, ?it/s]\n",
            "0it [00:00, ?it/s]\n",
            "0it [00:00, ?it/s]\n",
            "0it [00:00, ?it/s]\n",
            "0it [00:00, ?it/s]\n",
            "0it [00:00, ?it/s]\n",
            "0it [00:00, ?it/s]\n",
            "0it [00:00, ?it/s]\n",
            "0it [00:00, ?it/s]\n",
            "0it [00:00, ?it/s]\n",
            "0it [00:00, ?it/s]\n",
            "0it [00:00, ?it/s]\n",
            "0it [00:00, ?it/s]\n",
            "0it [00:00, ?it/s]\n",
            "0it [00:00, ?it/s]\n",
            "0it [00:00, ?it/s]\n",
            "0it [00:00, ?it/s]\n",
            "0it [00:00, ?it/s]\n",
            "0it [00:00, ?it/s]\n",
            "0it [00:00, ?it/s]\n",
            "0it [00:00, ?it/s]\n",
            "0it [00:00, ?it/s]\n",
            "0it [00:00, ?it/s]\n",
            "0it [00:00, ?it/s]\n",
            "0it [00:00, ?it/s]\n",
            "0it [00:00, ?it/s]\n",
            "0it [00:00, ?it/s]\n",
            "0it [00:00, ?it/s]\n",
            "0it [00:00, ?it/s]\n",
            "0it [00:00, ?it/s]\n",
            "0it [00:00, ?it/s]\n",
            "0it [00:00, ?it/s]\n",
            "0it [00:00, ?it/s]\n",
            "0it [00:00, ?it/s]\n",
            "0it [00:00, ?it/s]\n",
            "0it [00:00, ?it/s]\n",
            "0it [00:00, ?it/s]\n",
            "0it [00:00, ?it/s]\n",
            "0it [00:00, ?it/s]\n",
            "0it [00:00, ?it/s]\n",
            "0it [00:00, ?it/s]\n",
            "0it [00:00, ?it/s]\n",
            "0it [00:00, ?it/s]\n",
            "0it [00:00, ?it/s]\n",
            "0it [00:00, ?it/s]\n",
            "0it [00:00, ?it/s]\n",
            "0it [00:00, ?it/s]\n",
            "0it [00:00, ?it/s]\n",
            "0it [00:00, ?it/s]\n",
            "0it [00:00, ?it/s]\n",
            "0it [00:00, ?it/s]\n",
            "0it [00:00, ?it/s]\n",
            "0it [00:00, ?it/s]\n",
            "0it [00:00, ?it/s]\n",
            "0it [00:00, ?it/s]\n",
            "0it [00:00, ?it/s]\n",
            "0it [00:00, ?it/s]\n",
            "0it [00:00, ?it/s]\n",
            "0it [00:00, ?it/s]\n",
            "0it [00:00, ?it/s]\n",
            "0it [00:00, ?it/s]\n",
            "0it [00:00, ?it/s]\n",
            "0it [00:00, ?it/s]\n",
            "0it [00:00, ?it/s]\n",
            "0it [00:00, ?it/s]\n",
            "0it [00:00, ?it/s]\n"
          ]
        }
      ]
    },
    {
      "cell_type": "markdown",
      "source": [
        "Setelah pelatihan, model menghasilkan beberapa nama sebenarnya dari daftar (yang tidak mengherankan, karena model memiliki kapasitas yang lumayan dan tidak banyak data pelatihan), serta nama yang hanya sedikit berbeda dari nama pelatihan ( Scripe, Loinbare, Pozium), nama-nama yang tampak benar-benar kreatif (Benuus, Cletpo, Equite, Vivest), dan nama-nama yang sampah tetapi masih seperti kata-kata (SFitreasy, Sint ocanelp, GliyOx, Doorboronelhav).\n",
        "\n",
        "Sayangnya, seperti kebanyakan output karakter-level-RNN, ini hanya sedikit pintar, dan VP Branding akhirnya tidak dapat menggunakannya.\n",
        "\n",
        "Jika saya menaikkan dimensi tersembunyi menjadi $64$, saya mendapatkan lebih banyak nama kata demi kata dari daftar; jika saya menjatuhkannya ke $8$, saya mendapatkan sebagian besar sampah. Kosakata dan bobot akhir untuk semua ukuran model ini tersedia di situs GitHub buku, dan Anda dapat menggunakan load_weights dan load_vocab untuk menggunakannya sendiri.\n",
        "\n",
        "Seperti yang disebutkan sebelumnya, kode GitHub untuk bab ini juga berisi implementasi untuk LSTM, yang bebas Anda tukarkan sebagai pengganti SimpleRnns dalam model nama perusahaan kita."
      ],
      "metadata": {
        "id": "7mhxxbmZj2h3"
      }
    },
    {
      "cell_type": "markdown",
      "source": [
        "##Untuk Eksplorasi Lebih Lanjut"
      ],
      "metadata": {
        "id": "BkiQcVFykeXH"
      }
    },
    {
      "cell_type": "markdown",
      "source": [
        "\n",
        "\n",
        "*   NLTK adalah pustaka alat NLP yang populer untuk Python. Ini memiliki seluruh bukunya sendiri, yang tersedia untuk dibaca online.\n",
        "*   gensim adalah pustaka Python untuk pemodelan topik, yang merupakan taruhan yang lebih baik daripada model awal kita.\n",
        "*   spaCy adalah perpustakaan untuk \"Pemrosesan Bahasa Alami Kekuatan Industri dengan Python\" dan juga cukup populer.\n",
        "*   Andrej Karpathy memiliki posting blog terkenal, \"Efektivitas yang Tidak Masuk Akal dari Jaringan Syaraf Berulang\", yang sangat layak untuk dibaca.\n",
        "*   Pekerjaan harian saya melibatkan membangun AllenNLP, perpustakaan Python untuk melakukan penelitian NLP. (Setidaknya, pada saat buku ini dicetak, memang demikian.) Perpustakaannya cukup di luar cakupan buku ini, tetapi Anda mungkin masih menganggapnya menarik, dan memiliki demo interaktif yang keren dari banyak negara bagian- model NLP tercanggih.\n",
        "\n",
        "\n",
        "\n",
        "\n",
        "\n",
        "\n"
      ],
      "metadata": {
        "id": "jgu02EYbkgEs"
      }
    },
    {
      "cell_type": "markdown",
      "source": [
        "# Bab 21 Analis Jaringan\n",
        "Ananda Ravi Shouma Setyawan \\\\\n",
        "Novia Rahmadini\n",
        "\n",
        "Banyak masalah data yang menarik dapat dipikirkan dengan baik dalam hal jaringan, yang terdiri dari node dari beberapa jenis dan tepi yang bergabung dengan mereka.\n",
        "Misalnya, teman-teman Facebook Anda membentuk simpul-simpul jaringan yang ujung-ujungnya adalah persahabatan hubungan. Contoh yang kurang jelas adalah World Wide Web itu sendiri, dengan setiap halaman web sebuah simpul dan masing-masing hyperlink dari satu halaman ke halaman lain sebuah edge.\n",
        "Persahabatan Facebook itu saling menguntungkan — jika saya Facebook berteman dengan Anda, maka Anda tentu berteman dengan saya. Dalam hal ini, kami mengatakan bahwa ujung-ujungnya tidak terarah. Hyperlink bukan—situs web saya tertaut ke whitehouse.gov, tetapi (untuk alasan yang tidak dapat saya jelaskan) whitehouse.gov menolak menautkan ke situs web saya. Kami menyebut jenis tepi ini diarahkan. Kami akan melihat kedua jenis jaringan.\n"
      ],
      "metadata": {
        "id": "cd4J48MtxFCJ"
      }
    },
    {
      "cell_type": "markdown",
      "source": [
        "## Sentralitas Antara\n",
        "Di Bab 1, kami menghitung konektor kunci di jaringan DataSciencester dengan menghitung jumlahnya teman yang dimiliki setiap pengguna. Sekarang kami memiliki cukup mesin untuk melihat pendekatan lain. Kami akan menggunakan jaringan yang sama, tetapi sekarang kami akan menggunakan NamedTuples untuk datanya.\n",
        "Ingat bahwa jaringan (Gambar 22-1) terdiri dari pengguna:\n"
      ],
      "metadata": {
        "id": "2F4m-a7TxPLS"
      }
    },
    {
      "cell_type": "code",
      "source": [
        "from typing import NamedTuple\n",
        "\n",
        "class User(NamedTuple):\n",
        "    id: int\n",
        "    name: str\n",
        "\n",
        "users = [User(0, \"Hero\"), User(1, \"Dunn\"), User(2, \"Sue\"), User(3, \"Chi\"),\n",
        "          User(4, \"Thor\"), User(5, \"Clive\"), User(6, \"Hicks\"),\n",
        "          User(7, \"Devin\"), User(8, \"Kate\"), User(9, \"Klein\")]"
      ],
      "metadata": {
        "id": "i59GRZGeyBNu"
      },
      "execution_count": null,
      "outputs": []
    },
    {
      "cell_type": "markdown",
      "source": [
        "dan persahabatan:"
      ],
      "metadata": {
        "id": "gi2qRuWQyRR_"
      }
    },
    {
      "cell_type": "code",
      "source": [
        "friend_pairs = [(0, 1), (0, 2), (1, 2), (1, 3), (2, 3), (3, 4),\n",
        "                (4, 5), (5, 6), (5, 7), (6, 8), (7, 8), (8, 9)]"
      ],
      "metadata": {
        "id": "kUBeOw-ZyT7n"
      },
      "execution_count": null,
      "outputs": []
    },
    {
      "cell_type": "markdown",
      "source": [
        "Persahabatan akan lebih mudah untuk dikerjakan sebagai dict:"
      ],
      "metadata": {
        "id": "_0D-TigcyhSp"
      }
    },
    {
      "cell_type": "code",
      "source": [
        "from typing import Dict, List\n",
        "\n",
        "# type alias for keeping track of Friendships\n",
        "Friendships = Dict[int, List[int]]\n",
        "\n",
        "friendships: Friendships = {user.id: [] for user in users}\n",
        "\n",
        "for i, j in friend_pairs:\n",
        "    friendships[i].append(j)\n",
        "    friendships[j].append(i)\n",
        "\n",
        "assert friendships[4] == [3, 5]\n",
        "assert friendships[8] == [6, 7, 9]"
      ],
      "metadata": {
        "id": "BQm9gj3NykLi"
      },
      "execution_count": null,
      "outputs": []
    },
    {
      "cell_type": "markdown",
      "source": [
        "Ketika kami tinggalkan, kami tidak puas dengan gagasan kami tentang sentralitas derajat, yang tidak terlalu setuju\n",
        "dengan intuisi kami tentang siapa penghubung utama jaringan itu.\n",
        "Metrik alternatif adalah sentralitas keantaraan, yang mengidentifikasi orang-orang yang sering berada di\n",
        "jalur terpendek antara pasangan orang lain. Secara khusus, sentralitas keantaraan dari simpul i adalah dihitung dengan menjumlahkan, untuk setiap pasangan node j dan k lainnya, proporsi jalur terpendek di antaranya simpul j dan simpul k yang melewati i.\n",
        "Artinya, untuk mengetahui sentralitas keantaraan Thor, kita perlu menghitung semua jalur terpendek antara semua pasangan orang yang bukan Thor. Dan kemudian kita perlu menghitung berapa banyak dari itu\n",
        "jalur terpendek melewati Thor. Misalnya, satu-satunya jalur terpendek antara Chi (id 3) dan Clive (id 5) melewati Thor, sementara tidak satu pun dari dua jalur terpendek antara Pahlawan (id 0) dan Chi (id\n",
        "3) tidak.\n",
        "Jadi, sebagai langkah pertama, kita perlu memikirkan jalur terpendek antara semua pasangan orang. Ada beberapa algoritme yang cukup canggih untuk melakukannya secara efisien, tetapi (seperti yang hampir selalu terjadi) kami akan menggunakan algoritma yang kurang efisien dan mudah dipahami. Algoritma ini (penerapan pencarian luas-pertama) adalah salah satu yang lebih rumit di buku, jadi mari kita bahas dengan hati-hati:\n",
        "\n",
        "1. Tujuan kami adalah fungsi yang mengambil from_user dan menemukan semua jalur terpendek ke setiap pengguna lainnya.\n",
        "2. Kami akan merepresentasikan jalur sebagai daftar ID pengguna. Karena setiap jalur dimulai dari from_user, kami\n",
        "tidak akan memasukkan ID-nya dalam daftar. Ini berarti bahwa panjang daftar mewakili jalan\n",
        "akan menjadi panjang jalan itu sendiri.\n",
        "3. Kami akan mempertahankan kamus yang disebut shortest_paths_to di mana kuncinya adalah ID pengguna dan\n",
        "nilai adalah daftar jalur yang berakhir pada pengguna dengan ID yang ditentukan. Jika ada yang terpendek unik\n",
        "jalur, daftar hanya akan berisi satu jalur itu. Jika ada beberapa jalur terpendek, daftarnya akan\n",
        "berisi semuanya.\n",
        "4. Kami juga akan mempertahankan antrean yang disebut frontier yang berisi pengguna yang ingin kami jelajahi\n",
        "urutan yang ingin kita jelajahi. Kami akan menyimpannya sebagai pasangan (prev_user, user) sehingga\n",
        "kita tahu bagaimana kita sampai ke masing-masing. Kami menginisialisasi antrian dengan semua tetangga\n",
        "from_user. (Kami belum membahas tentang antrean, yang merupakan struktur data yang dioptimalkan untuk “tambahkan\n",
        "sampai akhir” dan operasi “hapus dari depan”. Dalam Python, mereka diimplementasikan sebagai\n",
        "collections.deque, yang sebenarnya merupakan antrian ujung ganda.)\n",
        "5. Saat kami menjelajahi grafik, setiap kali kami menemukan tetangga baru yang belum kami ketahui\n",
        "jalur terpendek ke, kami menambahkannya ke akhir antrean untuk dijelajahi nanti, dengan pengguna saat ini\n",
        "sebagai prev_user.\n",
        "6. Saat kami mengeluarkan pengguna dari antrean, dan kami belum pernah bertemu pengguna itu sebelumnya, kami melakukannya\n",
        "pasti menemukan satu atau lebih jalur terpendek ke dia—masing-masing jalur terpendek ke prev_user\n",
        "dengan satu langkah ekstra ditambahkan.\n",
        "7. Saat kami mengeluarkan pengguna dari antrean dan kami telah bertemu dengan pengguna itu sebelumnya, maka baik\n",
        "kami telah menemukan jalur terpendek lainnya (dalam hal ini kami harus menambahkannya) atau kami telah menemukan jalur yang lebih panjang\n",
        "path (dalam hal ini kita tidak seharusnya).\n",
        "8. Saat tidak ada lagi pengguna yang tersisa di antrean, kami telah menjelajahi seluruh grafik (atau, paling tidak,\n",
        "bagiannya yang dapat dijangkau dari pengguna awal) dan selesai.\n",
        "\n",
        "Kita bisa menggabungkan semua ini ke dalam fungsi (besar):"
      ],
      "metadata": {
        "id": "vpWKJAPkyyHl"
      }
    },
    {
      "cell_type": "code",
      "source": [
        "from collections import deque\n",
        "\n",
        "Path = List[int]\n",
        "\n",
        "def shortest_paths_from(from_user_id: int,\n",
        "                        friendships: Friendships) -> Dict[int, List[Path]]:\n",
        "    # A dictionary from user_id to *all* shortest paths to that user.\n",
        "    shortest_paths_to: Dict[int, List[Path]] = {from_user_id: [[]]}\n",
        "    # A queue of (previous user, next user) that we need to check.\n",
        "    # Starts out with all pairs (from_user, friend_of_from_user).\n",
        "    frontier = deque((from_user_id, friend_id)\n",
        "                    for friend_id in friendships[from_user_id])\n",
        "\n",
        "# Keep going until we empty the queue.\n",
        "while frontier:\n",
        "    # Remove the pair that's next in the queue.\n",
        "    prev_user_id, user_id = frontier.popleft()\n",
        "\n",
        "    # Because of the way we're adding to the queue,\n",
        "    # necessarily we already know some shortest paths to prev_user.\n",
        "    paths_to_prev_user = shortest_paths_to[prev_user_id]\n",
        "    new_paths_to_user = [path + [user_id] for path in paths_to_prev_user]\n",
        "\n",
        "    # It's possible we already know a shortest path to user_id.\n",
        "    old_paths_to_user = shortest_paths_to.get(user_id, [])\n",
        "\n",
        "    # What's the shortest path to here that we've seen so far?\n",
        "    if old_paths_to_user:\n",
        "      min_path_length = len(old_paths_to_user[0])\n",
        "    else:\n",
        "      min_path_length = float('inf')\n",
        "\n",
        "    # Only keep paths that aren't too long and are actually new.\n",
        "    new_paths_to_user = [path\n",
        "                        for path in new_paths_to_user\n",
        "                        if len(path) <= min_path_length\n",
        "                        and path not in old_paths_to_user]\n",
        "\n",
        "    shortest_paths_to[user_id] = old_paths_to_user + new_paths_to_user\n",
        "\n",
        "    # Add never-seen neighbors to the frontier.\n",
        "    frontier.extend((user_id, friend_id)\n",
        "                    for friend_id in friendships[user_id]\n",
        "                    if friend_id not in shortest_paths_to)\n",
        "\n",
        "    return shortest_paths_to"
      ],
      "metadata": {
        "id": "_D9p5WS2zGor"
      },
      "execution_count": null,
      "outputs": []
    },
    {
      "cell_type": "markdown",
      "source": [
        "Sekarang mari kita hitung semua jalur terpendek:"
      ],
      "metadata": {
        "id": "iD7s9ZXQPzm-"
      }
    },
    {
      "cell_type": "code",
      "source": [
        "# For each from_user, for each to_user, a list of shortest paths.\n",
        "shortest_paths = {user.id: shortest_paths_from(user.id, friendships)\n",
        "                  for user in users}"
      ],
      "metadata": {
        "id": "QJ5UAmfwP3cc"
      },
      "execution_count": null,
      "outputs": []
    },
    {
      "cell_type": "markdown",
      "source": [
        "Dan kami akhirnya siap menghitung sentralitas keantaraan. Untuk setiap pasang node $i$ dan $j$, kita mengetahuinya $n$ lintasan terpendek dari $i$ ke $j$. Kemudian, untuk masing-masing jalur tersebut, kita cukup menambahkan $1/n$ ke sentralitas masing-masing simpul di jalan itu:"
      ],
      "metadata": {
        "id": "Qc6omxrKP8nn"
      }
    },
    {
      "cell_type": "code",
      "source": [
        "betweenness_centrality = {user.id: 0.0 for user in users}\n",
        "\n",
        "for source in users:\n",
        "    for target_id, paths in shortest_paths[source.id].items():\n",
        "        if source.id < target_id: # don't double count\n",
        "            num_paths = len(paths) # how many shortest paths?\n",
        "            contrib = 1 / num_paths # contribution to centrality\n",
        "            for path in paths:\n",
        "\n",
        "              for between_id in path:\n",
        "                  if between_id not in [source.id, target_id]:\n",
        "                      betweenness_centrality[between_id] += contrib"
      ],
      "metadata": {
        "id": "WYpMn5HEQMR1"
      },
      "execution_count": null,
      "outputs": []
    },
    {
      "cell_type": "markdown",
      "source": [
        "Seperti yang ditunjukkan pada Gambar 22-2, pengguna $0$ dan $9$ memiliki sentralitas 0 (karena keduanya tidak berada pada jalur terpendek antara pengguna lain), sedangkan 3, 4, dan 5 semuanya memiliki sentralitas tinggi (karena ketiganya terletak pada banyak jalur terpendek)."
      ],
      "metadata": {
        "id": "QySoTfSMQm-L"
      }
    },
    {
      "cell_type": "markdown",
      "source": [
        "Ukuran lain yang bisa kita lihat adalah sentralitas kedekatan. Pertama, untuk setiap pengguna kami menghitung farnessnya, yang merupakan jumlah panjang jalur terpendeknya ke setiap pengguna lainnya. Karena kita sudah menghitung jalur terpendek di antara setiap pasangan node, mudah untuk menambahkan panjangnya. (Jika ada beberapa jalur terpendek, semuanya memiliki panjang yang sama, jadi kita bisa melihat yang pertama saja.)"
      ],
      "metadata": {
        "id": "lvVZy8-fQvn6"
      }
    },
    {
      "cell_type": "code",
      "source": [
        "def farness(user_id: int) -> float:\n",
        "    \"\"\"the sum of the lengths of the shortest paths to each other user\"\"\"\n",
        "    return sum(len(paths[0])\n",
        "              for paths in shortest_paths[user_id].values())"
      ],
      "metadata": {
        "id": "Ofy3Y1zGQzkg"
      },
      "execution_count": null,
      "outputs": []
    },
    {
      "cell_type": "markdown",
      "source": [
        "setelah itu sangat sedikit pekerjaan untuk menghitung sentralitas kedekatan (Gambar 22-3):"
      ],
      "metadata": {
        "id": "PYZWb1VtQ_TA"
      }
    },
    {
      "cell_type": "code",
      "source": [
        "closeness_centrality = {user.id: 1 / farness(user.id) for user in users}"
      ],
      "metadata": {
        "id": "qCKLkMc9RA-i"
      },
      "execution_count": null,
      "outputs": []
    },
    {
      "cell_type": "markdown",
      "source": [
        "Ada jauh lebih sedikit variasi di sini — bahkan node paling sentral masih cukup jauh dari node keluar di pinggiran. Seperti yang kita lihat, menghitung jalur terpendek agak menyusahkan. Untuk alasan ini, keantaraan dan kedekatan sentralitas tidak sering digunakan pada jaringan besar. Kurang intuitif (tetapi umumnya lebih mudah dihitung)\n",
        "sentralitas vektor eigen lebih sering digunakan."
      ],
      "metadata": {
        "id": "qXJxKZSsRGWE"
      }
    },
    {
      "cell_type": "markdown",
      "source": [
        "## Eigenvector Centrality\n",
        "Untuk berbicara tentang sentralitas vektor eigen, kita harus berbicara tentang vektor eigen, dan untuk membicarakan tentang vektor eigen, kita harus berbicara tentang perkalian matriks."
      ],
      "metadata": {
        "id": "PG-gy9vzxZ25"
      }
    },
    {
      "cell_type": "markdown",
      "source": [
        "### Perkalian Matriks\n",
        "Jika A adalah $n \\times m$ matriks dan B adalah $m \\times k$ matriks (perhatikan bahwa dimensi kedua A sama dengan dimensi pertama dimensi dari B), maka perkalian mereka AB adalah $n \\times k$ matriks yang entri ke-$(i,j)$ nya adalah:\n",
        "\n",
        "yang merupakan produk titik dari baris ke-i A (dianggap sebagai vektor) dengan kolom ke-j dari B (juga dianggap sebagai vektor).\n",
        "Kita dapat mengimplementasikannya menggunakan fungsi make_matrix dari Bab 4"
      ],
      "metadata": {
        "id": "v2m2oPHDRRWa"
      }
    },
    {
      "cell_type": "code",
      "source": [
        "from scratch.linear_algebra import Matrix, make_matrix, shape\n",
        "\n",
        "def matrix_times_matrix(m1: Matrix, m2: Matrix) -> Matrix:\n",
        "    nr1, nc1 = shape(m1)\n",
        "    nr2, nc2 = shape(m2)\n",
        "    assert nc1 == nr2, \"must have (# of columns in m1) == (# of rows in m2)\"\n",
        "\n",
        "def entry_fn(i: int, j: int) -> float:\n",
        "    \"\"\"dot product of i-th row of m1 with j-th column of m2\"\"\"\n",
        "    return sum(m1[i][k] * m2[k][j] for k in range(nc1))\n",
        "\n",
        "return make_matrix(nr1, nc2, entry_fn)"
      ],
      "metadata": {
        "id": "LYl68nWvR7jK"
      },
      "execution_count": null,
      "outputs": []
    },
    {
      "cell_type": "markdown",
      "source": [
        "Jika kita menganggap vektor berdimensi m sebagai matriks $(m, 1)$, kita dapat mengalikannya dengan matriks $(n, m)$ untuk mendapatkan matriks $(n, 1)$, yang kemudian dapat kita anggap sebagai vektor n-dimensi.\n",
        "Ini berarti cara lain untuk berpikir tentang matriks $(n, m)$ adalah sebagai pemetaan linier yang mengubah vektor mdimensi menjadi vektor $n$-dimensi:"
      ],
      "metadata": {
        "id": "vvgEQShsSIYN"
      }
    },
    {
      "cell_type": "code",
      "source": [
        "from scratch.linear_algebra import Vector, dot\n",
        "\n",
        "def matrix_times_vector(m: Matrix, v: Vector) -> Vector:\n",
        "    nr, nc = shape(m)\n",
        "    n = len(v)\n",
        "    assert nc == n, \"must have (# of cols in m) == (# of elements in v)\"\n",
        "\n",
        "    return [dot(row, v) for row in m] # output has length nr"
      ],
      "metadata": {
        "id": "fDtayTKQSXID"
      },
      "execution_count": null,
      "outputs": []
    },
    {
      "cell_type": "markdown",
      "source": [
        "Ketika A adalah matriks bujur sangkar, operasi ini memetakan vektor $n$-dimensi ke $n$-dimensi lainnya vektor. Ada kemungkinan bahwa, untuk beberapa matriks $A$ dan vektor $v$, ketika $A$ beroperasi pada v kita mendapatkan kembali sebuah skalar kelipatan dari $v$—yaitu, hasilnya adalah vektor yang menunjuk ke arah yang sama dengan $v$. Saat ini\n",
        "terjadi (dan ketika, sebagai tambahan, $v$ bukan vektor dari semua nol), kita sebut $v$ vektor eigen dari $A$. Dan kita sebut pengganda sebagai nilai eigen.\n",
        "\n",
        "Salah satu cara yang mungkin untuk menemukan vektor eigen dari $A$ adalah dengan mengambil vektor awal $v$, menerapkan\n",
        "matrix_times_vector, rescaling hasilnya menjadi berkekuatan $1$, dan ulangi hingga proses konvergen:"
      ],
      "metadata": {
        "id": "zacgs4a5SmLQ"
      }
    },
    {
      "cell_type": "code",
      "source": [
        "from typing import Tuple\n",
        "import random\n",
        "from scratch.linear_algebra import magnitude, distance\n",
        "\n",
        "def find_eigenvector(m: Matrix,\n",
        "                      tolerance: float = 0.00001) -> Tuple[Vector, float]:\n",
        "    guess = [random.random() for _ in m]\n",
        "\n",
        "    while True:\n",
        "        result = matrix_times_vector(m, guess) # transform guess\n",
        "        norm = magnitude(result) # compute norm\n",
        "        next_guess = [x / norm for x in result] # rescale\n",
        "\n",
        "        if distance(guess, next_guess) < tolerance:\n",
        "            # convergence so return (eigenvector, eigenvalue)\n",
        "            return next_guess, norm\n",
        "\n",
        "        guess = next_guess"
      ],
      "metadata": {
        "id": "9eyvPHnwS5Rv"
      },
      "execution_count": null,
      "outputs": []
    },
    {
      "cell_type": "markdown",
      "source": [
        "Secara konstruksi, tebakan yang dikembalikan adalah vektor sehingga, ketika Anda menerapkan matrix_times_vector ke itu dan skala ulang untuk memiliki panjang 1, Anda mendapatkan kembali vektor yang sangat dekat dengan dirinya sendiri — yang artinya adalah sebuah vektor eigen.\n",
        "Tidak semua matriks bilangan real memiliki vektor eigen dan nilai eigen. Misalnya, matriks:"
      ],
      "metadata": {
        "id": "ny43g2ZRTUs7"
      }
    },
    {
      "cell_type": "code",
      "source": [
        "rotate = [[ 0, 1],\n",
        "          [-1, 0]]"
      ],
      "metadata": {
        "id": "LHnRitz9TXVi"
      },
      "execution_count": null,
      "outputs": []
    },
    {
      "cell_type": "markdown",
      "source": [
        "memutar vektor $90$ derajat searah jarum jam, yang berarti bahwa satu-satunya vektor yang dipetakan ke kelipatan skalar itu sendiri adalah vektor nol. Jika Anda mencoba find_eigenvector(rotate) itu akan berjalan selamanya. Bahkan matriks yang memiliki vektor eigen terkadang terjebak dalam siklus. Pertimbangkan matriks:"
      ],
      "metadata": {
        "id": "2ggdDzDjTb1Y"
      }
    },
    {
      "cell_type": "code",
      "source": [
        "flip = [[0, 1],\n",
        "        [1, 0]]"
      ],
      "metadata": {
        "id": "QElcF3X0Tkjl"
      },
      "execution_count": null,
      "outputs": []
    },
    {
      "cell_type": "markdown",
      "source": [
        "Matriks ini memetakan sembarang vektor $[x, y]$ ke $[y, x]$. Ini berarti, misalnya, $[1, 1]$ adalah an vektor eigen dengan nilai eigen 1. Namun, jika Anda memulai dengan vektor acak dengan koordinat tidak sama,find_eigenvector hanya akan berulang kali menukar koordinat selamanya. (Perpustakaan bukan dari awal seperti NumPy gunakan metode berbeda yang akan berfungsi dalam kasus ini.) Meskipun demikian, kapan\n",
        "find_eigenvector mengembalikan hasil, hasil itu memang vektor eigen"
      ],
      "metadata": {
        "id": "7UbBdsVcTnJ4"
      }
    },
    {
      "cell_type": "markdown",
      "source": [
        "### Sentralitas\n",
        "Bagaimana ini membantu kami memahami jaringan DataSciencester? Untuk memulai, kita harus mewakili koneksi di jaringan kami sebagai adjacency_matrix, yang $(i,j)$ entrinya adalah $1$ (jika pengguna i dan\n",
        "pengguna j adalah teman) atau $0$ (jika bukan):"
      ],
      "metadata": {
        "id": "hW7MsHDoT2MS"
      }
    },
    {
      "cell_type": "code",
      "source": [
        "def entry_fn(i: int, j: int):\n",
        "    return 1 if (i, j) in friend_pairs or (j, i) in friend_pairs else 0\n",
        "\n",
        "n = len(users)\n",
        "adjacency_matrix = make_matrix(n, n, entry_fn)"
      ],
      "metadata": {
        "id": "LrpLMuroUEUN"
      },
      "execution_count": null,
      "outputs": []
    },
    {
      "cell_type": "markdown",
      "source": [
        "## Grafik Terarah dan PageRank\n",
        "\n",
        "DataSciencester tidak mendapatkan banyak daya tarik, jadi VP of Revenue mempertimbangkan untuk beralih dari a model pertemanan menjadi model endorsement. Ternyata tidak ada yang terlalu peduli dengan data yang mana ilmuwan berteman satu sama lain, tetapi perekrut teknologi sangat peduli dengan data scientist dihormati oleh ilmuwan data lainnya.\n",
        "Dalam model baru ini, kami akan melacak dukungan (sumber, target) yang tidak lagi mewakili a hubungan timbal balik, tetapi sumber itu mendukung target sebagai ilmuwan data yang hebat\n",
        "(Gambar 22-5)."
      ],
      "metadata": {
        "id": "L0A8tQ4BxfEa"
      }
    },
    {
      "cell_type": "markdown",
      "source": [
        "Kita harus memperhitungkan asimetri ini:"
      ],
      "metadata": {
        "id": "zBF5-lKeZZ9u"
      }
    },
    {
      "cell_type": "code",
      "source": [
        "endorsements = [(0, 1), (1, 0), (0, 2), (2, 0), (1, 2),\n",
        "                (2, 1), (1, 3), (2, 3), (3, 4), (5, 4),\n",
        "                (5, 6), (7, 5), (6, 8), (8, 7), (8, 9)]"
      ],
      "metadata": {
        "id": "TObfFVVHZa4p"
      },
      "execution_count": null,
      "outputs": []
    },
    {
      "cell_type": "markdown",
      "source": [
        "setelah itu kita dapat dengan mudah menemukan ilmuwan data yang paling didukung dan menjual informasi tersebut kepada\n",
        "perekrut:"
      ],
      "metadata": {
        "id": "Nf3cxi4lZeVF"
      }
    },
    {
      "cell_type": "code",
      "source": [
        "from collections import Counter\n",
        "\n",
        "endorsement_counts = Counter(target for source, target in endorsements)"
      ],
      "metadata": {
        "id": "ECm7mFWCZhS9"
      },
      "execution_count": null,
      "outputs": []
    },
    {
      "cell_type": "markdown",
      "source": [
        "Namun, \"jumlah dukungan\" adalah metrik yang mudah untuk dimainkan. Yang perlu Anda lakukan hanyalah membuat palsu akun dan minta mereka mendukung Anda. Atau atur dengan teman Anda untuk saling mendukung. (Sebagai pengguna 0, 1, dan 2 sepertinya sudah selesai.)\n",
        "Metrik yang lebih baik akan mempertimbangkan siapa yang mendukung Anda. Endorsement dari orang yang punya banyak dukungan entah bagaimana harus dihitung lebih dari dukungan dari orang-orang dengan sedikit dukungan.\n",
        "Ini adalah inti dari algoritma PageRank, yang digunakan oleh Google untuk menentukan peringkat situs web berdasarkan yang lain situs web menautkannya, situs web lain mana yang menautkannya, dan seterusnya. (Jika ini mengingatkan Anda pada ide di balik sentralitas vektor eigen, itu seharusnya.) Versi yang disederhanakan terlihat seperti ini:\n",
        "1. Ada total 1,0 (atau 100%) PageRank di jaringan.\n",
        "2. Awalnya PageRank ini didistribusikan secara merata di antara node.\n",
        "3. Pada setiap langkah, sebagian besar PageRank setiap node didistribusikan secara merata di antara mereka\n",
        "tautan keluar.\n",
        "4. Pada setiap langkah, sisa PageRank setiap node didistribusikan secara merata di antara semua node"
      ],
      "metadata": {
        "id": "yCe14LD9Zotr"
      }
    },
    {
      "cell_type": "code",
      "source": [
        "import tqdm\n",
        "\n",
        "def page_rank(users: List[User],\n",
        "              endorsements: List[Tuple[int, int]],\n",
        "              damping: float = 0.85,\n",
        "              num_iters: int = 100) -> Dict[int, float]:\n",
        "    # Compute how many people each person endorses\n",
        "    outgoing_counts = Counter(target for source, target in endorsements)\n",
        "\n",
        "    # Initially distribute PageRank evenly\n",
        "    num_users = len(users)\n",
        "    pr = {user.id : 1 / num_users for user in users}\n",
        "\n",
        "    # Small fraction of PageRank that each node gets each iteration\n",
        "    base_pr = (1 - damping) / num_users\n",
        "\n",
        "    for iter in tqdm.trange(num_iters):\n",
        "        next_pr = {user.id : base_pr for user in users} # start with base_pr\n",
        "\n",
        "        for source, target in endorsements:\n",
        "            # Add damped fraction of source pr to target\n",
        "            next_pr[target] += damping * pr[source] / outgoing_counts[source]\n",
        "\n",
        "        pr = next_pr\n",
        "\n",
        "    return pr"
      ],
      "metadata": {
        "id": "gaxZf6WWZxDz"
      },
      "execution_count": null,
      "outputs": []
    },
    {
      "cell_type": "markdown",
      "source": [
        "Jika kami menghitung peringkat halaman:"
      ],
      "metadata": {
        "id": "XoGbZLGwaOgf"
      }
    },
    {
      "cell_type": "code",
      "source": [
        "pr = page_rank(users, endorsements)\n",
        "\n",
        "# Thor (user_id 4) has higher page rank than anyone else\n",
        "assert pr[4] > max(page_rank\n",
        "                  for user_id, page_rank in pr.items()\n",
        "                  if user_id != 4)"
      ],
      "metadata": {
        "id": "BUUbyoTraPPL"
      },
      "execution_count": null,
      "outputs": []
    },
    {
      "cell_type": "markdown",
      "source": [
        "PageRank (Gambar 22-6) mengidentifikasi pengguna 4 (Thor) sebagai ilmuwan data dengan peringkat tertinggi"
      ],
      "metadata": {
        "id": "2r1Llaosaax4"
      }
    },
    {
      "cell_type": "markdown",
      "source": [
        "Meskipun Thor memiliki lebih sedikit dukungan (dua) daripada pengguna 0, 1, dan 2, dukungannya tetap ada peringkat mereka dari dukungan mereka. Selain itu, kedua pendukungnya hanya mendukung dia, yang mana\n",
        "berarti dia tidak harus membagi peringkat mereka dengan orang lain."
      ],
      "metadata": {
        "id": "hrZKl4IpafvU"
      }
    },
    {
      "cell_type": "markdown",
      "source": [
        "# Bab 22 Sistem Rekomendasi\n",
        "\n",
        "Dimas Widhiatmoko \\\\\n",
        "Indraswari Prasetyaningtyas\n",
        "\n",
        "Masalah data umum lainnya adalah menghasilkan semacam rekomendasi. Netflix merekomendasikan film yang mungkin ingin Anda tonton. Amazon merekomendasikan produk yang mungkin ingin Anda beli. Twitter merekomendasikan pengguna yang mungkin ingin Anda ikuti. Dalam bab ini, kita akan melihat beberapa cara untuk menggunakan data untuk membuat rekomendasi.\n",
        "\n"
      ],
      "metadata": {
        "id": "iJEdzPyEhTSP"
      }
    },
    {
      "cell_type": "markdown",
      "source": [
        "Secara khusus, kita akan melihat dataset users_interests yang telah kita gunakan sebelumnya:"
      ],
      "metadata": {
        "id": "MR5kBmxBmeE4"
      }
    },
    {
      "cell_type": "code",
      "source": [
        "users_interests = [\n",
        "[\"Hadoop\", \"Big Data\", \"HBase\", \"Java\", \"Spark\", \"Storm\", \"Cassandra\"], [\"NoSQL\", \"MongoDB\", \"Cassandra\", \"HBase\", \"Postgres\"],\n",
        "[\"Python\", \"scikit-learn\", \"scipy\", \"numpy\", \"statsmodels\", \"pandas\"],\n",
        "[\"R\", \"Python\", \"statistics\", \"regression\", \"probability\"],\n",
        "[\"machine learning\", \"regression\", \"decision trees\", \"libsvm\"],\n",
        "[\"Python\", \"R\", \"Java\", \"C++\", \"Haskell\", \"programming languages\"], [\"statistics\", \"probability\", \"mathematics\", \"theory\"],\n",
        "[\"machine learning\", \"scikit-learn\", \"Mahout\", \"neural networks\"],\n",
        "[\"neural networks\", \"deep learning\", \"Big Data\", \"artificial intelligence\"], [\"Hadoop\", \"Java\", \"MapReduce\", \"Big Data\"],\n",
        "[\"statistics\", \"R\", \"statsmodels\"],\n",
        "[\"C++\", \"deep learning\", \"artificial intelligence\", \"probability\"], [\"pandas\", \"R\", \"Python\"],\n",
        "[\"databases\", \"HBase\", \"Postgres\", \"MySQL\", \"MongoDB\"],\n",
        "[\"libsvm\", \"regression\", \"support vector machines\"]\n",
        "]\n"
      ],
      "metadata": {
        "id": "hXgI1SLBlNdx"
      },
      "execution_count": null,
      "outputs": []
    },
    {
      "cell_type": "markdown",
      "source": [
        "Dan kami akan memikirkan masalah merekomendasikan minat baru kepada pengguna berdasarkan minatnya yang ditentukan saat ini."
      ],
      "metadata": {
        "id": "iq0_DRwVlhjB"
      }
    },
    {
      "cell_type": "markdown",
      "source": [
        "## Kurasi Manual\n",
        "\n",
        "Sebelum internet, ketika Anda membutuhkan rekomendasi buku, Anda akan pergi ke perpustakaan, di mana pustakawan tersedia untuk menyarankan buku-buku yang relevan dengan minat Anda atau mirip dengan buku yang Anda sukai.\n",
        "\n",
        "Mengingat jumlah pengguna dan minat DataSciencester yang terbatas, akan mudah bagi Anda untuk menghabiskan sore hari secara manual merekomendasikan minat untuk setiap pengguna. Tetapi metode ini tidak berskala sangat baik, dan itu dibatasi oleh pengetahuan dan imajinasi pribadi Anda. (Bukan berarti saya menyarankan bahwa pengetahuan dan imajinasi pribadi Anda terbatas.) Jadi mari kita pikirkan apa yang bisa kita lakukan dengan data."
      ],
      "metadata": {
        "id": "ZRiTlGEUltoC"
      }
    },
    {
      "cell_type": "markdown",
      "source": [
        "## Merekomendasikan Apa yang Populer\n",
        "\n",
        "One easy approach is to simply recommend what’s popular:"
      ],
      "metadata": {
        "id": "16B2QrfpqlPf"
      }
    },
    {
      "cell_type": "code",
      "source": [
        "from collections import Counter\n",
        "\n",
        "popular_interests = Counter(interest\n",
        "                            for user_interests in users_interests\n",
        "                            for interest in user_interests)"
      ],
      "metadata": {
        "id": "cucVI6lzqwau"
      },
      "execution_count": null,
      "outputs": []
    },
    {
      "cell_type": "markdown",
      "source": [
        "yang terlihat seperti:"
      ],
      "metadata": {
        "id": "pX4h62qg6z8Y"
      }
    },
    {
      "cell_type": "code",
      "source": [
        "[('Python', 4),\n",
        " ('R', 4),\n",
        " ('Java', 3),\n",
        " ('regression', 3),\n",
        " ('statistics', 3),\n",
        " ('probability', 3),\n",
        " # ...\n",
        "]"
      ],
      "metadata": {
        "id": "JJLFs-bM67Cl"
      },
      "execution_count": null,
      "outputs": []
    },
    {
      "cell_type": "markdown",
      "source": [
        "Setelah menghitung ini, kami hanya dapat menyarankan kepada pengguna minat paling populer yang belum dia minati:\n"
      ],
      "metadata": {
        "id": "4X8I6G2i7Txh"
      }
    },
    {
      "cell_type": "code",
      "source": [
        "from typing import List, Tuple\n",
        "\n",
        "def most_popular_new_interests(\n",
        "     user_interests: List[str],\n",
        "     max_results: int = 5) -> List[Tuple[str, int]]:\n",
        "   suggestions = [(interest, frequency)\n",
        "                  for interest, frequency in popular_interests.most_common()\n",
        "                  if interest not in user_interests]\n",
        "   return suggestions[:max_results]\n"
      ],
      "metadata": {
        "id": "PRTDrcaq72LG"
      },
      "execution_count": null,
      "outputs": []
    },
    {
      "cell_type": "markdown",
      "source": [
        "Jadi, jika Anda pengguna 1, dengan minat:"
      ],
      "metadata": {
        "id": "eZfGmxR58Tnf"
      }
    },
    {
      "cell_type": "code",
      "source": [
        "[\"NoSQL\", \"MongoDB\", \"Cassandra\", \"HBase\", \"Postgres\"]"
      ],
      "metadata": {
        "id": "_AgMrkFs8qpn"
      },
      "execution_count": null,
      "outputs": []
    },
    {
      "cell_type": "markdown",
      "source": [
        "Maka kami akan merekomendasikan Anda:\n"
      ],
      "metadata": {
        "id": "I4LDEFt48xLg"
      }
    },
    {
      "cell_type": "code",
      "source": [
        "[('Python', 4), ('R', 4), ('Java', 3), ('regression', 3), ('statistics', 3)]"
      ],
      "metadata": {
        "id": "qiWb0fVN84Nz"
      },
      "execution_count": null,
      "outputs": []
    },
    {
      "cell_type": "markdown",
      "source": [
        "Jika Anda adalah pengguna 3, yang sudah tertarik dengan banyak hal itu, Anda malah akan mendapatkan:\n"
      ],
      "metadata": {
        "id": "m5Atv0kM89iS"
      }
    },
    {
      "cell_type": "code",
      "source": [
        "[('Java', 3), ('HBase', 3), ('Big Data', 3),\n",
        " ('neural networks', 2), ('Hadoop', 2)]\n"
      ],
      "metadata": {
        "id": "KH9xzFvG9FlQ"
      },
      "execution_count": null,
      "outputs": []
    },
    {
      "cell_type": "markdown",
      "source": [
        "Tentu saja, \"banyak orang tertarik dengan Python, jadi mungkin Anda juga harus tertarik\" bukanlah promosi penjualan yang paling menarik. Jika seseorang baru mengenal situs kami dan kami tidak tahu apa-apa tentang mereka,\n",
        "Itu mungkin yang terbaik yang bisa kita lakukan. Mari kita lihat bagaimana kita bisa berbuat lebih baik dengan mendasarkan rekomendasi setiap pengguna pada minat yang ada."
      ],
      "metadata": {
        "id": "0rCWtJ5C9LNe"
      }
    },
    {
      "cell_type": "markdown",
      "source": [
        "## Pemfilteran kolaboratif berbasis pengguna\n",
        "\n",
        "Salah satu cara untuk mempertimbangkan minat pengguna adalah dengan mencari pengguna yang entah bagaimana mirip dengannya, dan kemudian menyarankan hal-hal yang diminati pengguna tersebut.\n",
        "\n",
        "Untuk melakukan itu, kita memerlukan cara untuk mengukur seberapa mirip dua pengguna. Di sini kita akan menggunakan kesamaan kosinus, yang kita gunakan dalam Bab 21 untuk mengukur seberapa mirip dua vektor kata.\n",
        "\n",
        "Kami akan menerapkan ini ke vektor 0s dan 1s, masing-masing vektor v mewakili minat satu pengguna. v[i] akan menjadi 1 jika pengguna menentukan bunga ITH, dan 0 sebaliknya. Dengan demikian, \"pengguna serupa\" akan berarti \"pengguna yang vektor minatnya hampir mengarah ke arah yang sama.\" Pengguna dengan minat yang sama akan memiliki kesamaan 1. Pengguna tanpa minat yang sama akan memiliki kesamaan 0. Jika tidak, kesamaan akan jatuh di antaranya, dengan angka yang lebih dekat ke 1 menunjukkan \"sangat mirip\" dan angka yang lebih dekat ke 0 menunjukkan \"tidak terlalu mirip.\"\n",
        "\n",
        "Tempat yang baik untuk memulai adalah mengumpulkan minat yang diketahui dan (secara implisit) menetapkan indeks kepada mereka. Kita dapat melakukan ini dengan menggunakan pemahaman yang ditetapkan untuk menemukan minat unik, dan kemudian menyortirnya ke dalam daftar. Minat pertama dalam daftar yang dihasilkan adalah minat 0, dan seterusnya:"
      ],
      "metadata": {
        "id": "ifKIoduL9XZo"
      }
    },
    {
      "cell_type": "code",
      "source": [
        "unique_interests = sorted({interest\n",
        "                          for user_interests in users_interests\n",
        "                          for interest in user_interests})"
      ],
      "metadata": {
        "id": "AiDGGgov-31h"
      },
      "execution_count": null,
      "outputs": []
    },
    {
      "cell_type": "markdown",
      "source": [
        "Ini memberi kita daftar yang dimulai:\n"
      ],
      "metadata": {
        "id": "B-xwgnxQ_Bj4"
      }
    },
    {
      "cell_type": "code",
      "source": [
        "assert unique_interests[:6] == [\n",
        "     'Big Data',\n",
        "     'C++',\n",
        "     'Cassandra',\n",
        "     'HBase',\n",
        "     'Hadoop',\n",
        "     'Haskell',\n",
        "     # ...\n",
        "]\n"
      ],
      "metadata": {
        "id": "opHuFyTO_Ilc"
      },
      "execution_count": null,
      "outputs": []
    },
    {
      "cell_type": "markdown",
      "source": [
        "Selanjutnya kita ingin menghasilkan vektor \"minat\" 0s dan 1s untuk setiap pengguna. Kita hanya perlu mengulangi daftar unique_interests, mengganti 1 jika pengguna memiliki minat masing-masing, dan 0 jika tidak:\n"
      ],
      "metadata": {
        "id": "-s2KCYpp_dAF"
      }
    },
    {
      "cell_type": "code",
      "source": [
        "def make_user_interest_vector(user_interests: List[str]) -> List[int]:\n",
        "   \"\"\"\n",
        "   Given a list of interests, produce a vector whose ith element is 1\n",
        "   if unique_interests[i] is in the list, 0 otherwise\n",
        "   \"\"\"\n",
        "   return [1 if interest in user_interests else 0\n",
        "           for interest in unique_interests]"
      ],
      "metadata": {
        "id": "DvyoFztU_k0k"
      },
      "execution_count": null,
      "outputs": []
    },
    {
      "cell_type": "markdown",
      "source": [
        "Dan sekarang kita dapat membuat daftar vektor minat pengguna:"
      ],
      "metadata": {
        "id": "PX169Kmp_5VE"
      }
    },
    {
      "cell_type": "code",
      "source": [
        "user_interest_vectors = [make_user_interest_vector(user_interests)\n",
        "                         for user_interests in users_interests]\n"
      ],
      "metadata": {
        "id": "0zcjeS2LACbf"
      },
      "execution_count": null,
      "outputs": []
    },
    {
      "cell_type": "markdown",
      "source": [
        "Now user_interest_vectors[i][j] equals 1 if user i specified interest j, and 0 otherwise."
      ],
      "metadata": {
        "id": "UKpOJcoZAVFk"
      }
    },
    {
      "cell_type": "markdown",
      "source": [
        "Karena kita memiliki dataset kecil, tidak masalah untuk menghitung kesamaan berpasangan antara semua\n",
        "Pengguna kami:\n"
      ],
      "metadata": {
        "id": "rA_89z58AWew"
      }
    },
    {
      "cell_type": "code",
      "source": [
        "from scratch.nlp import cosine_similarity\n",
        "\n",
        "user_similarities = [[cosine_similarity(interest_vector_i, interest_vector_j)\n",
        "                      for interest_vector_j in user_interest_vectors]\n",
        "                      for interest_vector_i in user_interest_vectors]"
      ],
      "metadata": {
        "id": "gJd423nCAeBq"
      },
      "execution_count": null,
      "outputs": []
    },
    {
      "cell_type": "markdown",
      "source": [
        "after which user_similarities[i][j] gives us the similarity between users i and j:\n"
      ],
      "metadata": {
        "id": "DFrrDmVGAs3P"
      }
    },
    {
      "cell_type": "code",
      "source": [
        "# Users 0 and 9 share interests in Hadoop, Java, and Big Data\n",
        "assert 0.56 < user_similarities[0][9] < 0.58, \"several shared interests\"\n",
        "\n",
        "# Users 0 and 8 share only one interest: Big Data\n",
        "assert 0.18 < user_similarities[0][8] < 0.20, \"only one shared interest\"\n"
      ],
      "metadata": {
        "id": "dEWuXy4OAyo5"
      },
      "execution_count": null,
      "outputs": []
    },
    {
      "cell_type": "markdown",
      "source": [
        "Secara khusus, user_similarities[i] adalah vektor kesamaan pengguna i dengan setiap pengguna lain. Kita dapat menggunakan ini untuk menulis fungsi yang menemukan pengguna yang paling mirip dengan pengguna tertentu. Kami akan memastikan untuk tidak menyertakan pengguna itu sendiri, atau pengguna mana pun yang tidak memiliki kesamaan. Dan kami akan mengurutkan hasil dari yang paling mirip hingga yang paling tidak mirip:"
      ],
      "metadata": {
        "id": "2Czwhw1rBBay"
      }
    },
    {
      "cell_type": "code",
      "source": [
        "def most_similar_users_to(user_id: int) -> List[Tuple[int, float]]:\n",
        "    pairs = [(other_user_id, similarity)                      # Find other\n",
        "            for other_user_id, similarity in                  # users with\n",
        "                enumerate(user_similarities[user_id])         # nonzero\n",
        "            if user_id != other_user_id and similarity > 0]   # similarity.\n",
        "\n",
        "return sorted(pairs,                                          # Sort them\n",
        "              key=lambda pair: pair[-1],                      # most similar\n",
        "              reverse=True)                                   # first."
      ],
      "metadata": {
        "id": "-IIbK3_vBF7w"
      },
      "execution_count": null,
      "outputs": []
    },
    {
      "cell_type": "markdown",
      "source": [
        "Misalnya, jika kita memanggil most_similar_users_to(0) kita mendapatkan:\n"
      ],
      "metadata": {
        "id": "5uxPtokF2U-i"
      }
    },
    {
      "cell_type": "code",
      "source": [
        "[(9, 0.5669467095138409),\n",
        " (1, 0.3380617018914066),\n",
        " (8, 0.1889822365046136),\n",
        " (13, 0.1690308509457033),\n",
        " (5, 0.1543033499620919)]"
      ],
      "metadata": {
        "id": "wrpEAwXX2V5r"
      },
      "execution_count": null,
      "outputs": []
    },
    {
      "cell_type": "markdown",
      "source": [
        "Bagaimana kami menggunakan ini untuk menyarankan minat baru kepada pengguna? Untuk setiap minat, kita bisa menambahkan kesamaan pengguna dari pengguna lain yang tertarik:"
      ],
      "metadata": {
        "id": "UktqdD5j2f8D"
      }
    },
    {
      "cell_type": "code",
      "source": [
        "from collections import defaultdict\n",
        "\n",
        "def user_based_suggestions(user_id: int,\n",
        "                           include_current_interests: bool = False):\n",
        "    # Sum up the similarities\n",
        "    suggestions: Dict[str, float] = defaultdict(float)\n",
        "    for other_user_id, similarity in most_similar_users_to(user_id):\n",
        "        for interest in users_interests[other_user_id]:\n",
        "            suggestions[interest] += similarity\n",
        "\n",
        "    # Convert them to a sorted list\n",
        "    suggestions = sorted(suggestions.items(),\n",
        "                        key=lambda pair: pair[-1], # weight\n",
        "                        reverse=True)\n",
        "\n",
        "    # And (maybe) exclude already interests\n",
        "    if include_current_interests:\n",
        "       return suggestions\n",
        "    else:\n",
        "       return [(suggestion, weight)\n",
        "                for suggestion, weight in suggestions\n",
        "                if suggestion not in users_interests[user_id]]\n"
      ],
      "metadata": {
        "id": "pvCxkVGt2pW4"
      },
      "execution_count": null,
      "outputs": []
    },
    {
      "cell_type": "markdown",
      "source": [
        "Jika kita menyebut user_based_suggestions(0), beberapa minat pertama yang disarankan adalah:\n"
      ],
      "metadata": {
        "id": "q09Fi9LY3fKC"
      }
    },
    {
      "cell_type": "code",
      "source": [
        "[('MapReduce', 0.5669467095138409),\n",
        " ('MongoDB', 0.50709255283711),\n",
        " ('Postgres', 0.50709255283711),\n",
        " ('NoSQL', 0.3380617018914066),\n",
        " ('neural networks', 0.1889822365046136),\n",
        " ('deep learning', 0.1889822365046136),\n",
        " ('artificial intelligence', 0.1889822365046136),\n",
        " #...\n",
        "]\n"
      ],
      "metadata": {
        "id": "ehTlXZBP3gkC"
      },
      "execution_count": null,
      "outputs": []
    },
    {
      "cell_type": "markdown",
      "source": [
        "Ini tampak seperti saran yang cukup bagus untuk seseorang yang minatnya adalah \"Big Data\" dan terkait database. (Bobot tidak secara intrinsik bermakna; kami hanya menggunakannya untuk memesan.)\n",
        "\n",
        "Pendekatan ini tidak bekerja dengan baik ketika jumlah item menjadi sangat besar. Ingat kutukan dimensi dari Bab 12 — dalam ruang vektor dimensi besar sebagian besar vektor sangat berjauhan (dan juga menunjuk ke arah yang sangat berbeda). Artinya, ketika ada sejumlah besar minat, \"pengguna yang paling mirip\" dengan pengguna tertentu mungkin tidak sama sekali.\n",
        "\n",
        "Bayangkan sebuah situs seperti Amazon.com, dari mana saya telah membeli ribuan item selama beberapa dekade terakhir. Anda dapat mencoba mengidentifikasi pengguna yang mirip dengan saya berdasarkan pola pembelian, tetapi kemungkinan besar di seluruh dunia tidak ada orang yang riwayat pembeliannya terlihat seperti milik saya. Siapa pun pembelanja \"paling mirip\" saya, dia mungkin tidak mirip dengan saya sama sekali, dan pembeliannya hampir pasti akan menjadi rekomendasi yang buruk."
      ],
      "metadata": {
        "id": "EjfJNlXi3rjd"
      }
    },
    {
      "cell_type": "markdown",
      "source": [
        "## Pemfilteran kolaboratif berbasis item\n",
        "\n",
        "Pendekatan alternatif adalah menghitung kesamaan antara kepentingan secara langsung. Kami kemudian dapat menghasilkan saran untuk setiap pengguna dengan menggabungkan minat yang serupa dengan minatnya saat ini.\n",
        "\n",
        "Untuk memulainya, kita ingin mengubah urutan matriks minat pengguna kita sehingga baris sesuai dengan minat dan kolom sesuai dengan pengguna:"
      ],
      "metadata": {
        "id": "R2FJPJVM3-5I"
      }
    },
    {
      "cell_type": "code",
      "source": [
        "interest_user_matrix = [[user_interest_vector[j]\n",
        "                         for user_interest_vector in user_interest_vectors]\n",
        "                        for j, _ in enumerate(unique_interests)]"
      ],
      "metadata": {
        "id": "17kmsanm4cIS"
      },
      "execution_count": null,
      "outputs": []
    },
    {
      "cell_type": "markdown",
      "source": [
        "Seperti apa bentuknya? Baris j dari interest_user_matrix adalah kolom j dari\n",
        "\n",
        "user_interest_matrix. Artinya, ia memiliki 1 untuk setiap pengguna dengan minat itu dan 0 untuk setiap pengguna tanpa minat itu."
      ],
      "metadata": {
        "id": "iyVoYJR-4kmY"
      }
    },
    {
      "cell_type": "markdown",
      "source": [
        "Misalnya, unique_interests[0] adalah Big Data, dan interest_user_matrix[0] adalah:"
      ],
      "metadata": {
        "id": "SVdKfJKL4x2X"
      }
    },
    {
      "cell_type": "code",
      "source": [
        "[1, 0, 0, 0, 0, 0, 0, 0, 1, 1, 0, 0, 0, 0, 0]"
      ],
      "metadata": {
        "id": "4iB9-WBq42ny"
      },
      "execution_count": null,
      "outputs": []
    },
    {
      "cell_type": "markdown",
      "source": [
        "karena pengguna 0, 8, dan 9 menunjukkan minat pada Big Data."
      ],
      "metadata": {
        "id": "IM8FgnG246Pd"
      }
    },
    {
      "cell_type": "markdown",
      "source": [
        "Kita sekarang dapat menggunakan kesamaan kosinus lagi. Jika pengguna yang sama persis tertarik pada dua topik, kesamaan mereka adalah 1. Jika tidak ada dua pengguna yang tertarik pada kedua topik, kesamaan mereka akan menjadi 0:"
      ],
      "metadata": {
        "id": "wHI68XQ84-ws"
      }
    },
    {
      "cell_type": "code",
      "source": [
        "interest_similarities = [[cosine_similarity(user_vector_i, user_vector_j)\n",
        "                          for user_vector_j in interest_user_matrix]\n",
        "                        for user_vector_i in interest_user_matrix]"
      ],
      "metadata": {
        "id": "L0BvSosf5E5r"
      },
      "execution_count": null,
      "outputs": []
    },
    {
      "cell_type": "markdown",
      "source": [
        "Misalnya, kita dapat menemukan minat yang paling mirip dengan Big Data (minat 0) menggunakan:"
      ],
      "metadata": {
        "id": "43RenYR45RXl"
      }
    },
    {
      "cell_type": "code",
      "source": [
        "def most_similar_interests_to(interest_id: int):\n",
        "    similarities = interest_similarities[interest_id]\n",
        "    pairs = [(unique_interests[other_interest_id], similarity)\n",
        "             for other_interest_id, similarity in enumerate(similarities)\n",
        "             if interest_id != other_interest_id and similarity > 0]\n",
        "    return sorted(pairs,\n",
        "                  key=lambda pair: pair[-1], reverse=True)\n"
      ],
      "metadata": {
        "id": "z5z5P7kz5WOW"
      },
      "execution_count": null,
      "outputs": []
    },
    {
      "cell_type": "markdown",
      "source": [
        "yang menunjukkan minat serupa berikut:"
      ],
      "metadata": {
        "id": "0r6JOVqT5m8k"
      }
    },
    {
      "cell_type": "code",
      "source": [
        "[('Hadoop', 0.8164965809277261),\n",
        " ('Java', 0.6666666666666666),\n",
        " ('MapReduce', 0.5773502691896258),\n",
        " ('Spark', 0.5773502691896258),\n",
        " ('Storm', 0.5773502691896258),\n",
        " ('Cassandra', 0.4082482904638631),\n",
        " ('artificial intelligence', 0.4082482904638631),\n",
        " ('deep learning', 0.4082482904638631),\n",
        " ('neural networks', 0.4082482904638631),\n",
        " ('HBase', 0.3333333333333333)]"
      ],
      "metadata": {
        "id": "jArS6ReZ5rmu"
      },
      "execution_count": null,
      "outputs": []
    },
    {
      "cell_type": "markdown",
      "source": [
        "Sekarang kita dapat membuat rekomendasi untuk pengguna dengan menyimpulkan kesamaan minat yang serupa dengannya:"
      ],
      "metadata": {
        "id": "YrwN3w7d53BY"
      }
    },
    {
      "cell_type": "code",
      "source": [
        "def item_based_suggestions(user_id: int,\n",
        "                           include_current_interests: bool = False):\n",
        "    # Add up the similar interests\n",
        "    suggestions = defaultdict(float)\n",
        "    user_interest_vector = user_interest_vectors[user_id]\n",
        "    for interest_id, is_interested in enumerate(user_interest_vector):\n",
        "        if is_interested == 1:\n",
        "           similar_interests = most_similar_interests_to(interest_id)\n",
        "           for interest, similarity in similar_interests:\n",
        "               suggestions[interest] += similarity\n",
        "    # Sort them by weight\n",
        "    suggestions = sorted(suggestions.items(),\n",
        "                         key=lambda pair: pair[-1],\n",
        "                         reverse=True)\n",
        "    if include_current_interests:\n",
        "       return suggestions\n",
        "    else:\n",
        "       return [(suggestion, weight)\n",
        "                for suggestion, weight in suggestions\n",
        "                if suggestion not in users_interests[user_id]]\n"
      ],
      "metadata": {
        "id": "CT7NmrBx58Do"
      },
      "execution_count": null,
      "outputs": []
    },
    {
      "cell_type": "markdown",
      "source": [
        "Untuk pengguna 0, ini menghasilkan rekomendasi berikut (tampaknya masuk akal):\n"
      ],
      "metadata": {
        "id": "T9sZRuR86hSq"
      }
    },
    {
      "cell_type": "code",
      "source": [
        "[('MapReduce', 1.861807319565799),\n",
        " ('Postgres', 1.3164965809277263),\n",
        " ('MongoDB', 1.3164965809277263),\n",
        " ('NoSQL', 1.2844570503761732),\n",
        " ('programming languages', 0.5773502691896258),\n",
        " ('MySQL', 0.5773502691896258),\n",
        " ('Haskell', 0.5773502691896258),\n",
        " ('databases', 0.5773502691896258),\n",
        " ('neural networks', 0.4082482904638631),\n",
        " ('deep learning', 0.4082482904638631),\n",
        " ('C++', 0.4082482904638631),\n",
        " ('artificial intelligence', 0.4082482904638631),\n",
        " ('Python', 0.2886751345948129),\n",
        " ('R', 0.2886751345948129)]\n"
      ],
      "metadata": {
        "id": "fCAKWvZn6m8v"
      },
      "execution_count": null,
      "outputs": []
    },
    {
      "cell_type": "markdown",
      "source": [
        "## Faktorisasi matriks\n",
        "\n",
        "Seperti yang telah kita lihat, kita dapat mewakili preferensi pengguna kita sebagai matriks [num_users, num_items] dari 0s dan 1s, di mana 1s mewakili item yang disukai dan 0s item yang tidak disukai.\n",
        "\n",
        "Terkadang Anda mungkin benar-benar memiliki peringkat numerik; misalnya, ketika Anda menulis ulasan Amazon, Anda menetapkan item skor mulai dari 1 hingga 5 bintang. Anda masih bisa mewakili ini dengan angka dalam\n",
        "[num_users, num_items] matriks (mengabaikan untuk saat ini masalah apa yang harus dilakukan tentang item yang tidak dinilai).\n",
        "\n",
        "Di bagian ini, kami akan menganggap kami memiliki data peringkat tersebut dan mencoba mempelajari model yang dapat memprediksi peringkat untuk pengguna dan item tertentu.\n",
        "\n",
        "Salah satu cara untuk mendekati masalah adalah dengan mengasumsikan bahwa setiap pengguna memiliki beberapa \"tipe\" laten, yang dapat direpresentasikan sebagai vektor angka, dan bahwa setiap item juga memiliki beberapa \"tipe\" laten.\n",
        "\n",
        "Jika tipe pengguna direpresentasikan sebagai matriks [num_users, redup], dan transpose tipe item\n",
        "direpresentasikan sebagai matriks [redup, num_items], produk mereka adalah matriks [num_users, num_items]. Dengan demikian, salah satu cara untuk membangun model semacam itu adalah dengan \"memfaktorkan\" matriks preferensi ke dalam produk matriks pengguna dan matriks item.\n",
        "\n",
        "(Mungkin gagasan tentang tipe laten ini mengingatkan Anda pada kata embeddings yang kami kembangkan di Bab 21. Berpeganglah pada gagasan itu.)\n",
        "\n",
        "Daripada bekerja dengan dataset 10-pengguna kami yang dibuat-buat, kami akan bekerja dengan dataset MovieLens 100k, yang berisi peringkat dari 0 hingga 5 untuk banyak film dari banyak pengguna. Setiap pengguna hanya menilai sebagian kecil film. Kami akan menggunakan ini untuk mencoba membangun sistem yang dapat memprediksi peringkat untuk pasangan (pengguna, film) tertentu. Kami akan melatihnya untuk memprediksi dengan baik film yang dinilai setiap pengguna; Mudah-mudahan kemudian akan menggeneralisasi ke film yang belum dinilai pengguna.\n",
        "\n",
        "Untuk memulainya, mari kita dapatkan himpunan data. Anda dapat mengunduhnya dari\n",
        "\n",
        "http://files.grouplens.org/datasets/movielens/ml-100k.zip."
      ],
      "metadata": {
        "id": "hLWyTLX86zrU"
      }
    },
    {
      "cell_type": "markdown",
      "source": [
        "Buka zip dan ekstrak file; Kami hanya akan menggunakan dua di antaranya:"
      ],
      "metadata": {
        "id": "wKn8IosW8K8i"
      }
    },
    {
      "cell_type": "code",
      "source": [
        "# This points to the current directory, modify if your files are elsewhere.\n",
        "MOVIES = \"u.item\" # pipe-delimited: movie_id|title|...\n",
        "RATINGS = \"u.data\" # tab-delimited: user_id, movie_id, rating, timestamp\n"
      ],
      "metadata": {
        "id": "ymBm-iaW8QRc"
      },
      "execution_count": null,
      "outputs": []
    },
    {
      "cell_type": "markdown",
      "source": [
        "Seperti yang sering terjadi, kami akan memperkenalkan NamedTuple untuk mempermudah pengerjaan:"
      ],
      "metadata": {
        "id": "M4AfZHtU8bQG"
      }
    },
    {
      "cell_type": "code",
      "source": [
        "from typing import NamedTuple\n",
        "\n",
        "class Rating(NamedTuple):\n",
        "   user_id: str\n",
        "   movie_id: str\n",
        "   rating: float"
      ],
      "metadata": {
        "id": "fCwBNnYZ8b5c"
      },
      "execution_count": null,
      "outputs": []
    },
    {
      "cell_type": "markdown",
      "source": [
        "CATATAN\n",
        "\n",
        "ID film dan ID pengguna sebenarnya adalah bilangan bulat, tetapi tidak berurutan, yang berarti jika kita bekerja dengannya sebagai bilangan bulat, kita akan berakhir dengan banyak dimensi yang terbuang (kecuali jika kita menomori ulang semuanya). Jadi agar lebih sederhana, kami hanya akan memperlakukannya sebagai string."
      ],
      "metadata": {
        "id": "stkg6KZUxPGY"
      }
    },
    {
      "cell_type": "markdown",
      "source": [
        "Sekarang mari kita baca data dan jelajahi. File film dibatasi pipa dan memiliki banyak kolom. Kami hanya peduli dengan dua yang pertama, yaitu ID dan judul:"
      ],
      "metadata": {
        "id": "dNO2p6c9xb0e"
      }
    },
    {
      "cell_type": "code",
      "source": [
        "import csv\n",
        "# We specify this encoding to avoid a UnicodeDecodeError.\n",
        "# See: https://stackoverflow.com/a/53136168/1076346.\n",
        "with open(MOVIES, encoding=\"iso-8859-1\") as f:\n",
        "     reader = csv.reader(f, delimiter=\"|\")\n",
        "     movies = {movie_id: title for movie_id, title, *_ in reader}\n"
      ],
      "metadata": {
        "id": "2PQJ8My2xhn5"
      },
      "execution_count": null,
      "outputs": []
    },
    {
      "cell_type": "markdown",
      "source": [
        "File peringkat dibatasi tab dan berisi empat kolom untuk user_id, movie_id, peringkat (1 hingga 5), dan stempel waktu. Kami akan mengabaikan stempel waktu, karena kami tidak membutuhkannya:"
      ],
      "metadata": {
        "id": "DBb7mc5hxtFh"
      }
    },
    {
      "cell_type": "code",
      "source": [
        "# Create a list of [Rating]\n",
        "with open(RATINGS, encoding=\"iso-8859-1\") as f:\n",
        "     reader = csv.reader(f, delimiter=\"\\t\")\n",
        "     ratings = [Rating(user_id, movie_id, float(rating))\n",
        "                for user_id, movie_id, rating, _ in reader]\n",
        "\n",
        "# 1682 movies rated by 943 users\n",
        "assert len(movies) == 1682\n",
        "assert len(list({rating.user_id for rating in ratings})) == 943"
      ],
      "metadata": {
        "id": "UzXqKqEhxyqS"
      },
      "execution_count": null,
      "outputs": []
    },
    {
      "cell_type": "markdown",
      "source": [
        "Ada banyak analisis eksplorasi menarik yang dapat Anda lakukan pada data ini; misalnya, Anda mungkin tertarik dengan peringkat rata-rata untuk film Star Wars (dataset berasal dari tahun 1998, yang berarti mendahului The Phantom Menace setahun):\n"
      ],
      "metadata": {
        "id": "iINf3k5ex9Ls"
      }
    },
    {
      "cell_type": "code",
      "source": [
        "import re\n",
        "\n",
        "# Data structure for accumulating ratings by movie_id\n",
        "star_wars_ratings = {movie_id: []\n",
        "                    for movie_id, title in movies.items()\n",
        "                    if re.search(\"Star Wars|Empire Strikes|Jedi\", title)}\n",
        "\n",
        "# Iterate over ratings, accumulating the Star Wars ones\n",
        "for rating in ratings:\n",
        "    if rating.movie_id in star_wars_ratings:\n",
        "        star_wars_ratings[rating.movie_id].append(rating.rating)\n",
        "\n",
        "# Compute the average rating for each movie\n",
        "avg_ratings = [(sum(title_ratings) / len(title_ratings), movie_id)\n",
        "               for movie_id, title_ratings in star_wars_ratings.items()]\n",
        "\n",
        "# And then print them in order\n",
        "for avg_rating, movie_id in sorted(avg_ratings, reverse=True):\n",
        "    print(f\"{avg_rating:.2f} {movies[movie_id]}\")\n"
      ],
      "metadata": {
        "id": "b7xeqn7VyGxN"
      },
      "execution_count": null,
      "outputs": []
    },
    {
      "cell_type": "markdown",
      "source": [
        "Mereka semua dinilai sangat tinggi:\n",
        "\n",
        "4.36 Star Wars (1977)\n",
        "4.20 Empire Strikes Back, The (1980) 4.01 Return of the Jedi (1983)\n",
        "\n",
        "Jadi mari kita coba membuat model untuk memprediksi peringkat ini. Sebagai langkah pertama, mari kita pisahkan data peringkat ke dalam set pelatihan, validasi, dan tes:"
      ],
      "metadata": {
        "id": "BsNU_brs0HIB"
      }
    },
    {
      "cell_type": "code",
      "source": [
        "import random\n",
        "random.seed(0)\n",
        "random.shuffle(ratings)\n",
        "\n",
        "split1 = int(len(ratings) * 0.7)\n",
        "split2 = int(len(ratings) * 0.85)\n",
        "\n",
        "train = ratings[:split1]              # 70% of the data\n",
        "validation = ratings[split1:split2]   # 15% of the data\n",
        "test = ratings[split2:]               # 15% of the data\n"
      ],
      "metadata": {
        "id": "VRoUhQz10iE-"
      },
      "execution_count": null,
      "outputs": []
    },
    {
      "cell_type": "markdown",
      "source": [
        "Itu selalu baik untuk memiliki model dasar yang sederhana dan memastikan bahwa kita melakukan lebih baik dari itu. Di sini model dasar sederhana mungkin \"memprediksi peringkat rata-rata.\" Kita akan menggunakan kesalahan kuadrat rata-rata sebagai metrik kita, jadi mari kita lihat bagaimana baseline dilakukan pada set pengujian kita:\n"
      ],
      "metadata": {
        "id": "CxdMrWz71Dqc"
      }
    },
    {
      "cell_type": "code",
      "source": [
        "avg_rating = sum(rating.rating for rating in train) / len(train)\n",
        "baseline_error = sum((rating.rating - avg_rating) ** 2\n",
        "                      for rating in test) / len(test)\n",
        "\n",
        "# This is what we hope to do better than\n",
        "assert 1.26 < baseline_error < 1.27\n"
      ],
      "metadata": {
        "id": "Kr1DJ9xe1Erq"
      },
      "execution_count": null,
      "outputs": []
    },
    {
      "cell_type": "markdown",
      "source": [
        "Mengingat penyematan kami, peringkat yang diprediksi diberikan oleh produk matriks dari penyematan pengguna dan penyematan film. Untuk pengguna dan film tertentu, nilai itu hanyalah produk titik dari penyematan yang sesuai.\n",
        "\n",
        "Jadi mari kita mulai dengan membuat embeddings. Kami akan mewakilinya sebagai dikte di mana kuncinya adalah ID dan nilainya adalah vektor, yang akan memungkinkan kami untuk dengan mudah mengambil penyematan untuk ID yang diberikan:\n"
      ],
      "metadata": {
        "id": "Cq0CH7Tx1yg_"
      }
    },
    {
      "cell_type": "code",
      "source": [
        "from scratch.deep_learning import random_tensor\n",
        "\n",
        "EMBEDDING_DIM = 2\n",
        "\n",
        "# Find unique ids\n",
        "user_ids = {rating.user_id for rating in ratings}\n",
        "movie_ids = {rating.movie_id for rating in ratings}\n",
        "\n",
        "# Then create a random vector per id\n",
        "user_vectors = {user_id: random_tensor(EMBEDDING_DIM)\n",
        "                for user_id in user_ids}\n",
        "movie_vectors = {movie_id: random_tensor(EMBEDDING_DIM)\n",
        "                 for movie_id in movie_ids}\n"
      ],
      "metadata": {
        "id": "MELZK4Iw16m8"
      },
      "execution_count": null,
      "outputs": []
    },
    {
      "cell_type": "markdown",
      "source": [
        "Sekarang kita harus cukup ahli dalam menulis loop pelatihan:\n"
      ],
      "metadata": {
        "id": "v6vWsyxb2Pp7"
      }
    },
    {
      "cell_type": "code",
      "source": [
        "from typing import List\n",
        "import tqdm\n",
        "from scratch.linear_algebra import dot\n",
        "def loop(dataset: List[Rating],\n",
        "         learning_rate: float = None) -> None:\n",
        "    with tqdm.tqdm(dataset) as t:\n",
        "        loss = 0.0\n",
        "        for i, rating in enumerate(t):\n",
        "            movie_vector = movie_vectors[rating.movie_id]\n",
        "            user_vector = user_vectors[rating.user_id]\n",
        "            predicted = dot(user_vector, movie_vector)\n",
        "            error = predicted - rating.rating\n",
        "            loss += error ** 2\n",
        "\n",
        "if learning_rate is not None:\n",
        "# predicted = m_0 * u_0 + ... + m_k * u_k\n",
        "# So each u_j enters output with coefficent m_j\n",
        "# and each m_j enters output with coefficient u_j\n",
        "user_gradient = [error * m_j for m_j in movie_vector]\n",
        "movie_gradient = [error * u_j for u_j in user_vector]\n",
        "\n",
        "# Take gradient steps\n",
        "for j in range(EMBEDDING_DIM):\n",
        "    user_vector[j] -= learning_rate * user_gradient[j]\n",
        "    movie_vector[j] -= learning_rate * movie_gradient[j]\n",
        "\n",
        "t.set_description(f\"avg loss: {loss / (i + 1)}\")"
      ],
      "metadata": {
        "id": "C1ExhQyt2Urf"
      },
      "execution_count": null,
      "outputs": []
    },
    {
      "cell_type": "markdown",
      "source": [
        "Dan sekarang kita dapat melatih model kita (yaitu, menemukan penyematan yang optimal). Bagi saya itu bekerja paling baik jika saya\n",
        "menurunkan tingkat pembelajaran sedikit setiap zaman:"
      ],
      "metadata": {
        "id": "CW-QEeYv3sjx"
      }
    },
    {
      "cell_type": "code",
      "source": [
        "learning_rate = 0.05\n",
        "for epoch in range(20):\n",
        "    learning_rate *= 0.9\n",
        "    print(epoch, learning_rate)\n",
        "    loop(train, learning_rate=learning_rate)\n",
        "    loop(validation)\n",
        "loop(test)"
      ],
      "metadata": {
        "id": "UWFmIg733yy9"
      },
      "execution_count": null,
      "outputs": []
    },
    {
      "cell_type": "markdown",
      "source": [
        "Model ini cukup tepat untuk overfit set pelatihan. Saya mendapat hasil terbaik dengan EMBEDDING_DIM = 2,\n",
        "yang membuat saya kehilangan rata-rata pada set tes sekitar 0,89."
      ],
      "metadata": {
        "id": "c_gB30tx38rA"
      }
    },
    {
      "cell_type": "markdown",
      "source": [
        "Jika Anda menginginkan penyematan dimensi yang lebih tinggi, Anda dapat mencoba regularisasi seperti yang kami gunakan dalam \"Regularisasi\". Secara khusus, pada setiap pembaruan gradien Anda dapat mengecilkan bobot menjadi 0. Saya tidak bisa mendapatkan hasil yang lebih baik dengan cara itu."
      ],
      "metadata": {
        "id": "oW3BdTsM4CMP"
      }
    },
    {
      "cell_type": "markdown",
      "source": [
        "Sekarang, periksa vektor yang dipelajari. Tidak ada alasan untuk mengharapkan kedua komponen menjadi sangat bermakna, jadi kita akan menggunakan analisis komponen utama:\n"
      ],
      "metadata": {
        "id": "HpNAHJ2X4IHl"
      }
    },
    {
      "cell_type": "code",
      "source": [
        "from scratch.working_with_data import pca, transform\n",
        "\n",
        "original_vectors = [vector for vector in movie_vectors.values()]\n",
        "components = pca(original_vectors, 2)"
      ],
      "metadata": {
        "id": "sKStoYA64P7h"
      },
      "execution_count": null,
      "outputs": []
    },
    {
      "cell_type": "markdown",
      "source": [
        "Mari kita ubah vektor kita untuk mewakili komponen utama dan bergabung dalam ID film dan\n",
        "Peringkat rata-rata:"
      ],
      "metadata": {
        "id": "T5vH918V4VZt"
      }
    },
    {
      "cell_type": "code",
      "source": [
        "ratings_by_movie = defaultdict(list)\n",
        "for rating in ratings:\n",
        "    ratings_by_movie[rating.movie_id].append(rating.rating)\n",
        "\n",
        "vectors = [\n",
        "    (movie_id,\n",
        "    sum(ratings_by_movie[movie_id]) / len(ratings_by_movie[movie_id]),\n",
        "    movies[movie_id],\n",
        "    vector)\n",
        "for movie_id, vector in zip(movie_vectors.keys(), transform(original_vectors, components))\n",
        "\n",
        "]\n",
        "\n",
        "# Print top 25 and bottom 25 by first principal component\n",
        "print(sorted(vectors, key=lambda v: v[-1][0])[:25])\n",
        "print(sorted(vectors, key=lambda v: v[-1][0])[-25:])\n"
      ],
      "metadata": {
        "id": "KVi6-XUx4aq-"
      },
      "execution_count": null,
      "outputs": []
    },
    {
      "cell_type": "markdown",
      "source": [
        "25 teratas semuanya berperingkat tinggi, sedangkan 25 terbawah sebagian besar berperingkat rendah (atau tidak diberi peringkat dalam data pelatihan), yang menunjukkan bahwa komponen utama pertama sebagian besar menangkap \"seberapa bagus film ini?\"\n",
        "\n",
        "Sulit bagi saya untuk memahami komponen kedua; Dan, memang embedding dua dimensi hanya dilakukan sedikit lebih baik daripada embedding satu dimensi, menunjukkan bahwa apa pun komponen kedua yang ditangkap mungkin sangat halus. (Agaknya salah satu dataset MovieLens yang lebih besar akan memiliki hal-hal yang lebih menarik terjadi.)\n"
      ],
      "metadata": {
        "id": "i8C_pn7c4xoU"
      }
    },
    {
      "cell_type": "markdown",
      "source": [
        "## Untuk Eksplorasi Lebih Lanjut\n",
        "\n",
        "\n",
        "\n",
        "*   Surprise adalah pustaka Python untuk \"membangun dan menganalisis sistem rekomendasi\" yang tampaknya cukup populer dan terkini.\n",
        "\n",
        "*   Hadiah Netflix adalah kompetisi yang agak terkenal untuk membangun sistem yang lebih baik untuk merekomendasikan film kepada pengguna Netflix.\n",
        "\n"
      ],
      "metadata": {
        "id": "KF45gYdr46TT"
      }
    },
    {
      "cell_type": "markdown",
      "source": [
        "# Bab 23 Database dan SQL\n",
        "Addin Zaidan  Zakki\n",
        "Fadilatul Husna\n",
        "\n",
        "Ingatan adalah teman terbesar manusia dan musuh terburuk.\n",
        "—Gilbert Parker\n",
        "\n",
        "\n",
        "Data yang Anda butuhkan akan sering berada di database, sistem yang dirancang untuk menyimpan dan membuat kueri secara efisien\n",
        "data. Sebagian besar adalah database relasional, seperti PostgreSQL, MySQL, dan SQLServer,\n",
        "yang menyimpan data dalam tabel dan biasanya ditanyakan menggunakan Structured Query Language (SQL), a\n",
        "bahasa deklaratif untuk memanipulasi data.\n",
        "SQLadalah bagian yang sangat penting dari perangkat ilmuwan data. Dalam bab ini, kita akan membuat\n",
        "NotQuiteABase, implementasi Python dari sesuatu yang bukan database. Kami juga akan membahas\n",
        "dasar-dasar SQLsambil menunjukkan bagaimana mereka bekerja di database kami yang tidak cukup, yang paling “dari\n",
        "gores” cara yang dapat saya pikirkan untuk membantu Anda memahami apa yang mereka lakukan. Harapan saya adalah penyelesaian itu\n",
        "masalah di NotQuiteABase akan memberi Anda pemahaman yang baik tentang bagaimana Anda dapat memecahkan masalah yang sama\n",
        "menggunakan SQL."
      ],
      "metadata": {
        "id": "w0BSXB5mY7JF"
      }
    },
    {
      "cell_type": "markdown",
      "source": [
        "## Buat Tabel dan Insert\n",
        "Database relasional adalah kumpulan tabel, dan hubungan di antara mereka. Tabel hanyalah sebuah\n",
        "kumpulan baris, tidak berbeda dengan beberapa matriks yang telah kita kerjakan. Namun, meja juga\n",
        "telah mengaitkannya dengan skema tetap yang terdiri dari nama kolom dan tipe kolom.\n",
        "Misalnya, bayangkan kumpulan data pengguna yang berisi untuk setiap pengguna user_id, nama, dan\n",
        "jumlah_teman:"
      ],
      "metadata": {
        "id": "7WWVgUozZS93"
      }
    },
    {
      "cell_type": "code",
      "source": [
        "users = [[0, \"Hero\", 0],\n",
        "[1, \"Dunn\", 2],\n",
        "[2, \"Sue\", 3],\n",
        "[3, \"Chi\", 3]]"
      ],
      "metadata": {
        "id": "zCkASDbXadiD"
      },
      "execution_count": null,
      "outputs": []
    },
    {
      "cell_type": "markdown",
      "source": [
        "Dalam SQL, kita dapat membuat tabel ini dengan:"
      ],
      "metadata": {
        "id": "DwYARuMoaeUs"
      }
    },
    {
      "cell_type": "code",
      "source": [
        "CREATE TABLE users (\n",
        "user_id INT NOT NULL,\n",
        "name VARCHAR(200),\n",
        "num_friends INT);"
      ],
      "metadata": {
        "id": "RuEQpm3-alUF"
      },
      "execution_count": null,
      "outputs": []
    },
    {
      "cell_type": "markdown",
      "source": [
        "Perhatikan bahwa kami menetapkan bahwa user_id dan num_friends harus bilangan bulat (dan user_id itu tidak\n",
        "diizinkan menjadi NULL, yang menunjukkan nilai yang hilang dan mirip dengan Tidak Ada kami) dan itulah namanya\n",
        "harus berupa string dengan panjang 200 atau kurang. Kami akan menggunakan tipe Python dengan cara yang serupa"
      ],
      "metadata": {
        "id": "-vTfRtBVar_2"
      }
    },
    {
      "cell_type": "markdown",
      "source": [
        "\n",
        "Anda dapat menyisipkan baris dengan pernyataan INSERT:"
      ],
      "metadata": {
        "id": "1n_fQ_gia1Ee"
      }
    },
    {
      "cell_type": "code",
      "source": [
        "INSERT INTO users (user_id, name, num_friends) VALUES (0, 'Hero', 0);"
      ],
      "metadata": {
        "id": "ZxGcG0HPG44r"
      },
      "execution_count": null,
      "outputs": []
    },
    {
      "cell_type": "markdown",
      "source": [
        "Perhatikan juga bahwa pernyataan SQL harus diakhiri dengan titik koma, dan bahwa SQL memerlukan tanda kutip tunggal untuk\n",
        "senarnya.\n",
        "Di NotQuiteABase, Anda akan membuat Tabel dengan menentukan skema serupa. Kemudian untuk menyisipkan baris, Anda akan\n",
        "gunakan metode penyisipan tabel, yang mengambil daftar nilai baris yang harus dalam urutan yang sama\n",
        "nama kolom tabel.\n",
        "Di belakang layar, kami akan menyimpan setiap baris sebagai dict dari nama kolom ke nilai. Sebuah basis data nyata\n",
        "tidak akan pernah menggunakan representasi yang membuang-buang ruang, tetapi hal itu akan membuat NotQuiteABase menjadi lebih banyak\n",
        "lebih mudah untuk bekerja dengan.\n",
        "Kami akan mengimplementasikan Tabel NotQuiteABase sebagai kelas raksasa, yang akan kami terapkan satu metode pada satu\n",
        "waktu. Mari kita mulai dengan menghindari beberapa impor dan ketik alias"
      ],
      "metadata": {
        "id": "Z9e31J8zG57e"
      }
    },
    {
      "cell_type": "code",
      "source": [
        "rom typing import Tuple, Sequence, List, Any, Callable, Dict, Iterator\n",
        "from collections import defaultdict\n",
        "# A few type aliases we'll use later\n",
        "Row = Dict[str, Any] # A database row\n",
        "WhereClause = Callable[[Row], bool] # Predicate for a single row\n",
        "HavingClause = Callable[[List[Row]], bool] # Predicate over multiple rows\n"
      ],
      "metadata": {
        "id": "fYZ0h4rGHPTM"
      },
      "execution_count": null,
      "outputs": []
    },
    {
      "cell_type": "markdown",
      "source": [
        "Mari kita mulai dengan konstruktor. Untuk membuat tabel NotQuiteABase, kita harus memasukkan daftar\n",
        "nama kolom, dan daftar tipe kolom, sama seperti jika Anda membuat tabel dalam SQL\n",
        "basis data:"
      ],
      "metadata": {
        "id": "xCL1DIVBHXCf"
      }
    },
    {
      "cell_type": "code",
      "source": [
        "class Table:\n",
        "def __init__(self, columns: List[str], types: List[type]) -> None:\n",
        "assert len(columns) == len(types), \"# of columns must == # of types\"\n",
        "self.columns = columns # Names of columns\n",
        "self.types = types # Data types of columns\n",
        "self.rows: List[Row] = [] # (no data yet)"
      ],
      "metadata": {
        "id": "UCo-gtiYHg1O"
      },
      "execution_count": null,
      "outputs": []
    },
    {
      "cell_type": "markdown",
      "source": [
        "Kami akan menambahkan metode pembantu untuk mendapatkan jenis kolom:\n"
      ],
      "metadata": {
        "id": "-87-wfluHmjA"
      }
    },
    {
      "cell_type": "code",
      "source": [
        "def col2type(self, col: str) -> type:\n",
        "idx = self.columns.index(col) # Find the index of the column,\n",
        "return self.types[idx] # and return its type.\n"
      ],
      "metadata": {
        "id": "2R5GE68jHsrs"
      },
      "execution_count": null,
      "outputs": []
    },
    {
      "cell_type": "markdown",
      "source": [
        "Dan kami akan menambahkan metode penyisipan yang memeriksa apakah nilai yang Anda masukkan valid. Secara khusus,\n",
        "Anda harus memberikan jumlah nilai yang benar, dan masing-masing harus jenis yang benar (atau Tidak Ada):"
      ],
      "metadata": {
        "id": "tOjFCoiQHxg1"
      }
    },
    {
      "cell_type": "code",
      "source": [
        "def insert(self, values: list) -> None:\n",
        "# Check for right # of values\n",
        "if len(values) != len(self.types):\n",
        "raise ValueError(f\"You need to provide {len(self.types)} values\")\n",
        "# Check for right types of values\n",
        "for value, typ3 in zip(values, self.types):\n",
        "if not isinstance(value, typ3) and value is not None:\n",
        "raise TypeError(f\"Expected type {typ3} but got {value}\")\n",
        "# Add the corresponding dict as a \"row\"\n",
        "self.rows.append(dict(zip(self.columns, values)))\n"
      ],
      "metadata": {
        "id": "ibM19hrHH53k"
      },
      "execution_count": null,
      "outputs": []
    },
    {
      "cell_type": "markdown",
      "source": [
        "Dalam database SQL yang sebenarnya, Anda akan secara eksplisit menentukan apakah ada kolom yang diizinkan untuk diisi\n",
        "nilai nol (Tidak Ada); untuk membuat hidup kita lebih sederhana, kita hanya akan mengatakan bahwa kolom apa pun bisa.\n",
        "Kami juga akan memperkenalkan beberapa metode dunder yang memungkinkan kami memperlakukan tabel seperti List[Row], yang mana\n",
        "sebagian besar akan kami gunakan untuk menguji kode kami:"
      ],
      "metadata": {
        "id": "hNSF8XSrH-pz"
      }
    },
    {
      "cell_type": "code",
      "source": [
        "def __getitem__(self, idx: int) -> Row:\n",
        "return self.rows[idx]\n",
        "def __iter__(self) -> Iterator[Row]:\n",
        "return iter(self.rows)\n",
        "def __len__(self) -> int:\n",
        "return len(self.rows)"
      ],
      "metadata": {
        "id": "RxJ9GOPzIHe0"
      },
      "execution_count": null,
      "outputs": []
    },
    {
      "cell_type": "markdown",
      "source": [
        "Dan kami akan menambahkan metode untuk mencetak cantik tabel kami:"
      ],
      "metadata": {
        "id": "BVZ8XCiaINXP"
      }
    },
    {
      "cell_type": "code",
      "source": [
        "def __repr__(self):\n",
        "\"\"\"Pretty representation of the table: columns then rows\"\"\"\n",
        "rows = \"\\n\".join(str(row) for row in self.rows)\n",
        "return f\"{self.columns}\\n{rows}\""
      ],
      "metadata": {
        "id": "hLOGec77ISwr"
      },
      "execution_count": null,
      "outputs": []
    },
    {
      "cell_type": "markdown",
      "source": [
        "Sekarang kita dapat membuat tabel Pengguna kami"
      ],
      "metadata": {
        "id": "Wet2UXTIIWGi"
      }
    },
    {
      "cell_type": "code",
      "source": [
        "# Constructor requires column names and types\n",
        "users = Table(['user_id', 'name', 'num_friends'], [int, str, int])\n",
        "users.insert([0, \"Hero\", 0])\n",
        "users.insert([1, \"Dunn\", 2])\n",
        "users.insert([2, \"Sue\", 3])\n",
        "users.insert([3, \"Chi\", 3])\n",
        "users.insert([4, \"Thor\", 3])\n",
        "users.insert([5, \"Clive\", 2])\n",
        "users.insert([6, \"Hicks\", 3])\n",
        "users.insert([7, \"Devin\", 2])\n",
        "users.insert([8, \"Kate\", 2])\n",
        "users.insert([9, \"Klein\", 3])\n",
        "users.insert([10, \"Jen\", 1])\n"
      ],
      "metadata": {
        "id": "9WCoF8ytId8f"
      },
      "execution_count": null,
      "outputs": []
    },
    {
      "cell_type": "markdown",
      "source": [
        "Jika sekarang Anda mencetak (pengguna), Anda akan melihat:"
      ],
      "metadata": {
        "id": "WBwGN6g2Ij__"
      }
    },
    {
      "cell_type": "code",
      "source": [
        "['user_id', 'name', 'num_friends']\n",
        "{'user_id': 0, 'name': 'Hero', 'num_friends': 0}\n",
        "{'user_id': 1, 'name': 'Dunn', 'num_friends': 2}\n",
        "{'user_id': 2, 'name': 'Sue', 'num_friends': 3}"
      ],
      "metadata": {
        "id": "CDWOLmQnIp4v"
      },
      "execution_count": null,
      "outputs": []
    },
    {
      "cell_type": "markdown",
      "source": [
        "API seperti daftar memudahkan untuk menulis pengujian:"
      ],
      "metadata": {
        "id": "Rbg81NEaItoW"
      }
    },
    {
      "cell_type": "code",
      "source": [
        "assert len(users) == 11\n",
        "assert users[1]['name'] == 'Dunn'\n"
      ],
      "metadata": {
        "id": "9lLvKI4rI0Yr"
      },
      "execution_count": null,
      "outputs": []
    },
    {
      "cell_type": "markdown",
      "source": [
        "Kami memiliki lebih banyak fungsi untuk ditambahkan."
      ],
      "metadata": {
        "id": "D7_BUZuEJEV8"
      }
    },
    {
      "cell_type": "markdown",
      "source": [
        "## Perbaraui"
      ],
      "metadata": {
        "id": "XsVta5VOJMTz"
      }
    },
    {
      "cell_type": "markdown",
      "source": [
        "## Hapus"
      ],
      "metadata": {
        "id": "dQtkEyuHJWmj"
      }
    },
    {
      "cell_type": "markdown",
      "source": [
        "## Pilih"
      ],
      "metadata": {
        "id": "B4NfUx80JeBP"
      }
    },
    {
      "cell_type": "markdown",
      "source": [],
      "metadata": {
        "id": "7MgX9Z9YJr-l"
      }
    },
    {
      "cell_type": "markdown",
      "source": [
        "## Pengelompokkan"
      ],
      "metadata": {
        "id": "Yv1XvtqqJsDm"
      }
    },
    {
      "cell_type": "markdown",
      "source": [
        "## Pesanan\n"
      ],
      "metadata": {
        "id": "y7h2-qomHxj5"
      }
    },
    {
      "cell_type": "markdown",
      "source": [
        "Seringkali, Anda ingin mengurutkan hasil Anda. Misalnya, Anda mungkin ingin mengetahui (menurut abjad)\n",
        "dua nama pertama pengguna Anda:"
      ],
      "metadata": {
        "id": "0SG8EYaqUCD3"
      }
    },
    {
      "cell_type": "code",
      "source": [
        "SELECT * FROM users\n",
        "ORDER BY name\n",
        "LIMIT 2;"
      ],
      "metadata": {
        "id": "CaRfFI_TUX0U"
      },
      "execution_count": null,
      "outputs": []
    },
    {
      "cell_type": "markdown",
      "source": [
        "Ini mudah diimplementasikan dengan memberikan metode order_by pada Tabel kami yang menggunakan fungsi order"
      ],
      "metadata": {
        "id": "WRQbQuKwUbuS"
      }
    },
    {
      "cell_type": "code",
      "source": [],
      "metadata": {
        "id": "yZTYXWGeUmUu"
      },
      "execution_count": null,
      "outputs": []
    },
    {
      "cell_type": "markdown",
      "source": [
        "## Gabungan\n"
      ],
      "metadata": {
        "id": "4xoohWgGcBVb"
      }
    },
    {
      "cell_type": "markdown",
      "source": [
        "## Subkueri\n"
      ],
      "metadata": {
        "id": "IhsuJ_XzcJfz"
      }
    },
    {
      "cell_type": "markdown",
      "source": [
        "Di SQL, Anda dapat MEMILIH dari (dan GABUNG) hasil kueri seolah-olah itu adalah tabel. Jadi jika kamu\n",
        "ingin menemukan user_id terkecil dari siapa pun yang tertarik dengan SQL, Anda dapat menggunakan subquery. (Dari\n",
        "Tentu saja, Anda dapat melakukan perhitungan yang sama menggunakan GABUNG, tetapi itu tidak akan mengilustrasikan subkueri."
      ],
      "metadata": {
        "id": "15MV19W_g89u"
      }
    },
    {
      "cell_type": "code",
      "source": [
        "SELECT MIN(user_id) AS min_user_id FROM\n",
        "(SELECT user_id FROM user_interests WHERE interest = 'SQL') sql_interests;"
      ],
      "metadata": {
        "id": "BShG1GXFhIso"
      },
      "execution_count": null,
      "outputs": []
    },
    {
      "cell_type": "markdown",
      "source": [
        "Mengingat cara kami mendesain NotQuiteABase, kami mendapatkannya secara gratis. (Hasil kueri kami aktual\n",
        "tabel."
      ],
      "metadata": {
        "id": "SLHFaObbhQHJ"
      }
    },
    {
      "cell_type": "code",
      "source": [
        "likes_sql_user_ids = (\n",
        "user_interests\n",
        ".where(lambda row: row[\"interest\"] == \"SQL\")\n",
        ".select(keep_columns=['user_id'])\n",
        ")\n",
        "likes_sql_user_ids.group_by(group_by_columns=[],\n",
        "aggregates={ \"min_user_id\" : min_user_id }"
      ],
      "metadata": {
        "id": "TIrCQ7hchXht"
      },
      "execution_count": null,
      "outputs": []
    },
    {
      "cell_type": "markdown",
      "source": [
        "## Indeks"
      ],
      "metadata": {
        "id": "Rnfp0vBocbM8"
      }
    },
    {
      "cell_type": "markdown",
      "source": [
        "untuk menemukan baris yang berisi nilai tertentu (katakanlah, dengan nama \"Hero\"), NotQuiteABase harus memeriksanya\n",
        "setiap baris dalam tabel. Jika tabel memiliki banyak baris, ini bisa memakan waktu sangat lama.\n",
        "Demikian pula, algoritme gabungan kami sangat tidak efisien. Untuk setiap baris di tabel kiri, setiap baris diperiksa\n",
        "baris di tabel kanan untuk melihat apakah itu cocok. Dengan dua meja besar, ini bisa memakan waktu sekitar\n",
        "selamanya.\n",
        "Juga, Anda sering ingin menerapkan batasan pada beberapa kolom Anda. Misalnya, di tabel pengguna Anda\n",
        "Anda mungkin tidak ingin mengizinkan dua pengguna berbeda untuk memiliki user_id yang sama.\n",
        "Indeks menyelesaikan semua masalah ini. Jika tabel user_interests memiliki indeks pada user_id, smart\n",
        "algoritma join dapat menemukan kecocokan secara langsung daripada memindai seluruh tabel. Jika tabel pengguna\n",
        "memiliki indeks \"unik\" pada user_id, Anda akan mendapatkan kesalahan jika mencoba memasukkan duplikat.\n",
        "Setiap tabel dalam database dapat memiliki satu atau lebih indeks, yang memungkinkan Anda mencari baris dengan cepat\n",
        "kolom kunci, menggabungkan tabel secara efisien, dan menerapkan batasan unik pada kolom atau\n",
        "kombinasi kolom.\n",
        "Merancang dan menggunakan indeks dengan baik adalah seni hitam (yang agak bervariasi tergantung pada\n",
        "database tertentu), tetapi jika Anda akhirnya melakukan banyak pekerjaan database, ada baiknya mempelajarinya."
      ],
      "metadata": {
        "id": "lKR7xsKRgr1P"
      }
    },
    {
      "cell_type": "markdown",
      "source": [
        "## Pengoptimalan Kueri"
      ],
      "metadata": {
        "id": "gMG5tRgNclG3"
      }
    },
    {
      "cell_type": "markdown",
      "source": [
        "Ingat kueri untuk menemukan semua pengguna yang tertarik dengan SQL"
      ],
      "metadata": {
        "id": "1zWM3ZesfiZj"
      }
    },
    {
      "cell_type": "code",
      "source": [
        "SELECT users.name\n",
        "FROM users\n",
        "JOIN user_interests\n",
        "ON users.user_id = user_interests.user_id\n",
        "WHERE user_interests.interest = 'SQL'"
      ],
      "metadata": {
        "id": "qFWeJHZ4frVL"
      },
      "execution_count": null,
      "outputs": []
    },
    {
      "cell_type": "markdown",
      "source": [
        "Di NotQuiteABase ada (setidaknya) dua cara berbeda untuk menulis kueri ini. Anda bisa menyaring\n",
        "tabel user_interests sebelum melakukan join:"
      ],
      "metadata": {
        "id": "pmYn7W7Jfv-J"
      }
    },
    {
      "cell_type": "code",
      "source": [
        "(\n",
        "user_interests\n",
        ".where(lambda row: row[\"interest\"] == \"SQL\")\n",
        ".join(users)\n",
        ".select([\"name\"])\n",
        ")"
      ],
      "metadata": {
        "id": "OfbQ8Xz7f5RG"
      },
      "execution_count": null,
      "outputs": []
    },
    {
      "cell_type": "markdown",
      "source": [
        "Atau Anda dapat memfilter hasil gabungan:"
      ],
      "metadata": {
        "id": "sXwCOXCDf-LE"
      }
    },
    {
      "cell_type": "code",
      "source": [
        "(\n",
        "user_interests\n",
        ".join(users)\n",
        ".where(lambda row: row[\"interest\"] == \"SQL\")\n",
        ".select([\"name\"])\n",
        ")"
      ],
      "metadata": {
        "id": "A4iaaAcBglzH"
      },
      "execution_count": null,
      "outputs": []
    },
    {
      "cell_type": "markdown",
      "source": [
        "Bagaimanapun, Anda akan mendapatkan hasil yang sama, tetapi filter-sebelum-bergabung hampir pasti lebih\n",
        "efisien, karena dalam hal ini join memiliki lebih sedikit baris untuk dioperasikan.\n",
        "Di SQL, Anda biasanya tidak akan khawatir tentang ini. Anda \"menyatakan\" hasil yang Anda inginkan dan membiarkannya\n",
        "ke mesin kueri untuk menjalankannya (dan menggunakan indeks secara efisien)."
      ],
      "metadata": {
        "id": "-P0MjNm2gIon"
      }
    },
    {
      "cell_type": "markdown",
      "source": [
        "## NoSQL\n"
      ],
      "metadata": {
        "id": "H0CRcdZ0cxON"
      }
    },
    {
      "cell_type": "markdown",
      "source": [
        "Tren baru-baru ini dalam basis data adalah menuju basis data \"NoSQL\" nonrelasional, yang tidak mewakili data\n",
        "dalam tabel. Misalnya, MongoDB adalah basis data tanpa skema populer yang elemennya sewenang-wenang\n",
        "dokumen JSON kompleks daripada baris.\n",
        "Ada database kolom yang menyimpan data dalam kolom, bukan baris (bagus bila data memiliki banyak\n",
        "kolom tetapi kueri membutuhkan sedikit), penyimpanan kunci/nilai yang dioptimalkan untuk mengambil tunggal\n",
        "(kompleks) nilai dengan kunci mereka, database untuk menyimpan dan melintasi grafik, database yang\n",
        "dioptimalkan untuk berjalan di beberapa pusat data, database yang dirancang untuk berjalan di memori, database\n",
        "untuk menyimpan data deret waktu, dan ratusan lainnya.\n",
        "Rasa hari esok mungkin bahkan tidak ada sekarang, jadi saya tidak bisa melakukan lebih dari memberi tahu Anda\n",
        "bahwa NoSQL adalah suatu hal. Jadi sekarang kamu tahu. Itu suatu hal."
      ],
      "metadata": {
        "id": "45bL20ElfR_C"
      }
    },
    {
      "cell_type": "markdown",
      "source": [
        "# Bab 24 PetaKurangi (MapReduce)\n",
        "\n",
        "Kelompok 8\n",
        "\n",
        "Putri Nadila (4112321006)\n",
        "\n",
        "Ananda Maya Oktaviani ()\n",
        "\n",
        "Devita Abellia Rahmawati (4112321010)"
      ],
      "metadata": {
        "id": "7XG61gehDiRg"
      }
    },
    {
      "cell_type": "markdown",
      "source": [
        "The future has already arrived. It's just not evenly distributed yet.\n",
        "\n",
        "                        -William Gibson\n",
        "\n",
        "MapReduce adalah model pemrograman untuk melakukan pemrosesan paralel pada kumpulan data besar. Meskipun merupakan teknik yang kuat, dasar-dasarnya relatif sederhana.\n",
        "\n",
        "Bayangkan kita memiliki koleksi item yang ingin kita proses. Misalnya, item mungkin berupa log situs web, teks dari berbagai buku, file gambar, atau apa pun. Versi dasar dari algoritma MapReduce terdiri dari langkah-langkah berikut:\n",
        "1. Gunakan fungsi mapper untuk mengubah setiap item menjadi nol atau lebih pasangan kunci/nilai. (Seringkali ini disebut fungsi peta, tetapi sudah ada fungsi Python yang disebut peta dan kita tidak perlu mencampuradukkan keduanya.\n",
        "2. Kumpulkan semua pasangan dengan kunci identik.\n",
        "3. Gunakan fungsi peredam pada setiap kumpulan nilai yang dikelompokkan untuk menghasilkan nilai output untuk kunci yang sesuai.\n",
        "\n",
        "               CATATAN\n",
        "\n",
        "MapReduce terlalu kuno, sedemikian rupa sehingga saya mempertimbangkan untuk menghapus bab ini dari edisi kedua. Tapi saya memutuskan itu masih merupakan topik yang menarik, jadi saya akhirnya meninggalkannya (jelas).\n",
        "\n",
        "Ini semua semacam abstrak, jadi mari kita lihat contoh spesifiknya. Ada beberapa aturan mutlak ilmu data, tetapi salah satunya adalah contoh MapReduce pertama Anda harus melibatkan penghitungan kata."
      ],
      "metadata": {
        "id": "72SapwtJBjoe"
      }
    },
    {
      "cell_type": "markdown",
      "source": [
        "## Contoh: Jumlah Kata"
      ],
      "metadata": {
        "id": "ghD9eF5rD8gi"
      }
    },
    {
      "cell_type": "markdown",
      "source": [
        "Data Sciencester telah berkembang menjadi jutaan pengguna! Ini bagus untuk keamanan pekerjaan Anda, tetapi membuat analisis rutin sedikit lebih sulit.\n",
        "\n",
        "Misalnya, VP Konten Anda ingin mengetahui hal-hal seperti apa yang dibicarakan orang dalam pembaruan status mereka. Sebagai upaya pertama, Anda memutuskan untuk menghitung kata yang muncul, sehingga Anda dapat menyiapkan laporan tentang kata yang paling sering muncul.\n",
        "\n",
        "Ketika Anda memiliki beberapa ratus pengguna, ini mudah dilakukan:"
      ],
      "metadata": {
        "id": "CcPmOdAIEigH"
      }
    },
    {
      "cell_type": "code",
      "source": [
        "from typing import List\n",
        "from collections import Counter\n",
        "\n",
        "def tokenize(document: str) -> List[str]:\n",
        "    \"\"\"Just split on whitespace\"\"\"\n",
        "    return document.split()\n",
        "\n",
        "def word_count_old(documents: List[str]):\n",
        "    \"\"\"Word count not using Mapleduce\"\"\"\n",
        "    return Counter(word\n",
        "    for document in documents\n",
        "    for word in tokenize(document))"
      ],
      "metadata": {
        "id": "6r9ow6X5FwyL"
      },
      "execution_count": null,
      "outputs": []
    },
    {
      "cell_type": "markdown",
      "source": [
        "Dengan jutaan pengguna, kumpulan dokumen (pembaruan status) tiba-tiba terlalu besar untuk muat di komputer Anda. Jika Anda dapat memasukkan ini ke dalam model MapReduce, Anda dapat menggunakan beberapa infrastruktur \"data besar\" yang telah diterapkan oleh teknisi Anda.\n",
        "\n",
        "Pertama, kita memerlukan fungsi yang mengubah dokumen menjadi urutan pasangan kunci/nilai. Kami ingin hasil kami dikelompokkan berdasarkan kata, yang berarti bahwa kuncinya harus kata-kata. Dan untuk setiap kata, kami hanya akan memancarkan nilai 1 untuk menunjukkan bahwa pasangan ini sesuai dengan satu kemunculan kata:"
      ],
      "metadata": {
        "id": "aPrbC1daInnO"
      }
    },
    {
      "cell_type": "code",
      "source": [
        "from typing import Iterator, Tuple\n",
        "\n",
        "def wc_napper(document: str) -> Iterator [Tuple[str, int]]:\n",
        "    \"\"\"For each word in the document, emit (word, 1)\"\"\"\n",
        "    for word in tokentze(document):\n",
        "        yield (word, 1)"
      ],
      "metadata": {
        "id": "AH9qiwuMKLPN"
      },
      "execution_count": null,
      "outputs": []
    },
    {
      "cell_type": "markdown",
      "source": [
        "Melewatkan langkah \"pipa\" 2 untuk saat ini, bayangkan bahwa untuk beberapa kata kami telah mengumpulkan daftar jumlah yang sesuai yang kami keluarkan. Untuk menghasilkan jumlah keseluruhan untuk kata itu, maka, kita hanya perlu:"
      ],
      "metadata": {
        "id": "lCfkcLiuLJ-I"
      }
    },
    {
      "cell_type": "code",
      "source": [
        "from typing import Iterable\n",
        "\n",
        "def wc_reducer (word: str,\n",
        "                counts: Iterable[int]) -> Iterator [Tuple[str, int]]:\n",
        "    \"\"\"Sun up the counts for a word\"\"\"\n",
        "    yield (word, sun(counts))"
      ],
      "metadata": {
        "id": "Q7A4yyElLc7Y"
      },
      "execution_count": null,
      "outputs": []
    },
    {
      "cell_type": "markdown",
      "source": [
        "Kembali ke langkah 2, sekarang kita perlu mengumpulkan hasil dari wc_mapper dan memasukkannya ke wc_reducer. Mari pikirkan bagaimana kita akan melakukan ini hanya pada satu komputer:"
      ],
      "metadata": {
        "id": "9qjfuSCCNMls"
      }
    },
    {
      "cell_type": "code",
      "source": [
        "from collections import defaultdict\n",
        "\n",
        "def word_count(documents: List[str])-> List[Tuple[str, int]]:\n",
        "    \"\"\"Count the words in the input documents using MapReduce\"\"\"\n",
        "\n",
        "    collector = defaultdict(list) # To store grouped values\n",
        "\n",
        "    for document in documents:\n",
        "        for word, count in wc_napper (document):\n",
        "            collector[word].append(count)\n",
        "\n",
        "    return [output\n",
        "\n",
        "           for word, counts in collector.items()\n",
        "           for output in wc_reducer (word, counts)]"
      ],
      "metadata": {
        "id": "hkbspt4lNVmC"
      },
      "execution_count": null,
      "outputs": []
    },
    {
      "cell_type": "markdown",
      "source": [
        "Bayangkan kita memiliki tiga dokumen [\"ilmu data\", \"data besar\", \"fiksi ilmiah\"].\n",
        "\n",
        "Kemudian wc_mapper diterapkan pada dokumen pertama menghasilkan dua pasangan (\"data\", 1) dan (\"sains\", 1). Setelah kami melalui ketiga dokumen, kolektor berisi:"
      ],
      "metadata": {
        "id": "M9y5dItlQOzA"
      }
    },
    {
      "cell_type": "code",
      "source": [
        "{\"data\":[1, 1],\n",
        " \"science\": [1, 1],\n",
        " \"big\":[1],\n",
        " \"Fiction\": []}"
      ],
      "metadata": {
        "colab": {
          "base_uri": "https://localhost:8080/"
        },
        "id": "rmfcPz_dQzc0",
        "outputId": "8e38c7b7-46fc-4656-9e96-8cdd1ea1dd4e"
      },
      "execution_count": null,
      "outputs": [
        {
          "output_type": "execute_result",
          "data": {
            "text/plain": [
              "{'data': [1, 1], 'science': [1, 1], 'big': [1], 'Fiction': []}"
            ]
          },
          "metadata": {},
          "execution_count": 18
        }
      ]
    },
    {
      "cell_type": "markdown",
      "source": [
        "Kemudian wc_reducer menghasilkan hitungan untuk setiap kata:"
      ],
      "metadata": {
        "id": "ut0eGbTeRW--"
      }
    },
    {
      "cell_type": "code",
      "source": [
        "[(\"data\", 2), (\"science\", 2), (\"big\", 1), (\"fiction\", 1)]"
      ],
      "metadata": {
        "colab": {
          "base_uri": "https://localhost:8080/"
        },
        "id": "bgZ5fyFLReC-",
        "outputId": "94923b47-d386-407e-d908-e24dd91c7394"
      },
      "execution_count": null,
      "outputs": [
        {
          "output_type": "execute_result",
          "data": {
            "text/plain": [
              "[('data', 2), ('science', 2), ('big', 1), ('fiction', 1)]"
            ]
          },
          "metadata": {},
          "execution_count": 19
        }
      ]
    },
    {
      "cell_type": "markdown",
      "source": [
        "## Mengapa MapReduce?"
      ],
      "metadata": {
        "id": "1ilVS6maEA1N"
      }
    },
    {
      "cell_type": "markdown",
      "source": [
        "Seperti disebutkan sebelumnya, manfaat utama MapReduce adalah memungkinkan kita untuk mendistribusikan perhitungan dengan memindahkan pemrosesan ke data. Bayangkan kita ingin menghitung kata di miliaran dokumen.\n",
        "\n",
        "Pendekatan asli kami (non-MapReduce) membutuhkan mesin yang melakukan pemrosesan untuk memiliki akses ke setiap dokumen. Ini berarti bahwa semua dokumen harus ada di mesin itu atau ditransfer ke mesin itu selama pemrosesan. Lebih penting lagi, ini berarti mesin hanya dapat memproses satu dokumen dalam satu waktu.\n",
        "\n",
        "                   CATATAN\n",
        "Mungkin itu dapat memproses hingga beberapa sekaligus jika memiliki banyak inti dan jika kode ditulis ulang untuk memanfaatkannya tetapi meskipun demikian, semua dokumen masih harus terhubung ke mesin itu."
      ],
      "metadata": {
        "id": "HRvNJUyvR0sm"
      }
    },
    {
      "cell_type": "markdown",
      "source": [
        "Bayangkan sekarang miliaran dokumen kita tersebar di 100 mesin. Dengan infrastruktur yang tepat (dan mengabaikan beberapa detail), kita dapat melakukan hal berikut:\n",
        "\n",
        "• Mintalah setiap mesin menjalankan mapper pada dokumennya, menghasilkan banyak pasangan kunci/nilai.\n",
        "\n",
        "• Distribusikan pasangan kunci/nilai tersebut ke sejumlah mesin \"pereduksi\", pastikan bahwa pasangan yang sesuai dengan kunci yang diberikan semuanya berakhir di mesin yang sama.\n",
        "\n",
        "• Mintalah setiap mesin pereduksi mengelompokkan pasangan dengan kunci dan kemudian jalankan peredam pada setiap set nilai-nilai.\n",
        "\n",
        "•Kembalikan setiap pasangan (kunci, keluaran)."
      ],
      "metadata": {
        "id": "ivHkUX9MS5At"
      }
    },
    {
      "cell_type": "markdown",
      "source": [
        "Yang luar biasa tentang ini adalah skala secara horizontal. Jika kami menggandakan jumlah mesin, maka (mengabaikan biaya tetap tertentu untuk menjalankan sistem MapReduce) perhitungan kami harus berjalan sekitar dua kali lebih cepat. Setiap mesin mapper hanya perlu melakukan setengah pekerjaan, dan (dengan asumsi ada cukup kunci berbeda untuk lebih mendistribusikan pekerjaan peredam) yang sama berlaku untuk mesin peredam."
      ],
      "metadata": {
        "id": "My6PGit8VfnN"
      }
    },
    {
      "cell_type": "markdown",
      "source": [
        "## MapReduce Lebih Umum"
      ],
      "metadata": {
        "id": "9kZyTaeEENCM"
      }
    },
    {
      "cell_type": "markdown",
      "source": [
        "Jika Anda memikirkannya sebentar, semua kode khusus jumlah kata pada contoh sebelumnya terkandung dalam fungsi wc_mapper dan wc_reducer. Ini berarti bahwa dengan beberapa perubahan kami memiliki kerangka kerja yang jauh lebih umum (yang masih berjalan di satu mesin).\n",
        "\n",
        "Kita bisa menggunakan tipe generik untuk sepenuhnya memberi anotasi pada fungsi Map Reduce kita, tetapi ini akan menjadi agak berantakan secara pedagogis, jadi dalam bab ini kita akan jauh lebih santai tentang anotasi tipe kita:"
      ],
      "metadata": {
        "id": "JLW0i5RIW5bH"
      }
    },
    {
      "cell_type": "code",
      "source": [
        "from typing import Callable, Iterable, Any, Tuple\n",
        "\n",
        "# A key/value pair is just a 2-tuple\n",
        "KV = Tuple[Any, Any]\n",
        "\n",
        "#A Mapper is a function that returns an Iterable of key/value pairs\n",
        "Mapper = Callable[..., Iterable[KV]]\n",
        "\n",
        "# A Reducer is a function that takes a key and an iterable of values\n",
        "# and returns a key/value pair\n",
        "Reducer = Callable[[Any, Iterable], KV]"
      ],
      "metadata": {
        "id": "ZEbvr_iRXwnI"
      },
      "execution_count": null,
      "outputs": []
    },
    {
      "cell_type": "markdown",
      "source": [
        "Sekarang kita dapat menulis fungsi map_reduce umum:"
      ],
      "metadata": {
        "id": "SjqTsQUZZNLr"
      }
    },
    {
      "cell_type": "code",
      "source": [
        "\n",
        "def map_reduce(inputs: Iterable,\n",
        "               mapper: Mapper,\n",
        "               reducer: Reducer)-> List[KV]:\n",
        "    \"\"\"Run MapReduce on the inputs using mapper and reducer\"\"\"\n",
        "    collector = defaultdict(list)\n",
        "\n",
        "    for input in inputs:\n",
        "        for key, values in napper (input):\n",
        "            collector [key].append(value)\n",
        "\n",
        "    return [output\n",
        "            for key, values in collector.items()\n",
        "            for output in reducer (key, values)]"
      ],
      "metadata": {
        "id": "Pfz5D9h8Z5SJ"
      },
      "execution_count": null,
      "outputs": []
    },
    {
      "cell_type": "markdown",
      "source": [
        "Kemudian kita bisa menghitung kata hanya dengan menggunakan:"
      ],
      "metadata": {
        "id": "Nl564O5KbORa"
      }
    },
    {
      "cell_type": "code",
      "source": [
        "word_counts = map_reduce(documents, wc_mapper, wc_reducer)"
      ],
      "metadata": {
        "id": "8nn-ltXpbazA"
      },
      "execution_count": null,
      "outputs": []
    },
    {
      "cell_type": "markdown",
      "source": [
        "Ini memberi kita fleksibilitas untuk memecahkan berbagai macam masalah.\n",
        "\n",
        "Sebelum kita melanjutkan, perhatikan bahwa wc_reducer hanya menjumlahkan nilai yang sesuai dengan setiap kunci. Agregasi semacam ini cukup umum sehingga layak untuk diabstraksi:"
      ],
      "metadata": {
        "id": "KahmTaCGcd_m"
      }
    },
    {
      "cell_type": "code",
      "source": [
        "def values_reducer(values_fn: Callable)-> Reducer:\n",
        "    \"\"\"Return a reducer that just applies values_fn to its values\"\"\"\n",
        "    def reduce(key, values: Iterable)-> KV:\n",
        "        return (key, values_fn(values))\n",
        "\n",
        "    return reduce"
      ],
      "metadata": {
        "id": "W8sWIcrdc79c"
      },
      "execution_count": null,
      "outputs": []
    },
    {
      "cell_type": "markdown",
      "source": [
        "Setelah itu kita dapat dengan mudah membuat:"
      ],
      "metadata": {
        "id": "N5IY1z6Nd3Sd"
      }
    },
    {
      "cell_type": "code",
      "source": [
        "sum_reducer = values_reducer(sum)\n",
        "max_reducer = values_reducer(max)\n",
        "min_reducer = values_reducer(min)\n",
        "count_distinct_reducer = values_reducer(lambda values: len(set(values)))\n",
        "\n",
        "assert sum_reducer(\"key\", [1, 2, 3, 3])==(\"key\", 9)\n",
        "assert min_reducer(\"key\", [1, 2, 3, 3])== (\"key\", 1)\n",
        "assert max_reducer(\"key\", [1, 2, 3, 3])==(\"key\", 3)\n",
        "assert count_distinct_reducer(\"key\", [1, 2, 3]) == (\"key\", 3)"
      ],
      "metadata": {
        "id": "idEFV31UeJBl"
      },
      "execution_count": null,
      "outputs": []
    },
    {
      "cell_type": "markdown",
      "source": [
        "dan seterusnya."
      ],
      "metadata": {
        "id": "XsaEXy9Ghyy6"
      }
    },
    {
      "cell_type": "markdown",
      "source": [
        "## Contoh: Menganalisis Pembaruan Status"
      ],
      "metadata": {
        "id": "kgPi7SqlEUx_"
      }
    },
    {
      "cell_type": "markdown",
      "source": [
        "VP konten terkesan dengan jumlah kata dan bertanya apa lagi yang bisa Anda pelajari dari orang lain\n",
        "pembaruan status. Anda berhasil mengekstrak himpunan data pembaruan status yang terlihat seperti:"
      ],
      "metadata": {
        "id": "Qp7e94pHd1ep"
      }
    },
    {
      "cell_type": "code",
      "source": [
        "status_updates = [\n",
        "  {\"id\": 2,\n",
        "  \"username\" : \"joelgrus\",\n",
        "  \"text\" : \"Should I write a second edition of my data science book?\",\n",
        "  \"created_at\" : datetime.datetime(2018, 2, 21, 11, 47, 0),\n",
        "  \"liked_by\" : [\"data_guy\", \"data_gal\", \"mike\"] },\n",
        "  # ...\n",
        "]"
      ],
      "metadata": {
        "id": "ApTZJ-VFeOYa"
      },
      "execution_count": null,
      "outputs": []
    },
    {
      "cell_type": "markdown",
      "source": [
        "Katakanlah kita perlu mencari tahu hari mana dalam seminggu orang paling banyak berbicara tentang ilmu data. Untuk menemukan ini, kami hanya akan menghitung berapa banyak pembaruan ilmu data yang ada di setiap hari dalam seminggu.\n",
        "Ini berarti kita harus mengelompokkan berdasarkan hari dalam seminggu, jadi itulah kunci kita. Dan jika kita memancarkan nilai 1 untuk\n",
        "Setiap pembaruan yang berisi \"ilmu data,\" kita cukup mendapatkan jumlah total menggunakan jumlah:"
      ],
      "metadata": {
        "id": "hgFfuVajeTpy"
      }
    },
    {
      "cell_type": "code",
      "source": [
        "def data_science_day_mapper(status_update: dict) -> Iterable:\n",
        "  \"\"\"Yields (day_of_week, 1) if status_update contains \"data science\" \"\"\"\n",
        "  if \"data science\" in status_update[\"text\"].lower():\n",
        "    day_of_week = status_update[\"created_at\"].weekday()\n",
        "    yield (day_of_week, 1)\n",
        "data_science_days = map_reduce(status_updates,\n",
        "                                data_science_day_mapper,\n",
        "                                sum_reducer)"
      ],
      "metadata": {
        "id": "6NKhIzexelrW"
      },
      "execution_count": null,
      "outputs": []
    },
    {
      "cell_type": "markdown",
      "source": [
        "Sebagai contoh yang sedikit lebih rumit, bayangkan kita perlu mencari tahu untuk setiap pengguna yang paling umum\n",
        "kata yang dia masukkan ke dalam pembaruan statusnya. Ada tiga kemungkinan pendekatan yang muncul dalam pikiran untuk\n",
        "Pemeta:\n",
        "\n",
        "\n",
        "*   Masukkan nama pengguna di kunci; Masukkan kata-kata dan hitungan dalam nilai.\n",
        "\n",
        "*   Masukkan kata ke dalam kunci; Masukkan nama pengguna dan hitungan dalam nilai.\n",
        "\n",
        "*   Masukkan nama pengguna dan kata di kunci; Masukkan hitungan dalam nilai.\n",
        "\n",
        "Jika Anda memikirkannya sedikit lagi, kami pasti ingin mengelompokkan berdasarkan nama pengguna, karena kami ingin\n",
        "Pertimbangkan kata-kata setiap orang secara terpisah. Dan kami tidak ingin mengelompokkan berdasarkan kata, karena peredam kami\n",
        "perlu melihat semua kata untuk setiap orang untuk mengetahui mana yang paling populer. Ini berarti bahwa\n",
        "Opsi pertama adalah pilihan yang tepat:\n",
        "\n",
        "\n",
        "\n",
        "\n"
      ],
      "metadata": {
        "id": "OhcZmeDsenIQ"
      }
    },
    {
      "cell_type": "code",
      "source": [
        "def words_per_user_mapper(status_update: dict):\n",
        "  user = status_update[\"username\"]\n",
        "  for word in tokenize(status_update[\"text\"]):\n",
        "    yield (user, (word, 1))\n",
        "\n",
        "def most_popular_word_reducer(user: str,\n",
        "                              words_and_counts: Iterable[KV]):\n",
        "    \"\"\"\n",
        "    Given a sequence of (word, count) pairs,\n",
        "    return the word with the highest total count\n",
        "    \"\"\"\n",
        "    word_counts = Counter()\n",
        "    for word, count in words_and_counts:\n",
        "        word_counts[word] += count\n",
        "\n",
        "    word, count = word_counts.most_common(1)[0]\n",
        "\n",
        "    yield (user, (word, count))\n",
        "\n",
        "user_words = map_reduce(status_updates,\n",
        "                        words_per_user_mapper,\n",
        "                        most_popular_word_reducer)"
      ],
      "metadata": {
        "id": "e6XUZWAGfTPw"
      },
      "execution_count": null,
      "outputs": []
    },
    {
      "cell_type": "markdown",
      "source": [
        "Atau kita bisa mengetahui jumlah pecinta status yang berbeda untuk setiap pengguna:\n"
      ],
      "metadata": {
        "id": "aSSAaoHsffMB"
      }
    },
    {
      "cell_type": "code",
      "source": [
        "def liker_mapper(status_update: dict):\n",
        "    user = status_update[\"username\"]\n",
        "    for liker in status_update[\"liked_by\"]:\n",
        "        yield (user, liker)\n",
        "\n",
        "distinct_likers_per_user = map_reduce(status_updates,\n",
        "                                      liker_mapper,\n",
        "                                      count_distinct_reducer)\n"
      ],
      "metadata": {
        "id": "3tkBdpIQfsm1"
      },
      "execution_count": null,
      "outputs": []
    },
    {
      "cell_type": "markdown",
      "source": [
        "## Contoh: Perkalian Matriks"
      ],
      "metadata": {
        "id": "uiFVmLfyEdOm"
      }
    },
    {
      "cell_type": "markdown",
      "source": [
        "Ingat dari \"Perkalian Matriks\" yang diberi matriks [n, m] A dan matriks [m, k] B, kita bisa\n",
        "Kalikan mereka untuk membentuk matriks [n, k] C, di mana elemen C di baris i dan kolom j diberikan oleh:"
      ],
      "metadata": {
        "id": "Uo4K2lL4fw0D"
      }
    },
    {
      "cell_type": "code",
      "source": [
        "C[i][j] = sum(A[i][x] * B[x][j] for x in range(m))\n"
      ],
      "metadata": {
        "id": "mT2LXoEIgA4n"
      },
      "execution_count": null,
      "outputs": []
    },
    {
      "cell_type": "markdown",
      "source": [
        "Ini berfungsi jika kita mewakili matriks kita sebagai daftar daftar, seperti yang telah kita lakukan.\n",
        "\n",
        "Tetapi matriks besar kadang-kadang jarang, yang berarti bahwa sebagian besar elemen mereka sama dengan 0. Untuk besar\n",
        "Matriks jarang, daftar daftar bisa menjadi representasi yang sangat boros. Representasi yang lebih ringkas\n",
        "Hanya menyimpan lokasi dengan nilai bukan nol:"
      ],
      "metadata": {
        "id": "5IicN_vkgDr9"
      }
    },
    {
      "cell_type": "code",
      "source": [
        "from typing import NamedTuple\n",
        "\n",
        "class Entry(NamedTuple):\n",
        "    name: str\n",
        "    i: int\n",
        "    j: int\n",
        "    value: float\n"
      ],
      "metadata": {
        "id": "QzQu4DAIgTVi"
      },
      "execution_count": null,
      "outputs": []
    },
    {
      "cell_type": "markdown",
      "source": [
        "Misalnya, matriks 1 miliar × 1 miliar memiliki 1 triliun entri, yang tidak akan mudah disimpan\n",
        "di komputer. Tetapi jika hanya ada beberapa entri bukan nol di setiap baris, representasi alternatif ini\n",
        "Banyak urutan besarnya lebih kecil.\n",
        "\n",
        "Dengan representasi semacam ini, ternyata kita dapat menggunakan MapReduce untuk melakukan matriks\n",
        "perkalian secara terdistribusi.\n",
        "\n",
        "Untuk memotivasi algoritma kita, perhatikan bahwa setiap elemen A[i][j] hanya digunakan untuk menghitung elemen\n",
        "C di baris i, dan setiap elemen B[i][j] hanya digunakan untuk menghitung elemen C di kolom j. Kami\n",
        "tujuannya adalah agar setiap output peredam kita menjadi satu entri C, yang berarti kita akan membutuhkan\n",
        "mapper untuk memancarkan kunci yang mengidentifikasi satu entri C. Ini menunjukkan hal berikut:"
      ],
      "metadata": {
        "id": "5SN2NgF2gUiI"
      }
    },
    {
      "cell_type": "code",
      "source": [
        "def matrix_multiply_mapper(num_rows_a: int, num_cols_b: int) -> Mapper:\n",
        "    # C[x][y] = A[x][0] * B[0][y] + ... + A[x][m] * B[m][y]\n",
        "    #\n",
        "    # so an element A[i][j] goes into every C[i][y] with coef B[j][y]\n",
        "    # and an element B[i][j] goes into every C[x][j] with coef A[x][i]\n",
        "    def mapper(entry: Entry):\n",
        "        if entry.name == \"A\":\n",
        "            for y in range(num_cols_b):\n",
        "                key = (entry.i, y) # which element of C\n",
        "                value = (entry.j, entry.value) # which entry in the sum\n",
        "                yield (key, value)\n",
        "        else:\n",
        "            for x in range(num_rows_a):\n",
        "                key = (x, entry.j) # which element of C\n",
        "                value = (entry.i, entry.value) # which entry in the sum\n",
        "                yield (key, value)\n",
        "return mapper"
      ],
      "metadata": {
        "id": "x83F8-MzglK6"
      },
      "execution_count": null,
      "outputs": []
    },
    {
      "cell_type": "markdown",
      "source": [
        "Lalu"
      ],
      "metadata": {
        "id": "YgYotpd4gr-t"
      }
    },
    {
      "cell_type": "code",
      "source": [
        "def matrix_multiply_reducer(key: Tuple[int, int],\n",
        "                            indexed_values: Iterable[Tuple[int, int]]):\n",
        "  results_by_index = defaultdict(list)\n",
        "\n",
        "  for index, value in indexed_values:\n",
        "      results_by_index[index].append(value)\n",
        "\n",
        "  # Multiply the values for positions with two values\n",
        "  # (one from A, and one from B) and sum them up.\n",
        "  sumproduct = sum(values[0] * values[1]\n",
        "                    for values in results_by_index.values()\n",
        "                    if len(values) == 2)\n",
        "\n",
        "if sumproduct != 0.0:\n",
        "    yield (key, sumproduct)"
      ],
      "metadata": {
        "id": "zuvflZGegtc7"
      },
      "execution_count": null,
      "outputs": []
    },
    {
      "cell_type": "markdown",
      "source": [
        "Misalnya, jika Anda memiliki dua matriks ini:"
      ],
      "metadata": {
        "id": "EQfBRaKagyV-"
      }
    },
    {
      "cell_type": "code",
      "source": [
        "A = [[3, 2, 0],\n",
        "    [0, 0, 0]]\n",
        "B = [[4, -1, 0],\n",
        "    [10, 0, 0],\n",
        "    [0, 0, 0]]"
      ],
      "metadata": {
        "id": "aWmpKJdbg4FJ"
      },
      "execution_count": null,
      "outputs": []
    },
    {
      "cell_type": "markdown",
      "source": [
        "Anda dapat menulis ulang sebagai tupel:\n"
      ],
      "metadata": {
        "id": "blZ7ysTlhALX"
      }
    },
    {
      "cell_type": "code",
      "source": [
        "entries = [Entry(\"A\", 0, 0, 3), Entry(\"A\", 0, 1, 2), Entry(\"B\", 0, 0, 4),\n",
        "            Entry(\"B\", 0, 1, -1), Entry(\"B\", 1, 0, 10)]\n",
        "\n",
        "mapper = matrix_multiply_mapper(num_rows_a=2, num_cols_b=3)\n",
        "reducer = matrix_multiply_reducer\n",
        "\n",
        "# Product should be [[32, -3, 0], [0, 0, 0]].\n",
        "# So it should have two entries.\n",
        "assert (set(map_reduce(entries, mapper, reducer)) ==\n",
        "        {((0, 1), -3), ((0, 0), 32)})\n"
      ],
      "metadata": {
        "id": "fAc3xxSvhFs5"
      },
      "execution_count": null,
      "outputs": []
    },
    {
      "cell_type": "markdown",
      "source": [
        "Ini tidak terlalu menarik pada matriks kecil seperti itu, tetapi jika Anda memiliki jutaan baris dan jutaan\n",
        "kolom, itu bisa banyak membantu Anda.\n"
      ],
      "metadata": {
        "id": "p81v3SVZhOol"
      }
    },
    {
      "cell_type": "markdown",
      "source": [
        "## Tambahan: Combiners"
      ],
      "metadata": {
        "id": "CMlgyoHeEjWf"
      }
    },
    {
      "cell_type": "markdown",
      "source": [
        "Satu hal yang mungkin Anda perhatikan adalah bahwa banyak pembuat peta kami tampaknya menyertakan banyak informasi tambahan. Misalnya, saat menghitung kata, alih-alih memancarkan (kata, 1) dan menjumlahkan nilainya, kita bisa mengeluarkan (kata, Tidak ada) dan hanya mengambil panjangnya.\n",
        "\n",
        "Salah satu alasan kami tidak melakukan ini adalah, dalam pengaturan terdistribusi terkadang kami ingin menggunakan penggabung untuk mengurangi jumlah data yang harus ditransfer dari mesin ke mesin. Jika salah satu mesin pembuat peta kita melihat kata data 500 kali, kita dapat memerintahkannya untuk menggabungkan 500 contoh (\"data\", 1) menjadi satu (\"data\", 500) sebelum diserahkan ke mesin pereduksi. Ini menghasilkan lebih sedikit data yang dipindahkan, yang dapat membuat algoritme kami jauh lebih cepat.\n",
        "\n",
        "Karena cara kami menulis peredam kami, itu akan menangani data gabungan ini dengan benar. (Jika kita menulisnya menggunakan len, itu tidak akan terjadi.)"
      ],
      "metadata": {
        "id": "vPH1RMii_Ucf"
      }
    }
  ]
}